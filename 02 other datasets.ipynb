{
 "cells": [
  {
   "cell_type": "markdown",
   "metadata": {
    "jp-MarkdownHeadingCollapsed": true,
    "tags": []
   },
   "source": [
    "### Завантаження датасетів та функція для тренування моделі"
   ]
  },
  {
   "cell_type": "code",
   "execution_count": 1,
   "metadata": {
    "_cell_guid": "b1076dfc-b9ad-4769-8c92-a6c4dae69d19",
    "_uuid": "8f2839f25d086af736a60e9eeb907d3b93b6e0e5",
    "tags": []
   },
   "outputs": [],
   "source": [
    "# This Python 3 environment comes with many helpful analytics libraries installed\n",
    "# It is defined by the kaggle/python Docker image: https://github.com/kaggle/docker-python\n",
    "# For example, here's several helpful packages to load\n",
    "\n",
    "import numpy as np # linear algebra\n",
    "import pandas as pd # data processing, CSV file I/O (e.g. pd.read_csv)\n",
    "\n",
    "# Input data files are available in the read-only \"../input/\" directory\n",
    "# For example, running this (by clicking run or pressing Shift+Enter) will list all files under the input directory\n",
    "\n",
    "import os\n",
    "for dirname, _, filenames in os.walk('/kaggle/input'):\n",
    "    for filename in filenames:\n",
    "        print(os.path.join(dirname, filename))\n",
    "\n",
    "# You can write up to 20GB to the current directory (/kaggle/working/) that gets preserved as output when you create a version using \"Save & Run All\" \n",
    "# You can also write temporary files to /kaggle/temp/, but they won't be saved outside of the current session"
   ]
  },
  {
   "cell_type": "code",
   "execution_count": 2,
   "metadata": {
    "tags": []
   },
   "outputs": [],
   "source": [
    "import numpy as np \n",
    "import pandas as pd\n",
    "import pickle\n",
    "import matplotlib.pyplot as plt\n",
    "import lightgbm as lgb\n",
    "from sklearn.model_selection import train_test_split\n",
    "from sklearn.metrics import roc_auc_score, classification_report, confusion_matrix, roc_curve, auc\n",
    "from sklearn.model_selection import GridSearchCV\n",
    "import seaborn as sns\n",
    "import json\n",
    "import warnings\n",
    "import time\n",
    "from tqdm import tqdm\n",
    "from sklearn.inspection import permutation_importance\n",
    "from imblearn.over_sampling import RandomOverSampler"
   ]
  },
  {
   "cell_type": "code",
   "execution_count": 4,
   "metadata": {
    "execution": {
     "iopub.execute_input": "2024-07-07T15:25:46.963613Z",
     "iopub.status.busy": "2024-07-07T15:25:46.962974Z",
     "iopub.status.idle": "2024-07-07T15:25:52.960271Z",
     "shell.execute_reply": "2024-07-07T15:25:52.959100Z",
     "shell.execute_reply.started": "2024-07-07T15:25:46.963577Z"
    }
   },
   "outputs": [],
   "source": [
    "df_train_fe_0 = pd.read_parquet('/kaggle/input/other-datasets/df_train_fe', engine='pyarrow')\n",
    "df_train_bnum_0 = pd.read_parquet('/kaggle/input/other-datasets/df_train_bnum', engine='pyarrow')\n",
    "df_train_dpi_0 = pd.read_parquet('/kaggle/input/other-datasets/df_train_dpi', engine='pyarrow')"
   ]
  },
  {
   "cell_type": "code",
   "execution_count": 5,
   "metadata": {
    "execution": {
     "iopub.execute_input": "2024-07-07T15:25:58.391131Z",
     "iopub.status.busy": "2024-07-07T15:25:58.390112Z",
     "iopub.status.idle": "2024-07-07T15:25:59.087603Z",
     "shell.execute_reply": "2024-07-07T15:25:59.086394Z",
     "shell.execute_reply.started": "2024-07-07T15:25:58.391092Z"
    }
   },
   "outputs": [],
   "source": [
    "df_train_fe = df_train_fe_0.copy()\n",
    "df_train_bnum = df_train_bnum_0.copy()\n",
    "df_train_dpi = df_train_dpi_0.copy()"
   ]
  },
  {
   "cell_type": "code",
   "execution_count": 14,
   "metadata": {
    "tags": []
   },
   "outputs": [],
   "source": [
    "import pandas as pd\n",
    "import numpy as np\n",
    "from sklearn.model_selection import train_test_split\n",
    "from sklearn.metrics import (\n",
    "    roc_auc_score, recall_score, confusion_matrix, \n",
    "    classification_report, roc_curve, precision_recall_curve, auc\n",
    ")\n",
    "from sklearn.ensemble import RandomForestClassifier\n",
    "import lightgbm as lgb\n",
    "import xgboost as xgb\n",
    "import matplotlib.pyplot as plt\n",
    "import seaborn as sns\n",
    "import time\n",
    "\n",
    "# Функція для тренування моделі та обчислення метрик\n",
    "def train_and_evaluate(model, X_train, X_val, y_train, y_val, model_name):\n",
    "    start_train = time.time()\n",
    "    model.fit(X_train, y_train)\n",
    "    end_train = time.time()\n",
    "    train_time = end_train - start_train\n",
    "        \n",
    "    start_val = time.time()\n",
    "    y_train_pred_prob = model.predict_proba(X_train)[:, 1]\n",
    "    y_val_pred_prob = model.predict_proba(X_val)[:, 1]\n",
    "    end_val = time.time()\n",
    "    val_time = end_val - start_val\n",
    "    \n",
    "    train_auc = roc_auc_score(y_train, y_train_pred_prob)\n",
    "    val_auc = roc_auc_score(y_val, y_val_pred_prob)\n",
    "    auc_diff = train_auc - val_auc\n",
    "    y_val_pred = model.predict(X_val)\n",
    "    recall = recall_score(y_val, y_val_pred)\n",
    "    cm = confusion_matrix(y_val, y_val_pred)\n",
    "    fp_tp_ratio = cm[0, 1] / cm[1, 1] if cm[1, 1] != 0 else float('inf')\n",
    "    \n",
    "    return {\n",
    "        'train_auc': train_auc,\n",
    "        'val_auc': val_auc,\n",
    "        'auc_diff': auc_diff,\n",
    "        'recall': recall,\n",
    "        'fp_tp_ratio': fp_tp_ratio,\n",
    "        'train_time': train_time,\n",
    "        'val_time': val_time\n",
    "    }\n"
   ]
  },
  {
   "cell_type": "markdown",
   "metadata": {
    "tags": []
   },
   "source": [
    "### Оригінальний датасет без неінформативних ознак"
   ]
  },
  {
   "cell_type": "code",
   "execution_count": 94,
   "metadata": {
    "execution": {
     "iopub.execute_input": "2024-07-07T13:24:41.611791Z",
     "iopub.status.busy": "2024-07-07T13:24:41.611228Z",
     "iopub.status.idle": "2024-07-07T13:24:45.585982Z",
     "shell.execute_reply": "2024-07-07T13:24:45.584812Z",
     "shell.execute_reply.started": "2024-07-07T13:24:41.611745Z"
    }
   },
   "outputs": [],
   "source": [
    "# Видалення неінформативних ознак:\n",
    "\n",
    "df_train_fe.drop(\"abon_id\", axis=1, inplace=True)\n",
    "\n",
    "def find_all_empty_features(df, df_name):\n",
    "    empty_features = [col for col in df.columns if df[col].isna().all()]\n",
    "#    print(f\"Ознаки з усіма порожніми значеннями у {df_name}:\")\n",
    "#    print(empty_features)\n",
    "    return empty_features\n",
    "\n",
    "empty_features_train = find_all_empty_features(df_train_fe, 'df_train_fe')\n",
    "df_train_fe.drop(columns=empty_features_train, inplace=True)\n",
    "\n",
    "single_unique_no_missing_columns = [col for col in df_train_fe.columns if df_train_fe[col].nunique() == 1 and df_train_fe[col].isna().sum() == 0]\n",
    "df_train_fe.drop(columns=single_unique_no_missing_columns, inplace=True)\n",
    "# print(f\"Ознаки з 1 унікальним значенням та без порожніх значень:\")\n",
    "# print(single_unique_no_missing_columns)\n",
    "\n",
    "df_train_fe.drop(\"MV_FRAUD_BLOCK\", axis=1, inplace=True)\n",
    "df_train_fe.drop(\"entertainment\", axis=1, inplace=True)"
   ]
  },
  {
   "cell_type": "code",
   "execution_count": 95,
   "metadata": {
    "execution": {
     "iopub.execute_input": "2024-07-07T13:24:48.966488Z",
     "iopub.status.busy": "2024-07-07T13:24:48.966054Z",
     "iopub.status.idle": "2024-07-07T13:26:09.613321Z",
     "shell.execute_reply": "2024-07-07T13:26:09.612038Z",
     "shell.execute_reply.started": "2024-07-07T13:24:48.966457Z"
    }
   },
   "outputs": [
    {
     "name": "stdout",
     "output_type": "stream",
     "text": [
      "Results have been saved to model_results.csv\n"
     ]
    },
    {
     "data": {
      "text/html": [
       "<div>\n",
       "<style scoped>\n",
       "    .dataframe tbody tr th:only-of-type {\n",
       "        vertical-align: middle;\n",
       "    }\n",
       "\n",
       "    .dataframe tbody tr th {\n",
       "        vertical-align: top;\n",
       "    }\n",
       "\n",
       "    .dataframe thead th {\n",
       "        text-align: right;\n",
       "    }\n",
       "</style>\n",
       "<table border=\"1\" class=\"dataframe\">\n",
       "  <thead>\n",
       "    <tr style=\"text-align: right;\">\n",
       "      <th></th>\n",
       "      <th>train_auc</th>\n",
       "      <th>val_auc</th>\n",
       "      <th>auc_diff</th>\n",
       "      <th>recall</th>\n",
       "      <th>fp_tp_ratio</th>\n",
       "      <th>train_time</th>\n",
       "      <th>val_time</th>\n",
       "      <th>dataset</th>\n",
       "    </tr>\n",
       "  </thead>\n",
       "  <tbody>\n",
       "    <tr>\n",
       "      <th>0</th>\n",
       "      <td>0.955721</td>\n",
       "      <td>0.901549</td>\n",
       "      <td>0.054172</td>\n",
       "      <td>0.782946</td>\n",
       "      <td>2.492409</td>\n",
       "      <td>75.862342</td>\n",
       "      <td>2.902722</td>\n",
       "      <td>Original</td>\n",
       "    </tr>\n",
       "  </tbody>\n",
       "</table>\n",
       "</div>"
      ],
      "text/plain": [
       "   train_auc   val_auc  auc_diff    recall  fp_tp_ratio  train_time  val_time  \\\n",
       "0   0.955721  0.901549  0.054172  0.782946     2.492409   75.862342  2.902722   \n",
       "\n",
       "    dataset  \n",
       "0  Original  "
      ]
     },
     "execution_count": 95,
     "metadata": {},
     "output_type": "execute_result"
    }
   ],
   "source": [
    "model = lgb.LGBMClassifier(verbose=-1, random_state=42, is_unbalance=True)    \n",
    "\n",
    "X = df_train_fe.drop(columns=['target'])\n",
    "y = df_train_fe['target']\n",
    "\n",
    "X_train, X_val, y_train, y_val = train_test_split(X, y, test_size=0.2, random_state=42)\n",
    "\n",
    "results = []\n",
    "result = train_and_evaluate(model, X_train, X_val, y_train, y_val, model)\n",
    "result['dataset'] = 'Original'  \n",
    "results.append(result)\n",
    "\n",
    "results_df = pd.DataFrame(results)\n",
    "results_df.to_csv('model_results.csv', index=False)\n",
    "print(\"Results have been saved to model_results.csv\")\n",
    "\n",
    "results_df"
   ]
  },
  {
   "cell_type": "markdown",
   "metadata": {
    "tags": []
   },
   "source": [
    "### Оригінальний датасет без неінформативних ознак плюс 5 нових ознак з датасету DPI"
   ]
  },
  {
   "cell_type": "code",
   "execution_count": 96,
   "metadata": {
    "execution": {
     "iopub.execute_input": "2024-07-07T13:26:28.247183Z",
     "iopub.status.busy": "2024-07-07T13:26:28.246679Z",
     "iopub.status.idle": "2024-07-07T13:26:28.979390Z",
     "shell.execute_reply": "2024-07-07T13:26:28.977331Z",
     "shell.execute_reply.started": "2024-07-07T13:26:28.247134Z"
    }
   },
   "outputs": [],
   "source": [
    "df_train_fe = df_train_fe_0.copy()\n",
    "df_train_bnum = df_train_bnum_0.copy()\n",
    "df_train_dpi = df_train_dpi_0.copy()"
   ]
  },
  {
   "cell_type": "code",
   "execution_count": 97,
   "metadata": {
    "execution": {
     "iopub.execute_input": "2024-07-07T13:26:31.562687Z",
     "iopub.status.busy": "2024-07-07T13:26:31.562178Z",
     "iopub.status.idle": "2024-07-07T13:26:41.745154Z",
     "shell.execute_reply": "2024-07-07T13:26:41.743843Z",
     "shell.execute_reply.started": "2024-07-07T13:26:31.562653Z"
    }
   },
   "outputs": [
    {
     "name": "stdout",
     "output_type": "stream",
     "text": [
      "   Ama_rchrgmnt_sum_max_mnt1  content_clc_mea_mnt1  content_cnt_max_mnt1  \\\n",
      "0                          0                   0.0             13.841608   \n",
      "1                          0                   0.0             11.361162   \n",
      "2                          0                   0.0             10.269117   \n",
      "3                          0                   0.0              9.974412   \n",
      "4                          0                   0.0              6.749902   \n",
      "\n",
      "   voice_out_short_part_max_mnt1  voice_mts_in_nrest_part_std_mnt1  \\\n",
      "0                       1.480453                          0.000000   \n",
      "1                       1.000313                          1.000007   \n",
      "2                       0.000000                          0.000000   \n",
      "3                       1.033241                          1.000128   \n",
      "4                       1.000641                          1.000548   \n",
      "\n",
      "   num_act_days_max_mnt1  sms_roam_clc_min_mnt1  \\\n",
      "0               5.324077                      0   \n",
      "1               5.324077                      0   \n",
      "2               5.324077                      0   \n",
      "3               5.324077                      0   \n",
      "4               5.324077                      0   \n",
      "\n",
      "   voice_in_cmpttrs_avg_durmin_mnt1  com_num_part_mea_mnt1  pay_avg_mea_mnt1  \\\n",
      "0                         19.049712               1.657608          0.000000   \n",
      "1                          0.000000               1.001037         15.014574   \n",
      "2                          0.000000               1.015666         11.615193   \n",
      "3                          0.000000               1.002645         11.615193   \n",
      "4                         28.858494               1.048314          0.000000   \n",
      "\n",
      "   ...  MV_DOU_PPM_VF  MV_DOU_Neg_Bal  MV_ot_total  target  abon_id  \\\n",
      "0  ...      13.011325             NaN          0.0       0  1545052   \n",
      "1  ...      18.165565             NaN          0.0       0  1545235   \n",
      "2  ...            NaN             NaN          0.0       0  1549358   \n",
      "3  ...            NaN             NaN          0.0       0  1549591   \n",
      "4  ...      13.011325             NaN          NaN       0  1558772   \n",
      "\n",
      "   unique_applications  total_duration_sec  total_volume_kb  \\\n",
      "0                  NaN                 NaN              NaN   \n",
      "1                 51.0         2408.588251      2913.655748   \n",
      "2                  NaN                 NaN              NaN   \n",
      "3                  1.0            0.000000         1.027395   \n",
      "4                 65.0         2720.091775      3707.656849   \n",
      "\n",
      "   total_count_events  total_day_count  \n",
      "0                 NaN              NaN  \n",
      "1         1274.088403            644.0  \n",
      "2                 NaN              NaN  \n",
      "3            1.480453              1.0  \n",
      "4         1640.256796            904.0  \n",
      "\n",
      "[5 rows x 822 columns]\n"
     ]
    }
   ],
   "source": [
    "# DPI DPI DPI DPI DPI DPI DPI DPI DPI DPI DPI DPI DPI DPI DPI DPI \n",
    "# Нові ознаки 5 - кількість застосунків та суми всіх метрик по всіх застосунках\n",
    "\n",
    "agg_functions = {\n",
    "    'Application': pd.Series.nunique,  # кількість різних значень ознаки Application\n",
    "    'SUM_of_Duration_sec': 'sum',      # сума всіх значень ознаки SUM_of_Duration_sec\n",
    "    'SUM_of_Volume_kb': 'sum',         # сума всіх значень ознаки SUM_of_Volume_kb\n",
    "    'SUM_of_Count_events': 'sum',      # сума всіх значень ознаки SUM_of_Count_events\n",
    "    'MAX_of_day_cnt': 'sum'            # сума всіх значень ознаки MAX_of_day_cnt\n",
    "}\n",
    "\n",
    "def create_features(df_dpi, df_fe):\n",
    "    aggregated = df_dpi.groupby('abon_id').agg(agg_functions).reset_index()\n",
    "    aggregated.columns = ['abon_id', 'unique_applications', 'total_duration_sec', 'total_volume_kb', 'total_count_events', 'total_day_count']\n",
    "    df_fe = df_fe.merge(aggregated, on='abon_id', how='left')\n",
    "    return df_fe\n",
    "\n",
    "df_train_fe = create_features(df_train_dpi, df_train_fe)\n",
    "\n",
    "print(df_train_fe.head())"
   ]
  },
  {
   "cell_type": "code",
   "execution_count": 98,
   "metadata": {
    "execution": {
     "iopub.execute_input": "2024-07-07T13:26:48.687962Z",
     "iopub.status.busy": "2024-07-07T13:26:48.687489Z",
     "iopub.status.idle": "2024-07-07T13:26:52.714246Z",
     "shell.execute_reply": "2024-07-07T13:26:52.712993Z",
     "shell.execute_reply.started": "2024-07-07T13:26:48.687927Z"
    }
   },
   "outputs": [],
   "source": [
    "# Видалення неінформативних ознак:\n",
    "\n",
    "df_train_fe.drop(\"abon_id\", axis=1, inplace=True)\n",
    "\n",
    "def find_all_empty_features(df, df_name):\n",
    "    empty_features = [col for col in df.columns if df[col].isna().all()]\n",
    "#    print(f\"Ознаки з усіма порожніми значеннями у {df_name}:\")\n",
    "#    print(empty_features)\n",
    "    return empty_features\n",
    "\n",
    "empty_features_train = find_all_empty_features(df_train_fe, 'df_train_fe')\n",
    "df_train_fe.drop(columns=empty_features_train, inplace=True)\n",
    "\n",
    "single_unique_no_missing_columns = [col for col in df_train_fe.columns if df_train_fe[col].nunique() == 1 and df_train_fe[col].isna().sum() == 0]\n",
    "df_train_fe.drop(columns=single_unique_no_missing_columns, inplace=True)\n",
    "# print(f\"Ознаки з 1 унікальним значенням та без порожніх значень:\")\n",
    "# print(single_unique_no_missing_columns)\n",
    "\n",
    "df_train_fe.drop(\"MV_FRAUD_BLOCK\", axis=1, inplace=True)\n",
    "df_train_fe.drop(\"entertainment\", axis=1, inplace=True)"
   ]
  },
  {
   "cell_type": "code",
   "execution_count": 99,
   "metadata": {
    "execution": {
     "iopub.execute_input": "2024-07-07T13:26:55.950656Z",
     "iopub.status.busy": "2024-07-07T13:26:55.950219Z",
     "iopub.status.idle": "2024-07-07T13:28:17.525856Z",
     "shell.execute_reply": "2024-07-07T13:28:17.524690Z",
     "shell.execute_reply.started": "2024-07-07T13:26:55.950623Z"
    }
   },
   "outputs": [
    {
     "name": "stdout",
     "output_type": "stream",
     "text": [
      "Results have been saved to model_results.csv\n"
     ]
    },
    {
     "data": {
      "text/html": [
       "<div>\n",
       "<style scoped>\n",
       "    .dataframe tbody tr th:only-of-type {\n",
       "        vertical-align: middle;\n",
       "    }\n",
       "\n",
       "    .dataframe tbody tr th {\n",
       "        vertical-align: top;\n",
       "    }\n",
       "\n",
       "    .dataframe thead th {\n",
       "        text-align: right;\n",
       "    }\n",
       "</style>\n",
       "<table border=\"1\" class=\"dataframe\">\n",
       "  <thead>\n",
       "    <tr style=\"text-align: right;\">\n",
       "      <th></th>\n",
       "      <th>train_auc</th>\n",
       "      <th>val_auc</th>\n",
       "      <th>auc_diff</th>\n",
       "      <th>recall</th>\n",
       "      <th>fp_tp_ratio</th>\n",
       "      <th>train_time</th>\n",
       "      <th>val_time</th>\n",
       "      <th>dataset</th>\n",
       "    </tr>\n",
       "  </thead>\n",
       "  <tbody>\n",
       "    <tr>\n",
       "      <th>0</th>\n",
       "      <td>0.955914</td>\n",
       "      <td>0.901064</td>\n",
       "      <td>0.05485</td>\n",
       "      <td>0.786047</td>\n",
       "      <td>2.464168</td>\n",
       "      <td>76.43042</td>\n",
       "      <td>3.30685</td>\n",
       "      <td>+5 DPI</td>\n",
       "    </tr>\n",
       "  </tbody>\n",
       "</table>\n",
       "</div>"
      ],
      "text/plain": [
       "   train_auc   val_auc  auc_diff    recall  fp_tp_ratio  train_time  val_time  \\\n",
       "0   0.955914  0.901064   0.05485  0.786047     2.464168    76.43042   3.30685   \n",
       "\n",
       "  dataset  \n",
       "0  +5 DPI  "
      ]
     },
     "execution_count": 99,
     "metadata": {},
     "output_type": "execute_result"
    }
   ],
   "source": [
    "model = lgb.LGBMClassifier(verbose=-1, random_state=42, is_unbalance=True)    \n",
    "\n",
    "X = df_train_fe.drop(columns=['target'])\n",
    "y = df_train_fe['target']\n",
    "\n",
    "X_train, X_val, y_train, y_val = train_test_split(X, y, test_size=0.2, random_state=42)\n",
    "\n",
    "results = []\n",
    "result = train_and_evaluate(model, X_train, X_val, y_train, y_val, model)\n",
    "result['dataset'] = '+5 DPI'  \n",
    "results.append(result)\n",
    "\n",
    "results_df = pd.DataFrame(results)\n",
    "results_df.to_csv('model_results.csv', mode='a', header=not os.path.exists('model_results.csv'), index=False)\n",
    "print(\"Results have been saved to model_results.csv\")\n",
    "\n",
    "results_df"
   ]
  },
  {
   "cell_type": "markdown",
   "metadata": {
    "tags": []
   },
   "source": [
    "### Оригінальний датасет без неінформативних ознак плюс 2500 нових ознак з датасету BNUM"
   ]
  },
  {
   "cell_type": "code",
   "execution_count": 100,
   "metadata": {
    "execution": {
     "iopub.execute_input": "2024-07-07T13:28:49.661455Z",
     "iopub.status.busy": "2024-07-07T13:28:49.660016Z",
     "iopub.status.idle": "2024-07-07T13:28:50.315318Z",
     "shell.execute_reply": "2024-07-07T13:28:50.314032Z",
     "shell.execute_reply.started": "2024-07-07T13:28:49.661400Z"
    }
   },
   "outputs": [],
   "source": [
    "df_train_fe = df_train_fe_0.copy()\n",
    "df_train_bnum = df_train_bnum_0.copy()\n",
    "df_train_dpi = df_train_dpi_0.copy()"
   ]
  },
  {
   "cell_type": "code",
   "execution_count": 101,
   "metadata": {
    "execution": {
     "iopub.execute_input": "2024-07-07T13:29:07.615245Z",
     "iopub.status.busy": "2024-07-07T13:29:07.614064Z",
     "iopub.status.idle": "2024-07-07T13:29:13.254787Z",
     "shell.execute_reply": "2024-07-07T13:29:13.253695Z",
     "shell.execute_reply.started": "2024-07-07T13:29:07.615203Z"
    }
   },
   "outputs": [
    {
     "name": "stderr",
     "output_type": "stream",
     "text": [
      "/tmp/ipykernel_33/1906798896.py:20: SettingWithCopyWarning: \n",
      "A value is trying to be set on a copy of a slice from a DataFrame.\n",
      "Try using .loc[row_indexer,col_indexer] = value instead\n",
      "\n",
      "See the caveats in the documentation: https://pandas.pydata.org/pandas-docs/stable/user_guide/indexing.html#returning-a-view-versus-a-copy\n",
      "  df_bnum['call_cnt_total'] = df_bnum['call_cnt_out'] + df_bnum['call_cnt_in']\n",
      "/tmp/ipykernel_33/1906798896.py:21: SettingWithCopyWarning: \n",
      "A value is trying to be set on a copy of a slice from a DataFrame.\n",
      "Try using .loc[row_indexer,col_indexer] = value instead\n",
      "\n",
      "See the caveats in the documentation: https://pandas.pydata.org/pandas-docs/stable/user_guide/indexing.html#returning-a-view-versus-a-copy\n",
      "  df_bnum['call_dur_total'] = df_bnum['call_dur_out'] + df_bnum['call_dur_in']\n",
      "/tmp/ipykernel_33/1906798896.py:22: SettingWithCopyWarning: \n",
      "A value is trying to be set on a copy of a slice from a DataFrame.\n",
      "Try using .loc[row_indexer,col_indexer] = value instead\n",
      "\n",
      "See the caveats in the documentation: https://pandas.pydata.org/pandas-docs/stable/user_guide/indexing.html#returning-a-view-versus-a-copy\n",
      "  df_bnum['cnt_sms_total'] = df_bnum['cnt_sms_out'] + df_bnum['cnt_sms_in']\n"
     ]
    },
    {
     "name": "stdout",
     "output_type": "stream",
     "text": [
      "   Ama_rchrgmnt_sum_max_mnt1  content_clc_mea_mnt1  content_cnt_max_mnt1  \\\n",
      "0                          0                   0.0             13.841608   \n",
      "1                          0                   0.0             11.361162   \n",
      "2                          0                   0.0             10.269117   \n",
      "3                          0                   0.0              9.974412   \n",
      "4                          0                   0.0              6.749902   \n",
      "\n",
      "   voice_out_short_part_max_mnt1  voice_mts_in_nrest_part_std_mnt1  \\\n",
      "0                       1.480453                          0.000000   \n",
      "1                       1.000313                          1.000007   \n",
      "2                       0.000000                          0.000000   \n",
      "3                       1.033241                          1.000128   \n",
      "4                       1.000641                          1.000548   \n",
      "\n",
      "   num_act_days_max_mnt1  sms_roam_clc_min_mnt1  \\\n",
      "0               5.324077                      0   \n",
      "1               5.324077                      0   \n",
      "2               5.324077                      0   \n",
      "3               5.324077                      0   \n",
      "4               5.324077                      0   \n",
      "\n",
      "   voice_in_cmpttrs_avg_durmin_mnt1  com_num_part_mea_mnt1  pay_avg_mea_mnt1  \\\n",
      "0                         19.049712               1.657608          0.000000   \n",
      "1                          0.000000               1.001037         15.014574   \n",
      "2                          0.000000               1.015666         11.615193   \n",
      "3                          0.000000               1.002645         11.615193   \n",
      "4                         28.858494               1.048314          0.000000   \n",
      "\n",
      "   ...  cnt_sms_total_zal  cnt_sms_total_ze.kred1t  cnt_sms_total_ze.kredit  \\\n",
      "0  ...                NaN                      NaN                      NaN   \n",
      "1  ...                NaN                      NaN                      NaN   \n",
      "2  ...                NaN                      NaN                      NaN   \n",
      "3  ...                NaN                      NaN                      NaN   \n",
      "4  ...                NaN                      NaN                      NaN   \n",
      "\n",
      "   cnt_sms_total_zecredi  cnt_sms_total_zecredit  cnt_sms_total_zekredi  \\\n",
      "0                    NaN                     NaN                    NaN   \n",
      "1                    NaN                     NaN                    NaN   \n",
      "2                    NaN                     NaN                    NaN   \n",
      "3                    NaN                     NaN                    NaN   \n",
      "4                    NaN                     NaN                    NaN   \n",
      "\n",
      "   cnt_sms_total_zen  cnt_sms_total_zip  cnt_sms_total_zolotakoro  \\\n",
      "0                NaN                NaN                       NaN   \n",
      "1                NaN                NaN                       NaN   \n",
      "2                NaN                NaN                       NaN   \n",
      "3                NaN                NaN                       NaN   \n",
      "4                NaN                NaN                       NaN   \n",
      "\n",
      "   cnt_sms_total_zoom  \n",
      "0                 NaN  \n",
      "1                 NaN  \n",
      "2                 NaN  \n",
      "3                 NaN  \n",
      "4                 NaN  \n",
      "\n",
      "[5 rows x 3118 columns]\n"
     ]
    }
   ],
   "source": [
    "# BNUM BNUM BNUM BNUM BNUM BNUM BNUM BNUM BNUM BNUM \n",
    "# + 2500 нових ознак\n",
    "values_to_remove = ['cyberpolice',\n",
    "'cyberpolic',\n",
    "'ukraine',\n",
    "'taxi-838',\n",
    "'icu',\n",
    "'dsns ukr',\n",
    "]\n",
    "\n",
    "df_train_bnum = df_train_bnum[~df_train_bnum['bnum'].isin(values_to_remove)]\n",
    "\n",
    "# Видалення спостережень з df_train_bnum, де для одного abon_id менше ніж 50 унікальних значень bnum\n",
    "abon_id_counts = df_train_bnum.groupby('abon_id')['bnum'].nunique()\n",
    "valid_abon_ids = abon_id_counts[abon_id_counts >= 50].index\n",
    "df_train_bnum_filtered = df_train_bnum[df_train_bnum['abon_id'].isin(valid_abon_ids)]\n",
    "\n",
    "def create_bnum_features(df_bnum, df_fe):\n",
    "\n",
    "    df_bnum['call_cnt_total'] = df_bnum['call_cnt_out'] + df_bnum['call_cnt_in']\n",
    "    df_bnum['call_dur_total'] = df_bnum['call_dur_out'] + df_bnum['call_dur_in']\n",
    "    df_bnum['cnt_sms_total'] = df_bnum['cnt_sms_out'] + df_bnum['cnt_sms_in']\n",
    "    \n",
    "    grouped = df_bnum.groupby(['abon_id', 'bnum']).agg({\n",
    "        'call_cnt_total': 'sum',\n",
    "        'call_dur_total': 'sum',\n",
    "        'cnt_sms_total': 'sum'\n",
    "    }).reset_index()\n",
    "    \n",
    "    pivot_df = grouped.pivot(index='abon_id', columns='bnum', values=['call_cnt_total', 'call_dur_total', 'cnt_sms_total'])\n",
    "    pivot_df.columns = [f'{metric}_{bnum}' for metric, bnum in pivot_df.columns]\n",
    "    \n",
    "    df_fe = df_fe.merge(pivot_df, on='abon_id', how='left')\n",
    "    \n",
    "    return df_fe\n",
    "\n",
    "df_train_fe = create_bnum_features(df_train_bnum_filtered, df_train_fe)\n",
    "print(df_train_fe.head())"
   ]
  },
  {
   "cell_type": "code",
   "execution_count": 102,
   "metadata": {
    "execution": {
     "iopub.execute_input": "2024-07-07T13:29:26.257252Z",
     "iopub.status.busy": "2024-07-07T13:29:26.256810Z",
     "iopub.status.idle": "2024-07-07T13:29:38.657276Z",
     "shell.execute_reply": "2024-07-07T13:29:38.656202Z",
     "shell.execute_reply.started": "2024-07-07T13:29:26.257218Z"
    }
   },
   "outputs": [],
   "source": [
    "# Видалення неінформативних ознак:\n",
    "\n",
    "df_train_fe.drop(\"abon_id\", axis=1, inplace=True)\n",
    "\n",
    "def find_all_empty_features(df, df_name):\n",
    "    empty_features = [col for col in df.columns if df[col].isna().all()]\n",
    "#    print(f\"Ознаки з усіма порожніми значеннями у {df_name}:\")\n",
    "#    print(empty_features)\n",
    "    return empty_features\n",
    "\n",
    "empty_features_train = find_all_empty_features(df_train_fe, 'df_train_fe')\n",
    "df_train_fe.drop(columns=empty_features_train, inplace=True)\n",
    "\n",
    "single_unique_no_missing_columns = [col for col in df_train_fe.columns if df_train_fe[col].nunique() == 1 and df_train_fe[col].isna().sum() == 0]\n",
    "df_train_fe.drop(columns=single_unique_no_missing_columns, inplace=True)\n",
    "# print(f\"Ознаки з 1 унікальним значенням та без порожніх значень:\")\n",
    "# print(single_unique_no_missing_columns)\n",
    "\n",
    "df_train_fe.drop(\"MV_FRAUD_BLOCK\", axis=1, inplace=True)\n",
    "df_train_fe.drop(\"entertainment\", axis=1, inplace=True)"
   ]
  },
  {
   "cell_type": "code",
   "execution_count": 103,
   "metadata": {
    "execution": {
     "iopub.execute_input": "2024-07-07T13:29:43.221321Z",
     "iopub.status.busy": "2024-07-07T13:29:43.220881Z",
     "iopub.status.idle": "2024-07-07T13:31:34.683330Z",
     "shell.execute_reply": "2024-07-07T13:31:34.682007Z",
     "shell.execute_reply.started": "2024-07-07T13:29:43.221288Z"
    }
   },
   "outputs": [
    {
     "name": "stdout",
     "output_type": "stream",
     "text": [
      "Results have been saved to model_results.csv\n"
     ]
    },
    {
     "data": {
      "text/html": [
       "<div>\n",
       "<style scoped>\n",
       "    .dataframe tbody tr th:only-of-type {\n",
       "        vertical-align: middle;\n",
       "    }\n",
       "\n",
       "    .dataframe tbody tr th {\n",
       "        vertical-align: top;\n",
       "    }\n",
       "\n",
       "    .dataframe thead th {\n",
       "        text-align: right;\n",
       "    }\n",
       "</style>\n",
       "<table border=\"1\" class=\"dataframe\">\n",
       "  <thead>\n",
       "    <tr style=\"text-align: right;\">\n",
       "      <th></th>\n",
       "      <th>train_auc</th>\n",
       "      <th>val_auc</th>\n",
       "      <th>auc_diff</th>\n",
       "      <th>recall</th>\n",
       "      <th>fp_tp_ratio</th>\n",
       "      <th>train_time</th>\n",
       "      <th>val_time</th>\n",
       "      <th>dataset</th>\n",
       "    </tr>\n",
       "  </thead>\n",
       "  <tbody>\n",
       "    <tr>\n",
       "      <th>0</th>\n",
       "      <td>0.955721</td>\n",
       "      <td>0.901549</td>\n",
       "      <td>0.054172</td>\n",
       "      <td>0.782946</td>\n",
       "      <td>2.492409</td>\n",
       "      <td>95.687021</td>\n",
       "      <td>8.968817</td>\n",
       "      <td>+2500 BNUM</td>\n",
       "    </tr>\n",
       "  </tbody>\n",
       "</table>\n",
       "</div>"
      ],
      "text/plain": [
       "   train_auc   val_auc  auc_diff    recall  fp_tp_ratio  train_time  val_time  \\\n",
       "0   0.955721  0.901549  0.054172  0.782946     2.492409   95.687021  8.968817   \n",
       "\n",
       "      dataset  \n",
       "0  +2500 BNUM  "
      ]
     },
     "execution_count": 103,
     "metadata": {},
     "output_type": "execute_result"
    }
   ],
   "source": [
    "model = lgb.LGBMClassifier(verbose=-1, random_state=42, is_unbalance=True)    \n",
    "\n",
    "X = df_train_fe.drop(columns=['target'])\n",
    "y = df_train_fe['target']\n",
    "\n",
    "X_train, X_val, y_train, y_val = train_test_split(X, y, test_size=0.2, random_state=42)\n",
    "\n",
    "results = []\n",
    "result = train_and_evaluate(model, X_train, X_val, y_train, y_val, model)\n",
    "result['dataset'] = '+2500 BNUM'  \n",
    "results.append(result)\n",
    "\n",
    "results_df = pd.DataFrame(results)\n",
    "results_df.to_csv('model_results.csv', mode='a', header=not os.path.exists('model_results.csv'), index=False)\n",
    "print(\"Results have been saved to model_results.csv\")\n",
    "\n",
    "results_df"
   ]
  },
  {
   "cell_type": "markdown",
   "metadata": {
    "tags": []
   },
   "source": [
    "### Оригінальний датасет без неінформативних ознак плюс 600 нових ознак з датасету DPI"
   ]
  },
  {
   "cell_type": "code",
   "execution_count": 104,
   "metadata": {
    "execution": {
     "iopub.execute_input": "2024-07-07T13:31:57.720757Z",
     "iopub.status.busy": "2024-07-07T13:31:57.720251Z",
     "iopub.status.idle": "2024-07-07T13:31:58.432071Z",
     "shell.execute_reply": "2024-07-07T13:31:58.430710Z",
     "shell.execute_reply.started": "2024-07-07T13:31:57.720718Z"
    }
   },
   "outputs": [],
   "source": [
    "df_train_fe = df_train_fe_0.copy()\n",
    "df_train_bnum = df_train_bnum_0.copy()\n",
    "df_train_dpi = df_train_dpi_0.copy()"
   ]
  },
  {
   "cell_type": "code",
   "execution_count": 105,
   "metadata": {
    "execution": {
     "iopub.execute_input": "2024-07-07T13:32:05.126712Z",
     "iopub.status.busy": "2024-07-07T13:32:05.126261Z",
     "iopub.status.idle": "2024-07-07T13:32:15.323103Z",
     "shell.execute_reply": "2024-07-07T13:32:15.321781Z",
     "shell.execute_reply.started": "2024-07-07T13:32:05.126678Z"
    }
   },
   "outputs": [
    {
     "name": "stdout",
     "output_type": "stream",
     "text": [
      "   Ama_rchrgmnt_sum_max_mnt1  content_clc_mea_mnt1  content_cnt_max_mnt1  \\\n",
      "0                          0                   0.0             13.841608   \n",
      "1                          0                   0.0             11.361162   \n",
      "2                          0                   0.0             10.269117   \n",
      "3                          0                   0.0              9.974412   \n",
      "4                          0                   0.0              6.749902   \n",
      "\n",
      "   voice_out_short_part_max_mnt1  voice_mts_in_nrest_part_std_mnt1  \\\n",
      "0                       1.480453                          0.000000   \n",
      "1                       1.000313                          1.000007   \n",
      "2                       0.000000                          0.000000   \n",
      "3                       1.033241                          1.000128   \n",
      "4                       1.000641                          1.000548   \n",
      "\n",
      "   num_act_days_max_mnt1  sms_roam_clc_min_mnt1  \\\n",
      "0               5.324077                      0   \n",
      "1               5.324077                      0   \n",
      "2               5.324077                      0   \n",
      "3               5.324077                      0   \n",
      "4               5.324077                      0   \n",
      "\n",
      "   voice_in_cmpttrs_avg_durmin_mnt1  com_num_part_mea_mnt1  pay_avg_mea_mnt1  \\\n",
      "0                         19.049712               1.657608          0.000000   \n",
      "1                          0.000000               1.001037         15.014574   \n",
      "2                          0.000000               1.015666         11.615193   \n",
      "3                          0.000000               1.002645         11.615193   \n",
      "4                         28.858494               1.048314          0.000000   \n",
      "\n",
      "   ...  2563_duration  2564_duration  2568_duration  2569_duration  \\\n",
      "0  ...            0.0            0.0            0.0       0.000000   \n",
      "1  ...            0.0            0.0            0.0       4.786566   \n",
      "2  ...            0.0            0.0            0.0       0.000000   \n",
      "3  ...            0.0            0.0            0.0       0.000000   \n",
      "4  ...            0.0            0.0            0.0       0.000000   \n",
      "\n",
      "   2571_duration  2573_duration  2574_duration  2575_duration  2577_duration  \\\n",
      "0            0.0            0.0            0.0            0.0            0.0   \n",
      "1            0.0            0.0            0.0            0.0            0.0   \n",
      "2            0.0            0.0            0.0            0.0            0.0   \n",
      "3            0.0            0.0            0.0            0.0            0.0   \n",
      "4            0.0            0.0            0.0            0.0            0.0   \n",
      "\n",
      "   2578_duration  \n",
      "0            0.0  \n",
      "1            0.0  \n",
      "2            0.0  \n",
      "3            0.0  \n",
      "4            0.0  \n",
      "\n",
      "[5 rows x 1561 columns]\n"
     ]
    }
   ],
   "source": [
    "# # DPI DPI DPI DPI DPI DPI DPI DPI DPI DPI DPI DPI DPI DPI DPI DPI \n",
    "# # Нові фічі 2500+: кількість взаємодії з кожним застосунком усі метрики (600 ознак на кожну)\n",
    "\n",
    "def create_application_features(df_dpi, df_fe):\n",
    "    #pivot_count = df_dpi.pivot_table(index='abon_id', columns='Application', values='SUM_of_Count_events', aggfunc='sum', fill_value=0).reset_index()\n",
    "    pivot_duration = df_dpi.pivot_table(index='abon_id', columns='Application', values='SUM_of_Duration_sec', aggfunc='sum', fill_value=0).reset_index()\n",
    "    #pivot_volume = df_dpi.pivot_table(index='abon_id', columns='Application', values='SUM_of_Volume_kb', aggfunc='sum', fill_value=0).reset_index()\n",
    "    #pivot_day_cnt = df_dpi.pivot_table(index='abon_id', columns='Application', values='MAX_of_day_cnt', aggfunc='max', fill_value=0).reset_index()\n",
    "    \n",
    "    #pivot_count = pivot_count.add_suffix('_count')\n",
    "    pivot_duration = pivot_duration.add_suffix('_duration')\n",
    "    #pivot_volume = pivot_volume.add_suffix('_volume')\n",
    "    #pivot_day_cnt = pivot_day_cnt.add_suffix('_day_cnt')\n",
    "    \n",
    "    #pivot_count.rename(columns={'abon_id_count': 'abon_id'}, inplace=True)\n",
    "    pivot_duration.rename(columns={'abon_id_duration': 'abon_id'}, inplace=True)\n",
    "    #pivot_volume.rename(columns={'abon_id_volume': 'abon_id'}, inplace=True)\n",
    "    #pivot_day_cnt.rename(columns={'abon_id_day_cnt': 'abon_id'}, inplace=True)\n",
    "    \n",
    "    #df_fe = df_fe.merge(pivot_count, on='abon_id', how='left')\n",
    "    df_fe = df_fe.merge(pivot_duration, on='abon_id', how='left')\n",
    "    #df_fe = df_fe.merge(pivot_volume, on='abon_id', how='left')\n",
    "    #df_fe = df_fe.merge(pivot_day_cnt, on='abon_id', how='left')\n",
    "    \n",
    "    df_fe.fillna(0, inplace=True)\n",
    "    \n",
    "    return df_fe\n",
    "\n",
    "df_train_fe = create_application_features(df_train_dpi, df_train_fe)\n",
    "\n",
    "print(df_train_fe.head())\n"
   ]
  },
  {
   "cell_type": "code",
   "execution_count": 106,
   "metadata": {
    "execution": {
     "iopub.execute_input": "2024-07-07T13:32:41.338822Z",
     "iopub.status.busy": "2024-07-07T13:32:41.338338Z",
     "iopub.status.idle": "2024-07-07T13:32:47.823486Z",
     "shell.execute_reply": "2024-07-07T13:32:47.822376Z",
     "shell.execute_reply.started": "2024-07-07T13:32:41.338787Z"
    }
   },
   "outputs": [],
   "source": [
    "# Видалення неінформативних ознак:\n",
    "\n",
    "df_train_fe.drop(\"abon_id\", axis=1, inplace=True)\n",
    "\n",
    "def find_all_empty_features(df, df_name):\n",
    "    empty_features = [col for col in df.columns if df[col].isna().all()]\n",
    "#    print(f\"Ознаки з усіма порожніми значеннями у {df_name}:\")\n",
    "#    print(empty_features)\n",
    "    return empty_features\n",
    "\n",
    "empty_features_train = find_all_empty_features(df_train_fe, 'df_train_fe')\n",
    "df_train_fe.drop(columns=empty_features_train, inplace=True)\n",
    "\n",
    "single_unique_no_missing_columns = [col for col in df_train_fe.columns if df_train_fe[col].nunique() == 1 and df_train_fe[col].isna().sum() == 0]\n",
    "df_train_fe.drop(columns=single_unique_no_missing_columns, inplace=True)\n",
    "# print(f\"Ознаки з 1 унікальним значенням та без порожніх значень:\")\n",
    "# print(single_unique_no_missing_columns)\n",
    "\n",
    "df_train_fe.drop(\"MV_FRAUD_BLOCK\", axis=1, inplace=True)\n",
    "df_train_fe.drop(\"entertainment\", axis=1, inplace=True)"
   ]
  },
  {
   "cell_type": "code",
   "execution_count": 107,
   "metadata": {
    "execution": {
     "iopub.execute_input": "2024-07-07T13:32:56.160515Z",
     "iopub.status.busy": "2024-07-07T13:32:56.160088Z",
     "iopub.status.idle": "2024-07-07T13:34:33.039301Z",
     "shell.execute_reply": "2024-07-07T13:34:33.038015Z",
     "shell.execute_reply.started": "2024-07-07T13:32:56.160483Z"
    }
   },
   "outputs": [
    {
     "name": "stdout",
     "output_type": "stream",
     "text": [
      "Results have been saved to model_results.csv\n"
     ]
    },
    {
     "data": {
      "text/html": [
       "<div>\n",
       "<style scoped>\n",
       "    .dataframe tbody tr th:only-of-type {\n",
       "        vertical-align: middle;\n",
       "    }\n",
       "\n",
       "    .dataframe tbody tr th {\n",
       "        vertical-align: top;\n",
       "    }\n",
       "\n",
       "    .dataframe thead th {\n",
       "        text-align: right;\n",
       "    }\n",
       "</style>\n",
       "<table border=\"1\" class=\"dataframe\">\n",
       "  <thead>\n",
       "    <tr style=\"text-align: right;\">\n",
       "      <th></th>\n",
       "      <th>train_auc</th>\n",
       "      <th>val_auc</th>\n",
       "      <th>auc_diff</th>\n",
       "      <th>recall</th>\n",
       "      <th>fp_tp_ratio</th>\n",
       "      <th>train_time</th>\n",
       "      <th>val_time</th>\n",
       "      <th>dataset</th>\n",
       "    </tr>\n",
       "  </thead>\n",
       "  <tbody>\n",
       "    <tr>\n",
       "      <th>0</th>\n",
       "      <td>0.9565</td>\n",
       "      <td>0.90212</td>\n",
       "      <td>0.05438</td>\n",
       "      <td>0.786563</td>\n",
       "      <td>2.446124</td>\n",
       "      <td>89.313191</td>\n",
       "      <td>4.420897</td>\n",
       "      <td>+600 DPI</td>\n",
       "    </tr>\n",
       "  </tbody>\n",
       "</table>\n",
       "</div>"
      ],
      "text/plain": [
       "   train_auc  val_auc  auc_diff    recall  fp_tp_ratio  train_time  val_time  \\\n",
       "0     0.9565  0.90212   0.05438  0.786563     2.446124   89.313191  4.420897   \n",
       "\n",
       "    dataset  \n",
       "0  +600 DPI  "
      ]
     },
     "execution_count": 107,
     "metadata": {},
     "output_type": "execute_result"
    }
   ],
   "source": [
    "model = lgb.LGBMClassifier(verbose=-1, random_state=42, is_unbalance=True)    \n",
    "\n",
    "X = df_train_fe.drop(columns=['target'])\n",
    "y = df_train_fe['target']\n",
    "\n",
    "X_train, X_val, y_train, y_val = train_test_split(X, y, test_size=0.2, random_state=42)\n",
    "\n",
    "results = []\n",
    "result = train_and_evaluate(model, X_train, X_val, y_train, y_val, model)\n",
    "result['dataset'] = '+600 DPI'  \n",
    "results.append(result)\n",
    "\n",
    "results_df = pd.DataFrame(results)\n",
    "results_df.to_csv('model_results.csv', mode='a', header=not os.path.exists('model_results.csv'), index=False)\n",
    "print(\"Results have been saved to model_results.csv\")\n",
    "\n",
    "results_df"
   ]
  },
  {
   "cell_type": "markdown",
   "metadata": {
    "jp-MarkdownHeadingCollapsed": true,
    "tags": []
   },
   "source": [
    "### Оригінальний датасет без неінформативних ознак плюс 600 нових ознак з датасету DPI та 2500 з датасету BNUM"
   ]
  },
  {
   "cell_type": "code",
   "execution_count": 108,
   "metadata": {
    "execution": {
     "iopub.execute_input": "2024-07-07T13:34:38.505598Z",
     "iopub.status.busy": "2024-07-07T13:34:38.505186Z",
     "iopub.status.idle": "2024-07-07T13:34:39.198184Z",
     "shell.execute_reply": "2024-07-07T13:34:39.196028Z",
     "shell.execute_reply.started": "2024-07-07T13:34:38.505567Z"
    }
   },
   "outputs": [],
   "source": [
    "df_train_fe = df_train_fe_0.copy()\n",
    "df_train_bnum = df_train_bnum_0.copy()\n",
    "df_train_dpi = df_train_dpi_0.copy()"
   ]
  },
  {
   "cell_type": "code",
   "execution_count": 109,
   "metadata": {
    "execution": {
     "iopub.execute_input": "2024-07-07T13:34:45.303209Z",
     "iopub.status.busy": "2024-07-07T13:34:45.302737Z",
     "iopub.status.idle": "2024-07-07T13:34:50.258850Z",
     "shell.execute_reply": "2024-07-07T13:34:50.257714Z",
     "shell.execute_reply.started": "2024-07-07T13:34:45.303169Z"
    }
   },
   "outputs": [
    {
     "name": "stderr",
     "output_type": "stream",
     "text": [
      "/tmp/ipykernel_33/1906798896.py:20: SettingWithCopyWarning: \n",
      "A value is trying to be set on a copy of a slice from a DataFrame.\n",
      "Try using .loc[row_indexer,col_indexer] = value instead\n",
      "\n",
      "See the caveats in the documentation: https://pandas.pydata.org/pandas-docs/stable/user_guide/indexing.html#returning-a-view-versus-a-copy\n",
      "  df_bnum['call_cnt_total'] = df_bnum['call_cnt_out'] + df_bnum['call_cnt_in']\n",
      "/tmp/ipykernel_33/1906798896.py:21: SettingWithCopyWarning: \n",
      "A value is trying to be set on a copy of a slice from a DataFrame.\n",
      "Try using .loc[row_indexer,col_indexer] = value instead\n",
      "\n",
      "See the caveats in the documentation: https://pandas.pydata.org/pandas-docs/stable/user_guide/indexing.html#returning-a-view-versus-a-copy\n",
      "  df_bnum['call_dur_total'] = df_bnum['call_dur_out'] + df_bnum['call_dur_in']\n",
      "/tmp/ipykernel_33/1906798896.py:22: SettingWithCopyWarning: \n",
      "A value is trying to be set on a copy of a slice from a DataFrame.\n",
      "Try using .loc[row_indexer,col_indexer] = value instead\n",
      "\n",
      "See the caveats in the documentation: https://pandas.pydata.org/pandas-docs/stable/user_guide/indexing.html#returning-a-view-versus-a-copy\n",
      "  df_bnum['cnt_sms_total'] = df_bnum['cnt_sms_out'] + df_bnum['cnt_sms_in']\n"
     ]
    },
    {
     "name": "stdout",
     "output_type": "stream",
     "text": [
      "   Ama_rchrgmnt_sum_max_mnt1  content_clc_mea_mnt1  content_cnt_max_mnt1  \\\n",
      "0                          0                   0.0             13.841608   \n",
      "1                          0                   0.0             11.361162   \n",
      "2                          0                   0.0             10.269117   \n",
      "3                          0                   0.0              9.974412   \n",
      "4                          0                   0.0              6.749902   \n",
      "\n",
      "   voice_out_short_part_max_mnt1  voice_mts_in_nrest_part_std_mnt1  \\\n",
      "0                       1.480453                          0.000000   \n",
      "1                       1.000313                          1.000007   \n",
      "2                       0.000000                          0.000000   \n",
      "3                       1.033241                          1.000128   \n",
      "4                       1.000641                          1.000548   \n",
      "\n",
      "   num_act_days_max_mnt1  sms_roam_clc_min_mnt1  \\\n",
      "0               5.324077                      0   \n",
      "1               5.324077                      0   \n",
      "2               5.324077                      0   \n",
      "3               5.324077                      0   \n",
      "4               5.324077                      0   \n",
      "\n",
      "   voice_in_cmpttrs_avg_durmin_mnt1  com_num_part_mea_mnt1  pay_avg_mea_mnt1  \\\n",
      "0                         19.049712               1.657608          0.000000   \n",
      "1                          0.000000               1.001037         15.014574   \n",
      "2                          0.000000               1.015666         11.615193   \n",
      "3                          0.000000               1.002645         11.615193   \n",
      "4                         28.858494               1.048314          0.000000   \n",
      "\n",
      "   ...  cnt_sms_total_zal  cnt_sms_total_ze.kred1t  cnt_sms_total_ze.kredit  \\\n",
      "0  ...                NaN                      NaN                      NaN   \n",
      "1  ...                NaN                      NaN                      NaN   \n",
      "2  ...                NaN                      NaN                      NaN   \n",
      "3  ...                NaN                      NaN                      NaN   \n",
      "4  ...                NaN                      NaN                      NaN   \n",
      "\n",
      "   cnt_sms_total_zecredi  cnt_sms_total_zecredit  cnt_sms_total_zekredi  \\\n",
      "0                    NaN                     NaN                    NaN   \n",
      "1                    NaN                     NaN                    NaN   \n",
      "2                    NaN                     NaN                    NaN   \n",
      "3                    NaN                     NaN                    NaN   \n",
      "4                    NaN                     NaN                    NaN   \n",
      "\n",
      "   cnt_sms_total_zen  cnt_sms_total_zip  cnt_sms_total_zolotakoro  \\\n",
      "0                NaN                NaN                       NaN   \n",
      "1                NaN                NaN                       NaN   \n",
      "2                NaN                NaN                       NaN   \n",
      "3                NaN                NaN                       NaN   \n",
      "4                NaN                NaN                       NaN   \n",
      "\n",
      "   cnt_sms_total_zoom  \n",
      "0                 NaN  \n",
      "1                 NaN  \n",
      "2                 NaN  \n",
      "3                 NaN  \n",
      "4                 NaN  \n",
      "\n",
      "[5 rows x 3118 columns]\n"
     ]
    }
   ],
   "source": [
    "# BNUM BNUM BNUM BNUM BNUM BNUM BNUM BNUM BNUM BNUM \n",
    "# + 2500 нових ознак\n",
    "values_to_remove = ['cyberpolice',\n",
    "'cyberpolic',\n",
    "'ukraine',\n",
    "'taxi-838',\n",
    "'icu',\n",
    "'dsns ukr',\n",
    "]\n",
    "\n",
    "df_train_bnum = df_train_bnum[~df_train_bnum['bnum'].isin(values_to_remove)]\n",
    "\n",
    "# Видалення спостережень з df_train_bnum, де для одного abon_id менше ніж 50 унікальних значень bnum\n",
    "abon_id_counts = df_train_bnum.groupby('abon_id')['bnum'].nunique()\n",
    "valid_abon_ids = abon_id_counts[abon_id_counts >= 50].index\n",
    "df_train_bnum_filtered = df_train_bnum[df_train_bnum['abon_id'].isin(valid_abon_ids)]\n",
    "\n",
    "def create_bnum_features(df_bnum, df_fe):\n",
    "\n",
    "    df_bnum['call_cnt_total'] = df_bnum['call_cnt_out'] + df_bnum['call_cnt_in']\n",
    "    df_bnum['call_dur_total'] = df_bnum['call_dur_out'] + df_bnum['call_dur_in']\n",
    "    df_bnum['cnt_sms_total'] = df_bnum['cnt_sms_out'] + df_bnum['cnt_sms_in']\n",
    "    \n",
    "    grouped = df_bnum.groupby(['abon_id', 'bnum']).agg({\n",
    "        'call_cnt_total': 'sum',\n",
    "        'call_dur_total': 'sum',\n",
    "        'cnt_sms_total': 'sum'\n",
    "    }).reset_index()\n",
    "    \n",
    "    pivot_df = grouped.pivot(index='abon_id', columns='bnum', values=['call_cnt_total', 'call_dur_total', 'cnt_sms_total'])\n",
    "    pivot_df.columns = [f'{metric}_{bnum}' for metric, bnum in pivot_df.columns]\n",
    "    \n",
    "    df_fe = df_fe.merge(pivot_df, on='abon_id', how='left')\n",
    "    \n",
    "    return df_fe\n",
    "\n",
    "df_train_fe = create_bnum_features(df_train_bnum_filtered, df_train_fe)\n",
    "print(df_train_fe.head())"
   ]
  },
  {
   "cell_type": "code",
   "execution_count": 110,
   "metadata": {
    "execution": {
     "iopub.execute_input": "2024-07-07T13:35:05.534913Z",
     "iopub.status.busy": "2024-07-07T13:35:05.534479Z",
     "iopub.status.idle": "2024-07-07T13:35:32.868654Z",
     "shell.execute_reply": "2024-07-07T13:35:32.867431Z",
     "shell.execute_reply.started": "2024-07-07T13:35:05.534879Z"
    }
   },
   "outputs": [
    {
     "name": "stdout",
     "output_type": "stream",
     "text": [
      "   Ama_rchrgmnt_sum_max_mnt1  content_clc_mea_mnt1  content_cnt_max_mnt1  \\\n",
      "0                          0                   0.0             13.841608   \n",
      "1                          0                   0.0             11.361162   \n",
      "2                          0                   0.0             10.269117   \n",
      "3                          0                   0.0              9.974412   \n",
      "4                          0                   0.0              6.749902   \n",
      "\n",
      "   voice_out_short_part_max_mnt1  voice_mts_in_nrest_part_std_mnt1  \\\n",
      "0                       1.480453                          0.000000   \n",
      "1                       1.000313                          1.000007   \n",
      "2                       0.000000                          0.000000   \n",
      "3                       1.033241                          1.000128   \n",
      "4                       1.000641                          1.000548   \n",
      "\n",
      "   num_act_days_max_mnt1  sms_roam_clc_min_mnt1  \\\n",
      "0               5.324077                      0   \n",
      "1               5.324077                      0   \n",
      "2               5.324077                      0   \n",
      "3               5.324077                      0   \n",
      "4               5.324077                      0   \n",
      "\n",
      "   voice_in_cmpttrs_avg_durmin_mnt1  com_num_part_mea_mnt1  pay_avg_mea_mnt1  \\\n",
      "0                         19.049712               1.657608          0.000000   \n",
      "1                          0.000000               1.001037         15.014574   \n",
      "2                          0.000000               1.015666         11.615193   \n",
      "3                          0.000000               1.002645         11.615193   \n",
      "4                         28.858494               1.048314          0.000000   \n",
      "\n",
      "   ...  2563_duration  2564_duration  2568_duration  2569_duration  \\\n",
      "0  ...            0.0            0.0            0.0       0.000000   \n",
      "1  ...            0.0            0.0            0.0       4.786566   \n",
      "2  ...            0.0            0.0            0.0       0.000000   \n",
      "3  ...            0.0            0.0            0.0       0.000000   \n",
      "4  ...            0.0            0.0            0.0       0.000000   \n",
      "\n",
      "   2571_duration  2573_duration  2574_duration  2575_duration  2577_duration  \\\n",
      "0            0.0            0.0            0.0            0.0            0.0   \n",
      "1            0.0            0.0            0.0            0.0            0.0   \n",
      "2            0.0            0.0            0.0            0.0            0.0   \n",
      "3            0.0            0.0            0.0            0.0            0.0   \n",
      "4            0.0            0.0            0.0            0.0            0.0   \n",
      "\n",
      "   2578_duration  \n",
      "0            0.0  \n",
      "1            0.0  \n",
      "2            0.0  \n",
      "3            0.0  \n",
      "4            0.0  \n",
      "\n",
      "[5 rows x 3862 columns]\n"
     ]
    }
   ],
   "source": [
    "# # DPI DPI DPI DPI DPI DPI DPI DPI DPI DPI DPI DPI DPI DPI DPI DPI \n",
    "# # Нові фічі 2500+: кількість взаємодії з кожним застосунком усі метрики (600 ознак на кожну)\n",
    "\n",
    "def create_application_features(df_dpi, df_fe):\n",
    "    #pivot_count = df_dpi.pivot_table(index='abon_id', columns='Application', values='SUM_of_Count_events', aggfunc='sum', fill_value=0).reset_index()\n",
    "    pivot_duration = df_dpi.pivot_table(index='abon_id', columns='Application', values='SUM_of_Duration_sec', aggfunc='sum', fill_value=0).reset_index()\n",
    "    #pivot_volume = df_dpi.pivot_table(index='abon_id', columns='Application', values='SUM_of_Volume_kb', aggfunc='sum', fill_value=0).reset_index()\n",
    "    #pivot_day_cnt = df_dpi.pivot_table(index='abon_id', columns='Application', values='MAX_of_day_cnt', aggfunc='max', fill_value=0).reset_index()\n",
    "    \n",
    "    #pivot_count = pivot_count.add_suffix('_count')\n",
    "    pivot_duration = pivot_duration.add_suffix('_duration')\n",
    "    #pivot_volume = pivot_volume.add_suffix('_volume')\n",
    "    #pivot_day_cnt = pivot_day_cnt.add_suffix('_day_cnt')\n",
    "    \n",
    "    #pivot_count.rename(columns={'abon_id_count': 'abon_id'}, inplace=True)\n",
    "    pivot_duration.rename(columns={'abon_id_duration': 'abon_id'}, inplace=True)\n",
    "    #pivot_volume.rename(columns={'abon_id_volume': 'abon_id'}, inplace=True)\n",
    "    #pivot_day_cnt.rename(columns={'abon_id_day_cnt': 'abon_id'}, inplace=True)\n",
    "    \n",
    "    #df_fe = df_fe.merge(pivot_count, on='abon_id', how='left')\n",
    "    df_fe = df_fe.merge(pivot_duration, on='abon_id', how='left')\n",
    "    #df_fe = df_fe.merge(pivot_volume, on='abon_id', how='left')\n",
    "    #df_fe = df_fe.merge(pivot_day_cnt, on='abon_id', how='left')\n",
    "    \n",
    "    df_fe.fillna(0, inplace=True)\n",
    "    \n",
    "    return df_fe\n",
    "\n",
    "df_train_fe = create_application_features(df_train_dpi, df_train_fe)\n",
    "\n",
    "print(df_train_fe.head())\n"
   ]
  },
  {
   "cell_type": "code",
   "execution_count": 111,
   "metadata": {
    "execution": {
     "iopub.execute_input": "2024-07-07T13:35:37.547030Z",
     "iopub.status.busy": "2024-07-07T13:35:37.546402Z",
     "iopub.status.idle": "2024-07-07T13:35:49.986366Z",
     "shell.execute_reply": "2024-07-07T13:35:49.984988Z",
     "shell.execute_reply.started": "2024-07-07T13:35:37.546978Z"
    }
   },
   "outputs": [],
   "source": [
    "# Видалення неінформативних ознак:\n",
    "\n",
    "df_train_fe.drop(\"abon_id\", axis=1, inplace=True)\n",
    "\n",
    "def find_all_empty_features(df, df_name):\n",
    "    empty_features = [col for col in df.columns if df[col].isna().all()]\n",
    "#    print(f\"Ознаки з усіма порожніми значеннями у {df_name}:\")\n",
    "#    print(empty_features)\n",
    "    return empty_features\n",
    "\n",
    "empty_features_train = find_all_empty_features(df_train_fe, 'df_train_fe')\n",
    "df_train_fe.drop(columns=empty_features_train, inplace=True)\n",
    "\n",
    "single_unique_no_missing_columns = [col for col in df_train_fe.columns if df_train_fe[col].nunique() == 1 and df_train_fe[col].isna().sum() == 0]\n",
    "df_train_fe.drop(columns=single_unique_no_missing_columns, inplace=True)\n",
    "# print(f\"Ознаки з 1 унікальним значенням та без порожніх значень:\")\n",
    "# print(single_unique_no_missing_columns)\n",
    "\n",
    "df_train_fe.drop(\"MV_FRAUD_BLOCK\", axis=1, inplace=True)\n",
    "df_train_fe.drop(\"entertainment\", axis=1, inplace=True)"
   ]
  },
  {
   "cell_type": "code",
   "execution_count": 112,
   "metadata": {
    "execution": {
     "iopub.execute_input": "2024-07-07T13:35:55.033358Z",
     "iopub.status.busy": "2024-07-07T13:35:55.032910Z",
     "iopub.status.idle": "2024-07-07T13:37:36.886479Z",
     "shell.execute_reply": "2024-07-07T13:37:36.885402Z",
     "shell.execute_reply.started": "2024-07-07T13:35:55.033324Z"
    }
   },
   "outputs": [
    {
     "name": "stdout",
     "output_type": "stream",
     "text": [
      "Results have been saved to model_results.csv\n"
     ]
    },
    {
     "data": {
      "text/html": [
       "<div>\n",
       "<style scoped>\n",
       "    .dataframe tbody tr th:only-of-type {\n",
       "        vertical-align: middle;\n",
       "    }\n",
       "\n",
       "    .dataframe tbody tr th {\n",
       "        vertical-align: top;\n",
       "    }\n",
       "\n",
       "    .dataframe thead th {\n",
       "        text-align: right;\n",
       "    }\n",
       "</style>\n",
       "<table border=\"1\" class=\"dataframe\">\n",
       "  <thead>\n",
       "    <tr style=\"text-align: right;\">\n",
       "      <th></th>\n",
       "      <th>train_auc</th>\n",
       "      <th>val_auc</th>\n",
       "      <th>auc_diff</th>\n",
       "      <th>recall</th>\n",
       "      <th>fp_tp_ratio</th>\n",
       "      <th>train_time</th>\n",
       "      <th>val_time</th>\n",
       "      <th>dataset</th>\n",
       "    </tr>\n",
       "  </thead>\n",
       "  <tbody>\n",
       "    <tr>\n",
       "      <th>0</th>\n",
       "      <td>0.9565</td>\n",
       "      <td>0.90212</td>\n",
       "      <td>0.05438</td>\n",
       "      <td>0.786563</td>\n",
       "      <td>2.446124</td>\n",
       "      <td>90.923916</td>\n",
       "      <td>6.18774</td>\n",
       "      <td>+3000 DPI BNUM</td>\n",
       "    </tr>\n",
       "  </tbody>\n",
       "</table>\n",
       "</div>"
      ],
      "text/plain": [
       "   train_auc  val_auc  auc_diff    recall  fp_tp_ratio  train_time  val_time  \\\n",
       "0     0.9565  0.90212   0.05438  0.786563     2.446124   90.923916   6.18774   \n",
       "\n",
       "          dataset  \n",
       "0  +3000 DPI BNUM  "
      ]
     },
     "execution_count": 112,
     "metadata": {},
     "output_type": "execute_result"
    }
   ],
   "source": [
    "model = lgb.LGBMClassifier(verbose=-1, random_state=42, is_unbalance=True)    \n",
    "\n",
    "X = df_train_fe.drop(columns=['target'])\n",
    "y = df_train_fe['target']\n",
    "\n",
    "X_train, X_val, y_train, y_val = train_test_split(X, y, test_size=0.2, random_state=42)\n",
    "\n",
    "results = []\n",
    "result = train_and_evaluate(model, X_train, X_val, y_train, y_val, model)\n",
    "result['dataset'] = '+3000 DPI BNUM'  \n",
    "results.append(result)\n",
    "\n",
    "results_df = pd.DataFrame(results)\n",
    "results_df.to_csv('model_results.csv', mode='a', header=not os.path.exists('model_results.csv'), index=False)\n",
    "print(\"Results have been saved to model_results.csv\")\n",
    "\n",
    "results_df"
   ]
  },
  {
   "cell_type": "markdown",
   "metadata": {
    "jp-MarkdownHeadingCollapsed": true,
    "tags": []
   },
   "source": [
    "### 25 найважливіших ознак з оригінального датасету"
   ]
  },
  {
   "cell_type": "code",
   "execution_count": 113,
   "metadata": {
    "execution": {
     "iopub.execute_input": "2024-07-07T13:37:47.031676Z",
     "iopub.status.busy": "2024-07-07T13:37:47.031108Z",
     "iopub.status.idle": "2024-07-07T13:37:47.748132Z",
     "shell.execute_reply": "2024-07-07T13:37:47.747017Z",
     "shell.execute_reply.started": "2024-07-07T13:37:47.031636Z"
    }
   },
   "outputs": [],
   "source": [
    "df_train_fe = df_train_fe_0.copy()\n",
    "df_train_bnum = df_train_bnum_0.copy()\n",
    "df_train_dpi = df_train_dpi_0.copy()"
   ]
  },
  {
   "cell_type": "code",
   "execution_count": 114,
   "metadata": {
    "execution": {
     "iopub.execute_input": "2024-07-07T13:37:53.319905Z",
     "iopub.status.busy": "2024-07-07T13:37:53.319461Z",
     "iopub.status.idle": "2024-07-07T13:37:53.329902Z",
     "shell.execute_reply": "2024-07-07T13:37:53.328420Z",
     "shell.execute_reply.started": "2024-07-07T13:37:53.319868Z"
    }
   },
   "outputs": [],
   "source": [
    "features_2_use = ['target', 'num_act_days_min_mnt3', 'device_days_usage', 'loc_market_share', 'num_act_days_mea_mnt1', 'voice_in_td_cnt_mea_mnt1', 'device_brand_prestigio', 'num_act_days_mea_mnt3', 'lt', 'loc_is_obl_center', 'day_end_gba', 'days_of_last_ppm', 'num_act_days_min_mnt1', 'sms_in_cnt_std_mnt3', 'device_type_modem', 'all_cnt_std_mnt3', 'days_of_end_last_ppm', 'voice_out_tar_dur_min_mnt3', 'Balance_uah', 'all_cnt_max_mnt1', 'imei_mean_long_days_usage', 'imei_mean_days_usage', 'bs_count_ppm_mn3', 'conn_out_uniq_cnt_mea_mnt1', 'all_cnt_std_mnt1', 'data_3g_tv_cnt_std_mnt1']"
   ]
  },
  {
   "cell_type": "code",
   "execution_count": 115,
   "metadata": {
    "execution": {
     "iopub.execute_input": "2024-07-07T13:37:57.569839Z",
     "iopub.status.busy": "2024-07-07T13:37:57.569405Z",
     "iopub.status.idle": "2024-07-07T13:37:57.586724Z",
     "shell.execute_reply": "2024-07-07T13:37:57.585130Z",
     "shell.execute_reply.started": "2024-07-07T13:37:57.569807Z"
    }
   },
   "outputs": [],
   "source": [
    "df_train_fe = df_train_fe[features_2_use]"
   ]
  },
  {
   "cell_type": "code",
   "execution_count": 116,
   "metadata": {
    "execution": {
     "iopub.execute_input": "2024-07-07T13:38:09.598245Z",
     "iopub.status.busy": "2024-07-07T13:38:09.597419Z",
     "iopub.status.idle": "2024-07-07T13:38:15.567373Z",
     "shell.execute_reply": "2024-07-07T13:38:15.566006Z",
     "shell.execute_reply.started": "2024-07-07T13:38:09.598205Z"
    }
   },
   "outputs": [
    {
     "name": "stdout",
     "output_type": "stream",
     "text": [
      "Results have been saved to model_results.csv\n"
     ]
    },
    {
     "data": {
      "text/html": [
       "<div>\n",
       "<style scoped>\n",
       "    .dataframe tbody tr th:only-of-type {\n",
       "        vertical-align: middle;\n",
       "    }\n",
       "\n",
       "    .dataframe tbody tr th {\n",
       "        vertical-align: top;\n",
       "    }\n",
       "\n",
       "    .dataframe thead th {\n",
       "        text-align: right;\n",
       "    }\n",
       "</style>\n",
       "<table border=\"1\" class=\"dataframe\">\n",
       "  <thead>\n",
       "    <tr style=\"text-align: right;\">\n",
       "      <th></th>\n",
       "      <th>train_auc</th>\n",
       "      <th>val_auc</th>\n",
       "      <th>auc_diff</th>\n",
       "      <th>recall</th>\n",
       "      <th>fp_tp_ratio</th>\n",
       "      <th>train_time</th>\n",
       "      <th>val_time</th>\n",
       "      <th>dataset</th>\n",
       "    </tr>\n",
       "  </thead>\n",
       "  <tbody>\n",
       "    <tr>\n",
       "      <th>0</th>\n",
       "      <td>0.936504</td>\n",
       "      <td>0.896217</td>\n",
       "      <td>0.040287</td>\n",
       "      <td>0.793798</td>\n",
       "      <td>2.768229</td>\n",
       "      <td>4.431842</td>\n",
       "      <td>1.15532</td>\n",
       "      <td>Original 25</td>\n",
       "    </tr>\n",
       "  </tbody>\n",
       "</table>\n",
       "</div>"
      ],
      "text/plain": [
       "   train_auc   val_auc  auc_diff    recall  fp_tp_ratio  train_time  val_time  \\\n",
       "0   0.936504  0.896217  0.040287  0.793798     2.768229    4.431842   1.15532   \n",
       "\n",
       "       dataset  \n",
       "0  Original 25  "
      ]
     },
     "execution_count": 116,
     "metadata": {},
     "output_type": "execute_result"
    }
   ],
   "source": [
    "model = lgb.LGBMClassifier(verbose=-1, random_state=42, is_unbalance=True)    \n",
    "\n",
    "X = df_train_fe.drop(columns=['target'])\n",
    "y = df_train_fe['target']\n",
    "\n",
    "X_train, X_val, y_train, y_val = train_test_split(X, y, test_size=0.2, random_state=42)\n",
    "\n",
    "results = []\n",
    "result = train_and_evaluate(model, X_train, X_val, y_train, y_val, model)\n",
    "result['dataset'] = 'Original 25'  \n",
    "results.append(result)\n",
    "\n",
    "results_df = pd.DataFrame(results)\n",
    "results_df.to_csv('model_results.csv', mode='a', header=not os.path.exists('model_results.csv'), index=False)\n",
    "print(\"Results have been saved to model_results.csv\")\n",
    "\n",
    "results_df"
   ]
  },
  {
   "cell_type": "markdown",
   "metadata": {
    "jp-MarkdownHeadingCollapsed": true,
    "tags": []
   },
   "source": [
    "### 25 найважливіших ознак з оригінального датасету плюс 5 нових ознак з датасету DPI"
   ]
  },
  {
   "cell_type": "code",
   "execution_count": 117,
   "metadata": {
    "execution": {
     "iopub.execute_input": "2024-07-07T13:38:23.442789Z",
     "iopub.status.busy": "2024-07-07T13:38:23.442328Z",
     "iopub.status.idle": "2024-07-07T13:38:24.034603Z",
     "shell.execute_reply": "2024-07-07T13:38:24.033377Z",
     "shell.execute_reply.started": "2024-07-07T13:38:23.442754Z"
    }
   },
   "outputs": [],
   "source": [
    "df_train_fe = df_train_fe_0.copy()\n",
    "df_train_bnum = df_train_bnum_0.copy()\n",
    "df_train_dpi = df_train_dpi_0.copy()"
   ]
  },
  {
   "cell_type": "code",
   "execution_count": 118,
   "metadata": {
    "execution": {
     "iopub.execute_input": "2024-07-07T13:38:30.533788Z",
     "iopub.status.busy": "2024-07-07T13:38:30.533384Z",
     "iopub.status.idle": "2024-07-07T13:38:30.543913Z",
     "shell.execute_reply": "2024-07-07T13:38:30.542497Z",
     "shell.execute_reply.started": "2024-07-07T13:38:30.533750Z"
    }
   },
   "outputs": [],
   "source": [
    "features_2_use = ['abon_id','target', 'num_act_days_min_mnt3', 'device_days_usage', 'loc_market_share', 'num_act_days_mea_mnt1', 'voice_in_td_cnt_mea_mnt1', 'device_brand_prestigio', 'num_act_days_mea_mnt3', 'lt', 'loc_is_obl_center', 'day_end_gba', 'days_of_last_ppm', 'num_act_days_min_mnt1', 'sms_in_cnt_std_mnt3', 'device_type_modem', 'all_cnt_std_mnt3', 'days_of_end_last_ppm', 'voice_out_tar_dur_min_mnt3', 'Balance_uah', 'all_cnt_max_mnt1', 'imei_mean_long_days_usage', 'imei_mean_days_usage', 'bs_count_ppm_mn3', 'conn_out_uniq_cnt_mea_mnt1', 'all_cnt_std_mnt1', 'data_3g_tv_cnt_std_mnt1']"
   ]
  },
  {
   "cell_type": "code",
   "execution_count": 119,
   "metadata": {
    "execution": {
     "iopub.execute_input": "2024-07-07T13:38:35.021830Z",
     "iopub.status.busy": "2024-07-07T13:38:35.021421Z",
     "iopub.status.idle": "2024-07-07T13:38:35.039004Z",
     "shell.execute_reply": "2024-07-07T13:38:35.037725Z",
     "shell.execute_reply.started": "2024-07-07T13:38:35.021800Z"
    }
   },
   "outputs": [],
   "source": [
    "df_train_fe = df_train_fe[features_2_use]"
   ]
  },
  {
   "cell_type": "code",
   "execution_count": 120,
   "metadata": {
    "execution": {
     "iopub.execute_input": "2024-07-07T13:38:48.551967Z",
     "iopub.status.busy": "2024-07-07T13:38:48.551539Z",
     "iopub.status.idle": "2024-07-07T13:38:58.309358Z",
     "shell.execute_reply": "2024-07-07T13:38:58.307853Z",
     "shell.execute_reply.started": "2024-07-07T13:38:48.551935Z"
    }
   },
   "outputs": [
    {
     "name": "stdout",
     "output_type": "stream",
     "text": [
      "   abon_id  target  num_act_days_min_mnt3  device_days_usage  \\\n",
      "0  1545052       0               1.480453          53.249600   \n",
      "1  1545235       0               5.324077          47.044200   \n",
      "2  1549358       0               5.324077          27.615852   \n",
      "3  1549591       0               4.786566          34.201236   \n",
      "4  1558772       0               5.324077          50.270526   \n",
      "\n",
      "   loc_market_share  num_act_days_mea_mnt1  voice_in_td_cnt_mea_mnt1  \\\n",
      "0          1.186492               4.646353                  2.569415   \n",
      "1          1.186492               5.324077                 15.945794   \n",
      "2          1.134741               5.324077                  5.193046   \n",
      "3          1.186492               5.059834                 11.862541   \n",
      "4          1.186492               5.324077                 11.739678   \n",
      "\n",
      "   device_brand_prestigio  num_act_days_mea_mnt3        lt  ...  \\\n",
      "0                     0.0               4.693364  6.135202  ...   \n",
      "1                     0.0               5.324077  6.135617  ...   \n",
      "2                     0.0               5.324077  6.125043  ...   \n",
      "3                     0.0               5.148888  6.130697  ...   \n",
      "4                     0.0               5.324077  6.117506  ...   \n",
      "\n",
      "   imei_mean_days_usage  bs_count_ppm_mn3  conn_out_uniq_cnt_mea_mnt1  \\\n",
      "0             49.283361          2.921812                    1.657608   \n",
      "1             45.307118          3.590290                   11.166001   \n",
      "2             56.897639          2.921812                    3.427815   \n",
      "3             40.076260          2.921812                    4.786566   \n",
      "4             49.848231               NaN                    6.640177   \n",
      "\n",
      "   all_cnt_std_mnt1  data_3g_tv_cnt_std_mnt1  unique_applications  \\\n",
      "0          8.086664                 0.000000                  NaN   \n",
      "1         16.802780                11.841748                 51.0   \n",
      "2          9.756854                 0.000000                  NaN   \n",
      "3          8.639730                 0.000000                  1.0   \n",
      "4         10.468777                 5.745129                 65.0   \n",
      "\n",
      "   total_duration_sec  total_volume_kb  total_count_events  total_day_count  \n",
      "0                 NaN              NaN                 NaN              NaN  \n",
      "1         2408.588251      2913.655748         1274.088403            644.0  \n",
      "2                 NaN              NaN                 NaN              NaN  \n",
      "3            0.000000         1.027395            1.480453              1.0  \n",
      "4         2720.091775      3707.656849         1640.256796            904.0  \n",
      "\n",
      "[5 rows x 32 columns]\n"
     ]
    }
   ],
   "source": [
    "# DPI DPI DPI DPI DPI DPI DPI DPI DPI DPI DPI DPI DPI DPI DPI DPI \n",
    "# Нові ознаки 5 - кількість застосунків та суми всіх метрик по всіх застосунках\n",
    "\n",
    "agg_functions = {\n",
    "    'Application': pd.Series.nunique,  # кількість різних значень ознаки Application\n",
    "    'SUM_of_Duration_sec': 'sum',      # сума всіх значень ознаки SUM_of_Duration_sec\n",
    "    'SUM_of_Volume_kb': 'sum',         # сума всіх значень ознаки SUM_of_Volume_kb\n",
    "    'SUM_of_Count_events': 'sum',      # сума всіх значень ознаки SUM_of_Count_events\n",
    "    'MAX_of_day_cnt': 'sum'            # сума всіх значень ознаки MAX_of_day_cnt\n",
    "}\n",
    "\n",
    "def create_features(df_dpi, df_fe):\n",
    "    aggregated = df_dpi.groupby('abon_id').agg(agg_functions).reset_index()\n",
    "    aggregated.columns = ['abon_id', 'unique_applications', 'total_duration_sec', 'total_volume_kb', 'total_count_events', 'total_day_count']\n",
    "    df_fe = df_fe.merge(aggregated, on='abon_id', how='left')\n",
    "    return df_fe\n",
    "\n",
    "df_train_fe = create_features(df_train_dpi, df_train_fe)\n",
    "\n",
    "print(df_train_fe.head())"
   ]
  },
  {
   "cell_type": "code",
   "execution_count": 121,
   "metadata": {
    "execution": {
     "iopub.execute_input": "2024-07-07T13:39:06.652078Z",
     "iopub.status.busy": "2024-07-07T13:39:06.651654Z",
     "iopub.status.idle": "2024-07-07T13:39:06.665711Z",
     "shell.execute_reply": "2024-07-07T13:39:06.664448Z",
     "shell.execute_reply.started": "2024-07-07T13:39:06.652045Z"
    }
   },
   "outputs": [],
   "source": [
    "# Видалення неінформативних ознак:\n",
    "\n",
    "df_train_fe.drop(\"abon_id\", axis=1, inplace=True)\n"
   ]
  },
  {
   "cell_type": "code",
   "execution_count": 122,
   "metadata": {
    "execution": {
     "iopub.execute_input": "2024-07-07T13:39:12.659681Z",
     "iopub.status.busy": "2024-07-07T13:39:12.659222Z",
     "iopub.status.idle": "2024-07-07T13:39:19.658031Z",
     "shell.execute_reply": "2024-07-07T13:39:19.656705Z",
     "shell.execute_reply.started": "2024-07-07T13:39:12.659647Z"
    }
   },
   "outputs": [
    {
     "name": "stdout",
     "output_type": "stream",
     "text": [
      "Results have been saved to model_results.csv\n"
     ]
    },
    {
     "data": {
      "text/html": [
       "<div>\n",
       "<style scoped>\n",
       "    .dataframe tbody tr th:only-of-type {\n",
       "        vertical-align: middle;\n",
       "    }\n",
       "\n",
       "    .dataframe tbody tr th {\n",
       "        vertical-align: top;\n",
       "    }\n",
       "\n",
       "    .dataframe thead th {\n",
       "        text-align: right;\n",
       "    }\n",
       "</style>\n",
       "<table border=\"1\" class=\"dataframe\">\n",
       "  <thead>\n",
       "    <tr style=\"text-align: right;\">\n",
       "      <th></th>\n",
       "      <th>train_auc</th>\n",
       "      <th>val_auc</th>\n",
       "      <th>auc_diff</th>\n",
       "      <th>recall</th>\n",
       "      <th>fp_tp_ratio</th>\n",
       "      <th>train_time</th>\n",
       "      <th>val_time</th>\n",
       "      <th>dataset</th>\n",
       "    </tr>\n",
       "  </thead>\n",
       "  <tbody>\n",
       "    <tr>\n",
       "      <th>0</th>\n",
       "      <td>0.938785</td>\n",
       "      <td>0.89588</td>\n",
       "      <td>0.042905</td>\n",
       "      <td>0.795866</td>\n",
       "      <td>2.717532</td>\n",
       "      <td>5.408524</td>\n",
       "      <td>1.209163</td>\n",
       "      <td>25 +5 DPI</td>\n",
       "    </tr>\n",
       "  </tbody>\n",
       "</table>\n",
       "</div>"
      ],
      "text/plain": [
       "   train_auc  val_auc  auc_diff    recall  fp_tp_ratio  train_time  val_time  \\\n",
       "0   0.938785  0.89588  0.042905  0.795866     2.717532    5.408524  1.209163   \n",
       "\n",
       "     dataset  \n",
       "0  25 +5 DPI  "
      ]
     },
     "execution_count": 122,
     "metadata": {},
     "output_type": "execute_result"
    }
   ],
   "source": [
    "model = lgb.LGBMClassifier(verbose=-1, random_state=42, is_unbalance=True)    \n",
    "\n",
    "X = df_train_fe.drop(columns=['target'])\n",
    "y = df_train_fe['target']\n",
    "\n",
    "X_train, X_val, y_train, y_val = train_test_split(X, y, test_size=0.2, random_state=42)\n",
    "\n",
    "results = []\n",
    "result = train_and_evaluate(model, X_train, X_val, y_train, y_val, model)\n",
    "result['dataset'] = '25 +5 DPI'  \n",
    "results.append(result)\n",
    "\n",
    "results_df = pd.DataFrame(results)\n",
    "results_df.to_csv('model_results.csv', mode='a', header=not os.path.exists('model_results.csv'), index=False)\n",
    "print(\"Results have been saved to model_results.csv\")\n",
    "\n",
    "results_df"
   ]
  },
  {
   "cell_type": "markdown",
   "metadata": {
    "jp-MarkdownHeadingCollapsed": true,
    "tags": []
   },
   "source": [
    "### 25 найважливіших ознак з оригінального датасету плюс 2500 нових ознак з датасету BNUM"
   ]
  },
  {
   "cell_type": "code",
   "execution_count": 123,
   "metadata": {
    "execution": {
     "iopub.execute_input": "2024-07-07T13:39:26.353860Z",
     "iopub.status.busy": "2024-07-07T13:39:26.353461Z",
     "iopub.status.idle": "2024-07-07T13:39:26.894697Z",
     "shell.execute_reply": "2024-07-07T13:39:26.893329Z",
     "shell.execute_reply.started": "2024-07-07T13:39:26.353830Z"
    }
   },
   "outputs": [],
   "source": [
    "df_train_fe = df_train_fe_0.copy()\n",
    "df_train_bnum = df_train_bnum_0.copy()\n",
    "df_train_dpi = df_train_dpi_0.copy()"
   ]
  },
  {
   "cell_type": "code",
   "execution_count": 125,
   "metadata": {
    "execution": {
     "iopub.execute_input": "2024-07-07T13:39:33.661527Z",
     "iopub.status.busy": "2024-07-07T13:39:33.661112Z",
     "iopub.status.idle": "2024-07-07T13:39:33.671971Z",
     "shell.execute_reply": "2024-07-07T13:39:33.670573Z",
     "shell.execute_reply.started": "2024-07-07T13:39:33.661497Z"
    }
   },
   "outputs": [],
   "source": [
    "features_2_use = ['abon_id','target', 'num_act_days_min_mnt3', 'device_days_usage', 'loc_market_share', 'num_act_days_mea_mnt1', 'voice_in_td_cnt_mea_mnt1', 'device_brand_prestigio', 'num_act_days_mea_mnt3', 'lt', 'loc_is_obl_center', 'day_end_gba', 'days_of_last_ppm', 'num_act_days_min_mnt1', 'sms_in_cnt_std_mnt3', 'device_type_modem', 'all_cnt_std_mnt3', 'days_of_end_last_ppm', 'voice_out_tar_dur_min_mnt3', 'Balance_uah', 'all_cnt_max_mnt1', 'imei_mean_long_days_usage', 'imei_mean_days_usage', 'bs_count_ppm_mn3', 'conn_out_uniq_cnt_mea_mnt1', 'all_cnt_std_mnt1', 'data_3g_tv_cnt_std_mnt1']"
   ]
  },
  {
   "cell_type": "code",
   "execution_count": 126,
   "metadata": {
    "execution": {
     "iopub.execute_input": "2024-07-07T13:39:35.670102Z",
     "iopub.status.busy": "2024-07-07T13:39:35.668860Z",
     "iopub.status.idle": "2024-07-07T13:39:35.685566Z",
     "shell.execute_reply": "2024-07-07T13:39:35.684333Z",
     "shell.execute_reply.started": "2024-07-07T13:39:35.670061Z"
    }
   },
   "outputs": [],
   "source": [
    "df_train_fe = df_train_fe[features_2_use]"
   ]
  },
  {
   "cell_type": "code",
   "execution_count": 127,
   "metadata": {
    "execution": {
     "iopub.execute_input": "2024-07-07T13:39:41.993349Z",
     "iopub.status.busy": "2024-07-07T13:39:41.992907Z",
     "iopub.status.idle": "2024-07-07T13:39:48.657224Z",
     "shell.execute_reply": "2024-07-07T13:39:48.655454Z",
     "shell.execute_reply.started": "2024-07-07T13:39:41.993313Z"
    }
   },
   "outputs": [
    {
     "name": "stderr",
     "output_type": "stream",
     "text": [
      "/tmp/ipykernel_33/1906798896.py:20: SettingWithCopyWarning: \n",
      "A value is trying to be set on a copy of a slice from a DataFrame.\n",
      "Try using .loc[row_indexer,col_indexer] = value instead\n",
      "\n",
      "See the caveats in the documentation: https://pandas.pydata.org/pandas-docs/stable/user_guide/indexing.html#returning-a-view-versus-a-copy\n",
      "  df_bnum['call_cnt_total'] = df_bnum['call_cnt_out'] + df_bnum['call_cnt_in']\n",
      "/tmp/ipykernel_33/1906798896.py:21: SettingWithCopyWarning: \n",
      "A value is trying to be set on a copy of a slice from a DataFrame.\n",
      "Try using .loc[row_indexer,col_indexer] = value instead\n",
      "\n",
      "See the caveats in the documentation: https://pandas.pydata.org/pandas-docs/stable/user_guide/indexing.html#returning-a-view-versus-a-copy\n",
      "  df_bnum['call_dur_total'] = df_bnum['call_dur_out'] + df_bnum['call_dur_in']\n",
      "/tmp/ipykernel_33/1906798896.py:22: SettingWithCopyWarning: \n",
      "A value is trying to be set on a copy of a slice from a DataFrame.\n",
      "Try using .loc[row_indexer,col_indexer] = value instead\n",
      "\n",
      "See the caveats in the documentation: https://pandas.pydata.org/pandas-docs/stable/user_guide/indexing.html#returning-a-view-versus-a-copy\n",
      "  df_bnum['cnt_sms_total'] = df_bnum['cnt_sms_out'] + df_bnum['cnt_sms_in']\n"
     ]
    },
    {
     "name": "stdout",
     "output_type": "stream",
     "text": [
      "   abon_id  target  num_act_days_min_mnt3  device_days_usage  \\\n",
      "0  1545052       0               1.480453          53.249600   \n",
      "1  1545235       0               5.324077          47.044200   \n",
      "2  1549358       0               5.324077          27.615852   \n",
      "3  1549591       0               4.786566          34.201236   \n",
      "4  1558772       0               5.324077          50.270526   \n",
      "\n",
      "   loc_market_share  num_act_days_mea_mnt1  voice_in_td_cnt_mea_mnt1  \\\n",
      "0          1.186492               4.646353                  2.569415   \n",
      "1          1.186492               5.324077                 15.945794   \n",
      "2          1.134741               5.324077                  5.193046   \n",
      "3          1.186492               5.059834                 11.862541   \n",
      "4          1.186492               5.324077                 11.739678   \n",
      "\n",
      "   device_brand_prestigio  num_act_days_mea_mnt3        lt  ...  \\\n",
      "0                     0.0               4.693364  6.135202  ...   \n",
      "1                     0.0               5.324077  6.135617  ...   \n",
      "2                     0.0               5.324077  6.125043  ...   \n",
      "3                     0.0               5.148888  6.130697  ...   \n",
      "4                     0.0               5.324077  6.117506  ...   \n",
      "\n",
      "   cnt_sms_total_zal  cnt_sms_total_ze.kred1t  cnt_sms_total_ze.kredit  \\\n",
      "0                NaN                      NaN                      NaN   \n",
      "1                NaN                      NaN                      NaN   \n",
      "2                NaN                      NaN                      NaN   \n",
      "3                NaN                      NaN                      NaN   \n",
      "4                NaN                      NaN                      NaN   \n",
      "\n",
      "   cnt_sms_total_zecredi  cnt_sms_total_zecredit  cnt_sms_total_zekredi  \\\n",
      "0                    NaN                     NaN                    NaN   \n",
      "1                    NaN                     NaN                    NaN   \n",
      "2                    NaN                     NaN                    NaN   \n",
      "3                    NaN                     NaN                    NaN   \n",
      "4                    NaN                     NaN                    NaN   \n",
      "\n",
      "   cnt_sms_total_zen  cnt_sms_total_zip  cnt_sms_total_zolotakoro  \\\n",
      "0                NaN                NaN                       NaN   \n",
      "1                NaN                NaN                       NaN   \n",
      "2                NaN                NaN                       NaN   \n",
      "3                NaN                NaN                       NaN   \n",
      "4                NaN                NaN                       NaN   \n",
      "\n",
      "   cnt_sms_total_zoom  \n",
      "0                 NaN  \n",
      "1                 NaN  \n",
      "2                 NaN  \n",
      "3                 NaN  \n",
      "4                 NaN  \n",
      "\n",
      "[5 rows x 2328 columns]\n"
     ]
    }
   ],
   "source": [
    "# BNUM BNUM BNUM BNUM BNUM BNUM BNUM BNUM BNUM BNUM \n",
    "# + 2500 нових ознак\n",
    "values_to_remove = ['cyberpolice',\n",
    "'cyberpolic',\n",
    "'ukraine',\n",
    "'taxi-838',\n",
    "'icu',\n",
    "'dsns ukr',\n",
    "]\n",
    "\n",
    "df_train_bnum = df_train_bnum[~df_train_bnum['bnum'].isin(values_to_remove)]\n",
    "\n",
    "# Видалення спостережень з df_train_bnum, де для одного abon_id менше ніж 50 унікальних значень bnum\n",
    "abon_id_counts = df_train_bnum.groupby('abon_id')['bnum'].nunique()\n",
    "valid_abon_ids = abon_id_counts[abon_id_counts >= 50].index\n",
    "df_train_bnum_filtered = df_train_bnum[df_train_bnum['abon_id'].isin(valid_abon_ids)]\n",
    "\n",
    "def create_bnum_features(df_bnum, df_fe):\n",
    "\n",
    "    df_bnum['call_cnt_total'] = df_bnum['call_cnt_out'] + df_bnum['call_cnt_in']\n",
    "    df_bnum['call_dur_total'] = df_bnum['call_dur_out'] + df_bnum['call_dur_in']\n",
    "    df_bnum['cnt_sms_total'] = df_bnum['cnt_sms_out'] + df_bnum['cnt_sms_in']\n",
    "    \n",
    "    grouped = df_bnum.groupby(['abon_id', 'bnum']).agg({\n",
    "        'call_cnt_total': 'sum',\n",
    "        'call_dur_total': 'sum',\n",
    "        'cnt_sms_total': 'sum'\n",
    "    }).reset_index()\n",
    "    \n",
    "    pivot_df = grouped.pivot(index='abon_id', columns='bnum', values=['call_cnt_total', 'call_dur_total', 'cnt_sms_total'])\n",
    "    pivot_df.columns = [f'{metric}_{bnum}' for metric, bnum in pivot_df.columns]\n",
    "    \n",
    "    df_fe = df_fe.merge(pivot_df, on='abon_id', how='left')\n",
    "    \n",
    "    return df_fe\n",
    "\n",
    "df_train_fe = create_bnum_features(df_train_bnum_filtered, df_train_fe)\n",
    "print(df_train_fe.head())"
   ]
  },
  {
   "cell_type": "code",
   "execution_count": 128,
   "metadata": {
    "execution": {
     "iopub.execute_input": "2024-07-07T13:39:54.763952Z",
     "iopub.status.busy": "2024-07-07T13:39:54.763495Z",
     "iopub.status.idle": "2024-07-07T13:39:55.661238Z",
     "shell.execute_reply": "2024-07-07T13:39:55.659915Z",
     "shell.execute_reply.started": "2024-07-07T13:39:54.763918Z"
    }
   },
   "outputs": [],
   "source": [
    "# Видалення неінформативних ознак:\n",
    "\n",
    "df_train_fe.drop(\"abon_id\", axis=1, inplace=True)\n"
   ]
  },
  {
   "cell_type": "code",
   "execution_count": 129,
   "metadata": {
    "execution": {
     "iopub.execute_input": "2024-07-07T13:40:01.124467Z",
     "iopub.status.busy": "2024-07-07T13:40:01.123457Z",
     "iopub.status.idle": "2024-07-07T13:40:34.023743Z",
     "shell.execute_reply": "2024-07-07T13:40:34.022472Z",
     "shell.execute_reply.started": "2024-07-07T13:40:01.124425Z"
    }
   },
   "outputs": [
    {
     "name": "stdout",
     "output_type": "stream",
     "text": [
      "Results have been saved to model_results.csv\n"
     ]
    },
    {
     "data": {
      "text/html": [
       "<div>\n",
       "<style scoped>\n",
       "    .dataframe tbody tr th:only-of-type {\n",
       "        vertical-align: middle;\n",
       "    }\n",
       "\n",
       "    .dataframe tbody tr th {\n",
       "        vertical-align: top;\n",
       "    }\n",
       "\n",
       "    .dataframe thead th {\n",
       "        text-align: right;\n",
       "    }\n",
       "</style>\n",
       "<table border=\"1\" class=\"dataframe\">\n",
       "  <thead>\n",
       "    <tr style=\"text-align: right;\">\n",
       "      <th></th>\n",
       "      <th>train_auc</th>\n",
       "      <th>val_auc</th>\n",
       "      <th>auc_diff</th>\n",
       "      <th>recall</th>\n",
       "      <th>fp_tp_ratio</th>\n",
       "      <th>train_time</th>\n",
       "      <th>val_time</th>\n",
       "      <th>dataset</th>\n",
       "    </tr>\n",
       "  </thead>\n",
       "  <tbody>\n",
       "    <tr>\n",
       "      <th>0</th>\n",
       "      <td>0.936504</td>\n",
       "      <td>0.896217</td>\n",
       "      <td>0.040287</td>\n",
       "      <td>0.793798</td>\n",
       "      <td>2.768229</td>\n",
       "      <td>21.84243</td>\n",
       "      <td>6.384422</td>\n",
       "      <td>25 +2500 BNUM</td>\n",
       "    </tr>\n",
       "  </tbody>\n",
       "</table>\n",
       "</div>"
      ],
      "text/plain": [
       "   train_auc   val_auc  auc_diff    recall  fp_tp_ratio  train_time  val_time  \\\n",
       "0   0.936504  0.896217  0.040287  0.793798     2.768229    21.84243  6.384422   \n",
       "\n",
       "         dataset  \n",
       "0  25 +2500 BNUM  "
      ]
     },
     "execution_count": 129,
     "metadata": {},
     "output_type": "execute_result"
    }
   ],
   "source": [
    "model = lgb.LGBMClassifier(verbose=-1, random_state=42, is_unbalance=True)    \n",
    "\n",
    "X = df_train_fe.drop(columns=['target'])\n",
    "y = df_train_fe['target']\n",
    "\n",
    "X_train, X_val, y_train, y_val = train_test_split(X, y, test_size=0.2, random_state=42)\n",
    "\n",
    "results = []\n",
    "result = train_and_evaluate(model, X_train, X_val, y_train, y_val, model)\n",
    "result['dataset'] = '25 +2500 BNUM'  \n",
    "results.append(result)\n",
    "\n",
    "results_df = pd.DataFrame(results)\n",
    "results_df.to_csv('model_results.csv', mode='a', header=not os.path.exists('model_results.csv'), index=False)\n",
    "print(\"Results have been saved to model_results.csv\")\n",
    "\n",
    "results_df"
   ]
  },
  {
   "cell_type": "markdown",
   "metadata": {
    "jp-MarkdownHeadingCollapsed": true,
    "tags": []
   },
   "source": [
    "### 25 найважливіших ознак з оригінального датасету плюс 600 нових ознак з датасету DPI"
   ]
  },
  {
   "cell_type": "code",
   "execution_count": 130,
   "metadata": {
    "execution": {
     "iopub.execute_input": "2024-07-07T13:40:40.062077Z",
     "iopub.status.busy": "2024-07-07T13:40:40.061660Z",
     "iopub.status.idle": "2024-07-07T13:40:40.642694Z",
     "shell.execute_reply": "2024-07-07T13:40:40.641258Z",
     "shell.execute_reply.started": "2024-07-07T13:40:40.062047Z"
    }
   },
   "outputs": [],
   "source": [
    "df_train_fe = df_train_fe_0.copy()\n",
    "df_train_bnum = df_train_bnum_0.copy()\n",
    "df_train_dpi = df_train_dpi_0.copy()"
   ]
  },
  {
   "cell_type": "code",
   "execution_count": 131,
   "metadata": {
    "execution": {
     "iopub.execute_input": "2024-07-07T13:40:44.464172Z",
     "iopub.status.busy": "2024-07-07T13:40:44.463728Z",
     "iopub.status.idle": "2024-07-07T13:40:44.471324Z",
     "shell.execute_reply": "2024-07-07T13:40:44.469824Z",
     "shell.execute_reply.started": "2024-07-07T13:40:44.464124Z"
    }
   },
   "outputs": [],
   "source": [
    "features_2_use = ['abon_id','target', 'num_act_days_min_mnt3', 'device_days_usage', 'loc_market_share', 'num_act_days_mea_mnt1', 'voice_in_td_cnt_mea_mnt1', 'device_brand_prestigio', 'num_act_days_mea_mnt3', 'lt', 'loc_is_obl_center', 'day_end_gba', 'days_of_last_ppm', 'num_act_days_min_mnt1', 'sms_in_cnt_std_mnt3', 'device_type_modem', 'all_cnt_std_mnt3', 'days_of_end_last_ppm', 'voice_out_tar_dur_min_mnt3', 'Balance_uah', 'all_cnt_max_mnt1', 'imei_mean_long_days_usage', 'imei_mean_days_usage', 'bs_count_ppm_mn3', 'conn_out_uniq_cnt_mea_mnt1', 'all_cnt_std_mnt1', 'data_3g_tv_cnt_std_mnt1']"
   ]
  },
  {
   "cell_type": "code",
   "execution_count": 133,
   "metadata": {
    "execution": {
     "iopub.execute_input": "2024-07-07T13:40:51.573762Z",
     "iopub.status.busy": "2024-07-07T13:40:51.573255Z",
     "iopub.status.idle": "2024-07-07T13:40:51.587367Z",
     "shell.execute_reply": "2024-07-07T13:40:51.586114Z",
     "shell.execute_reply.started": "2024-07-07T13:40:51.573722Z"
    }
   },
   "outputs": [],
   "source": [
    "df_train_fe = df_train_fe[features_2_use]"
   ]
  },
  {
   "cell_type": "code",
   "execution_count": 134,
   "metadata": {
    "execution": {
     "iopub.execute_input": "2024-07-07T13:40:54.732023Z",
     "iopub.status.busy": "2024-07-07T13:40:54.731596Z",
     "iopub.status.idle": "2024-07-07T13:41:04.786111Z",
     "shell.execute_reply": "2024-07-07T13:41:04.784981Z",
     "shell.execute_reply.started": "2024-07-07T13:40:54.731992Z"
    }
   },
   "outputs": [
    {
     "name": "stdout",
     "output_type": "stream",
     "text": [
      "   abon_id  target  num_act_days_min_mnt3  device_days_usage  \\\n",
      "0  1545052       0               1.480453          53.249600   \n",
      "1  1545235       0               5.324077          47.044200   \n",
      "2  1549358       0               5.324077          27.615852   \n",
      "3  1549591       0               4.786566          34.201236   \n",
      "4  1558772       0               5.324077          50.270526   \n",
      "\n",
      "   loc_market_share  num_act_days_mea_mnt1  voice_in_td_cnt_mea_mnt1  \\\n",
      "0          1.186492               4.646353                  2.569415   \n",
      "1          1.186492               5.324077                 15.945794   \n",
      "2          1.134741               5.324077                  5.193046   \n",
      "3          1.186492               5.059834                 11.862541   \n",
      "4          1.186492               5.324077                 11.739678   \n",
      "\n",
      "   device_brand_prestigio  num_act_days_mea_mnt3        lt  ...  \\\n",
      "0                     0.0               4.693364  6.135202  ...   \n",
      "1                     0.0               5.324077  6.135617  ...   \n",
      "2                     0.0               5.324077  6.125043  ...   \n",
      "3                     0.0               5.148888  6.130697  ...   \n",
      "4                     0.0               5.324077  6.117506  ...   \n",
      "\n",
      "   2563_duration  2564_duration  2568_duration  2569_duration  2571_duration  \\\n",
      "0            0.0            0.0            0.0       0.000000            0.0   \n",
      "1            0.0            0.0            0.0       4.786566            0.0   \n",
      "2            0.0            0.0            0.0       0.000000            0.0   \n",
      "3            0.0            0.0            0.0       0.000000            0.0   \n",
      "4            0.0            0.0            0.0       0.000000            0.0   \n",
      "\n",
      "   2573_duration  2574_duration  2575_duration  2577_duration  2578_duration  \n",
      "0            0.0            0.0            0.0            0.0            0.0  \n",
      "1            0.0            0.0            0.0            0.0            0.0  \n",
      "2            0.0            0.0            0.0            0.0            0.0  \n",
      "3            0.0            0.0            0.0            0.0            0.0  \n",
      "4            0.0            0.0            0.0            0.0            0.0  \n",
      "\n",
      "[5 rows x 771 columns]\n"
     ]
    }
   ],
   "source": [
    "# # DPI DPI DPI DPI DPI DPI DPI DPI DPI DPI DPI DPI DPI DPI DPI DPI \n",
    "# # Нові фічі 2500+: кількість взаємодії з кожним застосунком усі метрики (600 ознак на кожну)\n",
    "\n",
    "def create_application_features(df_dpi, df_fe):\n",
    "    #pivot_count = df_dpi.pivot_table(index='abon_id', columns='Application', values='SUM_of_Count_events', aggfunc='sum', fill_value=0).reset_index()\n",
    "    pivot_duration = df_dpi.pivot_table(index='abon_id', columns='Application', values='SUM_of_Duration_sec', aggfunc='sum', fill_value=0).reset_index()\n",
    "    #pivot_volume = df_dpi.pivot_table(index='abon_id', columns='Application', values='SUM_of_Volume_kb', aggfunc='sum', fill_value=0).reset_index()\n",
    "    #pivot_day_cnt = df_dpi.pivot_table(index='abon_id', columns='Application', values='MAX_of_day_cnt', aggfunc='max', fill_value=0).reset_index()\n",
    "    \n",
    "    #pivot_count = pivot_count.add_suffix('_count')\n",
    "    pivot_duration = pivot_duration.add_suffix('_duration')\n",
    "    #pivot_volume = pivot_volume.add_suffix('_volume')\n",
    "    #pivot_day_cnt = pivot_day_cnt.add_suffix('_day_cnt')\n",
    "    \n",
    "    #pivot_count.rename(columns={'abon_id_count': 'abon_id'}, inplace=True)\n",
    "    pivot_duration.rename(columns={'abon_id_duration': 'abon_id'}, inplace=True)\n",
    "    #pivot_volume.rename(columns={'abon_id_volume': 'abon_id'}, inplace=True)\n",
    "    #pivot_day_cnt.rename(columns={'abon_id_day_cnt': 'abon_id'}, inplace=True)\n",
    "    \n",
    "    #df_fe = df_fe.merge(pivot_count, on='abon_id', how='left')\n",
    "    df_fe = df_fe.merge(pivot_duration, on='abon_id', how='left')\n",
    "    #df_fe = df_fe.merge(pivot_volume, on='abon_id', how='left')\n",
    "    #df_fe = df_fe.merge(pivot_day_cnt, on='abon_id', how='left')\n",
    "    \n",
    "    df_fe.fillna(0, inplace=True)\n",
    "    \n",
    "    return df_fe\n",
    "\n",
    "df_train_fe = create_application_features(df_train_dpi, df_train_fe)\n",
    "\n",
    "print(df_train_fe.head())\n"
   ]
  },
  {
   "cell_type": "code",
   "execution_count": 135,
   "metadata": {
    "execution": {
     "iopub.execute_input": "2024-07-07T13:41:09.869880Z",
     "iopub.status.busy": "2024-07-07T13:41:09.869452Z",
     "iopub.status.idle": "2024-07-07T13:41:10.168357Z",
     "shell.execute_reply": "2024-07-07T13:41:10.166999Z",
     "shell.execute_reply.started": "2024-07-07T13:41:09.869847Z"
    }
   },
   "outputs": [],
   "source": [
    "# Видалення неінформативних ознак:\n",
    "\n",
    "df_train_fe.drop(\"abon_id\", axis=1, inplace=True)\n",
    "\n"
   ]
  },
  {
   "cell_type": "code",
   "execution_count": 136,
   "metadata": {
    "execution": {
     "iopub.execute_input": "2024-07-07T13:41:17.029866Z",
     "iopub.status.busy": "2024-07-07T13:41:17.029392Z",
     "iopub.status.idle": "2024-07-07T13:41:38.342441Z",
     "shell.execute_reply": "2024-07-07T13:41:38.341131Z",
     "shell.execute_reply.started": "2024-07-07T13:41:17.029800Z"
    }
   },
   "outputs": [
    {
     "name": "stdout",
     "output_type": "stream",
     "text": [
      "Results have been saved to model_results.csv\n"
     ]
    },
    {
     "data": {
      "text/html": [
       "<div>\n",
       "<style scoped>\n",
       "    .dataframe tbody tr th:only-of-type {\n",
       "        vertical-align: middle;\n",
       "    }\n",
       "\n",
       "    .dataframe tbody tr th {\n",
       "        vertical-align: top;\n",
       "    }\n",
       "\n",
       "    .dataframe thead th {\n",
       "        text-align: right;\n",
       "    }\n",
       "</style>\n",
       "<table border=\"1\" class=\"dataframe\">\n",
       "  <thead>\n",
       "    <tr style=\"text-align: right;\">\n",
       "      <th></th>\n",
       "      <th>train_auc</th>\n",
       "      <th>val_auc</th>\n",
       "      <th>auc_diff</th>\n",
       "      <th>recall</th>\n",
       "      <th>fp_tp_ratio</th>\n",
       "      <th>train_time</th>\n",
       "      <th>val_time</th>\n",
       "      <th>dataset</th>\n",
       "    </tr>\n",
       "  </thead>\n",
       "  <tbody>\n",
       "    <tr>\n",
       "      <th>0</th>\n",
       "      <td>0.945211</td>\n",
       "      <td>0.900066</td>\n",
       "      <td>0.045145</td>\n",
       "      <td>0.798966</td>\n",
       "      <td>2.610608</td>\n",
       "      <td>17.151605</td>\n",
       "      <td>2.465616</td>\n",
       "      <td>25 +600 DPI</td>\n",
       "    </tr>\n",
       "  </tbody>\n",
       "</table>\n",
       "</div>"
      ],
      "text/plain": [
       "   train_auc   val_auc  auc_diff    recall  fp_tp_ratio  train_time  val_time  \\\n",
       "0   0.945211  0.900066  0.045145  0.798966     2.610608   17.151605  2.465616   \n",
       "\n",
       "       dataset  \n",
       "0  25 +600 DPI  "
      ]
     },
     "execution_count": 136,
     "metadata": {},
     "output_type": "execute_result"
    }
   ],
   "source": [
    "model = lgb.LGBMClassifier(verbose=-1, random_state=42, is_unbalance=True)    \n",
    "\n",
    "X = df_train_fe.drop(columns=['target'])\n",
    "y = df_train_fe['target']\n",
    "\n",
    "X_train, X_val, y_train, y_val = train_test_split(X, y, test_size=0.2, random_state=42)\n",
    "\n",
    "results = []\n",
    "result = train_and_evaluate(model, X_train, X_val, y_train, y_val, model)\n",
    "result['dataset'] = '25 +600 DPI'  \n",
    "results.append(result)\n",
    "\n",
    "results_df = pd.DataFrame(results)\n",
    "results_df.to_csv('model_results.csv', mode='a', header=not os.path.exists('model_results.csv'), index=False)\n",
    "print(\"Results have been saved to model_results.csv\")\n",
    "\n",
    "results_df"
   ]
  },
  {
   "cell_type": "markdown",
   "metadata": {
    "jp-MarkdownHeadingCollapsed": true,
    "tags": []
   },
   "source": [
    "### 25 найважливіших ознак з оригінального датасету плюс 600 нових ознак з датасету DPI та 2500 з датасету BNUM"
   ]
  },
  {
   "cell_type": "code",
   "execution_count": 137,
   "metadata": {
    "execution": {
     "iopub.execute_input": "2024-07-07T13:41:46.104429Z",
     "iopub.status.busy": "2024-07-07T13:41:46.103074Z",
     "iopub.status.idle": "2024-07-07T13:41:46.633602Z",
     "shell.execute_reply": "2024-07-07T13:41:46.632377Z",
     "shell.execute_reply.started": "2024-07-07T13:41:46.104373Z"
    }
   },
   "outputs": [],
   "source": [
    "df_train_fe = df_train_fe_0.copy()\n",
    "df_train_bnum = df_train_bnum_0.copy()\n",
    "df_train_dpi = df_train_dpi_0.copy()"
   ]
  },
  {
   "cell_type": "code",
   "execution_count": 138,
   "metadata": {
    "execution": {
     "iopub.execute_input": "2024-07-07T13:41:49.935762Z",
     "iopub.status.busy": "2024-07-07T13:41:49.935040Z",
     "iopub.status.idle": "2024-07-07T13:41:49.942846Z",
     "shell.execute_reply": "2024-07-07T13:41:49.941246Z",
     "shell.execute_reply.started": "2024-07-07T13:41:49.935711Z"
    }
   },
   "outputs": [],
   "source": [
    "features_2_use = ['abon_id','target', 'num_act_days_min_mnt3', 'device_days_usage', 'loc_market_share', 'num_act_days_mea_mnt1', 'voice_in_td_cnt_mea_mnt1', 'device_brand_prestigio', 'num_act_days_mea_mnt3', 'lt', 'loc_is_obl_center', 'day_end_gba', 'days_of_last_ppm', 'num_act_days_min_mnt1', 'sms_in_cnt_std_mnt3', 'device_type_modem', 'all_cnt_std_mnt3', 'days_of_end_last_ppm', 'voice_out_tar_dur_min_mnt3', 'Balance_uah', 'all_cnt_max_mnt1', 'imei_mean_long_days_usage', 'imei_mean_days_usage', 'bs_count_ppm_mn3', 'conn_out_uniq_cnt_mea_mnt1', 'all_cnt_std_mnt1', 'data_3g_tv_cnt_std_mnt1']"
   ]
  },
  {
   "cell_type": "code",
   "execution_count": 139,
   "metadata": {
    "execution": {
     "iopub.execute_input": "2024-07-07T13:41:53.989690Z",
     "iopub.status.busy": "2024-07-07T13:41:53.989253Z",
     "iopub.status.idle": "2024-07-07T13:41:54.007672Z",
     "shell.execute_reply": "2024-07-07T13:41:54.006325Z",
     "shell.execute_reply.started": "2024-07-07T13:41:53.989656Z"
    }
   },
   "outputs": [],
   "source": [
    "df_train_fe = df_train_fe[features_2_use]"
   ]
  },
  {
   "cell_type": "code",
   "execution_count": 140,
   "metadata": {
    "execution": {
     "iopub.execute_input": "2024-07-07T13:41:57.849852Z",
     "iopub.status.busy": "2024-07-07T13:41:57.849427Z",
     "iopub.status.idle": "2024-07-07T13:42:03.921989Z",
     "shell.execute_reply": "2024-07-07T13:42:03.920837Z",
     "shell.execute_reply.started": "2024-07-07T13:41:57.849821Z"
    }
   },
   "outputs": [
    {
     "name": "stderr",
     "output_type": "stream",
     "text": [
      "/tmp/ipykernel_33/1906798896.py:20: SettingWithCopyWarning: \n",
      "A value is trying to be set on a copy of a slice from a DataFrame.\n",
      "Try using .loc[row_indexer,col_indexer] = value instead\n",
      "\n",
      "See the caveats in the documentation: https://pandas.pydata.org/pandas-docs/stable/user_guide/indexing.html#returning-a-view-versus-a-copy\n",
      "  df_bnum['call_cnt_total'] = df_bnum['call_cnt_out'] + df_bnum['call_cnt_in']\n",
      "/tmp/ipykernel_33/1906798896.py:21: SettingWithCopyWarning: \n",
      "A value is trying to be set on a copy of a slice from a DataFrame.\n",
      "Try using .loc[row_indexer,col_indexer] = value instead\n",
      "\n",
      "See the caveats in the documentation: https://pandas.pydata.org/pandas-docs/stable/user_guide/indexing.html#returning-a-view-versus-a-copy\n",
      "  df_bnum['call_dur_total'] = df_bnum['call_dur_out'] + df_bnum['call_dur_in']\n",
      "/tmp/ipykernel_33/1906798896.py:22: SettingWithCopyWarning: \n",
      "A value is trying to be set on a copy of a slice from a DataFrame.\n",
      "Try using .loc[row_indexer,col_indexer] = value instead\n",
      "\n",
      "See the caveats in the documentation: https://pandas.pydata.org/pandas-docs/stable/user_guide/indexing.html#returning-a-view-versus-a-copy\n",
      "  df_bnum['cnt_sms_total'] = df_bnum['cnt_sms_out'] + df_bnum['cnt_sms_in']\n"
     ]
    },
    {
     "name": "stdout",
     "output_type": "stream",
     "text": [
      "   abon_id  target  num_act_days_min_mnt3  device_days_usage  \\\n",
      "0  1545052       0               1.480453          53.249600   \n",
      "1  1545235       0               5.324077          47.044200   \n",
      "2  1549358       0               5.324077          27.615852   \n",
      "3  1549591       0               4.786566          34.201236   \n",
      "4  1558772       0               5.324077          50.270526   \n",
      "\n",
      "   loc_market_share  num_act_days_mea_mnt1  voice_in_td_cnt_mea_mnt1  \\\n",
      "0          1.186492               4.646353                  2.569415   \n",
      "1          1.186492               5.324077                 15.945794   \n",
      "2          1.134741               5.324077                  5.193046   \n",
      "3          1.186492               5.059834                 11.862541   \n",
      "4          1.186492               5.324077                 11.739678   \n",
      "\n",
      "   device_brand_prestigio  num_act_days_mea_mnt3        lt  ...  \\\n",
      "0                     0.0               4.693364  6.135202  ...   \n",
      "1                     0.0               5.324077  6.135617  ...   \n",
      "2                     0.0               5.324077  6.125043  ...   \n",
      "3                     0.0               5.148888  6.130697  ...   \n",
      "4                     0.0               5.324077  6.117506  ...   \n",
      "\n",
      "   cnt_sms_total_zal  cnt_sms_total_ze.kred1t  cnt_sms_total_ze.kredit  \\\n",
      "0                NaN                      NaN                      NaN   \n",
      "1                NaN                      NaN                      NaN   \n",
      "2                NaN                      NaN                      NaN   \n",
      "3                NaN                      NaN                      NaN   \n",
      "4                NaN                      NaN                      NaN   \n",
      "\n",
      "   cnt_sms_total_zecredi  cnt_sms_total_zecredit  cnt_sms_total_zekredi  \\\n",
      "0                    NaN                     NaN                    NaN   \n",
      "1                    NaN                     NaN                    NaN   \n",
      "2                    NaN                     NaN                    NaN   \n",
      "3                    NaN                     NaN                    NaN   \n",
      "4                    NaN                     NaN                    NaN   \n",
      "\n",
      "   cnt_sms_total_zen  cnt_sms_total_zip  cnt_sms_total_zolotakoro  \\\n",
      "0                NaN                NaN                       NaN   \n",
      "1                NaN                NaN                       NaN   \n",
      "2                NaN                NaN                       NaN   \n",
      "3                NaN                NaN                       NaN   \n",
      "4                NaN                NaN                       NaN   \n",
      "\n",
      "   cnt_sms_total_zoom  \n",
      "0                 NaN  \n",
      "1                 NaN  \n",
      "2                 NaN  \n",
      "3                 NaN  \n",
      "4                 NaN  \n",
      "\n",
      "[5 rows x 2328 columns]\n"
     ]
    }
   ],
   "source": [
    "# BNUM BNUM BNUM BNUM BNUM BNUM BNUM BNUM BNUM BNUM \n",
    "# + 2500 нових ознак\n",
    "values_to_remove = ['cyberpolice',\n",
    "'cyberpolic',\n",
    "'ukraine',\n",
    "'taxi-838',\n",
    "'icu',\n",
    "'dsns ukr',\n",
    "]\n",
    "\n",
    "df_train_bnum = df_train_bnum[~df_train_bnum['bnum'].isin(values_to_remove)]\n",
    "\n",
    "# Видалення спостережень з df_train_bnum, де для одного abon_id менше ніж 50 унікальних значень bnum\n",
    "abon_id_counts = df_train_bnum.groupby('abon_id')['bnum'].nunique()\n",
    "valid_abon_ids = abon_id_counts[abon_id_counts >= 50].index\n",
    "df_train_bnum_filtered = df_train_bnum[df_train_bnum['abon_id'].isin(valid_abon_ids)]\n",
    "\n",
    "def create_bnum_features(df_bnum, df_fe):\n",
    "\n",
    "    df_bnum['call_cnt_total'] = df_bnum['call_cnt_out'] + df_bnum['call_cnt_in']\n",
    "    df_bnum['call_dur_total'] = df_bnum['call_dur_out'] + df_bnum['call_dur_in']\n",
    "    df_bnum['cnt_sms_total'] = df_bnum['cnt_sms_out'] + df_bnum['cnt_sms_in']\n",
    "    \n",
    "    grouped = df_bnum.groupby(['abon_id', 'bnum']).agg({\n",
    "        'call_cnt_total': 'sum',\n",
    "        'call_dur_total': 'sum',\n",
    "        'cnt_sms_total': 'sum'\n",
    "    }).reset_index()\n",
    "    \n",
    "    pivot_df = grouped.pivot(index='abon_id', columns='bnum', values=['call_cnt_total', 'call_dur_total', 'cnt_sms_total'])\n",
    "    pivot_df.columns = [f'{metric}_{bnum}' for metric, bnum in pivot_df.columns]\n",
    "    \n",
    "    df_fe = df_fe.merge(pivot_df, on='abon_id', how='left')\n",
    "    \n",
    "    return df_fe\n",
    "\n",
    "df_train_fe = create_bnum_features(df_train_bnum_filtered, df_train_fe)\n",
    "print(df_train_fe.head())"
   ]
  },
  {
   "cell_type": "code",
   "execution_count": 141,
   "metadata": {
    "execution": {
     "iopub.execute_input": "2024-07-07T13:42:10.495629Z",
     "iopub.status.busy": "2024-07-07T13:42:10.495170Z",
     "iopub.status.idle": "2024-07-07T13:42:28.773003Z",
     "shell.execute_reply": "2024-07-07T13:42:28.771808Z",
     "shell.execute_reply.started": "2024-07-07T13:42:10.495594Z"
    }
   },
   "outputs": [
    {
     "name": "stdout",
     "output_type": "stream",
     "text": [
      "   abon_id  target  num_act_days_min_mnt3  device_days_usage  \\\n",
      "0  1545052       0               1.480453          53.249600   \n",
      "1  1545235       0               5.324077          47.044200   \n",
      "2  1549358       0               5.324077          27.615852   \n",
      "3  1549591       0               4.786566          34.201236   \n",
      "4  1558772       0               5.324077          50.270526   \n",
      "\n",
      "   loc_market_share  num_act_days_mea_mnt1  voice_in_td_cnt_mea_mnt1  \\\n",
      "0          1.186492               4.646353                  2.569415   \n",
      "1          1.186492               5.324077                 15.945794   \n",
      "2          1.134741               5.324077                  5.193046   \n",
      "3          1.186492               5.059834                 11.862541   \n",
      "4          1.186492               5.324077                 11.739678   \n",
      "\n",
      "   device_brand_prestigio  num_act_days_mea_mnt3        lt  ...  \\\n",
      "0                     0.0               4.693364  6.135202  ...   \n",
      "1                     0.0               5.324077  6.135617  ...   \n",
      "2                     0.0               5.324077  6.125043  ...   \n",
      "3                     0.0               5.148888  6.130697  ...   \n",
      "4                     0.0               5.324077  6.117506  ...   \n",
      "\n",
      "   2563_duration  2564_duration  2568_duration  2569_duration  2571_duration  \\\n",
      "0            0.0            0.0            0.0       0.000000            0.0   \n",
      "1            0.0            0.0            0.0       4.786566            0.0   \n",
      "2            0.0            0.0            0.0       0.000000            0.0   \n",
      "3            0.0            0.0            0.0       0.000000            0.0   \n",
      "4            0.0            0.0            0.0       0.000000            0.0   \n",
      "\n",
      "   2573_duration  2574_duration  2575_duration  2577_duration  2578_duration  \n",
      "0            0.0            0.0            0.0            0.0            0.0  \n",
      "1            0.0            0.0            0.0            0.0            0.0  \n",
      "2            0.0            0.0            0.0            0.0            0.0  \n",
      "3            0.0            0.0            0.0            0.0            0.0  \n",
      "4            0.0            0.0            0.0            0.0            0.0  \n",
      "\n",
      "[5 rows x 3072 columns]\n"
     ]
    }
   ],
   "source": [
    "# # DPI DPI DPI DPI DPI DPI DPI DPI DPI DPI DPI DPI DPI DPI DPI DPI \n",
    "# # Нові фічі 2500+: кількість взаємодії з кожним застосунком усі метрики (600 ознак на кожну)\n",
    "\n",
    "def create_application_features(df_dpi, df_fe):\n",
    "    #pivot_count = df_dpi.pivot_table(index='abon_id', columns='Application', values='SUM_of_Count_events', aggfunc='sum', fill_value=0).reset_index()\n",
    "    pivot_duration = df_dpi.pivot_table(index='abon_id', columns='Application', values='SUM_of_Duration_sec', aggfunc='sum', fill_value=0).reset_index()\n",
    "    #pivot_volume = df_dpi.pivot_table(index='abon_id', columns='Application', values='SUM_of_Volume_kb', aggfunc='sum', fill_value=0).reset_index()\n",
    "    #pivot_day_cnt = df_dpi.pivot_table(index='abon_id', columns='Application', values='MAX_of_day_cnt', aggfunc='max', fill_value=0).reset_index()\n",
    "    \n",
    "    #pivot_count = pivot_count.add_suffix('_count')\n",
    "    pivot_duration = pivot_duration.add_suffix('_duration')\n",
    "    #pivot_volume = pivot_volume.add_suffix('_volume')\n",
    "    #pivot_day_cnt = pivot_day_cnt.add_suffix('_day_cnt')\n",
    "    \n",
    "    #pivot_count.rename(columns={'abon_id_count': 'abon_id'}, inplace=True)\n",
    "    pivot_duration.rename(columns={'abon_id_duration': 'abon_id'}, inplace=True)\n",
    "    #pivot_volume.rename(columns={'abon_id_volume': 'abon_id'}, inplace=True)\n",
    "    #pivot_day_cnt.rename(columns={'abon_id_day_cnt': 'abon_id'}, inplace=True)\n",
    "    \n",
    "    #df_fe = df_fe.merge(pivot_count, on='abon_id', how='left')\n",
    "    df_fe = df_fe.merge(pivot_duration, on='abon_id', how='left')\n",
    "    #df_fe = df_fe.merge(pivot_volume, on='abon_id', how='left')\n",
    "    #df_fe = df_fe.merge(pivot_day_cnt, on='abon_id', how='left')\n",
    "    \n",
    "    df_fe.fillna(0, inplace=True)\n",
    "    \n",
    "    return df_fe\n",
    "\n",
    "df_train_fe = create_application_features(df_train_dpi, df_train_fe)\n",
    "\n",
    "print(df_train_fe.head())\n"
   ]
  },
  {
   "cell_type": "code",
   "execution_count": 142,
   "metadata": {
    "execution": {
     "iopub.execute_input": "2024-07-07T13:42:33.140964Z",
     "iopub.status.busy": "2024-07-07T13:42:33.140018Z",
     "iopub.status.idle": "2024-07-07T13:42:34.260817Z",
     "shell.execute_reply": "2024-07-07T13:42:34.259555Z",
     "shell.execute_reply.started": "2024-07-07T13:42:33.140922Z"
    }
   },
   "outputs": [],
   "source": [
    "# Видалення неінформативних ознак:\n",
    "\n",
    "df_train_fe.drop(\"abon_id\", axis=1, inplace=True)\n"
   ]
  },
  {
   "cell_type": "code",
   "execution_count": 143,
   "metadata": {
    "execution": {
     "iopub.execute_input": "2024-07-07T13:42:38.300955Z",
     "iopub.status.busy": "2024-07-07T13:42:38.300545Z",
     "iopub.status.idle": "2024-07-07T13:43:13.612791Z",
     "shell.execute_reply": "2024-07-07T13:43:13.611678Z",
     "shell.execute_reply.started": "2024-07-07T13:42:38.300923Z"
    }
   },
   "outputs": [
    {
     "name": "stdout",
     "output_type": "stream",
     "text": [
      "Results have been saved to model_results.csv\n"
     ]
    },
    {
     "data": {
      "text/html": [
       "<div>\n",
       "<style scoped>\n",
       "    .dataframe tbody tr th:only-of-type {\n",
       "        vertical-align: middle;\n",
       "    }\n",
       "\n",
       "    .dataframe tbody tr th {\n",
       "        vertical-align: top;\n",
       "    }\n",
       "\n",
       "    .dataframe thead th {\n",
       "        text-align: right;\n",
       "    }\n",
       "</style>\n",
       "<table border=\"1\" class=\"dataframe\">\n",
       "  <thead>\n",
       "    <tr style=\"text-align: right;\">\n",
       "      <th></th>\n",
       "      <th>train_auc</th>\n",
       "      <th>val_auc</th>\n",
       "      <th>auc_diff</th>\n",
       "      <th>recall</th>\n",
       "      <th>fp_tp_ratio</th>\n",
       "      <th>train_time</th>\n",
       "      <th>val_time</th>\n",
       "      <th>dataset</th>\n",
       "    </tr>\n",
       "  </thead>\n",
       "  <tbody>\n",
       "    <tr>\n",
       "      <th>0</th>\n",
       "      <td>0.945211</td>\n",
       "      <td>0.900066</td>\n",
       "      <td>0.045145</td>\n",
       "      <td>0.798966</td>\n",
       "      <td>2.610608</td>\n",
       "      <td>22.843817</td>\n",
       "      <td>6.826701</td>\n",
       "      <td>25 +3000 DPI BNUM</td>\n",
       "    </tr>\n",
       "  </tbody>\n",
       "</table>\n",
       "</div>"
      ],
      "text/plain": [
       "   train_auc   val_auc  auc_diff    recall  fp_tp_ratio  train_time  val_time  \\\n",
       "0   0.945211  0.900066  0.045145  0.798966     2.610608   22.843817  6.826701   \n",
       "\n",
       "             dataset  \n",
       "0  25 +3000 DPI BNUM  "
      ]
     },
     "execution_count": 143,
     "metadata": {},
     "output_type": "execute_result"
    }
   ],
   "source": [
    "model = lgb.LGBMClassifier(verbose=-1, random_state=42, is_unbalance=True)    \n",
    "\n",
    "X = df_train_fe.drop(columns=['target'])\n",
    "y = df_train_fe['target']\n",
    "\n",
    "X_train, X_val, y_train, y_val = train_test_split(X, y, test_size=0.2, random_state=42)\n",
    "\n",
    "results = []\n",
    "result = train_and_evaluate(model, X_train, X_val, y_train, y_val, model)\n",
    "result['dataset'] = '25 +3000 DPI BNUM'  \n",
    "results.append(result)\n",
    "\n",
    "results_df = pd.DataFrame(results)\n",
    "results_df.to_csv('model_results.csv', mode='a', header=not os.path.exists('model_results.csv'), index=False)\n",
    "print(\"Results have been saved to model_results.csv\")\n",
    "\n",
    "results_df"
   ]
  },
  {
   "cell_type": "markdown",
   "metadata": {
    "jp-MarkdownHeadingCollapsed": true,
    "tags": []
   },
   "source": [
    "### 241 найважливіша ознака з оригінального датасету"
   ]
  },
  {
   "cell_type": "code",
   "execution_count": 145,
   "metadata": {
    "execution": {
     "iopub.execute_input": "2024-07-07T13:50:30.136462Z",
     "iopub.status.busy": "2024-07-07T13:50:30.135988Z",
     "iopub.status.idle": "2024-07-07T13:50:31.261853Z",
     "shell.execute_reply": "2024-07-07T13:50:31.260589Z",
     "shell.execute_reply.started": "2024-07-07T13:50:30.136427Z"
    }
   },
   "outputs": [],
   "source": [
    "df_train_fe = df_train_fe_0.copy()\n",
    "df_train_bnum = df_train_bnum_0.copy()\n",
    "df_train_dpi = df_train_dpi_0.copy()"
   ]
  },
  {
   "cell_type": "code",
   "execution_count": 146,
   "metadata": {
    "execution": {
     "iopub.execute_input": "2024-07-07T13:50:35.434578Z",
     "iopub.status.busy": "2024-07-07T13:50:35.434027Z",
     "iopub.status.idle": "2024-07-07T13:50:35.460279Z",
     "shell.execute_reply": "2024-07-07T13:50:35.458915Z",
     "shell.execute_reply.started": "2024-07-07T13:50:35.434461Z"
    }
   },
   "outputs": [],
   "source": [
    "features_2_use = ['target', 'num_act_days_min_mnt3', 'device_days_usage', 'loc_market_share', 'num_act_days_mea_mnt1', 'voice_in_td_cnt_mea_mnt1', 'device_brand_prestigio', 'num_act_days_mea_mnt3', 'lt', 'loc_is_obl_center', 'day_end_gba', 'days_of_last_ppm', 'num_act_days_min_mnt1', 'sms_in_cnt_std_mnt3', 'device_type_modem', 'all_cnt_std_mnt3', 'days_of_end_last_ppm', 'voice_out_tar_dur_min_mnt3', 'Balance_uah', 'all_cnt_max_mnt1', 'imei_mean_long_days_usage', 'imei_mean_days_usage', 'bs_count_ppm_mn3', 'conn_out_uniq_cnt_mea_mnt1', 'all_cnt_std_mnt1', 'data_3g_tv_cnt_std_mnt1', 'data_3g_tv_cnt_max_mnt3', 'voice_in_td_cnt_td_mnt3', 'all_cnt_min_mnt3', 'voice_mts_in_dwork_part_mea_mnt3', 'voice_in_tar_dur_mea_wk1', 'count_day_for_last_paym', 'num_act_days_std_mnt3', 'content_cnt_mea_wk1', 'voice_in_tar_dur_min_mnt1', 'content_cnt_mea_mnt1', 'voice_mts_in_dwork_part_max_mnt3', 'imei_mean_day_announced', 'conn_in_uniq_cnt_td_mnt3', 'sum_paym_6_month', 'sms_in_cnt_mea_mnt1', 'sms_in_cnt_std_mnt1', 'voice_in_kievstar_part_mea_wk1', 'content_cnt_mea_mnt3', 'data_3g_tv_cnt_std_mnt3', 'myvf_day_usage', 'conn_out_uniq_cnt_mea_wk1', 'voice_mts_in_drest_part_mea_wk1', 'num_act_days_mea_wk1', 'voice_in_life_part_mea_mnt3', 'non_accum_internet_vol_mea_wk1', 'voice_out_td_cnt_td_mnt3', 'device_type_phone', 'voice_in_mts_avg_dur_min_mnt3', 'voice_in_mts_avg_dur_min_mnt1', 'voice_out_td_cnt_std_mnt1', 'voice_out_short_part_mea_mnt3', 'voice_in_cmpttrs_avg_durmin_mnt3', 'voice_mts_in_dwork_part_std_mnt3', 'voice_mts_out_dwork_partmea_mnt3', 'avg_paym_6_month', 'voice_mts_in_dwork_part_mea_mnt1', 'MV_Traf_Cont_inc_s_Cnt', 'MV_Traf_innet_inc_v_Min', 'voice_out_tar_dur_mea_wk1', 'voice_in_tar_dur_td_mnt3', 'gprs_tar_vol_min_mnt1', 'device_price', 'voice_mts_in_dwork_part_td_mnt3', 'conn_in_uniq_cnt_std_mnt3', 'voice_mts_out_drest_partmea_mnt3', 'num_act_days_td_mnt3', 'voice_mts_out_nwork_partmin_mnt1', 'std_paym_6_month', 'voice_in_td_cnt_std_mnt1', 'content_cnt_min_mnt3', 'bs_ovrl_OMO_CNT_M3', 'voice_in_mts_avg_dur_mea_wk1', 'non_accum_internet_vol_td_mnt3', 'voice_mts_out_dwork_partmin_mnt3', 'voice_in_kievstar_part_mea_mnt3', 'content_cnt_std_mnt1', 'MV_dou_4G_d', 'tsoa_call_cnt', 'non_accum_internet_vol_std_mnt3', 'voice_mts_out_dwork_partmea_wk1', 'conn_out_uniq_cnt_td_mnt3', 'device_has_lte', 'device_height_mm', 'conn_com_part_td_mnt3', 'voice_out_td_cnt_std_mnt3', 'voice_mts_out_drest_partmea_mnt1', 'voice_in_mts_avg_dur_td_mnt3', 'voice_mts_out_dwork_partmin_mnt1', 'imei_mean_price', 'min_paym_6_month', 'conn_out_uniq_cnt_min_mnt1', 'ks_num_part_mea_mnt3', 'voice_mts_in_drest_part_td_mnt3', 'voice_out_short_part_mea_mnt1', 'device_width_mm', 'com_num_part_max_mnt3', 'com_num_part_td_mnt3', 'voice_out_short_part_mea_wk1', 'device_brand_huawei', 'pay_max_td_mnt3', 'imei_max_price', 'device_brand_lenovo', 'voice_mts_out_nrest_parttd_mnt3', 'data_3g_dou_td_mnt3', 'content_cnt_td_mnt3', 'DNZ_MEAN_days_closed_loan_year2', 'voice_mts_in_dwork_part_min_mnt1', 'voice_in_cmpttrs_avg_durmax_mnt3', 'MV_Traf_pstn_out_v_Min', 'voice_out_tar_dur_std_mnt1', 'voice_out_cmpttrs_avg_dutd_mnt3', 'conn_out_uniq_cnt_max_mnt1', 'all_clc_mea_mnt3', 'voice_mts_in_dwork_part_min_mnt3', 'bs_delte_omo_change_tp', 'voice_out_cmpttrs_avg_dumea_wk1', 'voice_mts_out_dwork_partmea_mnt1', 'voice_in_td_cnt_std_mnt3', 'device_type_tablet', 'conn_com_part_mea_wk1', 'voice_in_cmpttrs_avg_durmea_wk1', 'MV_Traf_Cont_out_v_Min', 'MV_Traf_pstn_inc_v_Min', 'ks_num_part_mea_wk1', 'voice_mts_in_nwork_part_td_mnt3', 'last_paym', 'voice_mts_out_dwork_partstd_mnt3', 'voice_in_td_cnt_mea_mnt3', 'data_3g_dou_std_mnt3', 'voice_mts_out_nwork_parttd_mnt3', 'voice_in_mts_avg_dur_max_mnt1', 'voice_mts_out_nwork_partstd_mnt3', 'gprs_tar_vol_td_mnt3', 'voice_out_fix_tar_dur_std_mnt3', 'max_paym_6_month', 'all_cnt_min_mnt1', 'MV_Traf_innet_out_v_Min', 'voice_out_tar_dur_td_mnt3', 'voice_out_td_cnt_mea_wk1', 'voice_mts_out_drest_partmea_wk1', 'ks_num_part_mea_mnt1', 'voice_in_cmpttrs_avg_durtd_mnt3', 'com_num_part_min_mnt3', 'voice_in_fix_tar_dur_std_mnt3', 'voice_in_cmpttrs_avg_durmea_mnt3', 'voice_in_life_part_mea_wk1', 'content_cnt_std_mnt3', 'all_cnt_max_mnt3', 'pay_avg_td_mnt3', 'voice_in_cmpttrs_td_cnt_mea_mnt3', 'all_cnt_mea_mnt3', 'conn_com_part_mea_mnt3', 'voice_mts_in_drest_part_max_mnt3', 'voice_in_tar_dur_std_mnt1', 'data_3g_tv_cnt_td_mnt3', 'voice_mts_in_nrest_part_td_mnt3', 'voice_out_fix_tar_dur_td_mnt3', 'conn_in_uniq_cnt_mea_mnt1', 'MV_Traf_3G_d_Mb', 'voice_out_cmpttrs_td_cnttd_mnt3', 'voice_in_short_part_mea_mnt3', 'voice_in_kievstar_part_max_mnt1', 'voice_mts_in_drest_part_max_mnt1', 'voice_in_mts_avg_dur_max_mnt3', 'MV_DOU_PPM_VF', 'conn_out_uniq_cnt_max_mnt3', 'com_num_part_std_mnt1', 'data_3g_tar_vol_mea_wk1', 'voice_mts_out_dwork_partstd_mnt1', 'voice_mts_in_drest_part_min_mnt3', 'all_cnt_td_mnt3', 'voice_mts_out_nwork_partmax_mnt3', 'gprs_clc_mea_mnt3', 'all_cnt_mea_wk1', 'gprs_tar_vol_mea_wk1', 'conn_in_uniq_cnt_std_mnt1', 'pay_sum_max_mnt3', 'conn_com_part_std_mnt1', 'conn_in_uniq_cnt_mea_mnt3', 'accum_oth_dur_std_mnt1', 'voice_in_fix_tar_dur_td_mnt3', 'voice_in_life_part_std_mnt3', 'MV_dou_3G_d', 'MV_Traf_2G_d_Mb', 'voice_mts_in_nrest_part_mea_mnt1', 'voice_mts_in_nwork_part_max_mnt3', 'ama_volume_max_mnt1', 'voice_in_kievstar_part_mea_mnt1', 'non_accum_internet_vol_max_mnt1', 'conn_com_part_std_mnt3', 'voice_out_short_part_min_mnt1', 'voice_out_short_part_td_mnt3', 'MV_ot_total', 'voice_in_cmpttrs_avg_durstd_mnt3', 'device_android_version', 'Good_deed', 'non_accum_internet_vol_min_mnt1', 'content_cnt_min_mnt1', 'voice_out_cmpttrs_td_cntstd_mnt1', 'voice_in_cmpttrs_td_cnt_std_mnt3', 'voice_mts_out_drest_parttd_mnt3', 'data_3g_tv_cnt_mea_mnt3', 'voice_in_kievstar_part_min_mnt3', 'voice_mts_out_nwork_partmea_mnt3', 'voice_in_short_part_std_mnt1', 'voice_mts_out_nrest_partstd_mnt3', 'voice_mts_in_nwork_part_mea_mnt3', 'MV_Traf_Roam_d_Mb', 'accum_oth_dur_td_mnt3', 'gprs_tar_vol_mea_mnt3', 'ks_num_part_std_mnt3', 'conn_in_uniq_cnt_min_mnt1', 'voice_out_cmpttrs_avg_dustd_mnt1', 'voice_in_mts_avg_dur_mea_mnt1', 'com_num_part_mea_wk1', 'loc_cnt_events', 'voice_in_fix_tar_dur_mea_mnt1', 'sms_in_cnt_mea_wk1', 'voice_in_mts_avg_dur_std_mnt1', 'ks_num_part_max_mnt1', 'voice_mts_in_drest_part_mea_mnt1', 'voice_in_short_part_td_mnt3', 'voice_in_fix_tar_dur_mea_mnt3', 'voice_out_cmpttrs_avg_dumea_mnt1', 'voice_out_cmpttrs_avg_dumin_mnt1', 'bs_ovrl_OMO_SUM_M2', 'MV_Traf_omo_out_v_Min', 'MV_ot_Other', 'voice_out_short_part_max_mnt3', 'voice_in_tar_dur_mea_mnt1', 'non_accum_internet_vol_min_mnt3', 'cnt_paym_6_month', 'sms_in_cnt_td_mnt3', 'sms_clc_td_mnt3', 'clc_no_vas_roam_td_mnt3', 'voice_in_td_cnt_mea_wk1']"
   ]
  },
  {
   "cell_type": "code",
   "execution_count": 147,
   "metadata": {
    "execution": {
     "iopub.execute_input": "2024-07-07T13:50:36.983983Z",
     "iopub.status.busy": "2024-07-07T13:50:36.983567Z",
     "iopub.status.idle": "2024-07-07T13:50:37.099741Z",
     "shell.execute_reply": "2024-07-07T13:50:37.098411Z",
     "shell.execute_reply.started": "2024-07-07T13:50:36.983950Z"
    }
   },
   "outputs": [],
   "source": [
    "df_train_fe = df_train_fe[features_2_use]"
   ]
  },
  {
   "cell_type": "code",
   "execution_count": 148,
   "metadata": {
    "execution": {
     "iopub.execute_input": "2024-07-07T13:50:38.547834Z",
     "iopub.status.busy": "2024-07-07T13:50:38.547391Z",
     "iopub.status.idle": "2024-07-07T13:51:12.972445Z",
     "shell.execute_reply": "2024-07-07T13:51:12.971124Z",
     "shell.execute_reply.started": "2024-07-07T13:50:38.547801Z"
    }
   },
   "outputs": [
    {
     "name": "stdout",
     "output_type": "stream",
     "text": [
      "Results have been saved to model_results.csv\n"
     ]
    },
    {
     "data": {
      "text/html": [
       "<div>\n",
       "<style scoped>\n",
       "    .dataframe tbody tr th:only-of-type {\n",
       "        vertical-align: middle;\n",
       "    }\n",
       "\n",
       "    .dataframe tbody tr th {\n",
       "        vertical-align: top;\n",
       "    }\n",
       "\n",
       "    .dataframe thead th {\n",
       "        text-align: right;\n",
       "    }\n",
       "</style>\n",
       "<table border=\"1\" class=\"dataframe\">\n",
       "  <thead>\n",
       "    <tr style=\"text-align: right;\">\n",
       "      <th></th>\n",
       "      <th>train_auc</th>\n",
       "      <th>val_auc</th>\n",
       "      <th>auc_diff</th>\n",
       "      <th>recall</th>\n",
       "      <th>fp_tp_ratio</th>\n",
       "      <th>train_time</th>\n",
       "      <th>val_time</th>\n",
       "      <th>dataset</th>\n",
       "    </tr>\n",
       "  </thead>\n",
       "  <tbody>\n",
       "    <tr>\n",
       "      <th>0</th>\n",
       "      <td>0.954119</td>\n",
       "      <td>0.90082</td>\n",
       "      <td>0.053299</td>\n",
       "      <td>0.783463</td>\n",
       "      <td>2.503298</td>\n",
       "      <td>31.556519</td>\n",
       "      <td>1.926146</td>\n",
       "      <td>Original 241</td>\n",
       "    </tr>\n",
       "  </tbody>\n",
       "</table>\n",
       "</div>"
      ],
      "text/plain": [
       "   train_auc  val_auc  auc_diff    recall  fp_tp_ratio  train_time  val_time  \\\n",
       "0   0.954119  0.90082  0.053299  0.783463     2.503298   31.556519  1.926146   \n",
       "\n",
       "        dataset  \n",
       "0  Original 241  "
      ]
     },
     "execution_count": 148,
     "metadata": {},
     "output_type": "execute_result"
    }
   ],
   "source": [
    "model = lgb.LGBMClassifier(verbose=-1, random_state=42, is_unbalance=True)    \n",
    "\n",
    "X = df_train_fe.drop(columns=['target'])\n",
    "y = df_train_fe['target']\n",
    "\n",
    "X_train, X_val, y_train, y_val = train_test_split(X, y, test_size=0.2, random_state=42)\n",
    "\n",
    "results = []\n",
    "result = train_and_evaluate(model, X_train, X_val, y_train, y_val, model)\n",
    "result['dataset'] = 'Original 241'  \n",
    "results.append(result)\n",
    "\n",
    "results_df = pd.DataFrame(results)\n",
    "results_df.to_csv('model_results.csv', mode='a', header=not os.path.exists('model_results.csv'), index=False)\n",
    "print(\"Results have been saved to model_results.csv\")\n",
    "\n",
    "results_df"
   ]
  },
  {
   "cell_type": "markdown",
   "metadata": {
    "execution": {
     "iopub.execute_input": "2024-07-07T13:51:12.975373Z",
     "iopub.status.busy": "2024-07-07T13:51:12.974645Z",
     "iopub.status.idle": "2024-07-07T13:51:12.986221Z",
     "shell.execute_reply": "2024-07-07T13:51:12.984195Z",
     "shell.execute_reply.started": "2024-07-07T13:51:12.975328Z"
    },
    "jp-MarkdownHeadingCollapsed": true,
    "tags": []
   },
   "source": [
    "### 241 найважливіша ознака з оригінального датасету плюс 5 нових ознак з датасету DPI"
   ]
  },
  {
   "cell_type": "code",
   "execution_count": 150,
   "metadata": {
    "execution": {
     "iopub.execute_input": "2024-07-07T13:51:29.671405Z",
     "iopub.status.busy": "2024-07-07T13:51:29.670973Z",
     "iopub.status.idle": "2024-07-07T13:51:30.197083Z",
     "shell.execute_reply": "2024-07-07T13:51:30.195834Z",
     "shell.execute_reply.started": "2024-07-07T13:51:29.671372Z"
    }
   },
   "outputs": [],
   "source": [
    "df_train_fe = df_train_fe_0.copy()\n",
    "df_train_bnum = df_train_bnum_0.copy()\n",
    "df_train_dpi = df_train_dpi_0.copy()"
   ]
  },
  {
   "cell_type": "code",
   "execution_count": 151,
   "metadata": {
    "execution": {
     "iopub.execute_input": "2024-07-07T13:51:32.529179Z",
     "iopub.status.busy": "2024-07-07T13:51:32.528267Z",
     "iopub.status.idle": "2024-07-07T13:51:32.552333Z",
     "shell.execute_reply": "2024-07-07T13:51:32.550487Z",
     "shell.execute_reply.started": "2024-07-07T13:51:32.529114Z"
    }
   },
   "outputs": [],
   "source": [
    "features_2_use = ['abon_id','target', 'num_act_days_min_mnt3', 'device_days_usage', 'loc_market_share', 'num_act_days_mea_mnt1', 'voice_in_td_cnt_mea_mnt1', 'device_brand_prestigio', 'num_act_days_mea_mnt3', 'lt', 'loc_is_obl_center', 'day_end_gba', 'days_of_last_ppm', 'num_act_days_min_mnt1', 'sms_in_cnt_std_mnt3', 'device_type_modem', 'all_cnt_std_mnt3', 'days_of_end_last_ppm', 'voice_out_tar_dur_min_mnt3', 'Balance_uah', 'all_cnt_max_mnt1', 'imei_mean_long_days_usage', 'imei_mean_days_usage', 'bs_count_ppm_mn3', 'conn_out_uniq_cnt_mea_mnt1', 'all_cnt_std_mnt1', 'data_3g_tv_cnt_std_mnt1', 'data_3g_tv_cnt_max_mnt3', 'voice_in_td_cnt_td_mnt3', 'all_cnt_min_mnt3', 'voice_mts_in_dwork_part_mea_mnt3', 'voice_in_tar_dur_mea_wk1', 'count_day_for_last_paym', 'num_act_days_std_mnt3', 'content_cnt_mea_wk1', 'voice_in_tar_dur_min_mnt1', 'content_cnt_mea_mnt1', 'voice_mts_in_dwork_part_max_mnt3', 'imei_mean_day_announced', 'conn_in_uniq_cnt_td_mnt3', 'sum_paym_6_month', 'sms_in_cnt_mea_mnt1', 'sms_in_cnt_std_mnt1', 'voice_in_kievstar_part_mea_wk1', 'content_cnt_mea_mnt3', 'data_3g_tv_cnt_std_mnt3', 'myvf_day_usage', 'conn_out_uniq_cnt_mea_wk1', 'voice_mts_in_drest_part_mea_wk1', 'num_act_days_mea_wk1', 'voice_in_life_part_mea_mnt3', 'non_accum_internet_vol_mea_wk1', 'voice_out_td_cnt_td_mnt3', 'device_type_phone', 'voice_in_mts_avg_dur_min_mnt3', 'voice_in_mts_avg_dur_min_mnt1', 'voice_out_td_cnt_std_mnt1', 'voice_out_short_part_mea_mnt3', 'voice_in_cmpttrs_avg_durmin_mnt3', 'voice_mts_in_dwork_part_std_mnt3', 'voice_mts_out_dwork_partmea_mnt3', 'avg_paym_6_month', 'voice_mts_in_dwork_part_mea_mnt1', 'MV_Traf_Cont_inc_s_Cnt', 'MV_Traf_innet_inc_v_Min', 'voice_out_tar_dur_mea_wk1', 'voice_in_tar_dur_td_mnt3', 'gprs_tar_vol_min_mnt1', 'device_price', 'voice_mts_in_dwork_part_td_mnt3', 'conn_in_uniq_cnt_std_mnt3', 'voice_mts_out_drest_partmea_mnt3', 'num_act_days_td_mnt3', 'voice_mts_out_nwork_partmin_mnt1', 'std_paym_6_month', 'voice_in_td_cnt_std_mnt1', 'content_cnt_min_mnt3', 'bs_ovrl_OMO_CNT_M3', 'voice_in_mts_avg_dur_mea_wk1', 'non_accum_internet_vol_td_mnt3', 'voice_mts_out_dwork_partmin_mnt3', 'voice_in_kievstar_part_mea_mnt3', 'content_cnt_std_mnt1', 'MV_dou_4G_d', 'tsoa_call_cnt', 'non_accum_internet_vol_std_mnt3', 'voice_mts_out_dwork_partmea_wk1', 'conn_out_uniq_cnt_td_mnt3', 'device_has_lte', 'device_height_mm', 'conn_com_part_td_mnt3', 'voice_out_td_cnt_std_mnt3', 'voice_mts_out_drest_partmea_mnt1', 'voice_in_mts_avg_dur_td_mnt3', 'voice_mts_out_dwork_partmin_mnt1', 'imei_mean_price', 'min_paym_6_month', 'conn_out_uniq_cnt_min_mnt1', 'ks_num_part_mea_mnt3', 'voice_mts_in_drest_part_td_mnt3', 'voice_out_short_part_mea_mnt1', 'device_width_mm', 'com_num_part_max_mnt3', 'com_num_part_td_mnt3', 'voice_out_short_part_mea_wk1', 'device_brand_huawei', 'pay_max_td_mnt3', 'imei_max_price', 'device_brand_lenovo', 'voice_mts_out_nrest_parttd_mnt3', 'data_3g_dou_td_mnt3', 'content_cnt_td_mnt3', 'DNZ_MEAN_days_closed_loan_year2', 'voice_mts_in_dwork_part_min_mnt1', 'voice_in_cmpttrs_avg_durmax_mnt3', 'MV_Traf_pstn_out_v_Min', 'voice_out_tar_dur_std_mnt1', 'voice_out_cmpttrs_avg_dutd_mnt3', 'conn_out_uniq_cnt_max_mnt1', 'all_clc_mea_mnt3', 'voice_mts_in_dwork_part_min_mnt3', 'bs_delte_omo_change_tp', 'voice_out_cmpttrs_avg_dumea_wk1', 'voice_mts_out_dwork_partmea_mnt1', 'voice_in_td_cnt_std_mnt3', 'device_type_tablet', 'conn_com_part_mea_wk1', 'voice_in_cmpttrs_avg_durmea_wk1', 'MV_Traf_Cont_out_v_Min', 'MV_Traf_pstn_inc_v_Min', 'ks_num_part_mea_wk1', 'voice_mts_in_nwork_part_td_mnt3', 'last_paym', 'voice_mts_out_dwork_partstd_mnt3', 'voice_in_td_cnt_mea_mnt3', 'data_3g_dou_std_mnt3', 'voice_mts_out_nwork_parttd_mnt3', 'voice_in_mts_avg_dur_max_mnt1', 'voice_mts_out_nwork_partstd_mnt3', 'gprs_tar_vol_td_mnt3', 'voice_out_fix_tar_dur_std_mnt3', 'max_paym_6_month', 'all_cnt_min_mnt1', 'MV_Traf_innet_out_v_Min', 'voice_out_tar_dur_td_mnt3', 'voice_out_td_cnt_mea_wk1', 'voice_mts_out_drest_partmea_wk1', 'ks_num_part_mea_mnt1', 'voice_in_cmpttrs_avg_durtd_mnt3', 'com_num_part_min_mnt3', 'voice_in_fix_tar_dur_std_mnt3', 'voice_in_cmpttrs_avg_durmea_mnt3', 'voice_in_life_part_mea_wk1', 'content_cnt_std_mnt3', 'all_cnt_max_mnt3', 'pay_avg_td_mnt3', 'voice_in_cmpttrs_td_cnt_mea_mnt3', 'all_cnt_mea_mnt3', 'conn_com_part_mea_mnt3', 'voice_mts_in_drest_part_max_mnt3', 'voice_in_tar_dur_std_mnt1', 'data_3g_tv_cnt_td_mnt3', 'voice_mts_in_nrest_part_td_mnt3', 'voice_out_fix_tar_dur_td_mnt3', 'conn_in_uniq_cnt_mea_mnt1', 'MV_Traf_3G_d_Mb', 'voice_out_cmpttrs_td_cnttd_mnt3', 'voice_in_short_part_mea_mnt3', 'voice_in_kievstar_part_max_mnt1', 'voice_mts_in_drest_part_max_mnt1', 'voice_in_mts_avg_dur_max_mnt3', 'MV_DOU_PPM_VF', 'conn_out_uniq_cnt_max_mnt3', 'com_num_part_std_mnt1', 'data_3g_tar_vol_mea_wk1', 'voice_mts_out_dwork_partstd_mnt1', 'voice_mts_in_drest_part_min_mnt3', 'all_cnt_td_mnt3', 'voice_mts_out_nwork_partmax_mnt3', 'gprs_clc_mea_mnt3', 'all_cnt_mea_wk1', 'gprs_tar_vol_mea_wk1', 'conn_in_uniq_cnt_std_mnt1', 'pay_sum_max_mnt3', 'conn_com_part_std_mnt1', 'conn_in_uniq_cnt_mea_mnt3', 'accum_oth_dur_std_mnt1', 'voice_in_fix_tar_dur_td_mnt3', 'voice_in_life_part_std_mnt3', 'MV_dou_3G_d', 'MV_Traf_2G_d_Mb', 'voice_mts_in_nrest_part_mea_mnt1', 'voice_mts_in_nwork_part_max_mnt3', 'ama_volume_max_mnt1', 'voice_in_kievstar_part_mea_mnt1', 'non_accum_internet_vol_max_mnt1', 'conn_com_part_std_mnt3', 'voice_out_short_part_min_mnt1', 'voice_out_short_part_td_mnt3', 'MV_ot_total', 'voice_in_cmpttrs_avg_durstd_mnt3', 'device_android_version', 'Good_deed', 'non_accum_internet_vol_min_mnt1', 'content_cnt_min_mnt1', 'voice_out_cmpttrs_td_cntstd_mnt1', 'voice_in_cmpttrs_td_cnt_std_mnt3', 'voice_mts_out_drest_parttd_mnt3', 'data_3g_tv_cnt_mea_mnt3', 'voice_in_kievstar_part_min_mnt3', 'voice_mts_out_nwork_partmea_mnt3', 'voice_in_short_part_std_mnt1', 'voice_mts_out_nrest_partstd_mnt3', 'voice_mts_in_nwork_part_mea_mnt3', 'MV_Traf_Roam_d_Mb', 'accum_oth_dur_td_mnt3', 'gprs_tar_vol_mea_mnt3', 'ks_num_part_std_mnt3', 'conn_in_uniq_cnt_min_mnt1', 'voice_out_cmpttrs_avg_dustd_mnt1', 'voice_in_mts_avg_dur_mea_mnt1', 'com_num_part_mea_wk1', 'loc_cnt_events', 'voice_in_fix_tar_dur_mea_mnt1', 'sms_in_cnt_mea_wk1', 'voice_in_mts_avg_dur_std_mnt1', 'ks_num_part_max_mnt1', 'voice_mts_in_drest_part_mea_mnt1', 'voice_in_short_part_td_mnt3', 'voice_in_fix_tar_dur_mea_mnt3', 'voice_out_cmpttrs_avg_dumea_mnt1', 'voice_out_cmpttrs_avg_dumin_mnt1', 'bs_ovrl_OMO_SUM_M2', 'MV_Traf_omo_out_v_Min', 'MV_ot_Other', 'voice_out_short_part_max_mnt3', 'voice_in_tar_dur_mea_mnt1', 'non_accum_internet_vol_min_mnt3', 'cnt_paym_6_month', 'sms_in_cnt_td_mnt3', 'sms_clc_td_mnt3', 'clc_no_vas_roam_td_mnt3', 'voice_in_td_cnt_mea_wk1']"
   ]
  },
  {
   "cell_type": "code",
   "execution_count": 152,
   "metadata": {
    "execution": {
     "iopub.execute_input": "2024-07-07T13:51:34.769241Z",
     "iopub.status.busy": "2024-07-07T13:51:34.768799Z",
     "iopub.status.idle": "2024-07-07T13:51:34.871828Z",
     "shell.execute_reply": "2024-07-07T13:51:34.870697Z",
     "shell.execute_reply.started": "2024-07-07T13:51:34.769206Z"
    }
   },
   "outputs": [],
   "source": [
    "df_train_fe = df_train_fe[features_2_use]"
   ]
  },
  {
   "cell_type": "code",
   "execution_count": 153,
   "metadata": {
    "execution": {
     "iopub.execute_input": "2024-07-07T13:51:37.679823Z",
     "iopub.status.busy": "2024-07-07T13:51:37.679422Z",
     "iopub.status.idle": "2024-07-07T13:51:47.744972Z",
     "shell.execute_reply": "2024-07-07T13:51:47.743882Z",
     "shell.execute_reply.started": "2024-07-07T13:51:37.679795Z"
    }
   },
   "outputs": [
    {
     "name": "stdout",
     "output_type": "stream",
     "text": [
      "   abon_id  target  num_act_days_min_mnt3  device_days_usage  \\\n",
      "0  1545052       0               1.480453          53.249600   \n",
      "1  1545235       0               5.324077          47.044200   \n",
      "2  1549358       0               5.324077          27.615852   \n",
      "3  1549591       0               4.786566          34.201236   \n",
      "4  1558772       0               5.324077          50.270526   \n",
      "\n",
      "   loc_market_share  num_act_days_mea_mnt1  voice_in_td_cnt_mea_mnt1  \\\n",
      "0          1.186492               4.646353                  2.569415   \n",
      "1          1.186492               5.324077                 15.945794   \n",
      "2          1.134741               5.324077                  5.193046   \n",
      "3          1.186492               5.059834                 11.862541   \n",
      "4          1.186492               5.324077                 11.739678   \n",
      "\n",
      "   device_brand_prestigio  num_act_days_mea_mnt3        lt  ...  \\\n",
      "0                     0.0               4.693364  6.135202  ...   \n",
      "1                     0.0               5.324077  6.135617  ...   \n",
      "2                     0.0               5.324077  6.125043  ...   \n",
      "3                     0.0               5.148888  6.130697  ...   \n",
      "4                     0.0               5.324077  6.117506  ...   \n",
      "\n",
      "   cnt_paym_6_month  sms_in_cnt_td_mnt3  sms_clc_td_mnt3  \\\n",
      "0          4.786566            1.024071              0.0   \n",
      "1          8.333536            1.036270              0.0   \n",
      "2          5.324077            1.004137              0.0   \n",
      "3          5.324077            1.025008              0.0   \n",
      "4               NaN           -1.003334              0.0   \n",
      "\n",
      "   clc_no_vas_roam_td_mnt3  voice_in_td_cnt_mea_wk1  unique_applications  \\\n",
      "0                 0.000000                 2.206949                  NaN   \n",
      "1                -4.014360                17.626312                 51.0   \n",
      "2                 0.000000                 3.590290                  NaN   \n",
      "3                 0.000000                 8.687248                  1.0   \n",
      "4                -1.026137                10.554543                 65.0   \n",
      "\n",
      "   total_duration_sec  total_volume_kb  total_count_events  total_day_count  \n",
      "0                 NaN              NaN                 NaN              NaN  \n",
      "1         2408.588251      2913.655748         1274.088403            644.0  \n",
      "2                 NaN              NaN                 NaN              NaN  \n",
      "3            0.000000         1.027395            1.480453              1.0  \n",
      "4         2720.091775      3707.656849         1640.256796            904.0  \n",
      "\n",
      "[5 rows x 248 columns]\n"
     ]
    }
   ],
   "source": [
    "# DPI DPI DPI DPI DPI DPI DPI DPI DPI DPI DPI DPI DPI DPI DPI DPI \n",
    "# Нові ознаки 5 - кількість застосунків та суми всіх метрик по всіх застосунках\n",
    "\n",
    "agg_functions = {\n",
    "    'Application': pd.Series.nunique,  # кількість різних значень ознаки Application\n",
    "    'SUM_of_Duration_sec': 'sum',      # сума всіх значень ознаки SUM_of_Duration_sec\n",
    "    'SUM_of_Volume_kb': 'sum',         # сума всіх значень ознаки SUM_of_Volume_kb\n",
    "    'SUM_of_Count_events': 'sum',      # сума всіх значень ознаки SUM_of_Count_events\n",
    "    'MAX_of_day_cnt': 'sum'            # сума всіх значень ознаки MAX_of_day_cnt\n",
    "}\n",
    "\n",
    "def create_features(df_dpi, df_fe):\n",
    "    aggregated = df_dpi.groupby('abon_id').agg(agg_functions).reset_index()\n",
    "    aggregated.columns = ['abon_id', 'unique_applications', 'total_duration_sec', 'total_volume_kb', 'total_count_events', 'total_day_count']\n",
    "    df_fe = df_fe.merge(aggregated, on='abon_id', how='left')\n",
    "    return df_fe\n",
    "\n",
    "df_train_fe = create_features(df_train_dpi, df_train_fe)\n",
    "\n",
    "print(df_train_fe.head())"
   ]
  },
  {
   "cell_type": "code",
   "execution_count": 154,
   "metadata": {
    "execution": {
     "iopub.execute_input": "2024-07-07T13:51:48.805808Z",
     "iopub.status.busy": "2024-07-07T13:51:48.805375Z",
     "iopub.status.idle": "2024-07-07T13:51:48.907849Z",
     "shell.execute_reply": "2024-07-07T13:51:48.906696Z",
     "shell.execute_reply.started": "2024-07-07T13:51:48.805775Z"
    }
   },
   "outputs": [],
   "source": [
    "# Видалення неінформативних ознак:\n",
    "\n",
    "df_train_fe.drop(\"abon_id\", axis=1, inplace=True)\n"
   ]
  },
  {
   "cell_type": "code",
   "execution_count": 155,
   "metadata": {
    "execution": {
     "iopub.execute_input": "2024-07-07T13:51:52.193379Z",
     "iopub.status.busy": "2024-07-07T13:51:52.192950Z",
     "iopub.status.idle": "2024-07-07T13:52:28.331015Z",
     "shell.execute_reply": "2024-07-07T13:52:28.329721Z",
     "shell.execute_reply.started": "2024-07-07T13:51:52.193349Z"
    }
   },
   "outputs": [
    {
     "name": "stdout",
     "output_type": "stream",
     "text": [
      "Results have been saved to model_results.csv\n"
     ]
    },
    {
     "data": {
      "text/html": [
       "<div>\n",
       "<style scoped>\n",
       "    .dataframe tbody tr th:only-of-type {\n",
       "        vertical-align: middle;\n",
       "    }\n",
       "\n",
       "    .dataframe tbody tr th {\n",
       "        vertical-align: top;\n",
       "    }\n",
       "\n",
       "    .dataframe thead th {\n",
       "        text-align: right;\n",
       "    }\n",
       "</style>\n",
       "<table border=\"1\" class=\"dataframe\">\n",
       "  <thead>\n",
       "    <tr style=\"text-align: right;\">\n",
       "      <th></th>\n",
       "      <th>train_auc</th>\n",
       "      <th>val_auc</th>\n",
       "      <th>auc_diff</th>\n",
       "      <th>recall</th>\n",
       "      <th>fp_tp_ratio</th>\n",
       "      <th>train_time</th>\n",
       "      <th>val_time</th>\n",
       "      <th>dataset</th>\n",
       "    </tr>\n",
       "  </thead>\n",
       "  <tbody>\n",
       "    <tr>\n",
       "      <th>0</th>\n",
       "      <td>0.954268</td>\n",
       "      <td>0.901068</td>\n",
       "      <td>0.0532</td>\n",
       "      <td>0.792248</td>\n",
       "      <td>2.476843</td>\n",
       "      <td>32.437613</td>\n",
       "      <td>2.897193</td>\n",
       "      <td>241 +5 DPI</td>\n",
       "    </tr>\n",
       "  </tbody>\n",
       "</table>\n",
       "</div>"
      ],
      "text/plain": [
       "   train_auc   val_auc  auc_diff    recall  fp_tp_ratio  train_time  val_time  \\\n",
       "0   0.954268  0.901068    0.0532  0.792248     2.476843   32.437613  2.897193   \n",
       "\n",
       "      dataset  \n",
       "0  241 +5 DPI  "
      ]
     },
     "execution_count": 155,
     "metadata": {},
     "output_type": "execute_result"
    }
   ],
   "source": [
    "model = lgb.LGBMClassifier(verbose=-1, random_state=42, is_unbalance=True)    \n",
    "\n",
    "X = df_train_fe.drop(columns=['target'])\n",
    "y = df_train_fe['target']\n",
    "\n",
    "X_train, X_val, y_train, y_val = train_test_split(X, y, test_size=0.2, random_state=42)\n",
    "\n",
    "results = []\n",
    "result = train_and_evaluate(model, X_train, X_val, y_train, y_val, model)\n",
    "result['dataset'] = '241 +5 DPI'  \n",
    "results.append(result)\n",
    "\n",
    "results_df = pd.DataFrame(results)\n",
    "results_df.to_csv('model_results.csv', mode='a', header=not os.path.exists('model_results.csv'), index=False)\n",
    "print(\"Results have been saved to model_results.csv\")\n",
    "\n",
    "results_df"
   ]
  },
  {
   "cell_type": "markdown",
   "metadata": {
    "tags": []
   },
   "source": [
    "### 241 найважливіша ознака з оригінального датасету плюс 2500 нових ознак з датасету BNUM"
   ]
  },
  {
   "cell_type": "code",
   "execution_count": 156,
   "metadata": {
    "execution": {
     "iopub.execute_input": "2024-07-07T13:52:35.673095Z",
     "iopub.status.busy": "2024-07-07T13:52:35.672669Z",
     "iopub.status.idle": "2024-07-07T13:52:36.316971Z",
     "shell.execute_reply": "2024-07-07T13:52:36.315650Z",
     "shell.execute_reply.started": "2024-07-07T13:52:35.673063Z"
    }
   },
   "outputs": [],
   "source": [
    "df_train_fe = df_train_fe_0.copy()\n",
    "df_train_bnum = df_train_bnum_0.copy()\n",
    "df_train_dpi = df_train_dpi_0.copy()"
   ]
  },
  {
   "cell_type": "code",
   "execution_count": 157,
   "metadata": {
    "execution": {
     "iopub.execute_input": "2024-07-07T13:52:38.309966Z",
     "iopub.status.busy": "2024-07-07T13:52:38.309493Z",
     "iopub.status.idle": "2024-07-07T13:52:38.329375Z",
     "shell.execute_reply": "2024-07-07T13:52:38.328193Z",
     "shell.execute_reply.started": "2024-07-07T13:52:38.309930Z"
    }
   },
   "outputs": [],
   "source": [
    "features_2_use = ['abon_id','target', 'num_act_days_min_mnt3', 'device_days_usage', 'loc_market_share', 'num_act_days_mea_mnt1', 'voice_in_td_cnt_mea_mnt1', 'device_brand_prestigio', 'num_act_days_mea_mnt3', 'lt', 'loc_is_obl_center', 'day_end_gba', 'days_of_last_ppm', 'num_act_days_min_mnt1', 'sms_in_cnt_std_mnt3', 'device_type_modem', 'all_cnt_std_mnt3', 'days_of_end_last_ppm', 'voice_out_tar_dur_min_mnt3', 'Balance_uah', 'all_cnt_max_mnt1', 'imei_mean_long_days_usage', 'imei_mean_days_usage', 'bs_count_ppm_mn3', 'conn_out_uniq_cnt_mea_mnt1', 'all_cnt_std_mnt1', 'data_3g_tv_cnt_std_mnt1', 'data_3g_tv_cnt_max_mnt3', 'voice_in_td_cnt_td_mnt3', 'all_cnt_min_mnt3', 'voice_mts_in_dwork_part_mea_mnt3', 'voice_in_tar_dur_mea_wk1', 'count_day_for_last_paym', 'num_act_days_std_mnt3', 'content_cnt_mea_wk1', 'voice_in_tar_dur_min_mnt1', 'content_cnt_mea_mnt1', 'voice_mts_in_dwork_part_max_mnt3', 'imei_mean_day_announced', 'conn_in_uniq_cnt_td_mnt3', 'sum_paym_6_month', 'sms_in_cnt_mea_mnt1', 'sms_in_cnt_std_mnt1', 'voice_in_kievstar_part_mea_wk1', 'content_cnt_mea_mnt3', 'data_3g_tv_cnt_std_mnt3', 'myvf_day_usage', 'conn_out_uniq_cnt_mea_wk1', 'voice_mts_in_drest_part_mea_wk1', 'num_act_days_mea_wk1', 'voice_in_life_part_mea_mnt3', 'non_accum_internet_vol_mea_wk1', 'voice_out_td_cnt_td_mnt3', 'device_type_phone', 'voice_in_mts_avg_dur_min_mnt3', 'voice_in_mts_avg_dur_min_mnt1', 'voice_out_td_cnt_std_mnt1', 'voice_out_short_part_mea_mnt3', 'voice_in_cmpttrs_avg_durmin_mnt3', 'voice_mts_in_dwork_part_std_mnt3', 'voice_mts_out_dwork_partmea_mnt3', 'avg_paym_6_month', 'voice_mts_in_dwork_part_mea_mnt1', 'MV_Traf_Cont_inc_s_Cnt', 'MV_Traf_innet_inc_v_Min', 'voice_out_tar_dur_mea_wk1', 'voice_in_tar_dur_td_mnt3', 'gprs_tar_vol_min_mnt1', 'device_price', 'voice_mts_in_dwork_part_td_mnt3', 'conn_in_uniq_cnt_std_mnt3', 'voice_mts_out_drest_partmea_mnt3', 'num_act_days_td_mnt3', 'voice_mts_out_nwork_partmin_mnt1', 'std_paym_6_month', 'voice_in_td_cnt_std_mnt1', 'content_cnt_min_mnt3', 'bs_ovrl_OMO_CNT_M3', 'voice_in_mts_avg_dur_mea_wk1', 'non_accum_internet_vol_td_mnt3', 'voice_mts_out_dwork_partmin_mnt3', 'voice_in_kievstar_part_mea_mnt3', 'content_cnt_std_mnt1', 'MV_dou_4G_d', 'tsoa_call_cnt', 'non_accum_internet_vol_std_mnt3', 'voice_mts_out_dwork_partmea_wk1', 'conn_out_uniq_cnt_td_mnt3', 'device_has_lte', 'device_height_mm', 'conn_com_part_td_mnt3', 'voice_out_td_cnt_std_mnt3', 'voice_mts_out_drest_partmea_mnt1', 'voice_in_mts_avg_dur_td_mnt3', 'voice_mts_out_dwork_partmin_mnt1', 'imei_mean_price', 'min_paym_6_month', 'conn_out_uniq_cnt_min_mnt1', 'ks_num_part_mea_mnt3', 'voice_mts_in_drest_part_td_mnt3', 'voice_out_short_part_mea_mnt1', 'device_width_mm', 'com_num_part_max_mnt3', 'com_num_part_td_mnt3', 'voice_out_short_part_mea_wk1', 'device_brand_huawei', 'pay_max_td_mnt3', 'imei_max_price', 'device_brand_lenovo', 'voice_mts_out_nrest_parttd_mnt3', 'data_3g_dou_td_mnt3', 'content_cnt_td_mnt3', 'DNZ_MEAN_days_closed_loan_year2', 'voice_mts_in_dwork_part_min_mnt1', 'voice_in_cmpttrs_avg_durmax_mnt3', 'MV_Traf_pstn_out_v_Min', 'voice_out_tar_dur_std_mnt1', 'voice_out_cmpttrs_avg_dutd_mnt3', 'conn_out_uniq_cnt_max_mnt1', 'all_clc_mea_mnt3', 'voice_mts_in_dwork_part_min_mnt3', 'bs_delte_omo_change_tp', 'voice_out_cmpttrs_avg_dumea_wk1', 'voice_mts_out_dwork_partmea_mnt1', 'voice_in_td_cnt_std_mnt3', 'device_type_tablet', 'conn_com_part_mea_wk1', 'voice_in_cmpttrs_avg_durmea_wk1', 'MV_Traf_Cont_out_v_Min', 'MV_Traf_pstn_inc_v_Min', 'ks_num_part_mea_wk1', 'voice_mts_in_nwork_part_td_mnt3', 'last_paym', 'voice_mts_out_dwork_partstd_mnt3', 'voice_in_td_cnt_mea_mnt3', 'data_3g_dou_std_mnt3', 'voice_mts_out_nwork_parttd_mnt3', 'voice_in_mts_avg_dur_max_mnt1', 'voice_mts_out_nwork_partstd_mnt3', 'gprs_tar_vol_td_mnt3', 'voice_out_fix_tar_dur_std_mnt3', 'max_paym_6_month', 'all_cnt_min_mnt1', 'MV_Traf_innet_out_v_Min', 'voice_out_tar_dur_td_mnt3', 'voice_out_td_cnt_mea_wk1', 'voice_mts_out_drest_partmea_wk1', 'ks_num_part_mea_mnt1', 'voice_in_cmpttrs_avg_durtd_mnt3', 'com_num_part_min_mnt3', 'voice_in_fix_tar_dur_std_mnt3', 'voice_in_cmpttrs_avg_durmea_mnt3', 'voice_in_life_part_mea_wk1', 'content_cnt_std_mnt3', 'all_cnt_max_mnt3', 'pay_avg_td_mnt3', 'voice_in_cmpttrs_td_cnt_mea_mnt3', 'all_cnt_mea_mnt3', 'conn_com_part_mea_mnt3', 'voice_mts_in_drest_part_max_mnt3', 'voice_in_tar_dur_std_mnt1', 'data_3g_tv_cnt_td_mnt3', 'voice_mts_in_nrest_part_td_mnt3', 'voice_out_fix_tar_dur_td_mnt3', 'conn_in_uniq_cnt_mea_mnt1', 'MV_Traf_3G_d_Mb', 'voice_out_cmpttrs_td_cnttd_mnt3', 'voice_in_short_part_mea_mnt3', 'voice_in_kievstar_part_max_mnt1', 'voice_mts_in_drest_part_max_mnt1', 'voice_in_mts_avg_dur_max_mnt3', 'MV_DOU_PPM_VF', 'conn_out_uniq_cnt_max_mnt3', 'com_num_part_std_mnt1', 'data_3g_tar_vol_mea_wk1', 'voice_mts_out_dwork_partstd_mnt1', 'voice_mts_in_drest_part_min_mnt3', 'all_cnt_td_mnt3', 'voice_mts_out_nwork_partmax_mnt3', 'gprs_clc_mea_mnt3', 'all_cnt_mea_wk1', 'gprs_tar_vol_mea_wk1', 'conn_in_uniq_cnt_std_mnt1', 'pay_sum_max_mnt3', 'conn_com_part_std_mnt1', 'conn_in_uniq_cnt_mea_mnt3', 'accum_oth_dur_std_mnt1', 'voice_in_fix_tar_dur_td_mnt3', 'voice_in_life_part_std_mnt3', 'MV_dou_3G_d', 'MV_Traf_2G_d_Mb', 'voice_mts_in_nrest_part_mea_mnt1', 'voice_mts_in_nwork_part_max_mnt3', 'ama_volume_max_mnt1', 'voice_in_kievstar_part_mea_mnt1', 'non_accum_internet_vol_max_mnt1', 'conn_com_part_std_mnt3', 'voice_out_short_part_min_mnt1', 'voice_out_short_part_td_mnt3', 'MV_ot_total', 'voice_in_cmpttrs_avg_durstd_mnt3', 'device_android_version', 'Good_deed', 'non_accum_internet_vol_min_mnt1', 'content_cnt_min_mnt1', 'voice_out_cmpttrs_td_cntstd_mnt1', 'voice_in_cmpttrs_td_cnt_std_mnt3', 'voice_mts_out_drest_parttd_mnt3', 'data_3g_tv_cnt_mea_mnt3', 'voice_in_kievstar_part_min_mnt3', 'voice_mts_out_nwork_partmea_mnt3', 'voice_in_short_part_std_mnt1', 'voice_mts_out_nrest_partstd_mnt3', 'voice_mts_in_nwork_part_mea_mnt3', 'MV_Traf_Roam_d_Mb', 'accum_oth_dur_td_mnt3', 'gprs_tar_vol_mea_mnt3', 'ks_num_part_std_mnt3', 'conn_in_uniq_cnt_min_mnt1', 'voice_out_cmpttrs_avg_dustd_mnt1', 'voice_in_mts_avg_dur_mea_mnt1', 'com_num_part_mea_wk1', 'loc_cnt_events', 'voice_in_fix_tar_dur_mea_mnt1', 'sms_in_cnt_mea_wk1', 'voice_in_mts_avg_dur_std_mnt1', 'ks_num_part_max_mnt1', 'voice_mts_in_drest_part_mea_mnt1', 'voice_in_short_part_td_mnt3', 'voice_in_fix_tar_dur_mea_mnt3', 'voice_out_cmpttrs_avg_dumea_mnt1', 'voice_out_cmpttrs_avg_dumin_mnt1', 'bs_ovrl_OMO_SUM_M2', 'MV_Traf_omo_out_v_Min', 'MV_ot_Other', 'voice_out_short_part_max_mnt3', 'voice_in_tar_dur_mea_mnt1', 'non_accum_internet_vol_min_mnt3', 'cnt_paym_6_month', 'sms_in_cnt_td_mnt3', 'sms_clc_td_mnt3', 'clc_no_vas_roam_td_mnt3', 'voice_in_td_cnt_mea_wk1']"
   ]
  },
  {
   "cell_type": "code",
   "execution_count": 158,
   "metadata": {
    "execution": {
     "iopub.execute_input": "2024-07-07T13:52:40.217025Z",
     "iopub.status.busy": "2024-07-07T13:52:40.216637Z",
     "iopub.status.idle": "2024-07-07T13:52:40.328617Z",
     "shell.execute_reply": "2024-07-07T13:52:40.327536Z",
     "shell.execute_reply.started": "2024-07-07T13:52:40.216996Z"
    }
   },
   "outputs": [],
   "source": [
    "df_train_fe = df_train_fe[features_2_use]"
   ]
  },
  {
   "cell_type": "code",
   "execution_count": 159,
   "metadata": {
    "execution": {
     "iopub.execute_input": "2024-07-07T13:52:42.993422Z",
     "iopub.status.busy": "2024-07-07T13:52:42.992421Z",
     "iopub.status.idle": "2024-07-07T13:52:49.799187Z",
     "shell.execute_reply": "2024-07-07T13:52:49.798010Z",
     "shell.execute_reply.started": "2024-07-07T13:52:42.993383Z"
    }
   },
   "outputs": [
    {
     "name": "stderr",
     "output_type": "stream",
     "text": [
      "/tmp/ipykernel_33/1906798896.py:20: SettingWithCopyWarning: \n",
      "A value is trying to be set on a copy of a slice from a DataFrame.\n",
      "Try using .loc[row_indexer,col_indexer] = value instead\n",
      "\n",
      "See the caveats in the documentation: https://pandas.pydata.org/pandas-docs/stable/user_guide/indexing.html#returning-a-view-versus-a-copy\n",
      "  df_bnum['call_cnt_total'] = df_bnum['call_cnt_out'] + df_bnum['call_cnt_in']\n",
      "/tmp/ipykernel_33/1906798896.py:21: SettingWithCopyWarning: \n",
      "A value is trying to be set on a copy of a slice from a DataFrame.\n",
      "Try using .loc[row_indexer,col_indexer] = value instead\n",
      "\n",
      "See the caveats in the documentation: https://pandas.pydata.org/pandas-docs/stable/user_guide/indexing.html#returning-a-view-versus-a-copy\n",
      "  df_bnum['call_dur_total'] = df_bnum['call_dur_out'] + df_bnum['call_dur_in']\n",
      "/tmp/ipykernel_33/1906798896.py:22: SettingWithCopyWarning: \n",
      "A value is trying to be set on a copy of a slice from a DataFrame.\n",
      "Try using .loc[row_indexer,col_indexer] = value instead\n",
      "\n",
      "See the caveats in the documentation: https://pandas.pydata.org/pandas-docs/stable/user_guide/indexing.html#returning-a-view-versus-a-copy\n",
      "  df_bnum['cnt_sms_total'] = df_bnum['cnt_sms_out'] + df_bnum['cnt_sms_in']\n"
     ]
    },
    {
     "name": "stdout",
     "output_type": "stream",
     "text": [
      "   abon_id  target  num_act_days_min_mnt3  device_days_usage  \\\n",
      "0  1545052       0               1.480453          53.249600   \n",
      "1  1545235       0               5.324077          47.044200   \n",
      "2  1549358       0               5.324077          27.615852   \n",
      "3  1549591       0               4.786566          34.201236   \n",
      "4  1558772       0               5.324077          50.270526   \n",
      "\n",
      "   loc_market_share  num_act_days_mea_mnt1  voice_in_td_cnt_mea_mnt1  \\\n",
      "0          1.186492               4.646353                  2.569415   \n",
      "1          1.186492               5.324077                 15.945794   \n",
      "2          1.134741               5.324077                  5.193046   \n",
      "3          1.186492               5.059834                 11.862541   \n",
      "4          1.186492               5.324077                 11.739678   \n",
      "\n",
      "   device_brand_prestigio  num_act_days_mea_mnt3        lt  ...  \\\n",
      "0                     0.0               4.693364  6.135202  ...   \n",
      "1                     0.0               5.324077  6.135617  ...   \n",
      "2                     0.0               5.324077  6.125043  ...   \n",
      "3                     0.0               5.148888  6.130697  ...   \n",
      "4                     0.0               5.324077  6.117506  ...   \n",
      "\n",
      "   cnt_sms_total_zal  cnt_sms_total_ze.kred1t  cnt_sms_total_ze.kredit  \\\n",
      "0                NaN                      NaN                      NaN   \n",
      "1                NaN                      NaN                      NaN   \n",
      "2                NaN                      NaN                      NaN   \n",
      "3                NaN                      NaN                      NaN   \n",
      "4                NaN                      NaN                      NaN   \n",
      "\n",
      "   cnt_sms_total_zecredi  cnt_sms_total_zecredit  cnt_sms_total_zekredi  \\\n",
      "0                    NaN                     NaN                    NaN   \n",
      "1                    NaN                     NaN                    NaN   \n",
      "2                    NaN                     NaN                    NaN   \n",
      "3                    NaN                     NaN                    NaN   \n",
      "4                    NaN                     NaN                    NaN   \n",
      "\n",
      "   cnt_sms_total_zen  cnt_sms_total_zip  cnt_sms_total_zolotakoro  \\\n",
      "0                NaN                NaN                       NaN   \n",
      "1                NaN                NaN                       NaN   \n",
      "2                NaN                NaN                       NaN   \n",
      "3                NaN                NaN                       NaN   \n",
      "4                NaN                NaN                       NaN   \n",
      "\n",
      "   cnt_sms_total_zoom  \n",
      "0                 NaN  \n",
      "1                 NaN  \n",
      "2                 NaN  \n",
      "3                 NaN  \n",
      "4                 NaN  \n",
      "\n",
      "[5 rows x 2544 columns]\n"
     ]
    }
   ],
   "source": [
    "# BNUM BNUM BNUM BNUM BNUM BNUM BNUM BNUM BNUM BNUM \n",
    "# + 2500 нових ознак\n",
    "values_to_remove = ['cyberpolice',\n",
    "'cyberpolic',\n",
    "'ukraine',\n",
    "'taxi-838',\n",
    "'icu',\n",
    "'dsns ukr',\n",
    "]\n",
    "\n",
    "df_train_bnum = df_train_bnum[~df_train_bnum['bnum'].isin(values_to_remove)]\n",
    "\n",
    "# Видалення спостережень з df_train_bnum, де для одного abon_id менше ніж 50 унікальних значень bnum\n",
    "abon_id_counts = df_train_bnum.groupby('abon_id')['bnum'].nunique()\n",
    "valid_abon_ids = abon_id_counts[abon_id_counts >= 50].index\n",
    "df_train_bnum_filtered = df_train_bnum[df_train_bnum['abon_id'].isin(valid_abon_ids)]\n",
    "\n",
    "def create_bnum_features(df_bnum, df_fe):\n",
    "\n",
    "    df_bnum['call_cnt_total'] = df_bnum['call_cnt_out'] + df_bnum['call_cnt_in']\n",
    "    df_bnum['call_dur_total'] = df_bnum['call_dur_out'] + df_bnum['call_dur_in']\n",
    "    df_bnum['cnt_sms_total'] = df_bnum['cnt_sms_out'] + df_bnum['cnt_sms_in']\n",
    "    \n",
    "    grouped = df_bnum.groupby(['abon_id', 'bnum']).agg({\n",
    "        'call_cnt_total': 'sum',\n",
    "        'call_dur_total': 'sum',\n",
    "        'cnt_sms_total': 'sum'\n",
    "    }).reset_index()\n",
    "    \n",
    "    pivot_df = grouped.pivot(index='abon_id', columns='bnum', values=['call_cnt_total', 'call_dur_total', 'cnt_sms_total'])\n",
    "    pivot_df.columns = [f'{metric}_{bnum}' for metric, bnum in pivot_df.columns]\n",
    "    \n",
    "    df_fe = df_fe.merge(pivot_df, on='abon_id', how='left')\n",
    "    \n",
    "    return df_fe\n",
    "\n",
    "df_train_fe = create_bnum_features(df_train_bnum_filtered, df_train_fe)\n",
    "print(df_train_fe.head())"
   ]
  },
  {
   "cell_type": "code",
   "execution_count": 160,
   "metadata": {
    "execution": {
     "iopub.execute_input": "2024-07-07T13:52:50.754937Z",
     "iopub.status.busy": "2024-07-07T13:52:50.754510Z",
     "iopub.status.idle": "2024-07-07T13:52:51.731204Z",
     "shell.execute_reply": "2024-07-07T13:52:51.729796Z",
     "shell.execute_reply.started": "2024-07-07T13:52:50.754906Z"
    }
   },
   "outputs": [],
   "source": [
    "# Видалення неінформативних ознак:\n",
    "\n",
    "df_train_fe.drop(\"abon_id\", axis=1, inplace=True)\n"
   ]
  },
  {
   "cell_type": "code",
   "execution_count": 161,
   "metadata": {
    "execution": {
     "iopub.execute_input": "2024-07-07T13:52:53.199091Z",
     "iopub.status.busy": "2024-07-07T13:52:53.198647Z",
     "iopub.status.idle": "2024-07-07T13:53:56.134451Z",
     "shell.execute_reply": "2024-07-07T13:53:56.133401Z",
     "shell.execute_reply.started": "2024-07-07T13:52:53.199057Z"
    }
   },
   "outputs": [
    {
     "name": "stdout",
     "output_type": "stream",
     "text": [
      "Results have been saved to model_results.csv\n"
     ]
    },
    {
     "data": {
      "text/html": [
       "<div>\n",
       "<style scoped>\n",
       "    .dataframe tbody tr th:only-of-type {\n",
       "        vertical-align: middle;\n",
       "    }\n",
       "\n",
       "    .dataframe tbody tr th {\n",
       "        vertical-align: top;\n",
       "    }\n",
       "\n",
       "    .dataframe thead th {\n",
       "        text-align: right;\n",
       "    }\n",
       "</style>\n",
       "<table border=\"1\" class=\"dataframe\">\n",
       "  <thead>\n",
       "    <tr style=\"text-align: right;\">\n",
       "      <th></th>\n",
       "      <th>train_auc</th>\n",
       "      <th>val_auc</th>\n",
       "      <th>auc_diff</th>\n",
       "      <th>recall</th>\n",
       "      <th>fp_tp_ratio</th>\n",
       "      <th>train_time</th>\n",
       "      <th>val_time</th>\n",
       "      <th>dataset</th>\n",
       "    </tr>\n",
       "  </thead>\n",
       "  <tbody>\n",
       "    <tr>\n",
       "      <th>0</th>\n",
       "      <td>0.954119</td>\n",
       "      <td>0.90082</td>\n",
       "      <td>0.053299</td>\n",
       "      <td>0.783463</td>\n",
       "      <td>2.503298</td>\n",
       "      <td>50.533566</td>\n",
       "      <td>7.32671</td>\n",
       "      <td>241 +2500 BNUM</td>\n",
       "    </tr>\n",
       "  </tbody>\n",
       "</table>\n",
       "</div>"
      ],
      "text/plain": [
       "   train_auc  val_auc  auc_diff    recall  fp_tp_ratio  train_time  val_time  \\\n",
       "0   0.954119  0.90082  0.053299  0.783463     2.503298   50.533566   7.32671   \n",
       "\n",
       "          dataset  \n",
       "0  241 +2500 BNUM  "
      ]
     },
     "execution_count": 161,
     "metadata": {},
     "output_type": "execute_result"
    }
   ],
   "source": [
    "model = lgb.LGBMClassifier(verbose=-1, random_state=42, is_unbalance=True)    \n",
    "\n",
    "X = df_train_fe.drop(columns=['target'])\n",
    "y = df_train_fe['target']\n",
    "\n",
    "X_train, X_val, y_train, y_val = train_test_split(X, y, test_size=0.2, random_state=42)\n",
    "\n",
    "results = []\n",
    "result = train_and_evaluate(model, X_train, X_val, y_train, y_val, model)\n",
    "result['dataset'] = '241 +2500 BNUM'  \n",
    "results.append(result)\n",
    "\n",
    "results_df = pd.DataFrame(results)\n",
    "results_df.to_csv('model_results.csv', mode='a', header=not os.path.exists('model_results.csv'), index=False)\n",
    "print(\"Results have been saved to model_results.csv\")\n",
    "\n",
    "results_df"
   ]
  },
  {
   "cell_type": "markdown",
   "metadata": {
    "jp-MarkdownHeadingCollapsed": true,
    "tags": []
   },
   "source": [
    "### 241 найважливіша ознака з оригінального датасету плюс 600 нових ознак з датасету DPI"
   ]
  },
  {
   "cell_type": "code",
   "execution_count": 162,
   "metadata": {
    "execution": {
     "iopub.execute_input": "2024-07-07T13:54:01.687375Z",
     "iopub.status.busy": "2024-07-07T13:54:01.686931Z",
     "iopub.status.idle": "2024-07-07T13:54:02.246419Z",
     "shell.execute_reply": "2024-07-07T13:54:02.244989Z",
     "shell.execute_reply.started": "2024-07-07T13:54:01.687341Z"
    }
   },
   "outputs": [],
   "source": [
    "df_train_fe = df_train_fe_0.copy()\n",
    "df_train_bnum = df_train_bnum_0.copy()\n",
    "df_train_dpi = df_train_dpi_0.copy()"
   ]
  },
  {
   "cell_type": "code",
   "execution_count": 163,
   "metadata": {
    "execution": {
     "iopub.execute_input": "2024-07-07T13:54:06.585056Z",
     "iopub.status.busy": "2024-07-07T13:54:06.584650Z",
     "iopub.status.idle": "2024-07-07T13:54:06.608442Z",
     "shell.execute_reply": "2024-07-07T13:54:06.607173Z",
     "shell.execute_reply.started": "2024-07-07T13:54:06.585025Z"
    }
   },
   "outputs": [],
   "source": [
    "features_2_use = ['abon_id','target', 'num_act_days_min_mnt3', 'device_days_usage', 'loc_market_share', 'num_act_days_mea_mnt1', 'voice_in_td_cnt_mea_mnt1', 'device_brand_prestigio', 'num_act_days_mea_mnt3', 'lt', 'loc_is_obl_center', 'day_end_gba', 'days_of_last_ppm', 'num_act_days_min_mnt1', 'sms_in_cnt_std_mnt3', 'device_type_modem', 'all_cnt_std_mnt3', 'days_of_end_last_ppm', 'voice_out_tar_dur_min_mnt3', 'Balance_uah', 'all_cnt_max_mnt1', 'imei_mean_long_days_usage', 'imei_mean_days_usage', 'bs_count_ppm_mn3', 'conn_out_uniq_cnt_mea_mnt1', 'all_cnt_std_mnt1', 'data_3g_tv_cnt_std_mnt1', 'data_3g_tv_cnt_max_mnt3', 'voice_in_td_cnt_td_mnt3', 'all_cnt_min_mnt3', 'voice_mts_in_dwork_part_mea_mnt3', 'voice_in_tar_dur_mea_wk1', 'count_day_for_last_paym', 'num_act_days_std_mnt3', 'content_cnt_mea_wk1', 'voice_in_tar_dur_min_mnt1', 'content_cnt_mea_mnt1', 'voice_mts_in_dwork_part_max_mnt3', 'imei_mean_day_announced', 'conn_in_uniq_cnt_td_mnt3', 'sum_paym_6_month', 'sms_in_cnt_mea_mnt1', 'sms_in_cnt_std_mnt1', 'voice_in_kievstar_part_mea_wk1', 'content_cnt_mea_mnt3', 'data_3g_tv_cnt_std_mnt3', 'myvf_day_usage', 'conn_out_uniq_cnt_mea_wk1', 'voice_mts_in_drest_part_mea_wk1', 'num_act_days_mea_wk1', 'voice_in_life_part_mea_mnt3', 'non_accum_internet_vol_mea_wk1', 'voice_out_td_cnt_td_mnt3', 'device_type_phone', 'voice_in_mts_avg_dur_min_mnt3', 'voice_in_mts_avg_dur_min_mnt1', 'voice_out_td_cnt_std_mnt1', 'voice_out_short_part_mea_mnt3', 'voice_in_cmpttrs_avg_durmin_mnt3', 'voice_mts_in_dwork_part_std_mnt3', 'voice_mts_out_dwork_partmea_mnt3', 'avg_paym_6_month', 'voice_mts_in_dwork_part_mea_mnt1', 'MV_Traf_Cont_inc_s_Cnt', 'MV_Traf_innet_inc_v_Min', 'voice_out_tar_dur_mea_wk1', 'voice_in_tar_dur_td_mnt3', 'gprs_tar_vol_min_mnt1', 'device_price', 'voice_mts_in_dwork_part_td_mnt3', 'conn_in_uniq_cnt_std_mnt3', 'voice_mts_out_drest_partmea_mnt3', 'num_act_days_td_mnt3', 'voice_mts_out_nwork_partmin_mnt1', 'std_paym_6_month', 'voice_in_td_cnt_std_mnt1', 'content_cnt_min_mnt3', 'bs_ovrl_OMO_CNT_M3', 'voice_in_mts_avg_dur_mea_wk1', 'non_accum_internet_vol_td_mnt3', 'voice_mts_out_dwork_partmin_mnt3', 'voice_in_kievstar_part_mea_mnt3', 'content_cnt_std_mnt1', 'MV_dou_4G_d', 'tsoa_call_cnt', 'non_accum_internet_vol_std_mnt3', 'voice_mts_out_dwork_partmea_wk1', 'conn_out_uniq_cnt_td_mnt3', 'device_has_lte', 'device_height_mm', 'conn_com_part_td_mnt3', 'voice_out_td_cnt_std_mnt3', 'voice_mts_out_drest_partmea_mnt1', 'voice_in_mts_avg_dur_td_mnt3', 'voice_mts_out_dwork_partmin_mnt1', 'imei_mean_price', 'min_paym_6_month', 'conn_out_uniq_cnt_min_mnt1', 'ks_num_part_mea_mnt3', 'voice_mts_in_drest_part_td_mnt3', 'voice_out_short_part_mea_mnt1', 'device_width_mm', 'com_num_part_max_mnt3', 'com_num_part_td_mnt3', 'voice_out_short_part_mea_wk1', 'device_brand_huawei', 'pay_max_td_mnt3', 'imei_max_price', 'device_brand_lenovo', 'voice_mts_out_nrest_parttd_mnt3', 'data_3g_dou_td_mnt3', 'content_cnt_td_mnt3', 'DNZ_MEAN_days_closed_loan_year2', 'voice_mts_in_dwork_part_min_mnt1', 'voice_in_cmpttrs_avg_durmax_mnt3', 'MV_Traf_pstn_out_v_Min', 'voice_out_tar_dur_std_mnt1', 'voice_out_cmpttrs_avg_dutd_mnt3', 'conn_out_uniq_cnt_max_mnt1', 'all_clc_mea_mnt3', 'voice_mts_in_dwork_part_min_mnt3', 'bs_delte_omo_change_tp', 'voice_out_cmpttrs_avg_dumea_wk1', 'voice_mts_out_dwork_partmea_mnt1', 'voice_in_td_cnt_std_mnt3', 'device_type_tablet', 'conn_com_part_mea_wk1', 'voice_in_cmpttrs_avg_durmea_wk1', 'MV_Traf_Cont_out_v_Min', 'MV_Traf_pstn_inc_v_Min', 'ks_num_part_mea_wk1', 'voice_mts_in_nwork_part_td_mnt3', 'last_paym', 'voice_mts_out_dwork_partstd_mnt3', 'voice_in_td_cnt_mea_mnt3', 'data_3g_dou_std_mnt3', 'voice_mts_out_nwork_parttd_mnt3', 'voice_in_mts_avg_dur_max_mnt1', 'voice_mts_out_nwork_partstd_mnt3', 'gprs_tar_vol_td_mnt3', 'voice_out_fix_tar_dur_std_mnt3', 'max_paym_6_month', 'all_cnt_min_mnt1', 'MV_Traf_innet_out_v_Min', 'voice_out_tar_dur_td_mnt3', 'voice_out_td_cnt_mea_wk1', 'voice_mts_out_drest_partmea_wk1', 'ks_num_part_mea_mnt1', 'voice_in_cmpttrs_avg_durtd_mnt3', 'com_num_part_min_mnt3', 'voice_in_fix_tar_dur_std_mnt3', 'voice_in_cmpttrs_avg_durmea_mnt3', 'voice_in_life_part_mea_wk1', 'content_cnt_std_mnt3', 'all_cnt_max_mnt3', 'pay_avg_td_mnt3', 'voice_in_cmpttrs_td_cnt_mea_mnt3', 'all_cnt_mea_mnt3', 'conn_com_part_mea_mnt3', 'voice_mts_in_drest_part_max_mnt3', 'voice_in_tar_dur_std_mnt1', 'data_3g_tv_cnt_td_mnt3', 'voice_mts_in_nrest_part_td_mnt3', 'voice_out_fix_tar_dur_td_mnt3', 'conn_in_uniq_cnt_mea_mnt1', 'MV_Traf_3G_d_Mb', 'voice_out_cmpttrs_td_cnttd_mnt3', 'voice_in_short_part_mea_mnt3', 'voice_in_kievstar_part_max_mnt1', 'voice_mts_in_drest_part_max_mnt1', 'voice_in_mts_avg_dur_max_mnt3', 'MV_DOU_PPM_VF', 'conn_out_uniq_cnt_max_mnt3', 'com_num_part_std_mnt1', 'data_3g_tar_vol_mea_wk1', 'voice_mts_out_dwork_partstd_mnt1', 'voice_mts_in_drest_part_min_mnt3', 'all_cnt_td_mnt3', 'voice_mts_out_nwork_partmax_mnt3', 'gprs_clc_mea_mnt3', 'all_cnt_mea_wk1', 'gprs_tar_vol_mea_wk1', 'conn_in_uniq_cnt_std_mnt1', 'pay_sum_max_mnt3', 'conn_com_part_std_mnt1', 'conn_in_uniq_cnt_mea_mnt3', 'accum_oth_dur_std_mnt1', 'voice_in_fix_tar_dur_td_mnt3', 'voice_in_life_part_std_mnt3', 'MV_dou_3G_d', 'MV_Traf_2G_d_Mb', 'voice_mts_in_nrest_part_mea_mnt1', 'voice_mts_in_nwork_part_max_mnt3', 'ama_volume_max_mnt1', 'voice_in_kievstar_part_mea_mnt1', 'non_accum_internet_vol_max_mnt1', 'conn_com_part_std_mnt3', 'voice_out_short_part_min_mnt1', 'voice_out_short_part_td_mnt3', 'MV_ot_total', 'voice_in_cmpttrs_avg_durstd_mnt3', 'device_android_version', 'Good_deed', 'non_accum_internet_vol_min_mnt1', 'content_cnt_min_mnt1', 'voice_out_cmpttrs_td_cntstd_mnt1', 'voice_in_cmpttrs_td_cnt_std_mnt3', 'voice_mts_out_drest_parttd_mnt3', 'data_3g_tv_cnt_mea_mnt3', 'voice_in_kievstar_part_min_mnt3', 'voice_mts_out_nwork_partmea_mnt3', 'voice_in_short_part_std_mnt1', 'voice_mts_out_nrest_partstd_mnt3', 'voice_mts_in_nwork_part_mea_mnt3', 'MV_Traf_Roam_d_Mb', 'accum_oth_dur_td_mnt3', 'gprs_tar_vol_mea_mnt3', 'ks_num_part_std_mnt3', 'conn_in_uniq_cnt_min_mnt1', 'voice_out_cmpttrs_avg_dustd_mnt1', 'voice_in_mts_avg_dur_mea_mnt1', 'com_num_part_mea_wk1', 'loc_cnt_events', 'voice_in_fix_tar_dur_mea_mnt1', 'sms_in_cnt_mea_wk1', 'voice_in_mts_avg_dur_std_mnt1', 'ks_num_part_max_mnt1', 'voice_mts_in_drest_part_mea_mnt1', 'voice_in_short_part_td_mnt3', 'voice_in_fix_tar_dur_mea_mnt3', 'voice_out_cmpttrs_avg_dumea_mnt1', 'voice_out_cmpttrs_avg_dumin_mnt1', 'bs_ovrl_OMO_SUM_M2', 'MV_Traf_omo_out_v_Min', 'MV_ot_Other', 'voice_out_short_part_max_mnt3', 'voice_in_tar_dur_mea_mnt1', 'non_accum_internet_vol_min_mnt3', 'cnt_paym_6_month', 'sms_in_cnt_td_mnt3', 'sms_clc_td_mnt3', 'clc_no_vas_roam_td_mnt3', 'voice_in_td_cnt_mea_wk1']"
   ]
  },
  {
   "cell_type": "code",
   "execution_count": 164,
   "metadata": {
    "execution": {
     "iopub.execute_input": "2024-07-07T13:54:08.341674Z",
     "iopub.status.busy": "2024-07-07T13:54:08.340716Z",
     "iopub.status.idle": "2024-07-07T13:54:08.449317Z",
     "shell.execute_reply": "2024-07-07T13:54:08.448225Z",
     "shell.execute_reply.started": "2024-07-07T13:54:08.341632Z"
    }
   },
   "outputs": [],
   "source": [
    "df_train_fe = df_train_fe[features_2_use]"
   ]
  },
  {
   "cell_type": "code",
   "execution_count": 165,
   "metadata": {
    "execution": {
     "iopub.execute_input": "2024-07-07T13:54:10.302009Z",
     "iopub.status.busy": "2024-07-07T13:54:10.301583Z",
     "iopub.status.idle": "2024-07-07T13:54:19.597395Z",
     "shell.execute_reply": "2024-07-07T13:54:19.595993Z",
     "shell.execute_reply.started": "2024-07-07T13:54:10.301976Z"
    }
   },
   "outputs": [
    {
     "name": "stdout",
     "output_type": "stream",
     "text": [
      "   abon_id  target  num_act_days_min_mnt3  device_days_usage  \\\n",
      "0  1545052       0               1.480453          53.249600   \n",
      "1  1545235       0               5.324077          47.044200   \n",
      "2  1549358       0               5.324077          27.615852   \n",
      "3  1549591       0               4.786566          34.201236   \n",
      "4  1558772       0               5.324077          50.270526   \n",
      "\n",
      "   loc_market_share  num_act_days_mea_mnt1  voice_in_td_cnt_mea_mnt1  \\\n",
      "0          1.186492               4.646353                  2.569415   \n",
      "1          1.186492               5.324077                 15.945794   \n",
      "2          1.134741               5.324077                  5.193046   \n",
      "3          1.186492               5.059834                 11.862541   \n",
      "4          1.186492               5.324077                 11.739678   \n",
      "\n",
      "   device_brand_prestigio  num_act_days_mea_mnt3        lt  ...  \\\n",
      "0                     0.0               4.693364  6.135202  ...   \n",
      "1                     0.0               5.324077  6.135617  ...   \n",
      "2                     0.0               5.324077  6.125043  ...   \n",
      "3                     0.0               5.148888  6.130697  ...   \n",
      "4                     0.0               5.324077  6.117506  ...   \n",
      "\n",
      "   2563_duration  2564_duration  2568_duration  2569_duration  2571_duration  \\\n",
      "0            0.0            0.0            0.0       0.000000            0.0   \n",
      "1            0.0            0.0            0.0       4.786566            0.0   \n",
      "2            0.0            0.0            0.0       0.000000            0.0   \n",
      "3            0.0            0.0            0.0       0.000000            0.0   \n",
      "4            0.0            0.0            0.0       0.000000            0.0   \n",
      "\n",
      "   2573_duration  2574_duration  2575_duration  2577_duration  2578_duration  \n",
      "0            0.0            0.0            0.0            0.0            0.0  \n",
      "1            0.0            0.0            0.0            0.0            0.0  \n",
      "2            0.0            0.0            0.0            0.0            0.0  \n",
      "3            0.0            0.0            0.0            0.0            0.0  \n",
      "4            0.0            0.0            0.0            0.0            0.0  \n",
      "\n",
      "[5 rows x 987 columns]\n"
     ]
    }
   ],
   "source": [
    "# # DPI DPI DPI DPI DPI DPI DPI DPI DPI DPI DPI DPI DPI DPI DPI DPI \n",
    "# # Нові фічі 2500+: кількість взаємодії з кожним застосунком усі метрики (600 ознак на кожну)\n",
    "\n",
    "def create_application_features(df_dpi, df_fe):\n",
    "    #pivot_count = df_dpi.pivot_table(index='abon_id', columns='Application', values='SUM_of_Count_events', aggfunc='sum', fill_value=0).reset_index()\n",
    "    pivot_duration = df_dpi.pivot_table(index='abon_id', columns='Application', values='SUM_of_Duration_sec', aggfunc='sum', fill_value=0).reset_index()\n",
    "    #pivot_volume = df_dpi.pivot_table(index='abon_id', columns='Application', values='SUM_of_Volume_kb', aggfunc='sum', fill_value=0).reset_index()\n",
    "    #pivot_day_cnt = df_dpi.pivot_table(index='abon_id', columns='Application', values='MAX_of_day_cnt', aggfunc='max', fill_value=0).reset_index()\n",
    "    \n",
    "    #pivot_count = pivot_count.add_suffix('_count')\n",
    "    pivot_duration = pivot_duration.add_suffix('_duration')\n",
    "    #pivot_volume = pivot_volume.add_suffix('_volume')\n",
    "    #pivot_day_cnt = pivot_day_cnt.add_suffix('_day_cnt')\n",
    "    \n",
    "    #pivot_count.rename(columns={'abon_id_count': 'abon_id'}, inplace=True)\n",
    "    pivot_duration.rename(columns={'abon_id_duration': 'abon_id'}, inplace=True)\n",
    "    #pivot_volume.rename(columns={'abon_id_volume': 'abon_id'}, inplace=True)\n",
    "    #pivot_day_cnt.rename(columns={'abon_id_day_cnt': 'abon_id'}, inplace=True)\n",
    "    \n",
    "    #df_fe = df_fe.merge(pivot_count, on='abon_id', how='left')\n",
    "    df_fe = df_fe.merge(pivot_duration, on='abon_id', how='left')\n",
    "    #df_fe = df_fe.merge(pivot_volume, on='abon_id', how='left')\n",
    "    #df_fe = df_fe.merge(pivot_day_cnt, on='abon_id', how='left')\n",
    "    \n",
    "    df_fe.fillna(0, inplace=True)\n",
    "    \n",
    "    return df_fe\n",
    "\n",
    "df_train_fe = create_application_features(df_train_dpi, df_train_fe)\n",
    "\n",
    "print(df_train_fe.head())\n"
   ]
  },
  {
   "cell_type": "code",
   "execution_count": 166,
   "metadata": {
    "execution": {
     "iopub.execute_input": "2024-07-07T13:54:20.720094Z",
     "iopub.status.busy": "2024-07-07T13:54:20.718992Z",
     "iopub.status.idle": "2024-07-07T13:54:21.106564Z",
     "shell.execute_reply": "2024-07-07T13:54:21.105421Z",
     "shell.execute_reply.started": "2024-07-07T13:54:20.720052Z"
    }
   },
   "outputs": [],
   "source": [
    "# Видалення неінформативних ознак:\n",
    "\n",
    "df_train_fe.drop(\"abon_id\", axis=1, inplace=True)\n",
    "\n"
   ]
  },
  {
   "cell_type": "code",
   "execution_count": 167,
   "metadata": {
    "execution": {
     "iopub.execute_input": "2024-07-07T13:54:24.627292Z",
     "iopub.status.busy": "2024-07-07T13:54:24.626836Z",
     "iopub.status.idle": "2024-07-07T13:55:16.793511Z",
     "shell.execute_reply": "2024-07-07T13:55:16.792325Z",
     "shell.execute_reply.started": "2024-07-07T13:54:24.627258Z"
    }
   },
   "outputs": [
    {
     "name": "stdout",
     "output_type": "stream",
     "text": [
      "Results have been saved to model_results.csv\n"
     ]
    },
    {
     "data": {
      "text/html": [
       "<div>\n",
       "<style scoped>\n",
       "    .dataframe tbody tr th:only-of-type {\n",
       "        vertical-align: middle;\n",
       "    }\n",
       "\n",
       "    .dataframe tbody tr th {\n",
       "        vertical-align: top;\n",
       "    }\n",
       "\n",
       "    .dataframe thead th {\n",
       "        text-align: right;\n",
       "    }\n",
       "</style>\n",
       "<table border=\"1\" class=\"dataframe\">\n",
       "  <thead>\n",
       "    <tr style=\"text-align: right;\">\n",
       "      <th></th>\n",
       "      <th>train_auc</th>\n",
       "      <th>val_auc</th>\n",
       "      <th>auc_diff</th>\n",
       "      <th>recall</th>\n",
       "      <th>fp_tp_ratio</th>\n",
       "      <th>train_time</th>\n",
       "      <th>val_time</th>\n",
       "      <th>dataset</th>\n",
       "    </tr>\n",
       "  </thead>\n",
       "  <tbody>\n",
       "    <tr>\n",
       "      <th>0</th>\n",
       "      <td>0.955</td>\n",
       "      <td>0.90247</td>\n",
       "      <td>0.052531</td>\n",
       "      <td>0.787597</td>\n",
       "      <td>2.465223</td>\n",
       "      <td>46.863833</td>\n",
       "      <td>3.147358</td>\n",
       "      <td>241 +600 DPI</td>\n",
       "    </tr>\n",
       "  </tbody>\n",
       "</table>\n",
       "</div>"
      ],
      "text/plain": [
       "   train_auc  val_auc  auc_diff    recall  fp_tp_ratio  train_time  val_time  \\\n",
       "0      0.955  0.90247  0.052531  0.787597     2.465223   46.863833  3.147358   \n",
       "\n",
       "        dataset  \n",
       "0  241 +600 DPI  "
      ]
     },
     "execution_count": 167,
     "metadata": {},
     "output_type": "execute_result"
    }
   ],
   "source": [
    "model = lgb.LGBMClassifier(verbose=-1, random_state=42, is_unbalance=True)    \n",
    "\n",
    "X = df_train_fe.drop(columns=['target'])\n",
    "y = df_train_fe['target']\n",
    "\n",
    "X_train, X_val, y_train, y_val = train_test_split(X, y, test_size=0.2, random_state=42)\n",
    "\n",
    "results = []\n",
    "result = train_and_evaluate(model, X_train, X_val, y_train, y_val, model)\n",
    "result['dataset'] = '241 +600 DPI'  \n",
    "results.append(result)\n",
    "\n",
    "results_df = pd.DataFrame(results)\n",
    "results_df.to_csv('model_results.csv', mode='a', header=not os.path.exists('model_results.csv'), index=False)\n",
    "print(\"Results have been saved to model_results.csv\")\n",
    "\n",
    "results_df"
   ]
  },
  {
   "cell_type": "markdown",
   "metadata": {
    "jp-MarkdownHeadingCollapsed": true,
    "tags": []
   },
   "source": [
    "### 241 найважливіша ознака з оригінального датасету плюс 600 нових ознак з датасету DPI та 2500 з датасету BNUM"
   ]
  },
  {
   "cell_type": "code",
   "execution_count": 168,
   "metadata": {
    "execution": {
     "iopub.execute_input": "2024-07-07T13:55:24.040895Z",
     "iopub.status.busy": "2024-07-07T13:55:24.040463Z",
     "iopub.status.idle": "2024-07-07T13:55:24.626734Z",
     "shell.execute_reply": "2024-07-07T13:55:24.625594Z",
     "shell.execute_reply.started": "2024-07-07T13:55:24.040862Z"
    }
   },
   "outputs": [],
   "source": [
    "df_train_fe = df_train_fe_0.copy()\n",
    "df_train_bnum = df_train_bnum_0.copy()\n",
    "df_train_dpi = df_train_dpi_0.copy()"
   ]
  },
  {
   "cell_type": "code",
   "execution_count": 169,
   "metadata": {
    "execution": {
     "iopub.execute_input": "2024-07-07T13:55:26.078087Z",
     "iopub.status.busy": "2024-07-07T13:55:26.077567Z",
     "iopub.status.idle": "2024-07-07T13:55:26.105403Z",
     "shell.execute_reply": "2024-07-07T13:55:26.104052Z",
     "shell.execute_reply.started": "2024-07-07T13:55:26.078043Z"
    }
   },
   "outputs": [],
   "source": [
    "features_2_use = ['abon_id','target', 'num_act_days_min_mnt3', 'device_days_usage', 'loc_market_share', 'num_act_days_mea_mnt1', 'voice_in_td_cnt_mea_mnt1', 'device_brand_prestigio', 'num_act_days_mea_mnt3', 'lt', 'loc_is_obl_center', 'day_end_gba', 'days_of_last_ppm', 'num_act_days_min_mnt1', 'sms_in_cnt_std_mnt3', 'device_type_modem', 'all_cnt_std_mnt3', 'days_of_end_last_ppm', 'voice_out_tar_dur_min_mnt3', 'Balance_uah', 'all_cnt_max_mnt1', 'imei_mean_long_days_usage', 'imei_mean_days_usage', 'bs_count_ppm_mn3', 'conn_out_uniq_cnt_mea_mnt1', 'all_cnt_std_mnt1', 'data_3g_tv_cnt_std_mnt1', 'data_3g_tv_cnt_max_mnt3', 'voice_in_td_cnt_td_mnt3', 'all_cnt_min_mnt3', 'voice_mts_in_dwork_part_mea_mnt3', 'voice_in_tar_dur_mea_wk1', 'count_day_for_last_paym', 'num_act_days_std_mnt3', 'content_cnt_mea_wk1', 'voice_in_tar_dur_min_mnt1', 'content_cnt_mea_mnt1', 'voice_mts_in_dwork_part_max_mnt3', 'imei_mean_day_announced', 'conn_in_uniq_cnt_td_mnt3', 'sum_paym_6_month', 'sms_in_cnt_mea_mnt1', 'sms_in_cnt_std_mnt1', 'voice_in_kievstar_part_mea_wk1', 'content_cnt_mea_mnt3', 'data_3g_tv_cnt_std_mnt3', 'myvf_day_usage', 'conn_out_uniq_cnt_mea_wk1', 'voice_mts_in_drest_part_mea_wk1', 'num_act_days_mea_wk1', 'voice_in_life_part_mea_mnt3', 'non_accum_internet_vol_mea_wk1', 'voice_out_td_cnt_td_mnt3', 'device_type_phone', 'voice_in_mts_avg_dur_min_mnt3', 'voice_in_mts_avg_dur_min_mnt1', 'voice_out_td_cnt_std_mnt1', 'voice_out_short_part_mea_mnt3', 'voice_in_cmpttrs_avg_durmin_mnt3', 'voice_mts_in_dwork_part_std_mnt3', 'voice_mts_out_dwork_partmea_mnt3', 'avg_paym_6_month', 'voice_mts_in_dwork_part_mea_mnt1', 'MV_Traf_Cont_inc_s_Cnt', 'MV_Traf_innet_inc_v_Min', 'voice_out_tar_dur_mea_wk1', 'voice_in_tar_dur_td_mnt3', 'gprs_tar_vol_min_mnt1', 'device_price', 'voice_mts_in_dwork_part_td_mnt3', 'conn_in_uniq_cnt_std_mnt3', 'voice_mts_out_drest_partmea_mnt3', 'num_act_days_td_mnt3', 'voice_mts_out_nwork_partmin_mnt1', 'std_paym_6_month', 'voice_in_td_cnt_std_mnt1', 'content_cnt_min_mnt3', 'bs_ovrl_OMO_CNT_M3', 'voice_in_mts_avg_dur_mea_wk1', 'non_accum_internet_vol_td_mnt3', 'voice_mts_out_dwork_partmin_mnt3', 'voice_in_kievstar_part_mea_mnt3', 'content_cnt_std_mnt1', 'MV_dou_4G_d', 'tsoa_call_cnt', 'non_accum_internet_vol_std_mnt3', 'voice_mts_out_dwork_partmea_wk1', 'conn_out_uniq_cnt_td_mnt3', 'device_has_lte', 'device_height_mm', 'conn_com_part_td_mnt3', 'voice_out_td_cnt_std_mnt3', 'voice_mts_out_drest_partmea_mnt1', 'voice_in_mts_avg_dur_td_mnt3', 'voice_mts_out_dwork_partmin_mnt1', 'imei_mean_price', 'min_paym_6_month', 'conn_out_uniq_cnt_min_mnt1', 'ks_num_part_mea_mnt3', 'voice_mts_in_drest_part_td_mnt3', 'voice_out_short_part_mea_mnt1', 'device_width_mm', 'com_num_part_max_mnt3', 'com_num_part_td_mnt3', 'voice_out_short_part_mea_wk1', 'device_brand_huawei', 'pay_max_td_mnt3', 'imei_max_price', 'device_brand_lenovo', 'voice_mts_out_nrest_parttd_mnt3', 'data_3g_dou_td_mnt3', 'content_cnt_td_mnt3', 'DNZ_MEAN_days_closed_loan_year2', 'voice_mts_in_dwork_part_min_mnt1', 'voice_in_cmpttrs_avg_durmax_mnt3', 'MV_Traf_pstn_out_v_Min', 'voice_out_tar_dur_std_mnt1', 'voice_out_cmpttrs_avg_dutd_mnt3', 'conn_out_uniq_cnt_max_mnt1', 'all_clc_mea_mnt3', 'voice_mts_in_dwork_part_min_mnt3', 'bs_delte_omo_change_tp', 'voice_out_cmpttrs_avg_dumea_wk1', 'voice_mts_out_dwork_partmea_mnt1', 'voice_in_td_cnt_std_mnt3', 'device_type_tablet', 'conn_com_part_mea_wk1', 'voice_in_cmpttrs_avg_durmea_wk1', 'MV_Traf_Cont_out_v_Min', 'MV_Traf_pstn_inc_v_Min', 'ks_num_part_mea_wk1', 'voice_mts_in_nwork_part_td_mnt3', 'last_paym', 'voice_mts_out_dwork_partstd_mnt3', 'voice_in_td_cnt_mea_mnt3', 'data_3g_dou_std_mnt3', 'voice_mts_out_nwork_parttd_mnt3', 'voice_in_mts_avg_dur_max_mnt1', 'voice_mts_out_nwork_partstd_mnt3', 'gprs_tar_vol_td_mnt3', 'voice_out_fix_tar_dur_std_mnt3', 'max_paym_6_month', 'all_cnt_min_mnt1', 'MV_Traf_innet_out_v_Min', 'voice_out_tar_dur_td_mnt3', 'voice_out_td_cnt_mea_wk1', 'voice_mts_out_drest_partmea_wk1', 'ks_num_part_mea_mnt1', 'voice_in_cmpttrs_avg_durtd_mnt3', 'com_num_part_min_mnt3', 'voice_in_fix_tar_dur_std_mnt3', 'voice_in_cmpttrs_avg_durmea_mnt3', 'voice_in_life_part_mea_wk1', 'content_cnt_std_mnt3', 'all_cnt_max_mnt3', 'pay_avg_td_mnt3', 'voice_in_cmpttrs_td_cnt_mea_mnt3', 'all_cnt_mea_mnt3', 'conn_com_part_mea_mnt3', 'voice_mts_in_drest_part_max_mnt3', 'voice_in_tar_dur_std_mnt1', 'data_3g_tv_cnt_td_mnt3', 'voice_mts_in_nrest_part_td_mnt3', 'voice_out_fix_tar_dur_td_mnt3', 'conn_in_uniq_cnt_mea_mnt1', 'MV_Traf_3G_d_Mb', 'voice_out_cmpttrs_td_cnttd_mnt3', 'voice_in_short_part_mea_mnt3', 'voice_in_kievstar_part_max_mnt1', 'voice_mts_in_drest_part_max_mnt1', 'voice_in_mts_avg_dur_max_mnt3', 'MV_DOU_PPM_VF', 'conn_out_uniq_cnt_max_mnt3', 'com_num_part_std_mnt1', 'data_3g_tar_vol_mea_wk1', 'voice_mts_out_dwork_partstd_mnt1', 'voice_mts_in_drest_part_min_mnt3', 'all_cnt_td_mnt3', 'voice_mts_out_nwork_partmax_mnt3', 'gprs_clc_mea_mnt3', 'all_cnt_mea_wk1', 'gprs_tar_vol_mea_wk1', 'conn_in_uniq_cnt_std_mnt1', 'pay_sum_max_mnt3', 'conn_com_part_std_mnt1', 'conn_in_uniq_cnt_mea_mnt3', 'accum_oth_dur_std_mnt1', 'voice_in_fix_tar_dur_td_mnt3', 'voice_in_life_part_std_mnt3', 'MV_dou_3G_d', 'MV_Traf_2G_d_Mb', 'voice_mts_in_nrest_part_mea_mnt1', 'voice_mts_in_nwork_part_max_mnt3', 'ama_volume_max_mnt1', 'voice_in_kievstar_part_mea_mnt1', 'non_accum_internet_vol_max_mnt1', 'conn_com_part_std_mnt3', 'voice_out_short_part_min_mnt1', 'voice_out_short_part_td_mnt3', 'MV_ot_total', 'voice_in_cmpttrs_avg_durstd_mnt3', 'device_android_version', 'Good_deed', 'non_accum_internet_vol_min_mnt1', 'content_cnt_min_mnt1', 'voice_out_cmpttrs_td_cntstd_mnt1', 'voice_in_cmpttrs_td_cnt_std_mnt3', 'voice_mts_out_drest_parttd_mnt3', 'data_3g_tv_cnt_mea_mnt3', 'voice_in_kievstar_part_min_mnt3', 'voice_mts_out_nwork_partmea_mnt3', 'voice_in_short_part_std_mnt1', 'voice_mts_out_nrest_partstd_mnt3', 'voice_mts_in_nwork_part_mea_mnt3', 'MV_Traf_Roam_d_Mb', 'accum_oth_dur_td_mnt3', 'gprs_tar_vol_mea_mnt3', 'ks_num_part_std_mnt3', 'conn_in_uniq_cnt_min_mnt1', 'voice_out_cmpttrs_avg_dustd_mnt1', 'voice_in_mts_avg_dur_mea_mnt1', 'com_num_part_mea_wk1', 'loc_cnt_events', 'voice_in_fix_tar_dur_mea_mnt1', 'sms_in_cnt_mea_wk1', 'voice_in_mts_avg_dur_std_mnt1', 'ks_num_part_max_mnt1', 'voice_mts_in_drest_part_mea_mnt1', 'voice_in_short_part_td_mnt3', 'voice_in_fix_tar_dur_mea_mnt3', 'voice_out_cmpttrs_avg_dumea_mnt1', 'voice_out_cmpttrs_avg_dumin_mnt1', 'bs_ovrl_OMO_SUM_M2', 'MV_Traf_omo_out_v_Min', 'MV_ot_Other', 'voice_out_short_part_max_mnt3', 'voice_in_tar_dur_mea_mnt1', 'non_accum_internet_vol_min_mnt3', 'cnt_paym_6_month', 'sms_in_cnt_td_mnt3', 'sms_clc_td_mnt3', 'clc_no_vas_roam_td_mnt3', 'voice_in_td_cnt_mea_wk1']"
   ]
  },
  {
   "cell_type": "code",
   "execution_count": 170,
   "metadata": {
    "execution": {
     "iopub.execute_input": "2024-07-07T13:55:29.281666Z",
     "iopub.status.busy": "2024-07-07T13:55:29.281248Z",
     "iopub.status.idle": "2024-07-07T13:55:29.394066Z",
     "shell.execute_reply": "2024-07-07T13:55:29.392694Z",
     "shell.execute_reply.started": "2024-07-07T13:55:29.281637Z"
    }
   },
   "outputs": [],
   "source": [
    "df_train_fe = df_train_fe[features_2_use]"
   ]
  },
  {
   "cell_type": "code",
   "execution_count": 171,
   "metadata": {
    "execution": {
     "iopub.execute_input": "2024-07-07T13:55:32.934001Z",
     "iopub.status.busy": "2024-07-07T13:55:32.933562Z",
     "iopub.status.idle": "2024-07-07T13:55:38.760224Z",
     "shell.execute_reply": "2024-07-07T13:55:38.758881Z",
     "shell.execute_reply.started": "2024-07-07T13:55:32.933967Z"
    }
   },
   "outputs": [
    {
     "name": "stderr",
     "output_type": "stream",
     "text": [
      "/tmp/ipykernel_33/1906798896.py:20: SettingWithCopyWarning: \n",
      "A value is trying to be set on a copy of a slice from a DataFrame.\n",
      "Try using .loc[row_indexer,col_indexer] = value instead\n",
      "\n",
      "See the caveats in the documentation: https://pandas.pydata.org/pandas-docs/stable/user_guide/indexing.html#returning-a-view-versus-a-copy\n",
      "  df_bnum['call_cnt_total'] = df_bnum['call_cnt_out'] + df_bnum['call_cnt_in']\n",
      "/tmp/ipykernel_33/1906798896.py:21: SettingWithCopyWarning: \n",
      "A value is trying to be set on a copy of a slice from a DataFrame.\n",
      "Try using .loc[row_indexer,col_indexer] = value instead\n",
      "\n",
      "See the caveats in the documentation: https://pandas.pydata.org/pandas-docs/stable/user_guide/indexing.html#returning-a-view-versus-a-copy\n",
      "  df_bnum['call_dur_total'] = df_bnum['call_dur_out'] + df_bnum['call_dur_in']\n",
      "/tmp/ipykernel_33/1906798896.py:22: SettingWithCopyWarning: \n",
      "A value is trying to be set on a copy of a slice from a DataFrame.\n",
      "Try using .loc[row_indexer,col_indexer] = value instead\n",
      "\n",
      "See the caveats in the documentation: https://pandas.pydata.org/pandas-docs/stable/user_guide/indexing.html#returning-a-view-versus-a-copy\n",
      "  df_bnum['cnt_sms_total'] = df_bnum['cnt_sms_out'] + df_bnum['cnt_sms_in']\n"
     ]
    },
    {
     "name": "stdout",
     "output_type": "stream",
     "text": [
      "   abon_id  target  num_act_days_min_mnt3  device_days_usage  \\\n",
      "0  1545052       0               1.480453          53.249600   \n",
      "1  1545235       0               5.324077          47.044200   \n",
      "2  1549358       0               5.324077          27.615852   \n",
      "3  1549591       0               4.786566          34.201236   \n",
      "4  1558772       0               5.324077          50.270526   \n",
      "\n",
      "   loc_market_share  num_act_days_mea_mnt1  voice_in_td_cnt_mea_mnt1  \\\n",
      "0          1.186492               4.646353                  2.569415   \n",
      "1          1.186492               5.324077                 15.945794   \n",
      "2          1.134741               5.324077                  5.193046   \n",
      "3          1.186492               5.059834                 11.862541   \n",
      "4          1.186492               5.324077                 11.739678   \n",
      "\n",
      "   device_brand_prestigio  num_act_days_mea_mnt3        lt  ...  \\\n",
      "0                     0.0               4.693364  6.135202  ...   \n",
      "1                     0.0               5.324077  6.135617  ...   \n",
      "2                     0.0               5.324077  6.125043  ...   \n",
      "3                     0.0               5.148888  6.130697  ...   \n",
      "4                     0.0               5.324077  6.117506  ...   \n",
      "\n",
      "   cnt_sms_total_zal  cnt_sms_total_ze.kred1t  cnt_sms_total_ze.kredit  \\\n",
      "0                NaN                      NaN                      NaN   \n",
      "1                NaN                      NaN                      NaN   \n",
      "2                NaN                      NaN                      NaN   \n",
      "3                NaN                      NaN                      NaN   \n",
      "4                NaN                      NaN                      NaN   \n",
      "\n",
      "   cnt_sms_total_zecredi  cnt_sms_total_zecredit  cnt_sms_total_zekredi  \\\n",
      "0                    NaN                     NaN                    NaN   \n",
      "1                    NaN                     NaN                    NaN   \n",
      "2                    NaN                     NaN                    NaN   \n",
      "3                    NaN                     NaN                    NaN   \n",
      "4                    NaN                     NaN                    NaN   \n",
      "\n",
      "   cnt_sms_total_zen  cnt_sms_total_zip  cnt_sms_total_zolotakoro  \\\n",
      "0                NaN                NaN                       NaN   \n",
      "1                NaN                NaN                       NaN   \n",
      "2                NaN                NaN                       NaN   \n",
      "3                NaN                NaN                       NaN   \n",
      "4                NaN                NaN                       NaN   \n",
      "\n",
      "   cnt_sms_total_zoom  \n",
      "0                 NaN  \n",
      "1                 NaN  \n",
      "2                 NaN  \n",
      "3                 NaN  \n",
      "4                 NaN  \n",
      "\n",
      "[5 rows x 2544 columns]\n"
     ]
    }
   ],
   "source": [
    "# BNUM BNUM BNUM BNUM BNUM BNUM BNUM BNUM BNUM BNUM \n",
    "# + 2500 нових ознак\n",
    "values_to_remove = ['cyberpolice',\n",
    "'cyberpolic',\n",
    "'ukraine',\n",
    "'taxi-838',\n",
    "'icu',\n",
    "'dsns ukr',\n",
    "]\n",
    "\n",
    "df_train_bnum = df_train_bnum[~df_train_bnum['bnum'].isin(values_to_remove)]\n",
    "\n",
    "# Видалення спостережень з df_train_bnum, де для одного abon_id менше ніж 50 унікальних значень bnum\n",
    "abon_id_counts = df_train_bnum.groupby('abon_id')['bnum'].nunique()\n",
    "valid_abon_ids = abon_id_counts[abon_id_counts >= 50].index\n",
    "df_train_bnum_filtered = df_train_bnum[df_train_bnum['abon_id'].isin(valid_abon_ids)]\n",
    "\n",
    "def create_bnum_features(df_bnum, df_fe):\n",
    "\n",
    "    df_bnum['call_cnt_total'] = df_bnum['call_cnt_out'] + df_bnum['call_cnt_in']\n",
    "    df_bnum['call_dur_total'] = df_bnum['call_dur_out'] + df_bnum['call_dur_in']\n",
    "    df_bnum['cnt_sms_total'] = df_bnum['cnt_sms_out'] + df_bnum['cnt_sms_in']\n",
    "    \n",
    "    grouped = df_bnum.groupby(['abon_id', 'bnum']).agg({\n",
    "        'call_cnt_total': 'sum',\n",
    "        'call_dur_total': 'sum',\n",
    "        'cnt_sms_total': 'sum'\n",
    "    }).reset_index()\n",
    "    \n",
    "    pivot_df = grouped.pivot(index='abon_id', columns='bnum', values=['call_cnt_total', 'call_dur_total', 'cnt_sms_total'])\n",
    "    pivot_df.columns = [f'{metric}_{bnum}' for metric, bnum in pivot_df.columns]\n",
    "    \n",
    "    df_fe = df_fe.merge(pivot_df, on='abon_id', how='left')\n",
    "    \n",
    "    return df_fe\n",
    "\n",
    "df_train_fe = create_bnum_features(df_train_bnum_filtered, df_train_fe)\n",
    "print(df_train_fe.head())"
   ]
  },
  {
   "cell_type": "code",
   "execution_count": 172,
   "metadata": {
    "execution": {
     "iopub.execute_input": "2024-07-07T13:55:39.874668Z",
     "iopub.status.busy": "2024-07-07T13:55:39.874262Z",
     "iopub.status.idle": "2024-07-07T13:56:05.261702Z",
     "shell.execute_reply": "2024-07-07T13:56:05.260321Z",
     "shell.execute_reply.started": "2024-07-07T13:55:39.874639Z"
    }
   },
   "outputs": [
    {
     "name": "stdout",
     "output_type": "stream",
     "text": [
      "   abon_id  target  num_act_days_min_mnt3  device_days_usage  \\\n",
      "0  1545052       0               1.480453          53.249600   \n",
      "1  1545235       0               5.324077          47.044200   \n",
      "2  1549358       0               5.324077          27.615852   \n",
      "3  1549591       0               4.786566          34.201236   \n",
      "4  1558772       0               5.324077          50.270526   \n",
      "\n",
      "   loc_market_share  num_act_days_mea_mnt1  voice_in_td_cnt_mea_mnt1  \\\n",
      "0          1.186492               4.646353                  2.569415   \n",
      "1          1.186492               5.324077                 15.945794   \n",
      "2          1.134741               5.324077                  5.193046   \n",
      "3          1.186492               5.059834                 11.862541   \n",
      "4          1.186492               5.324077                 11.739678   \n",
      "\n",
      "   device_brand_prestigio  num_act_days_mea_mnt3        lt  ...  \\\n",
      "0                     0.0               4.693364  6.135202  ...   \n",
      "1                     0.0               5.324077  6.135617  ...   \n",
      "2                     0.0               5.324077  6.125043  ...   \n",
      "3                     0.0               5.148888  6.130697  ...   \n",
      "4                     0.0               5.324077  6.117506  ...   \n",
      "\n",
      "   2563_duration  2564_duration  2568_duration  2569_duration  2571_duration  \\\n",
      "0            0.0            0.0            0.0       0.000000            0.0   \n",
      "1            0.0            0.0            0.0       4.786566            0.0   \n",
      "2            0.0            0.0            0.0       0.000000            0.0   \n",
      "3            0.0            0.0            0.0       0.000000            0.0   \n",
      "4            0.0            0.0            0.0       0.000000            0.0   \n",
      "\n",
      "   2573_duration  2574_duration  2575_duration  2577_duration  2578_duration  \n",
      "0            0.0            0.0            0.0            0.0            0.0  \n",
      "1            0.0            0.0            0.0            0.0            0.0  \n",
      "2            0.0            0.0            0.0            0.0            0.0  \n",
      "3            0.0            0.0            0.0            0.0            0.0  \n",
      "4            0.0            0.0            0.0            0.0            0.0  \n",
      "\n",
      "[5 rows x 3288 columns]\n"
     ]
    }
   ],
   "source": [
    "# # DPI DPI DPI DPI DPI DPI DPI DPI DPI DPI DPI DPI DPI DPI DPI DPI \n",
    "# # Нові фічі 2500+: кількість взаємодії з кожним застосунком усі метрики (600 ознак на кожну)\n",
    "\n",
    "def create_application_features(df_dpi, df_fe):\n",
    "    #pivot_count = df_dpi.pivot_table(index='abon_id', columns='Application', values='SUM_of_Count_events', aggfunc='sum', fill_value=0).reset_index()\n",
    "    pivot_duration = df_dpi.pivot_table(index='abon_id', columns='Application', values='SUM_of_Duration_sec', aggfunc='sum', fill_value=0).reset_index()\n",
    "    #pivot_volume = df_dpi.pivot_table(index='abon_id', columns='Application', values='SUM_of_Volume_kb', aggfunc='sum', fill_value=0).reset_index()\n",
    "    #pivot_day_cnt = df_dpi.pivot_table(index='abon_id', columns='Application', values='MAX_of_day_cnt', aggfunc='max', fill_value=0).reset_index()\n",
    "    \n",
    "    #pivot_count = pivot_count.add_suffix('_count')\n",
    "    pivot_duration = pivot_duration.add_suffix('_duration')\n",
    "    #pivot_volume = pivot_volume.add_suffix('_volume')\n",
    "    #pivot_day_cnt = pivot_day_cnt.add_suffix('_day_cnt')\n",
    "    \n",
    "    #pivot_count.rename(columns={'abon_id_count': 'abon_id'}, inplace=True)\n",
    "    pivot_duration.rename(columns={'abon_id_duration': 'abon_id'}, inplace=True)\n",
    "    #pivot_volume.rename(columns={'abon_id_volume': 'abon_id'}, inplace=True)\n",
    "    #pivot_day_cnt.rename(columns={'abon_id_day_cnt': 'abon_id'}, inplace=True)\n",
    "    \n",
    "    #df_fe = df_fe.merge(pivot_count, on='abon_id', how='left')\n",
    "    df_fe = df_fe.merge(pivot_duration, on='abon_id', how='left')\n",
    "    #df_fe = df_fe.merge(pivot_volume, on='abon_id', how='left')\n",
    "    #df_fe = df_fe.merge(pivot_day_cnt, on='abon_id', how='left')\n",
    "    \n",
    "    df_fe.fillna(0, inplace=True)\n",
    "    \n",
    "    return df_fe\n",
    "\n",
    "df_train_fe = create_application_features(df_train_dpi, df_train_fe)\n",
    "\n",
    "print(df_train_fe.head())\n"
   ]
  },
  {
   "cell_type": "code",
   "execution_count": 173,
   "metadata": {
    "execution": {
     "iopub.execute_input": "2024-07-07T13:56:09.493285Z",
     "iopub.status.busy": "2024-07-07T13:56:09.492842Z",
     "iopub.status.idle": "2024-07-07T13:56:10.719564Z",
     "shell.execute_reply": "2024-07-07T13:56:10.718235Z",
     "shell.execute_reply.started": "2024-07-07T13:56:09.493250Z"
    }
   },
   "outputs": [],
   "source": [
    "# Видалення неінформативних ознак:\n",
    "\n",
    "df_train_fe.drop(\"abon_id\", axis=1, inplace=True)\n"
   ]
  },
  {
   "cell_type": "code",
   "execution_count": 174,
   "metadata": {
    "execution": {
     "iopub.execute_input": "2024-07-07T13:56:16.861630Z",
     "iopub.status.busy": "2024-07-07T13:56:16.861222Z",
     "iopub.status.idle": "2024-07-07T13:57:22.456954Z",
     "shell.execute_reply": "2024-07-07T13:57:22.455739Z",
     "shell.execute_reply.started": "2024-07-07T13:56:16.861600Z"
    }
   },
   "outputs": [
    {
     "name": "stdout",
     "output_type": "stream",
     "text": [
      "Results have been saved to model_results.csv\n"
     ]
    },
    {
     "data": {
      "text/html": [
       "<div>\n",
       "<style scoped>\n",
       "    .dataframe tbody tr th:only-of-type {\n",
       "        vertical-align: middle;\n",
       "    }\n",
       "\n",
       "    .dataframe tbody tr th {\n",
       "        vertical-align: top;\n",
       "    }\n",
       "\n",
       "    .dataframe thead th {\n",
       "        text-align: right;\n",
       "    }\n",
       "</style>\n",
       "<table border=\"1\" class=\"dataframe\">\n",
       "  <thead>\n",
       "    <tr style=\"text-align: right;\">\n",
       "      <th></th>\n",
       "      <th>train_auc</th>\n",
       "      <th>val_auc</th>\n",
       "      <th>auc_diff</th>\n",
       "      <th>recall</th>\n",
       "      <th>fp_tp_ratio</th>\n",
       "      <th>train_time</th>\n",
       "      <th>val_time</th>\n",
       "      <th>dataset</th>\n",
       "    </tr>\n",
       "  </thead>\n",
       "  <tbody>\n",
       "    <tr>\n",
       "      <th>0</th>\n",
       "      <td>0.955</td>\n",
       "      <td>0.90247</td>\n",
       "      <td>0.052531</td>\n",
       "      <td>0.787597</td>\n",
       "      <td>2.465223</td>\n",
       "      <td>51.343541</td>\n",
       "      <td>8.12671</td>\n",
       "      <td>241 +3000 DPI BNUM</td>\n",
       "    </tr>\n",
       "  </tbody>\n",
       "</table>\n",
       "</div>"
      ],
      "text/plain": [
       "   train_auc  val_auc  auc_diff    recall  fp_tp_ratio  train_time  val_time  \\\n",
       "0      0.955  0.90247  0.052531  0.787597     2.465223   51.343541   8.12671   \n",
       "\n",
       "              dataset  \n",
       "0  241 +3000 DPI BNUM  "
      ]
     },
     "execution_count": 174,
     "metadata": {},
     "output_type": "execute_result"
    }
   ],
   "source": [
    "model = lgb.LGBMClassifier(verbose=-1, random_state=42, is_unbalance=True)    \n",
    "\n",
    "X = df_train_fe.drop(columns=['target'])\n",
    "y = df_train_fe['target']\n",
    "\n",
    "X_train, X_val, y_train, y_val = train_test_split(X, y, test_size=0.2, random_state=42)\n",
    "\n",
    "results = []\n",
    "result = train_and_evaluate(model, X_train, X_val, y_train, y_val, model)\n",
    "result['dataset'] = '241 +3000 DPI BNUM'  \n",
    "results.append(result)\n",
    "\n",
    "results_df = pd.DataFrame(results)\n",
    "results_df.to_csv('model_results.csv', mode='a', header=not os.path.exists('model_results.csv'), index=False)\n",
    "print(\"Results have been saved to model_results.csv\")\n",
    "\n",
    "results_df"
   ]
  },
  {
   "cell_type": "markdown",
   "metadata": {
    "jp-MarkdownHeadingCollapsed": true,
    "tags": []
   },
   "source": [
    "### 454 найважливіших ознак з оригінального датасету"
   ]
  },
  {
   "cell_type": "code",
   "execution_count": 175,
   "metadata": {
    "execution": {
     "iopub.execute_input": "2024-07-07T14:01:16.883401Z",
     "iopub.status.busy": "2024-07-07T14:01:16.882744Z",
     "iopub.status.idle": "2024-07-07T14:01:17.624118Z",
     "shell.execute_reply": "2024-07-07T14:01:17.622867Z",
     "shell.execute_reply.started": "2024-07-07T14:01:16.883350Z"
    }
   },
   "outputs": [],
   "source": [
    "df_train_fe = df_train_fe_0.copy()\n",
    "df_train_bnum = df_train_bnum_0.copy()\n",
    "df_train_dpi = df_train_dpi_0.copy()"
   ]
  },
  {
   "cell_type": "code",
   "execution_count": 176,
   "metadata": {
    "execution": {
     "iopub.execute_input": "2024-07-07T14:01:19.895959Z",
     "iopub.status.busy": "2024-07-07T14:01:19.895420Z",
     "iopub.status.idle": "2024-07-07T14:01:19.930830Z",
     "shell.execute_reply": "2024-07-07T14:01:19.929243Z",
     "shell.execute_reply.started": "2024-07-07T14:01:19.895921Z"
    }
   },
   "outputs": [],
   "source": [
    "features_2_use = ['target', 'num_act_days_min_mnt3', 'device_days_usage', 'loc_market_share', 'num_act_days_mea_mnt1', 'voice_in_td_cnt_mea_mnt1', 'device_brand_prestigio', 'num_act_days_mea_mnt3', 'lt', 'loc_is_obl_center', 'day_end_gba', 'days_of_last_ppm', 'num_act_days_min_mnt1', 'sms_in_cnt_std_mnt3', 'device_type_modem', 'all_cnt_std_mnt3', 'days_of_end_last_ppm', 'voice_out_tar_dur_min_mnt3', 'Balance_uah', 'all_cnt_max_mnt1', 'imei_mean_long_days_usage', 'imei_mean_days_usage', 'bs_count_ppm_mn3', 'conn_out_uniq_cnt_mea_mnt1', 'all_cnt_std_mnt1', 'data_3g_tv_cnt_std_mnt1', 'data_3g_tv_cnt_max_mnt3', 'voice_in_td_cnt_td_mnt3', 'all_cnt_min_mnt3', 'voice_mts_in_dwork_part_mea_mnt3', 'voice_in_tar_dur_mea_wk1', 'count_day_for_last_paym', 'num_act_days_std_mnt3', 'content_cnt_mea_wk1', 'voice_in_tar_dur_min_mnt1', 'content_cnt_mea_mnt1', 'voice_mts_in_dwork_part_max_mnt3', 'imei_mean_day_announced', 'conn_in_uniq_cnt_td_mnt3', 'sum_paym_6_month', 'sms_in_cnt_mea_mnt1', 'sms_in_cnt_std_mnt1', 'voice_in_kievstar_part_mea_wk1', 'content_cnt_mea_mnt3', 'data_3g_tv_cnt_std_mnt3', 'myvf_day_usage', 'conn_out_uniq_cnt_mea_wk1', 'voice_mts_in_drest_part_mea_wk1', 'num_act_days_mea_wk1', 'voice_in_life_part_mea_mnt3', 'non_accum_internet_vol_mea_wk1', 'voice_out_td_cnt_td_mnt3', 'device_type_phone', 'voice_in_mts_avg_dur_min_mnt3', 'voice_in_mts_avg_dur_min_mnt1', 'voice_out_td_cnt_std_mnt1', 'voice_out_short_part_mea_mnt3', 'voice_in_cmpttrs_avg_durmin_mnt3', 'voice_mts_in_dwork_part_std_mnt3', 'voice_mts_out_dwork_partmea_mnt3', 'avg_paym_6_month', 'voice_mts_in_dwork_part_mea_mnt1', 'MV_Traf_Cont_inc_s_Cnt', 'MV_Traf_innet_inc_v_Min', 'voice_out_tar_dur_mea_wk1', 'voice_in_tar_dur_td_mnt3', 'gprs_tar_vol_min_mnt1', 'device_price', 'voice_mts_in_dwork_part_td_mnt3', 'conn_in_uniq_cnt_std_mnt3', 'voice_mts_out_drest_partmea_mnt3', 'num_act_days_td_mnt3', 'voice_mts_out_nwork_partmin_mnt1', 'std_paym_6_month', 'voice_in_td_cnt_std_mnt1', 'content_cnt_min_mnt3', 'bs_ovrl_OMO_CNT_M3', 'voice_in_mts_avg_dur_mea_wk1', 'non_accum_internet_vol_td_mnt3', 'voice_mts_out_dwork_partmin_mnt3', 'voice_in_kievstar_part_mea_mnt3', 'content_cnt_std_mnt1', 'MV_dou_4G_d', 'tsoa_call_cnt', 'non_accum_internet_vol_std_mnt3', 'voice_mts_out_dwork_partmea_wk1', 'conn_out_uniq_cnt_td_mnt3', 'device_has_lte', 'device_height_mm', 'conn_com_part_td_mnt3', 'voice_out_td_cnt_std_mnt3', 'voice_mts_out_drest_partmea_mnt1', 'voice_in_mts_avg_dur_td_mnt3', 'voice_mts_out_dwork_partmin_mnt1', 'imei_mean_price', 'min_paym_6_month', 'conn_out_uniq_cnt_min_mnt1', 'ks_num_part_mea_mnt3', 'voice_mts_in_drest_part_td_mnt3', 'voice_out_short_part_mea_mnt1', 'device_width_mm', 'com_num_part_max_mnt3', 'com_num_part_td_mnt3', 'voice_out_short_part_mea_wk1', 'device_brand_huawei', 'pay_max_td_mnt3', 'imei_max_price', 'device_brand_lenovo', 'voice_mts_out_nrest_parttd_mnt3', 'data_3g_dou_td_mnt3', 'content_cnt_td_mnt3', 'DNZ_MEAN_days_closed_loan_year2', 'voice_mts_in_dwork_part_min_mnt1', 'voice_in_cmpttrs_avg_durmax_mnt3', 'MV_Traf_pstn_out_v_Min', 'voice_out_tar_dur_std_mnt1', 'voice_out_cmpttrs_avg_dutd_mnt3', 'conn_out_uniq_cnt_max_mnt1', 'all_clc_mea_mnt3', 'voice_mts_in_dwork_part_min_mnt3', 'bs_delte_omo_change_tp', 'voice_out_cmpttrs_avg_dumea_wk1', 'voice_mts_out_dwork_partmea_mnt1', 'voice_in_td_cnt_std_mnt3', 'device_type_tablet', 'conn_com_part_mea_wk1', 'voice_in_cmpttrs_avg_durmea_wk1', 'MV_Traf_Cont_out_v_Min', 'MV_Traf_pstn_inc_v_Min', 'ks_num_part_mea_wk1', 'voice_mts_in_nwork_part_td_mnt3', 'last_paym', 'voice_mts_out_dwork_partstd_mnt3', 'voice_in_td_cnt_mea_mnt3', 'data_3g_dou_std_mnt3', 'voice_mts_out_nwork_parttd_mnt3', 'voice_in_mts_avg_dur_max_mnt1', 'voice_mts_out_nwork_partstd_mnt3', 'gprs_tar_vol_td_mnt3', 'voice_out_fix_tar_dur_std_mnt3', 'max_paym_6_month', 'all_cnt_min_mnt1', 'MV_Traf_innet_out_v_Min', 'voice_out_tar_dur_td_mnt3', 'voice_out_td_cnt_mea_wk1', 'voice_mts_out_drest_partmea_wk1', 'ks_num_part_mea_mnt1', 'voice_in_cmpttrs_avg_durtd_mnt3', 'com_num_part_min_mnt3', 'voice_in_fix_tar_dur_std_mnt3', 'voice_in_cmpttrs_avg_durmea_mnt3', 'voice_in_life_part_mea_wk1', 'content_cnt_std_mnt3', 'all_cnt_max_mnt3', 'pay_avg_td_mnt3', 'voice_in_cmpttrs_td_cnt_mea_mnt3', 'all_cnt_mea_mnt3', 'conn_com_part_mea_mnt3', 'voice_mts_in_drest_part_max_mnt3', 'voice_in_tar_dur_std_mnt1', 'data_3g_tv_cnt_td_mnt3', 'voice_mts_in_nrest_part_td_mnt3', 'voice_out_fix_tar_dur_td_mnt3', 'conn_in_uniq_cnt_mea_mnt1', 'MV_Traf_3G_d_Mb', 'voice_out_cmpttrs_td_cnttd_mnt3', 'voice_in_short_part_mea_mnt3', 'voice_in_kievstar_part_max_mnt1', 'voice_mts_in_drest_part_max_mnt1', 'voice_in_mts_avg_dur_max_mnt3', 'MV_DOU_PPM_VF', 'conn_out_uniq_cnt_max_mnt3', 'com_num_part_std_mnt1', 'data_3g_tar_vol_mea_wk1', 'voice_mts_out_dwork_partstd_mnt1', 'voice_mts_in_drest_part_min_mnt3', 'all_cnt_td_mnt3', 'voice_mts_out_nwork_partmax_mnt3', 'gprs_clc_mea_mnt3', 'all_cnt_mea_wk1', 'gprs_tar_vol_mea_wk1', 'conn_in_uniq_cnt_std_mnt1', 'pay_sum_max_mnt3', 'conn_com_part_std_mnt1', 'conn_in_uniq_cnt_mea_mnt3', 'accum_oth_dur_std_mnt1', 'voice_in_fix_tar_dur_td_mnt3', 'voice_in_life_part_std_mnt3', 'MV_dou_3G_d', 'MV_Traf_2G_d_Mb', 'voice_mts_in_nrest_part_mea_mnt1', 'voice_mts_in_nwork_part_max_mnt3', 'ama_volume_max_mnt1', 'voice_in_kievstar_part_mea_mnt1', 'non_accum_internet_vol_max_mnt1', 'conn_com_part_std_mnt3', 'voice_out_short_part_min_mnt1', 'voice_out_short_part_td_mnt3', 'MV_ot_total', 'voice_in_cmpttrs_avg_durstd_mnt3', 'device_android_version', 'Good_deed', 'non_accum_internet_vol_min_mnt1', 'content_cnt_min_mnt1', 'voice_out_cmpttrs_td_cntstd_mnt1', 'voice_in_cmpttrs_td_cnt_std_mnt3', 'voice_mts_out_drest_parttd_mnt3', 'data_3g_tv_cnt_mea_mnt3', 'voice_in_kievstar_part_min_mnt3', 'voice_mts_out_nwork_partmea_mnt3', 'voice_in_short_part_std_mnt1', 'voice_mts_out_nrest_partstd_mnt3', 'voice_mts_in_nwork_part_mea_mnt3', 'MV_Traf_Roam_d_Mb', 'accum_oth_dur_td_mnt3', 'gprs_tar_vol_mea_mnt3', 'ks_num_part_std_mnt3', 'conn_in_uniq_cnt_min_mnt1', 'voice_out_cmpttrs_avg_dustd_mnt1', 'voice_in_mts_avg_dur_mea_mnt1', 'com_num_part_mea_wk1', 'loc_cnt_events', 'voice_in_fix_tar_dur_mea_mnt1', 'sms_in_cnt_mea_wk1', 'voice_in_mts_avg_dur_std_mnt1', 'ks_num_part_max_mnt1', 'voice_mts_in_drest_part_mea_mnt1', 'voice_in_short_part_td_mnt3', 'voice_in_fix_tar_dur_mea_mnt3', 'voice_out_cmpttrs_avg_dumea_mnt1', 'voice_out_cmpttrs_avg_dumin_mnt1', 'bs_ovrl_OMO_SUM_M2', 'MV_Traf_omo_out_v_Min', 'MV_ot_Other', 'voice_out_short_part_max_mnt3', 'voice_in_tar_dur_mea_mnt1', 'non_accum_internet_vol_min_mnt3', 'cnt_paym_6_month', 'sms_in_cnt_td_mnt3', 'sms_clc_td_mnt3', 'clc_no_vas_roam_td_mnt3', 'voice_in_td_cnt_mea_wk1', 'voice_mts_out_dwork_parttd_mnt3', 'accum_mts_dur_mea_mnt3', 'ks_num_part_std_mnt1', 'pay_sum_td_mnt3', 'voice_mts_in_nwork_part_mea_wk1', 'device_sim_count', 'MV_ap_mn_out_v', 'voice_mts_in_drest_part_min_mnt1', 'MV_Traf_mn_out_v_Min', 'voice_mts_in_drest_part_std_mnt3', 'voice_out_fix_tar_dur_std_mnt1', 'data_3g_tar_vol_td_mnt3', 'bs_ovrl_OMO_CNT_M2', 'pay_max_mea_mnt3', 'voice_mts_in_nrest_part_min_mnt1', 'voice_in_fix_tar_dur_std_mnt1', 'voice_mts_out_nrest_partstd_mnt1', 'DNZ_STD_days_closed_loan_year5', 'gprs_tar_vol_max_mnt3', 'voice_mts_out_drest_partmax_mnt1', 'MV_net_total', 'voice_in_mts_avg_dur_mea_mnt3', 'voice_in_cmpttrs_td_cnt_mea_mnt1', 'voice_out_tar_dur_min_mnt1', 'sms_out_cnt_td_mnt3', 'vas_clc_mea_wk1', 'bs_ovrl_OMO_SUM_M3', 'tsoa_direct_cnt', 'sms_out_cnt_std_mnt3', 'non_accum_internet_vol_max_mnt3', 'device_ios_version', 'pay_max_std_mnt3', 'non_accum_internet_vol_mea_mnt3', 'conn_out_uniq_cnt_std_mnt1', 'voice_in_fix_tar_dur_mea_wk1', 'voice_mts_in_nwork_part_max_mnt1', 'MV_dou', 'com_num_part_mea_mnt1', 'vas_clc_std_mnt3', 'clc_no_vas_roam_max_mnt1', 'MV_ap_s', 'voice_out_fix_tar_dur_mea_mnt3', 'MV_Traf_ACCA_out_v_Min', 'DNZ_MEAN_days_closed_loan_year5', 'vas_clc_mea_mnt3', 'content_cnt_max_mnt1', 'all_clc_mea_mnt1', 'voice_in_td_cnt_max_mnt3', 'accum_oth_dur_mea_mnt1', 'voice_out_tar_dur_max_mnt3', 'sms_in_cnt_mea_mnt3', 'conn_com_part_min_mnt3', 'voice_in_cmpttrs_avg_durstd_mnt1', 'accum_oth_dur_std_mnt3', 'MV_ap_4G_d', 'ks_num_part_td_mnt3', 'accum_oth_dur_mea_wk1', 'all_home_clc_mea_mnt3', 'voice_mts_out_drest_partstd_mnt1', 'clc_no_vas_roam_mea_mnt1', 'conn_out_uniq_cnt_mea_mnt3', 'voice_in_cmpttrs_avg_durmax_mnt1', 'Internet', 'voice_in_cmpttrs_td_cnt_td_mnt3', 'voice_mts_out_drest_partstd_mnt3', 'num_act_days_std_mnt1', 'BS_OVERBUNDLE_MB_CNT_M2', 'MV_ARPU_4G_d_Traf', 'data_3g_tv_cnt_min_mnt3', 'voice_mts_out_drest_partmin_mnt1', 'accum_mts_dur_td_mnt3', 'MV_ap_omo_out_v', 'MV_DOU_OT', 'voice_mts_in_drest_part_std_mnt1', 'com_num_part_std_mnt3', 'voice_mts_out_nwork_partmea_wk1', 'voice_in_mts_avg_dur_std_mnt3', 'voice_in_kievstar_part_td_mnt3', 'MV_ARPU_omo_out_v_Traf', 'MV_dou_2G_d', 'voice_mts_out_dwork_partmax_mnt3', 'com_num_part_mea_mnt3', 'pay_p2p_out_sum_std_mnt3', 'all_clc_std_mnt3', 'voice_mts_out_nrest_partmea_mnt3', 'conn_out_uniq_cnt_std_mnt3', 'voice_in_life_part_mea_mnt1', 'ks_num_part_max_mnt3', 'all_clc_mea_wk1', 'voice_in_kievstar_part_std_mnt1', 'gprs_tar_vol_min_mnt3', 'voice_mts_in_dwork_part_max_mnt1', 'MV_ap_innet_out_v', 'all_cnt_mea_mnt1', 'accum_oth_dur_min_mnt1', 'data_3g_tar_vol_mea_mnt3', 'accum_mts_dur_min_mnt1', 'voice_out_cmpttrs_td_cntmax_mnt3', 'data_3g_tar_vol_max_mnt3', 'DNZ_MAX_days_closed_loan_year5', 'vas_clc_td_mnt3', 'voice_in_life_part_min_mnt1', 'bs_ovrl_OMO_CNT_M1', 'voice_out_fix_tar_dur_max_mnt3', 'voice_out_cmpttrs_avg_dumin_mnt3', 'device_type_nan', 'voice_out_cmpttrs_avg_dumea_mnt3', 'voice_out_cmpttrs_td_cntmea_mnt1', 'DNZ_DAYS_from_last_year2', 'accum_mts_dur_std_mnt3', 'voice_mts_out_drest_partmin_mnt3', 'voice_in_kievstar_part_std_mnt3', 'MV_Traf_innet_out_s_Cnt', 'accum_mts_dur_mea_wk1', 'voice_in_life_part_max_mnt3', 'abon_part_td_mnt3', 'voice_out_cmpttrs_avg_dustd_mnt3', 'voice_out_td_cnt_min_mnt3', 'accum_mts_dur_max_mnt3', 'voice_mts_out_nwork_partmea_mnt1', 'all_clc_td_mnt3', 'device_brand_nan', 'MV_ARPU_innet_out_v_Traf', 'pay_avg_mea_mnt1', 'device_brand_meizu', 'bs_delte_ppm_change_tp', 'voice_mts_out_drest_partmax_mnt3', 'voice_out_td_cnt_min_mnt1', 'pay_avg_std_mnt1', 'voice_mts_out_nrest_partmea_mnt1', 'accum_mts_dur_std_mnt1', 'ks_num_part_min_mnt1', 'data_3g_tv_cnt_mea_mnt1', 'MV_dou_data', 'BS_OVERBUNDLE_MB_SUM_M1', 'content_clc_mea_mnt1', 'voice_mts_out_nrest_partmea_wk1', 'MV_Traf_mn_inc_v_Min', 'MV_dou_innet_out_v', 'conn_in_uniq_cnt_max_mnt1', 'voice_mts_in_nwork_part_std_mnt3', 'content_clc_max_mnt1', 'MV_Traf_omo_inc_v_Min', 'conn_out_uniq_cnt_min_mnt3', 'voice_mts_out_nwork_partmax_mnt1', 'TM_ID', 'pay_sum_std_mnt3', 'data_3g_dou_std_mnt1', 'voice_mts_in_drest_part_mea_mnt3', 'pay_avg_max_mnt3', 'data_3g_tar_vol_std_mnt3', 'voice_mts_in_nwork_part_mea_mnt1', 'voice_in_tar_dur_min_mnt3', 'data_3g_tar_vol_min_mnt1', 'clc_no_vas_roam_max_mnt3', 'voice_mts_in_nwork_part_std_mnt1', 'ks_num_part_min_mnt3', 'voice_out_tar_dur_mea_mnt1', 'abon_part_std_mnt3', 'data_3g_dou_mea_mnt3', 'voice_out_td_cnt_max_mnt3', 'bs_ovrl_OMO_SUM_M1', 'MV_dou_out_s', 'MV_Traf_4G_d_Mb', 'data_3g_tar_vol_mea_mnt1', 'all_home_clc_std_mnt1', 'voice_in_cmpttrs_avg_durmin_mnt1', 'voice_mts_out_nwork_partstd_mnt1', 'pay_max_max_mnt3', 'sms_out_cnt_max_mnt3', 'voice_in_short_part_std_mnt3', 'non_accum_internet_vol_mea_mnt1', 'BS_OVERBUNDLE_MB_SUM_M3', 'MV_Traf_mn_out_s_Cnt', 'non_accum_internet_vol_std_mnt1', 'pay_avg_std_mnt3', 'pay_avg_mea_wk1', 'gprs_tar_vol_std_mnt1', 'voice_in_short_part_mea_mnt1', 'voice_mts_out_nwork_partmin_mnt3', 'MV_ARPU', 'all_home_clc_std_mnt3', 'voice_mts_out_dwork_partmax_mnt1', 'voice_mts_in_nrest_part_std_mnt3', 'voice_out_td_cnt_mea_mnt3', 'gprs_tar_vol_std_mnt3', 'voice_mts_in_dwork_part_std_mnt1', 'sms_out_cnt_mea_mnt3', 'all_clc_max_mnt1', 'voice_in_life_part_td_mnt3', 'BS_OVERBUNDLE_MB_CNT_M1', 'voice_in_td_cnt_min_mnt1', 'voice_in_short_part_max_mnt1', 'com_num_part_max_mnt1', 'DNZ_COUNT_closed_loan_year2', 'vas_clc_std_mnt1', 'conn_com_part_min_mnt1', 'ama_volume_td_mnt3', 'voice_out_cmpttrs_avg_dumax_mnt3', 'sms_clc_max_mnt3', 'voice_mts_in_nwork_part_min_mnt3', 'voice_mts_in_dwork_part_mea_wk1', 'voice_mts_out_nrest_partmax_mnt3', 'voice_in_fix_tar_dur_max_mnt3', 'voice_in_cmpttrs_td_cnt_max_mnt3', 'all_home_clc_max_mnt3', 'block_all_dur_std_mnt3', 'sms_in_cnt_max_mnt1', 'DNZ_MAX_days_closed_loan_year2', 'voice_mts_in_nrest_part_std_mnt1', 'com_num_part_min_mnt1', 'voice_out_short_part_std_mnt1', 'abon_part_mea_wk1']"
   ]
  },
  {
   "cell_type": "code",
   "execution_count": 177,
   "metadata": {
    "execution": {
     "iopub.execute_input": "2024-07-07T14:01:21.725527Z",
     "iopub.status.busy": "2024-07-07T14:01:21.725055Z",
     "iopub.status.idle": "2024-07-07T14:01:21.918117Z",
     "shell.execute_reply": "2024-07-07T14:01:21.916860Z",
     "shell.execute_reply.started": "2024-07-07T14:01:21.725491Z"
    }
   },
   "outputs": [],
   "source": [
    "df_train_fe = df_train_fe[features_2_use]"
   ]
  },
  {
   "cell_type": "code",
   "execution_count": 178,
   "metadata": {
    "execution": {
     "iopub.execute_input": "2024-07-07T14:01:23.526798Z",
     "iopub.status.busy": "2024-07-07T14:01:23.526011Z",
     "iopub.status.idle": "2024-07-07T14:02:22.291137Z",
     "shell.execute_reply": "2024-07-07T14:02:22.289939Z",
     "shell.execute_reply.started": "2024-07-07T14:01:23.526752Z"
    }
   },
   "outputs": [
    {
     "name": "stdout",
     "output_type": "stream",
     "text": [
      "Results have been saved to model_results.csv\n"
     ]
    },
    {
     "data": {
      "text/html": [
       "<div>\n",
       "<style scoped>\n",
       "    .dataframe tbody tr th:only-of-type {\n",
       "        vertical-align: middle;\n",
       "    }\n",
       "\n",
       "    .dataframe tbody tr th {\n",
       "        vertical-align: top;\n",
       "    }\n",
       "\n",
       "    .dataframe thead th {\n",
       "        text-align: right;\n",
       "    }\n",
       "</style>\n",
       "<table border=\"1\" class=\"dataframe\">\n",
       "  <thead>\n",
       "    <tr style=\"text-align: right;\">\n",
       "      <th></th>\n",
       "      <th>train_auc</th>\n",
       "      <th>val_auc</th>\n",
       "      <th>auc_diff</th>\n",
       "      <th>recall</th>\n",
       "      <th>fp_tp_ratio</th>\n",
       "      <th>train_time</th>\n",
       "      <th>val_time</th>\n",
       "      <th>dataset</th>\n",
       "    </tr>\n",
       "  </thead>\n",
       "  <tbody>\n",
       "    <tr>\n",
       "      <th>0</th>\n",
       "      <td>0.955138</td>\n",
       "      <td>0.901641</td>\n",
       "      <td>0.053497</td>\n",
       "      <td>0.792248</td>\n",
       "      <td>2.452055</td>\n",
       "      <td>55.220755</td>\n",
       "      <td>2.303413</td>\n",
       "      <td>Original 454</td>\n",
       "    </tr>\n",
       "  </tbody>\n",
       "</table>\n",
       "</div>"
      ],
      "text/plain": [
       "   train_auc   val_auc  auc_diff    recall  fp_tp_ratio  train_time  val_time  \\\n",
       "0   0.955138  0.901641  0.053497  0.792248     2.452055   55.220755  2.303413   \n",
       "\n",
       "        dataset  \n",
       "0  Original 454  "
      ]
     },
     "execution_count": 178,
     "metadata": {},
     "output_type": "execute_result"
    }
   ],
   "source": [
    "model = lgb.LGBMClassifier(verbose=-1, random_state=42, is_unbalance=True)    \n",
    "\n",
    "X = df_train_fe.drop(columns=['target'])\n",
    "y = df_train_fe['target']\n",
    "\n",
    "X_train, X_val, y_train, y_val = train_test_split(X, y, test_size=0.2, random_state=42)\n",
    "\n",
    "results = []\n",
    "result = train_and_evaluate(model, X_train, X_val, y_train, y_val, model)\n",
    "result['dataset'] = 'Original 454'  \n",
    "results.append(result)\n",
    "\n",
    "results_df = pd.DataFrame(results)\n",
    "results_df.to_csv('model_results.csv', mode='a', header=not os.path.exists('model_results.csv'), index=False)\n",
    "print(\"Results have been saved to model_results.csv\")\n",
    "\n",
    "results_df"
   ]
  },
  {
   "cell_type": "markdown",
   "metadata": {
    "execution": {
     "iopub.execute_input": "2024-07-07T13:51:12.975373Z",
     "iopub.status.busy": "2024-07-07T13:51:12.974645Z",
     "iopub.status.idle": "2024-07-07T13:51:12.986221Z",
     "shell.execute_reply": "2024-07-07T13:51:12.984195Z",
     "shell.execute_reply.started": "2024-07-07T13:51:12.975328Z"
    },
    "jp-MarkdownHeadingCollapsed": true,
    "tags": []
   },
   "source": [
    "### 454 найважливіших ознак з оригінального датасету плюс5 нових ознак з датасету DPI"
   ]
  },
  {
   "cell_type": "code",
   "execution_count": 179,
   "metadata": {
    "execution": {
     "iopub.execute_input": "2024-07-07T14:02:28.500629Z",
     "iopub.status.busy": "2024-07-07T14:02:28.500200Z",
     "iopub.status.idle": "2024-07-07T14:02:29.161577Z",
     "shell.execute_reply": "2024-07-07T14:02:29.160092Z",
     "shell.execute_reply.started": "2024-07-07T14:02:28.500590Z"
    }
   },
   "outputs": [],
   "source": [
    "df_train_fe = df_train_fe_0.copy()\n",
    "df_train_bnum = df_train_bnum_0.copy()\n",
    "df_train_dpi = df_train_dpi_0.copy()"
   ]
  },
  {
   "cell_type": "code",
   "execution_count": 180,
   "metadata": {
    "execution": {
     "iopub.execute_input": "2024-07-07T14:02:31.044575Z",
     "iopub.status.busy": "2024-07-07T14:02:31.044106Z",
     "iopub.status.idle": "2024-07-07T14:02:31.078069Z",
     "shell.execute_reply": "2024-07-07T14:02:31.076688Z",
     "shell.execute_reply.started": "2024-07-07T14:02:31.044530Z"
    }
   },
   "outputs": [],
   "source": [
    "features_2_use = ['abon_id','target', 'num_act_days_min_mnt3', 'device_days_usage', 'loc_market_share', 'num_act_days_mea_mnt1', 'voice_in_td_cnt_mea_mnt1', 'device_brand_prestigio', 'num_act_days_mea_mnt3', 'lt', 'loc_is_obl_center', 'day_end_gba', 'days_of_last_ppm', 'num_act_days_min_mnt1', 'sms_in_cnt_std_mnt3', 'device_type_modem', 'all_cnt_std_mnt3', 'days_of_end_last_ppm', 'voice_out_tar_dur_min_mnt3', 'Balance_uah', 'all_cnt_max_mnt1', 'imei_mean_long_days_usage', 'imei_mean_days_usage', 'bs_count_ppm_mn3', 'conn_out_uniq_cnt_mea_mnt1', 'all_cnt_std_mnt1', 'data_3g_tv_cnt_std_mnt1', 'data_3g_tv_cnt_max_mnt3', 'voice_in_td_cnt_td_mnt3', 'all_cnt_min_mnt3', 'voice_mts_in_dwork_part_mea_mnt3', 'voice_in_tar_dur_mea_wk1', 'count_day_for_last_paym', 'num_act_days_std_mnt3', 'content_cnt_mea_wk1', 'voice_in_tar_dur_min_mnt1', 'content_cnt_mea_mnt1', 'voice_mts_in_dwork_part_max_mnt3', 'imei_mean_day_announced', 'conn_in_uniq_cnt_td_mnt3', 'sum_paym_6_month', 'sms_in_cnt_mea_mnt1', 'sms_in_cnt_std_mnt1', 'voice_in_kievstar_part_mea_wk1', 'content_cnt_mea_mnt3', 'data_3g_tv_cnt_std_mnt3', 'myvf_day_usage', 'conn_out_uniq_cnt_mea_wk1', 'voice_mts_in_drest_part_mea_wk1', 'num_act_days_mea_wk1', 'voice_in_life_part_mea_mnt3', 'non_accum_internet_vol_mea_wk1', 'voice_out_td_cnt_td_mnt3', 'device_type_phone', 'voice_in_mts_avg_dur_min_mnt3', 'voice_in_mts_avg_dur_min_mnt1', 'voice_out_td_cnt_std_mnt1', 'voice_out_short_part_mea_mnt3', 'voice_in_cmpttrs_avg_durmin_mnt3', 'voice_mts_in_dwork_part_std_mnt3', 'voice_mts_out_dwork_partmea_mnt3', 'avg_paym_6_month', 'voice_mts_in_dwork_part_mea_mnt1', 'MV_Traf_Cont_inc_s_Cnt', 'MV_Traf_innet_inc_v_Min', 'voice_out_tar_dur_mea_wk1', 'voice_in_tar_dur_td_mnt3', 'gprs_tar_vol_min_mnt1', 'device_price', 'voice_mts_in_dwork_part_td_mnt3', 'conn_in_uniq_cnt_std_mnt3', 'voice_mts_out_drest_partmea_mnt3', 'num_act_days_td_mnt3', 'voice_mts_out_nwork_partmin_mnt1', 'std_paym_6_month', 'voice_in_td_cnt_std_mnt1', 'content_cnt_min_mnt3', 'bs_ovrl_OMO_CNT_M3', 'voice_in_mts_avg_dur_mea_wk1', 'non_accum_internet_vol_td_mnt3', 'voice_mts_out_dwork_partmin_mnt3', 'voice_in_kievstar_part_mea_mnt3', 'content_cnt_std_mnt1', 'MV_dou_4G_d', 'tsoa_call_cnt', 'non_accum_internet_vol_std_mnt3', 'voice_mts_out_dwork_partmea_wk1', 'conn_out_uniq_cnt_td_mnt3', 'device_has_lte', 'device_height_mm', 'conn_com_part_td_mnt3', 'voice_out_td_cnt_std_mnt3', 'voice_mts_out_drest_partmea_mnt1', 'voice_in_mts_avg_dur_td_mnt3', 'voice_mts_out_dwork_partmin_mnt1', 'imei_mean_price', 'min_paym_6_month', 'conn_out_uniq_cnt_min_mnt1', 'ks_num_part_mea_mnt3', 'voice_mts_in_drest_part_td_mnt3', 'voice_out_short_part_mea_mnt1', 'device_width_mm', 'com_num_part_max_mnt3', 'com_num_part_td_mnt3', 'voice_out_short_part_mea_wk1', 'device_brand_huawei', 'pay_max_td_mnt3', 'imei_max_price', 'device_brand_lenovo', 'voice_mts_out_nrest_parttd_mnt3', 'data_3g_dou_td_mnt3', 'content_cnt_td_mnt3', 'DNZ_MEAN_days_closed_loan_year2', 'voice_mts_in_dwork_part_min_mnt1', 'voice_in_cmpttrs_avg_durmax_mnt3', 'MV_Traf_pstn_out_v_Min', 'voice_out_tar_dur_std_mnt1', 'voice_out_cmpttrs_avg_dutd_mnt3', 'conn_out_uniq_cnt_max_mnt1', 'all_clc_mea_mnt3', 'voice_mts_in_dwork_part_min_mnt3', 'bs_delte_omo_change_tp', 'voice_out_cmpttrs_avg_dumea_wk1', 'voice_mts_out_dwork_partmea_mnt1', 'voice_in_td_cnt_std_mnt3', 'device_type_tablet', 'conn_com_part_mea_wk1', 'voice_in_cmpttrs_avg_durmea_wk1', 'MV_Traf_Cont_out_v_Min', 'MV_Traf_pstn_inc_v_Min', 'ks_num_part_mea_wk1', 'voice_mts_in_nwork_part_td_mnt3', 'last_paym', 'voice_mts_out_dwork_partstd_mnt3', 'voice_in_td_cnt_mea_mnt3', 'data_3g_dou_std_mnt3', 'voice_mts_out_nwork_parttd_mnt3', 'voice_in_mts_avg_dur_max_mnt1', 'voice_mts_out_nwork_partstd_mnt3', 'gprs_tar_vol_td_mnt3', 'voice_out_fix_tar_dur_std_mnt3', 'max_paym_6_month', 'all_cnt_min_mnt1', 'MV_Traf_innet_out_v_Min', 'voice_out_tar_dur_td_mnt3', 'voice_out_td_cnt_mea_wk1', 'voice_mts_out_drest_partmea_wk1', 'ks_num_part_mea_mnt1', 'voice_in_cmpttrs_avg_durtd_mnt3', 'com_num_part_min_mnt3', 'voice_in_fix_tar_dur_std_mnt3', 'voice_in_cmpttrs_avg_durmea_mnt3', 'voice_in_life_part_mea_wk1', 'content_cnt_std_mnt3', 'all_cnt_max_mnt3', 'pay_avg_td_mnt3', 'voice_in_cmpttrs_td_cnt_mea_mnt3', 'all_cnt_mea_mnt3', 'conn_com_part_mea_mnt3', 'voice_mts_in_drest_part_max_mnt3', 'voice_in_tar_dur_std_mnt1', 'data_3g_tv_cnt_td_mnt3', 'voice_mts_in_nrest_part_td_mnt3', 'voice_out_fix_tar_dur_td_mnt3', 'conn_in_uniq_cnt_mea_mnt1', 'MV_Traf_3G_d_Mb', 'voice_out_cmpttrs_td_cnttd_mnt3', 'voice_in_short_part_mea_mnt3', 'voice_in_kievstar_part_max_mnt1', 'voice_mts_in_drest_part_max_mnt1', 'voice_in_mts_avg_dur_max_mnt3', 'MV_DOU_PPM_VF', 'conn_out_uniq_cnt_max_mnt3', 'com_num_part_std_mnt1', 'data_3g_tar_vol_mea_wk1', 'voice_mts_out_dwork_partstd_mnt1', 'voice_mts_in_drest_part_min_mnt3', 'all_cnt_td_mnt3', 'voice_mts_out_nwork_partmax_mnt3', 'gprs_clc_mea_mnt3', 'all_cnt_mea_wk1', 'gprs_tar_vol_mea_wk1', 'conn_in_uniq_cnt_std_mnt1', 'pay_sum_max_mnt3', 'conn_com_part_std_mnt1', 'conn_in_uniq_cnt_mea_mnt3', 'accum_oth_dur_std_mnt1', 'voice_in_fix_tar_dur_td_mnt3', 'voice_in_life_part_std_mnt3', 'MV_dou_3G_d', 'MV_Traf_2G_d_Mb', 'voice_mts_in_nrest_part_mea_mnt1', 'voice_mts_in_nwork_part_max_mnt3', 'ama_volume_max_mnt1', 'voice_in_kievstar_part_mea_mnt1', 'non_accum_internet_vol_max_mnt1', 'conn_com_part_std_mnt3', 'voice_out_short_part_min_mnt1', 'voice_out_short_part_td_mnt3', 'MV_ot_total', 'voice_in_cmpttrs_avg_durstd_mnt3', 'device_android_version', 'Good_deed', 'non_accum_internet_vol_min_mnt1', 'content_cnt_min_mnt1', 'voice_out_cmpttrs_td_cntstd_mnt1', 'voice_in_cmpttrs_td_cnt_std_mnt3', 'voice_mts_out_drest_parttd_mnt3', 'data_3g_tv_cnt_mea_mnt3', 'voice_in_kievstar_part_min_mnt3', 'voice_mts_out_nwork_partmea_mnt3', 'voice_in_short_part_std_mnt1', 'voice_mts_out_nrest_partstd_mnt3', 'voice_mts_in_nwork_part_mea_mnt3', 'MV_Traf_Roam_d_Mb', 'accum_oth_dur_td_mnt3', 'gprs_tar_vol_mea_mnt3', 'ks_num_part_std_mnt3', 'conn_in_uniq_cnt_min_mnt1', 'voice_out_cmpttrs_avg_dustd_mnt1', 'voice_in_mts_avg_dur_mea_mnt1', 'com_num_part_mea_wk1', 'loc_cnt_events', 'voice_in_fix_tar_dur_mea_mnt1', 'sms_in_cnt_mea_wk1', 'voice_in_mts_avg_dur_std_mnt1', 'ks_num_part_max_mnt1', 'voice_mts_in_drest_part_mea_mnt1', 'voice_in_short_part_td_mnt3', 'voice_in_fix_tar_dur_mea_mnt3', 'voice_out_cmpttrs_avg_dumea_mnt1', 'voice_out_cmpttrs_avg_dumin_mnt1', 'bs_ovrl_OMO_SUM_M2', 'MV_Traf_omo_out_v_Min', 'MV_ot_Other', 'voice_out_short_part_max_mnt3', 'voice_in_tar_dur_mea_mnt1', 'non_accum_internet_vol_min_mnt3', 'cnt_paym_6_month', 'sms_in_cnt_td_mnt3', 'sms_clc_td_mnt3', 'clc_no_vas_roam_td_mnt3', 'voice_in_td_cnt_mea_wk1', 'voice_mts_out_dwork_parttd_mnt3', 'accum_mts_dur_mea_mnt3', 'ks_num_part_std_mnt1', 'pay_sum_td_mnt3', 'voice_mts_in_nwork_part_mea_wk1', 'device_sim_count', 'MV_ap_mn_out_v', 'voice_mts_in_drest_part_min_mnt1', 'MV_Traf_mn_out_v_Min', 'voice_mts_in_drest_part_std_mnt3', 'voice_out_fix_tar_dur_std_mnt1', 'data_3g_tar_vol_td_mnt3', 'bs_ovrl_OMO_CNT_M2', 'pay_max_mea_mnt3', 'voice_mts_in_nrest_part_min_mnt1', 'voice_in_fix_tar_dur_std_mnt1', 'voice_mts_out_nrest_partstd_mnt1', 'DNZ_STD_days_closed_loan_year5', 'gprs_tar_vol_max_mnt3', 'voice_mts_out_drest_partmax_mnt1', 'MV_net_total', 'voice_in_mts_avg_dur_mea_mnt3', 'voice_in_cmpttrs_td_cnt_mea_mnt1', 'voice_out_tar_dur_min_mnt1', 'sms_out_cnt_td_mnt3', 'vas_clc_mea_wk1', 'bs_ovrl_OMO_SUM_M3', 'tsoa_direct_cnt', 'sms_out_cnt_std_mnt3', 'non_accum_internet_vol_max_mnt3', 'device_ios_version', 'pay_max_std_mnt3', 'non_accum_internet_vol_mea_mnt3', 'conn_out_uniq_cnt_std_mnt1', 'voice_in_fix_tar_dur_mea_wk1', 'voice_mts_in_nwork_part_max_mnt1', 'MV_dou', 'com_num_part_mea_mnt1', 'vas_clc_std_mnt3', 'clc_no_vas_roam_max_mnt1', 'MV_ap_s', 'voice_out_fix_tar_dur_mea_mnt3', 'MV_Traf_ACCA_out_v_Min', 'DNZ_MEAN_days_closed_loan_year5', 'vas_clc_mea_mnt3', 'content_cnt_max_mnt1', 'all_clc_mea_mnt1', 'voice_in_td_cnt_max_mnt3', 'accum_oth_dur_mea_mnt1', 'voice_out_tar_dur_max_mnt3', 'sms_in_cnt_mea_mnt3', 'conn_com_part_min_mnt3', 'voice_in_cmpttrs_avg_durstd_mnt1', 'accum_oth_dur_std_mnt3', 'MV_ap_4G_d', 'ks_num_part_td_mnt3', 'accum_oth_dur_mea_wk1', 'all_home_clc_mea_mnt3', 'voice_mts_out_drest_partstd_mnt1', 'clc_no_vas_roam_mea_mnt1', 'conn_out_uniq_cnt_mea_mnt3', 'voice_in_cmpttrs_avg_durmax_mnt1', 'Internet', 'voice_in_cmpttrs_td_cnt_td_mnt3', 'voice_mts_out_drest_partstd_mnt3', 'num_act_days_std_mnt1', 'BS_OVERBUNDLE_MB_CNT_M2', 'MV_ARPU_4G_d_Traf', 'data_3g_tv_cnt_min_mnt3', 'voice_mts_out_drest_partmin_mnt1', 'accum_mts_dur_td_mnt3', 'MV_ap_omo_out_v', 'MV_DOU_OT', 'voice_mts_in_drest_part_std_mnt1', 'com_num_part_std_mnt3', 'voice_mts_out_nwork_partmea_wk1', 'voice_in_mts_avg_dur_std_mnt3', 'voice_in_kievstar_part_td_mnt3', 'MV_ARPU_omo_out_v_Traf', 'MV_dou_2G_d', 'voice_mts_out_dwork_partmax_mnt3', 'com_num_part_mea_mnt3', 'pay_p2p_out_sum_std_mnt3', 'all_clc_std_mnt3', 'voice_mts_out_nrest_partmea_mnt3', 'conn_out_uniq_cnt_std_mnt3', 'voice_in_life_part_mea_mnt1', 'ks_num_part_max_mnt3', 'all_clc_mea_wk1', 'voice_in_kievstar_part_std_mnt1', 'gprs_tar_vol_min_mnt3', 'voice_mts_in_dwork_part_max_mnt1', 'MV_ap_innet_out_v', 'all_cnt_mea_mnt1', 'accum_oth_dur_min_mnt1', 'data_3g_tar_vol_mea_mnt3', 'accum_mts_dur_min_mnt1', 'voice_out_cmpttrs_td_cntmax_mnt3', 'data_3g_tar_vol_max_mnt3', 'DNZ_MAX_days_closed_loan_year5', 'vas_clc_td_mnt3', 'voice_in_life_part_min_mnt1', 'bs_ovrl_OMO_CNT_M1', 'voice_out_fix_tar_dur_max_mnt3', 'voice_out_cmpttrs_avg_dumin_mnt3', 'device_type_nan', 'voice_out_cmpttrs_avg_dumea_mnt3', 'voice_out_cmpttrs_td_cntmea_mnt1', 'DNZ_DAYS_from_last_year2', 'accum_mts_dur_std_mnt3', 'voice_mts_out_drest_partmin_mnt3', 'voice_in_kievstar_part_std_mnt3', 'MV_Traf_innet_out_s_Cnt', 'accum_mts_dur_mea_wk1', 'voice_in_life_part_max_mnt3', 'abon_part_td_mnt3', 'voice_out_cmpttrs_avg_dustd_mnt3', 'voice_out_td_cnt_min_mnt3', 'accum_mts_dur_max_mnt3', 'voice_mts_out_nwork_partmea_mnt1', 'all_clc_td_mnt3', 'device_brand_nan', 'MV_ARPU_innet_out_v_Traf', 'pay_avg_mea_mnt1', 'device_brand_meizu', 'bs_delte_ppm_change_tp', 'voice_mts_out_drest_partmax_mnt3', 'voice_out_td_cnt_min_mnt1', 'pay_avg_std_mnt1', 'voice_mts_out_nrest_partmea_mnt1', 'accum_mts_dur_std_mnt1', 'ks_num_part_min_mnt1', 'data_3g_tv_cnt_mea_mnt1', 'MV_dou_data', 'BS_OVERBUNDLE_MB_SUM_M1', 'content_clc_mea_mnt1', 'voice_mts_out_nrest_partmea_wk1', 'MV_Traf_mn_inc_v_Min', 'MV_dou_innet_out_v', 'conn_in_uniq_cnt_max_mnt1', 'voice_mts_in_nwork_part_std_mnt3', 'content_clc_max_mnt1', 'MV_Traf_omo_inc_v_Min', 'conn_out_uniq_cnt_min_mnt3', 'voice_mts_out_nwork_partmax_mnt1', 'TM_ID', 'pay_sum_std_mnt3', 'data_3g_dou_std_mnt1', 'voice_mts_in_drest_part_mea_mnt3', 'pay_avg_max_mnt3', 'data_3g_tar_vol_std_mnt3', 'voice_mts_in_nwork_part_mea_mnt1', 'voice_in_tar_dur_min_mnt3', 'data_3g_tar_vol_min_mnt1', 'clc_no_vas_roam_max_mnt3', 'voice_mts_in_nwork_part_std_mnt1', 'ks_num_part_min_mnt3', 'voice_out_tar_dur_mea_mnt1', 'abon_part_std_mnt3', 'data_3g_dou_mea_mnt3', 'voice_out_td_cnt_max_mnt3', 'bs_ovrl_OMO_SUM_M1', 'MV_dou_out_s', 'MV_Traf_4G_d_Mb', 'data_3g_tar_vol_mea_mnt1', 'all_home_clc_std_mnt1', 'voice_in_cmpttrs_avg_durmin_mnt1', 'voice_mts_out_nwork_partstd_mnt1', 'pay_max_max_mnt3', 'sms_out_cnt_max_mnt3', 'voice_in_short_part_std_mnt3', 'non_accum_internet_vol_mea_mnt1', 'BS_OVERBUNDLE_MB_SUM_M3', 'MV_Traf_mn_out_s_Cnt', 'non_accum_internet_vol_std_mnt1', 'pay_avg_std_mnt3', 'pay_avg_mea_wk1', 'gprs_tar_vol_std_mnt1', 'voice_in_short_part_mea_mnt1', 'voice_mts_out_nwork_partmin_mnt3', 'MV_ARPU', 'all_home_clc_std_mnt3', 'voice_mts_out_dwork_partmax_mnt1', 'voice_mts_in_nrest_part_std_mnt3', 'voice_out_td_cnt_mea_mnt3', 'gprs_tar_vol_std_mnt3', 'voice_mts_in_dwork_part_std_mnt1', 'sms_out_cnt_mea_mnt3', 'all_clc_max_mnt1', 'voice_in_life_part_td_mnt3', 'BS_OVERBUNDLE_MB_CNT_M1', 'voice_in_td_cnt_min_mnt1', 'voice_in_short_part_max_mnt1', 'com_num_part_max_mnt1', 'DNZ_COUNT_closed_loan_year2', 'vas_clc_std_mnt1', 'conn_com_part_min_mnt1', 'ama_volume_td_mnt3', 'voice_out_cmpttrs_avg_dumax_mnt3', 'sms_clc_max_mnt3', 'voice_mts_in_nwork_part_min_mnt3', 'voice_mts_in_dwork_part_mea_wk1', 'voice_mts_out_nrest_partmax_mnt3', 'voice_in_fix_tar_dur_max_mnt3', 'voice_in_cmpttrs_td_cnt_max_mnt3', 'all_home_clc_max_mnt3', 'block_all_dur_std_mnt3', 'sms_in_cnt_max_mnt1', 'DNZ_MAX_days_closed_loan_year2', 'voice_mts_in_nrest_part_std_mnt1', 'com_num_part_min_mnt1', 'voice_out_short_part_std_mnt1', 'abon_part_mea_wk1']"
   ]
  },
  {
   "cell_type": "code",
   "execution_count": 181,
   "metadata": {
    "execution": {
     "iopub.execute_input": "2024-07-07T14:02:33.011780Z",
     "iopub.status.busy": "2024-07-07T14:02:33.011337Z",
     "iopub.status.idle": "2024-07-07T14:02:33.202686Z",
     "shell.execute_reply": "2024-07-07T14:02:33.201344Z",
     "shell.execute_reply.started": "2024-07-07T14:02:33.011739Z"
    }
   },
   "outputs": [],
   "source": [
    "df_train_fe = df_train_fe[features_2_use]"
   ]
  },
  {
   "cell_type": "code",
   "execution_count": 182,
   "metadata": {
    "execution": {
     "iopub.execute_input": "2024-07-07T14:02:34.747996Z",
     "iopub.status.busy": "2024-07-07T14:02:34.747510Z",
     "iopub.status.idle": "2024-07-07T14:02:45.066027Z",
     "shell.execute_reply": "2024-07-07T14:02:45.064760Z",
     "shell.execute_reply.started": "2024-07-07T14:02:34.747958Z"
    }
   },
   "outputs": [
    {
     "name": "stdout",
     "output_type": "stream",
     "text": [
      "   abon_id  target  num_act_days_min_mnt3  device_days_usage  \\\n",
      "0  1545052       0               1.480453          53.249600   \n",
      "1  1545235       0               5.324077          47.044200   \n",
      "2  1549358       0               5.324077          27.615852   \n",
      "3  1549591       0               4.786566          34.201236   \n",
      "4  1558772       0               5.324077          50.270526   \n",
      "\n",
      "   loc_market_share  num_act_days_mea_mnt1  voice_in_td_cnt_mea_mnt1  \\\n",
      "0          1.186492               4.646353                  2.569415   \n",
      "1          1.186492               5.324077                 15.945794   \n",
      "2          1.134741               5.324077                  5.193046   \n",
      "3          1.186492               5.059834                 11.862541   \n",
      "4          1.186492               5.324077                 11.739678   \n",
      "\n",
      "   device_brand_prestigio  num_act_days_mea_mnt3        lt  ...  \\\n",
      "0                     0.0               4.693364  6.135202  ...   \n",
      "1                     0.0               5.324077  6.135617  ...   \n",
      "2                     0.0               5.324077  6.125043  ...   \n",
      "3                     0.0               5.148888  6.130697  ...   \n",
      "4                     0.0               5.324077  6.117506  ...   \n",
      "\n",
      "   DNZ_MAX_days_closed_loan_year2  voice_mts_in_nrest_part_std_mnt1  \\\n",
      "0                             NaN                          0.000000   \n",
      "1                             NaN                          1.000007   \n",
      "2                             NaN                          0.000000   \n",
      "3                             NaN                          1.000128   \n",
      "4                             NaN                          1.000548   \n",
      "\n",
      "   com_num_part_min_mnt1  voice_out_short_part_std_mnt1  abon_part_mea_wk1  \\\n",
      "0               1.480453                       1.164402                0.0   \n",
      "1               0.000000                       1.000016                0.0   \n",
      "2               0.000000                       0.000000                0.0   \n",
      "3               0.000000                       1.006714                0.0   \n",
      "4               1.033241                       1.000162                0.0   \n",
      "\n",
      "   unique_applications  total_duration_sec  total_volume_kb  \\\n",
      "0                  NaN                 NaN              NaN   \n",
      "1                 51.0         2408.588251      2913.655748   \n",
      "2                  NaN                 NaN              NaN   \n",
      "3                  1.0            0.000000         1.027395   \n",
      "4                 65.0         2720.091775      3707.656849   \n",
      "\n",
      "   total_count_events  total_day_count  \n",
      "0                 NaN              NaN  \n",
      "1         1274.088403            644.0  \n",
      "2                 NaN              NaN  \n",
      "3            1.480453              1.0  \n",
      "4         1640.256796            904.0  \n",
      "\n",
      "[5 rows x 461 columns]\n"
     ]
    }
   ],
   "source": [
    "# DPI DPI DPI DPI DPI DPI DPI DPI DPI DPI DPI DPI DPI DPI DPI DPI \n",
    "# Нові ознаки 5 - кількість застосунків та суми всіх метрик по всіх застосунках\n",
    "\n",
    "agg_functions = {\n",
    "    'Application': pd.Series.nunique,  # кількість різних значень ознаки Application\n",
    "    'SUM_of_Duration_sec': 'sum',      # сума всіх значень ознаки SUM_of_Duration_sec\n",
    "    'SUM_of_Volume_kb': 'sum',         # сума всіх значень ознаки SUM_of_Volume_kb\n",
    "    'SUM_of_Count_events': 'sum',      # сума всіх значень ознаки SUM_of_Count_events\n",
    "    'MAX_of_day_cnt': 'sum'            # сума всіх значень ознаки MAX_of_day_cnt\n",
    "}\n",
    "\n",
    "def create_features(df_dpi, df_fe):\n",
    "    aggregated = df_dpi.groupby('abon_id').agg(agg_functions).reset_index()\n",
    "    aggregated.columns = ['abon_id', 'unique_applications', 'total_duration_sec', 'total_volume_kb', 'total_count_events', 'total_day_count']\n",
    "    df_fe = df_fe.merge(aggregated, on='abon_id', how='left')\n",
    "    return df_fe\n",
    "\n",
    "df_train_fe = create_features(df_train_dpi, df_train_fe)\n",
    "\n",
    "print(df_train_fe.head())"
   ]
  },
  {
   "cell_type": "code",
   "execution_count": 183,
   "metadata": {
    "execution": {
     "iopub.execute_input": "2024-07-07T14:02:46.107914Z",
     "iopub.status.busy": "2024-07-07T14:02:46.106955Z",
     "iopub.status.idle": "2024-07-07T14:02:46.297822Z",
     "shell.execute_reply": "2024-07-07T14:02:46.296269Z",
     "shell.execute_reply.started": "2024-07-07T14:02:46.107875Z"
    }
   },
   "outputs": [],
   "source": [
    "# Видалення неінформативних ознак:\n",
    "\n",
    "df_train_fe.drop(\"abon_id\", axis=1, inplace=True)\n"
   ]
  },
  {
   "cell_type": "code",
   "execution_count": 184,
   "metadata": {
    "execution": {
     "iopub.execute_input": "2024-07-07T14:02:48.381869Z",
     "iopub.status.busy": "2024-07-07T14:02:48.381349Z",
     "iopub.status.idle": "2024-07-07T14:03:48.619352Z",
     "shell.execute_reply": "2024-07-07T14:03:48.618132Z",
     "shell.execute_reply.started": "2024-07-07T14:02:48.381826Z"
    }
   },
   "outputs": [
    {
     "name": "stdout",
     "output_type": "stream",
     "text": [
      "Results have been saved to model_results.csv\n"
     ]
    },
    {
     "data": {
      "text/html": [
       "<div>\n",
       "<style scoped>\n",
       "    .dataframe tbody tr th:only-of-type {\n",
       "        vertical-align: middle;\n",
       "    }\n",
       "\n",
       "    .dataframe tbody tr th {\n",
       "        vertical-align: top;\n",
       "    }\n",
       "\n",
       "    .dataframe thead th {\n",
       "        text-align: right;\n",
       "    }\n",
       "</style>\n",
       "<table border=\"1\" class=\"dataframe\">\n",
       "  <thead>\n",
       "    <tr style=\"text-align: right;\">\n",
       "      <th></th>\n",
       "      <th>train_auc</th>\n",
       "      <th>val_auc</th>\n",
       "      <th>auc_diff</th>\n",
       "      <th>recall</th>\n",
       "      <th>fp_tp_ratio</th>\n",
       "      <th>train_time</th>\n",
       "      <th>val_time</th>\n",
       "      <th>dataset</th>\n",
       "    </tr>\n",
       "  </thead>\n",
       "  <tbody>\n",
       "    <tr>\n",
       "      <th>0</th>\n",
       "      <td>0.955739</td>\n",
       "      <td>0.901039</td>\n",
       "      <td>0.0547</td>\n",
       "      <td>0.789147</td>\n",
       "      <td>2.446627</td>\n",
       "      <td>56.346735</td>\n",
       "      <td>2.523268</td>\n",
       "      <td>454 +5 DPI</td>\n",
       "    </tr>\n",
       "  </tbody>\n",
       "</table>\n",
       "</div>"
      ],
      "text/plain": [
       "   train_auc   val_auc  auc_diff    recall  fp_tp_ratio  train_time  val_time  \\\n",
       "0   0.955739  0.901039    0.0547  0.789147     2.446627   56.346735  2.523268   \n",
       "\n",
       "      dataset  \n",
       "0  454 +5 DPI  "
      ]
     },
     "execution_count": 184,
     "metadata": {},
     "output_type": "execute_result"
    }
   ],
   "source": [
    "model = lgb.LGBMClassifier(verbose=-1, random_state=42, is_unbalance=True)    \n",
    "\n",
    "X = df_train_fe.drop(columns=['target'])\n",
    "y = df_train_fe['target']\n",
    "\n",
    "X_train, X_val, y_train, y_val = train_test_split(X, y, test_size=0.2, random_state=42)\n",
    "\n",
    "results = []\n",
    "result = train_and_evaluate(model, X_train, X_val, y_train, y_val, model)\n",
    "result['dataset'] = '454 +5 DPI'  \n",
    "results.append(result)\n",
    "\n",
    "results_df = pd.DataFrame(results)\n",
    "results_df.to_csv('model_results.csv', mode='a', header=not os.path.exists('model_results.csv'), index=False)\n",
    "print(\"Results have been saved to model_results.csv\")\n",
    "\n",
    "results_df"
   ]
  },
  {
   "cell_type": "markdown",
   "metadata": {
    "jp-MarkdownHeadingCollapsed": true,
    "tags": []
   },
   "source": [
    "### 454 найважливіших ознак з оригінального датасету плюс 2500 нових ознак з датасету BNUM"
   ]
  },
  {
   "cell_type": "code",
   "execution_count": 185,
   "metadata": {
    "execution": {
     "iopub.execute_input": "2024-07-07T14:03:51.057657Z",
     "iopub.status.busy": "2024-07-07T14:03:51.057244Z",
     "iopub.status.idle": "2024-07-07T14:03:51.594024Z",
     "shell.execute_reply": "2024-07-07T14:03:51.592852Z",
     "shell.execute_reply.started": "2024-07-07T14:03:51.057626Z"
    }
   },
   "outputs": [],
   "source": [
    "df_train_fe = df_train_fe_0.copy()\n",
    "df_train_bnum = df_train_bnum_0.copy()\n",
    "df_train_dpi = df_train_dpi_0.copy()"
   ]
  },
  {
   "cell_type": "code",
   "execution_count": 186,
   "metadata": {
    "execution": {
     "iopub.execute_input": "2024-07-07T14:03:54.591466Z",
     "iopub.status.busy": "2024-07-07T14:03:54.591024Z",
     "iopub.status.idle": "2024-07-07T14:03:54.624722Z",
     "shell.execute_reply": "2024-07-07T14:03:54.623200Z",
     "shell.execute_reply.started": "2024-07-07T14:03:54.591426Z"
    }
   },
   "outputs": [],
   "source": [
    "features_2_use = ['abon_id','target', 'num_act_days_min_mnt3', 'device_days_usage', 'loc_market_share', 'num_act_days_mea_mnt1', 'voice_in_td_cnt_mea_mnt1', 'device_brand_prestigio', 'num_act_days_mea_mnt3', 'lt', 'loc_is_obl_center', 'day_end_gba', 'days_of_last_ppm', 'num_act_days_min_mnt1', 'sms_in_cnt_std_mnt3', 'device_type_modem', 'all_cnt_std_mnt3', 'days_of_end_last_ppm', 'voice_out_tar_dur_min_mnt3', 'Balance_uah', 'all_cnt_max_mnt1', 'imei_mean_long_days_usage', 'imei_mean_days_usage', 'bs_count_ppm_mn3', 'conn_out_uniq_cnt_mea_mnt1', 'all_cnt_std_mnt1', 'data_3g_tv_cnt_std_mnt1', 'data_3g_tv_cnt_max_mnt3', 'voice_in_td_cnt_td_mnt3', 'all_cnt_min_mnt3', 'voice_mts_in_dwork_part_mea_mnt3', 'voice_in_tar_dur_mea_wk1', 'count_day_for_last_paym', 'num_act_days_std_mnt3', 'content_cnt_mea_wk1', 'voice_in_tar_dur_min_mnt1', 'content_cnt_mea_mnt1', 'voice_mts_in_dwork_part_max_mnt3', 'imei_mean_day_announced', 'conn_in_uniq_cnt_td_mnt3', 'sum_paym_6_month', 'sms_in_cnt_mea_mnt1', 'sms_in_cnt_std_mnt1', 'voice_in_kievstar_part_mea_wk1', 'content_cnt_mea_mnt3', 'data_3g_tv_cnt_std_mnt3', 'myvf_day_usage', 'conn_out_uniq_cnt_mea_wk1', 'voice_mts_in_drest_part_mea_wk1', 'num_act_days_mea_wk1', 'voice_in_life_part_mea_mnt3', 'non_accum_internet_vol_mea_wk1', 'voice_out_td_cnt_td_mnt3', 'device_type_phone', 'voice_in_mts_avg_dur_min_mnt3', 'voice_in_mts_avg_dur_min_mnt1', 'voice_out_td_cnt_std_mnt1', 'voice_out_short_part_mea_mnt3', 'voice_in_cmpttrs_avg_durmin_mnt3', 'voice_mts_in_dwork_part_std_mnt3', 'voice_mts_out_dwork_partmea_mnt3', 'avg_paym_6_month', 'voice_mts_in_dwork_part_mea_mnt1', 'MV_Traf_Cont_inc_s_Cnt', 'MV_Traf_innet_inc_v_Min', 'voice_out_tar_dur_mea_wk1', 'voice_in_tar_dur_td_mnt3', 'gprs_tar_vol_min_mnt1', 'device_price', 'voice_mts_in_dwork_part_td_mnt3', 'conn_in_uniq_cnt_std_mnt3', 'voice_mts_out_drest_partmea_mnt3', 'num_act_days_td_mnt3', 'voice_mts_out_nwork_partmin_mnt1', 'std_paym_6_month', 'voice_in_td_cnt_std_mnt1', 'content_cnt_min_mnt3', 'bs_ovrl_OMO_CNT_M3', 'voice_in_mts_avg_dur_mea_wk1', 'non_accum_internet_vol_td_mnt3', 'voice_mts_out_dwork_partmin_mnt3', 'voice_in_kievstar_part_mea_mnt3', 'content_cnt_std_mnt1', 'MV_dou_4G_d', 'tsoa_call_cnt', 'non_accum_internet_vol_std_mnt3', 'voice_mts_out_dwork_partmea_wk1', 'conn_out_uniq_cnt_td_mnt3', 'device_has_lte', 'device_height_mm', 'conn_com_part_td_mnt3', 'voice_out_td_cnt_std_mnt3', 'voice_mts_out_drest_partmea_mnt1', 'voice_in_mts_avg_dur_td_mnt3', 'voice_mts_out_dwork_partmin_mnt1', 'imei_mean_price', 'min_paym_6_month', 'conn_out_uniq_cnt_min_mnt1', 'ks_num_part_mea_mnt3', 'voice_mts_in_drest_part_td_mnt3', 'voice_out_short_part_mea_mnt1', 'device_width_mm', 'com_num_part_max_mnt3', 'com_num_part_td_mnt3', 'voice_out_short_part_mea_wk1', 'device_brand_huawei', 'pay_max_td_mnt3', 'imei_max_price', 'device_brand_lenovo', 'voice_mts_out_nrest_parttd_mnt3', 'data_3g_dou_td_mnt3', 'content_cnt_td_mnt3', 'DNZ_MEAN_days_closed_loan_year2', 'voice_mts_in_dwork_part_min_mnt1', 'voice_in_cmpttrs_avg_durmax_mnt3', 'MV_Traf_pstn_out_v_Min', 'voice_out_tar_dur_std_mnt1', 'voice_out_cmpttrs_avg_dutd_mnt3', 'conn_out_uniq_cnt_max_mnt1', 'all_clc_mea_mnt3', 'voice_mts_in_dwork_part_min_mnt3', 'bs_delte_omo_change_tp', 'voice_out_cmpttrs_avg_dumea_wk1', 'voice_mts_out_dwork_partmea_mnt1', 'voice_in_td_cnt_std_mnt3', 'device_type_tablet', 'conn_com_part_mea_wk1', 'voice_in_cmpttrs_avg_durmea_wk1', 'MV_Traf_Cont_out_v_Min', 'MV_Traf_pstn_inc_v_Min', 'ks_num_part_mea_wk1', 'voice_mts_in_nwork_part_td_mnt3', 'last_paym', 'voice_mts_out_dwork_partstd_mnt3', 'voice_in_td_cnt_mea_mnt3', 'data_3g_dou_std_mnt3', 'voice_mts_out_nwork_parttd_mnt3', 'voice_in_mts_avg_dur_max_mnt1', 'voice_mts_out_nwork_partstd_mnt3', 'gprs_tar_vol_td_mnt3', 'voice_out_fix_tar_dur_std_mnt3', 'max_paym_6_month', 'all_cnt_min_mnt1', 'MV_Traf_innet_out_v_Min', 'voice_out_tar_dur_td_mnt3', 'voice_out_td_cnt_mea_wk1', 'voice_mts_out_drest_partmea_wk1', 'ks_num_part_mea_mnt1', 'voice_in_cmpttrs_avg_durtd_mnt3', 'com_num_part_min_mnt3', 'voice_in_fix_tar_dur_std_mnt3', 'voice_in_cmpttrs_avg_durmea_mnt3', 'voice_in_life_part_mea_wk1', 'content_cnt_std_mnt3', 'all_cnt_max_mnt3', 'pay_avg_td_mnt3', 'voice_in_cmpttrs_td_cnt_mea_mnt3', 'all_cnt_mea_mnt3', 'conn_com_part_mea_mnt3', 'voice_mts_in_drest_part_max_mnt3', 'voice_in_tar_dur_std_mnt1', 'data_3g_tv_cnt_td_mnt3', 'voice_mts_in_nrest_part_td_mnt3', 'voice_out_fix_tar_dur_td_mnt3', 'conn_in_uniq_cnt_mea_mnt1', 'MV_Traf_3G_d_Mb', 'voice_out_cmpttrs_td_cnttd_mnt3', 'voice_in_short_part_mea_mnt3', 'voice_in_kievstar_part_max_mnt1', 'voice_mts_in_drest_part_max_mnt1', 'voice_in_mts_avg_dur_max_mnt3', 'MV_DOU_PPM_VF', 'conn_out_uniq_cnt_max_mnt3', 'com_num_part_std_mnt1', 'data_3g_tar_vol_mea_wk1', 'voice_mts_out_dwork_partstd_mnt1', 'voice_mts_in_drest_part_min_mnt3', 'all_cnt_td_mnt3', 'voice_mts_out_nwork_partmax_mnt3', 'gprs_clc_mea_mnt3', 'all_cnt_mea_wk1', 'gprs_tar_vol_mea_wk1', 'conn_in_uniq_cnt_std_mnt1', 'pay_sum_max_mnt3', 'conn_com_part_std_mnt1', 'conn_in_uniq_cnt_mea_mnt3', 'accum_oth_dur_std_mnt1', 'voice_in_fix_tar_dur_td_mnt3', 'voice_in_life_part_std_mnt3', 'MV_dou_3G_d', 'MV_Traf_2G_d_Mb', 'voice_mts_in_nrest_part_mea_mnt1', 'voice_mts_in_nwork_part_max_mnt3', 'ama_volume_max_mnt1', 'voice_in_kievstar_part_mea_mnt1', 'non_accum_internet_vol_max_mnt1', 'conn_com_part_std_mnt3', 'voice_out_short_part_min_mnt1', 'voice_out_short_part_td_mnt3', 'MV_ot_total', 'voice_in_cmpttrs_avg_durstd_mnt3', 'device_android_version', 'Good_deed', 'non_accum_internet_vol_min_mnt1', 'content_cnt_min_mnt1', 'voice_out_cmpttrs_td_cntstd_mnt1', 'voice_in_cmpttrs_td_cnt_std_mnt3', 'voice_mts_out_drest_parttd_mnt3', 'data_3g_tv_cnt_mea_mnt3', 'voice_in_kievstar_part_min_mnt3', 'voice_mts_out_nwork_partmea_mnt3', 'voice_in_short_part_std_mnt1', 'voice_mts_out_nrest_partstd_mnt3', 'voice_mts_in_nwork_part_mea_mnt3', 'MV_Traf_Roam_d_Mb', 'accum_oth_dur_td_mnt3', 'gprs_tar_vol_mea_mnt3', 'ks_num_part_std_mnt3', 'conn_in_uniq_cnt_min_mnt1', 'voice_out_cmpttrs_avg_dustd_mnt1', 'voice_in_mts_avg_dur_mea_mnt1', 'com_num_part_mea_wk1', 'loc_cnt_events', 'voice_in_fix_tar_dur_mea_mnt1', 'sms_in_cnt_mea_wk1', 'voice_in_mts_avg_dur_std_mnt1', 'ks_num_part_max_mnt1', 'voice_mts_in_drest_part_mea_mnt1', 'voice_in_short_part_td_mnt3', 'voice_in_fix_tar_dur_mea_mnt3', 'voice_out_cmpttrs_avg_dumea_mnt1', 'voice_out_cmpttrs_avg_dumin_mnt1', 'bs_ovrl_OMO_SUM_M2', 'MV_Traf_omo_out_v_Min', 'MV_ot_Other', 'voice_out_short_part_max_mnt3', 'voice_in_tar_dur_mea_mnt1', 'non_accum_internet_vol_min_mnt3', 'cnt_paym_6_month', 'sms_in_cnt_td_mnt3', 'sms_clc_td_mnt3', 'clc_no_vas_roam_td_mnt3', 'voice_in_td_cnt_mea_wk1', 'voice_mts_out_dwork_parttd_mnt3', 'accum_mts_dur_mea_mnt3', 'ks_num_part_std_mnt1', 'pay_sum_td_mnt3', 'voice_mts_in_nwork_part_mea_wk1', 'device_sim_count', 'MV_ap_mn_out_v', 'voice_mts_in_drest_part_min_mnt1', 'MV_Traf_mn_out_v_Min', 'voice_mts_in_drest_part_std_mnt3', 'voice_out_fix_tar_dur_std_mnt1', 'data_3g_tar_vol_td_mnt3', 'bs_ovrl_OMO_CNT_M2', 'pay_max_mea_mnt3', 'voice_mts_in_nrest_part_min_mnt1', 'voice_in_fix_tar_dur_std_mnt1', 'voice_mts_out_nrest_partstd_mnt1', 'DNZ_STD_days_closed_loan_year5', 'gprs_tar_vol_max_mnt3', 'voice_mts_out_drest_partmax_mnt1', 'MV_net_total', 'voice_in_mts_avg_dur_mea_mnt3', 'voice_in_cmpttrs_td_cnt_mea_mnt1', 'voice_out_tar_dur_min_mnt1', 'sms_out_cnt_td_mnt3', 'vas_clc_mea_wk1', 'bs_ovrl_OMO_SUM_M3', 'tsoa_direct_cnt', 'sms_out_cnt_std_mnt3', 'non_accum_internet_vol_max_mnt3', 'device_ios_version', 'pay_max_std_mnt3', 'non_accum_internet_vol_mea_mnt3', 'conn_out_uniq_cnt_std_mnt1', 'voice_in_fix_tar_dur_mea_wk1', 'voice_mts_in_nwork_part_max_mnt1', 'MV_dou', 'com_num_part_mea_mnt1', 'vas_clc_std_mnt3', 'clc_no_vas_roam_max_mnt1', 'MV_ap_s', 'voice_out_fix_tar_dur_mea_mnt3', 'MV_Traf_ACCA_out_v_Min', 'DNZ_MEAN_days_closed_loan_year5', 'vas_clc_mea_mnt3', 'content_cnt_max_mnt1', 'all_clc_mea_mnt1', 'voice_in_td_cnt_max_mnt3', 'accum_oth_dur_mea_mnt1', 'voice_out_tar_dur_max_mnt3', 'sms_in_cnt_mea_mnt3', 'conn_com_part_min_mnt3', 'voice_in_cmpttrs_avg_durstd_mnt1', 'accum_oth_dur_std_mnt3', 'MV_ap_4G_d', 'ks_num_part_td_mnt3', 'accum_oth_dur_mea_wk1', 'all_home_clc_mea_mnt3', 'voice_mts_out_drest_partstd_mnt1', 'clc_no_vas_roam_mea_mnt1', 'conn_out_uniq_cnt_mea_mnt3', 'voice_in_cmpttrs_avg_durmax_mnt1', 'Internet', 'voice_in_cmpttrs_td_cnt_td_mnt3', 'voice_mts_out_drest_partstd_mnt3', 'num_act_days_std_mnt1', 'BS_OVERBUNDLE_MB_CNT_M2', 'MV_ARPU_4G_d_Traf', 'data_3g_tv_cnt_min_mnt3', 'voice_mts_out_drest_partmin_mnt1', 'accum_mts_dur_td_mnt3', 'MV_ap_omo_out_v', 'MV_DOU_OT', 'voice_mts_in_drest_part_std_mnt1', 'com_num_part_std_mnt3', 'voice_mts_out_nwork_partmea_wk1', 'voice_in_mts_avg_dur_std_mnt3', 'voice_in_kievstar_part_td_mnt3', 'MV_ARPU_omo_out_v_Traf', 'MV_dou_2G_d', 'voice_mts_out_dwork_partmax_mnt3', 'com_num_part_mea_mnt3', 'pay_p2p_out_sum_std_mnt3', 'all_clc_std_mnt3', 'voice_mts_out_nrest_partmea_mnt3', 'conn_out_uniq_cnt_std_mnt3', 'voice_in_life_part_mea_mnt1', 'ks_num_part_max_mnt3', 'all_clc_mea_wk1', 'voice_in_kievstar_part_std_mnt1', 'gprs_tar_vol_min_mnt3', 'voice_mts_in_dwork_part_max_mnt1', 'MV_ap_innet_out_v', 'all_cnt_mea_mnt1', 'accum_oth_dur_min_mnt1', 'data_3g_tar_vol_mea_mnt3', 'accum_mts_dur_min_mnt1', 'voice_out_cmpttrs_td_cntmax_mnt3', 'data_3g_tar_vol_max_mnt3', 'DNZ_MAX_days_closed_loan_year5', 'vas_clc_td_mnt3', 'voice_in_life_part_min_mnt1', 'bs_ovrl_OMO_CNT_M1', 'voice_out_fix_tar_dur_max_mnt3', 'voice_out_cmpttrs_avg_dumin_mnt3', 'device_type_nan', 'voice_out_cmpttrs_avg_dumea_mnt3', 'voice_out_cmpttrs_td_cntmea_mnt1', 'DNZ_DAYS_from_last_year2', 'accum_mts_dur_std_mnt3', 'voice_mts_out_drest_partmin_mnt3', 'voice_in_kievstar_part_std_mnt3', 'MV_Traf_innet_out_s_Cnt', 'accum_mts_dur_mea_wk1', 'voice_in_life_part_max_mnt3', 'abon_part_td_mnt3', 'voice_out_cmpttrs_avg_dustd_mnt3', 'voice_out_td_cnt_min_mnt3', 'accum_mts_dur_max_mnt3', 'voice_mts_out_nwork_partmea_mnt1', 'all_clc_td_mnt3', 'device_brand_nan', 'MV_ARPU_innet_out_v_Traf', 'pay_avg_mea_mnt1', 'device_brand_meizu', 'bs_delte_ppm_change_tp', 'voice_mts_out_drest_partmax_mnt3', 'voice_out_td_cnt_min_mnt1', 'pay_avg_std_mnt1', 'voice_mts_out_nrest_partmea_mnt1', 'accum_mts_dur_std_mnt1', 'ks_num_part_min_mnt1', 'data_3g_tv_cnt_mea_mnt1', 'MV_dou_data', 'BS_OVERBUNDLE_MB_SUM_M1', 'content_clc_mea_mnt1', 'voice_mts_out_nrest_partmea_wk1', 'MV_Traf_mn_inc_v_Min', 'MV_dou_innet_out_v', 'conn_in_uniq_cnt_max_mnt1', 'voice_mts_in_nwork_part_std_mnt3', 'content_clc_max_mnt1', 'MV_Traf_omo_inc_v_Min', 'conn_out_uniq_cnt_min_mnt3', 'voice_mts_out_nwork_partmax_mnt1', 'TM_ID', 'pay_sum_std_mnt3', 'data_3g_dou_std_mnt1', 'voice_mts_in_drest_part_mea_mnt3', 'pay_avg_max_mnt3', 'data_3g_tar_vol_std_mnt3', 'voice_mts_in_nwork_part_mea_mnt1', 'voice_in_tar_dur_min_mnt3', 'data_3g_tar_vol_min_mnt1', 'clc_no_vas_roam_max_mnt3', 'voice_mts_in_nwork_part_std_mnt1', 'ks_num_part_min_mnt3', 'voice_out_tar_dur_mea_mnt1', 'abon_part_std_mnt3', 'data_3g_dou_mea_mnt3', 'voice_out_td_cnt_max_mnt3', 'bs_ovrl_OMO_SUM_M1', 'MV_dou_out_s', 'MV_Traf_4G_d_Mb', 'data_3g_tar_vol_mea_mnt1', 'all_home_clc_std_mnt1', 'voice_in_cmpttrs_avg_durmin_mnt1', 'voice_mts_out_nwork_partstd_mnt1', 'pay_max_max_mnt3', 'sms_out_cnt_max_mnt3', 'voice_in_short_part_std_mnt3', 'non_accum_internet_vol_mea_mnt1', 'BS_OVERBUNDLE_MB_SUM_M3', 'MV_Traf_mn_out_s_Cnt', 'non_accum_internet_vol_std_mnt1', 'pay_avg_std_mnt3', 'pay_avg_mea_wk1', 'gprs_tar_vol_std_mnt1', 'voice_in_short_part_mea_mnt1', 'voice_mts_out_nwork_partmin_mnt3', 'MV_ARPU', 'all_home_clc_std_mnt3', 'voice_mts_out_dwork_partmax_mnt1', 'voice_mts_in_nrest_part_std_mnt3', 'voice_out_td_cnt_mea_mnt3', 'gprs_tar_vol_std_mnt3', 'voice_mts_in_dwork_part_std_mnt1', 'sms_out_cnt_mea_mnt3', 'all_clc_max_mnt1', 'voice_in_life_part_td_mnt3', 'BS_OVERBUNDLE_MB_CNT_M1', 'voice_in_td_cnt_min_mnt1', 'voice_in_short_part_max_mnt1', 'com_num_part_max_mnt1', 'DNZ_COUNT_closed_loan_year2', 'vas_clc_std_mnt1', 'conn_com_part_min_mnt1', 'ama_volume_td_mnt3', 'voice_out_cmpttrs_avg_dumax_mnt3', 'sms_clc_max_mnt3', 'voice_mts_in_nwork_part_min_mnt3', 'voice_mts_in_dwork_part_mea_wk1', 'voice_mts_out_nrest_partmax_mnt3', 'voice_in_fix_tar_dur_max_mnt3', 'voice_in_cmpttrs_td_cnt_max_mnt3', 'all_home_clc_max_mnt3', 'block_all_dur_std_mnt3', 'sms_in_cnt_max_mnt1', 'DNZ_MAX_days_closed_loan_year2', 'voice_mts_in_nrest_part_std_mnt1', 'com_num_part_min_mnt1', 'voice_out_short_part_std_mnt1', 'abon_part_mea_wk1']"
   ]
  },
  {
   "cell_type": "code",
   "execution_count": 187,
   "metadata": {
    "execution": {
     "iopub.execute_input": "2024-07-07T14:03:56.983624Z",
     "iopub.status.busy": "2024-07-07T14:03:56.983178Z",
     "iopub.status.idle": "2024-07-07T14:03:57.177068Z",
     "shell.execute_reply": "2024-07-07T14:03:57.175845Z",
     "shell.execute_reply.started": "2024-07-07T14:03:56.983592Z"
    }
   },
   "outputs": [],
   "source": [
    "df_train_fe = df_train_fe[features_2_use]"
   ]
  },
  {
   "cell_type": "code",
   "execution_count": 188,
   "metadata": {
    "execution": {
     "iopub.execute_input": "2024-07-07T14:03:58.828282Z",
     "iopub.status.busy": "2024-07-07T14:03:58.827826Z",
     "iopub.status.idle": "2024-07-07T14:04:04.483734Z",
     "shell.execute_reply": "2024-07-07T14:04:04.482312Z",
     "shell.execute_reply.started": "2024-07-07T14:03:58.828246Z"
    }
   },
   "outputs": [
    {
     "name": "stderr",
     "output_type": "stream",
     "text": [
      "/tmp/ipykernel_33/1906798896.py:20: SettingWithCopyWarning: \n",
      "A value is trying to be set on a copy of a slice from a DataFrame.\n",
      "Try using .loc[row_indexer,col_indexer] = value instead\n",
      "\n",
      "See the caveats in the documentation: https://pandas.pydata.org/pandas-docs/stable/user_guide/indexing.html#returning-a-view-versus-a-copy\n",
      "  df_bnum['call_cnt_total'] = df_bnum['call_cnt_out'] + df_bnum['call_cnt_in']\n",
      "/tmp/ipykernel_33/1906798896.py:21: SettingWithCopyWarning: \n",
      "A value is trying to be set on a copy of a slice from a DataFrame.\n",
      "Try using .loc[row_indexer,col_indexer] = value instead\n",
      "\n",
      "See the caveats in the documentation: https://pandas.pydata.org/pandas-docs/stable/user_guide/indexing.html#returning-a-view-versus-a-copy\n",
      "  df_bnum['call_dur_total'] = df_bnum['call_dur_out'] + df_bnum['call_dur_in']\n",
      "/tmp/ipykernel_33/1906798896.py:22: SettingWithCopyWarning: \n",
      "A value is trying to be set on a copy of a slice from a DataFrame.\n",
      "Try using .loc[row_indexer,col_indexer] = value instead\n",
      "\n",
      "See the caveats in the documentation: https://pandas.pydata.org/pandas-docs/stable/user_guide/indexing.html#returning-a-view-versus-a-copy\n",
      "  df_bnum['cnt_sms_total'] = df_bnum['cnt_sms_out'] + df_bnum['cnt_sms_in']\n"
     ]
    },
    {
     "name": "stdout",
     "output_type": "stream",
     "text": [
      "   abon_id  target  num_act_days_min_mnt3  device_days_usage  \\\n",
      "0  1545052       0               1.480453          53.249600   \n",
      "1  1545235       0               5.324077          47.044200   \n",
      "2  1549358       0               5.324077          27.615852   \n",
      "3  1549591       0               4.786566          34.201236   \n",
      "4  1558772       0               5.324077          50.270526   \n",
      "\n",
      "   loc_market_share  num_act_days_mea_mnt1  voice_in_td_cnt_mea_mnt1  \\\n",
      "0          1.186492               4.646353                  2.569415   \n",
      "1          1.186492               5.324077                 15.945794   \n",
      "2          1.134741               5.324077                  5.193046   \n",
      "3          1.186492               5.059834                 11.862541   \n",
      "4          1.186492               5.324077                 11.739678   \n",
      "\n",
      "   device_brand_prestigio  num_act_days_mea_mnt3        lt  ...  \\\n",
      "0                     0.0               4.693364  6.135202  ...   \n",
      "1                     0.0               5.324077  6.135617  ...   \n",
      "2                     0.0               5.324077  6.125043  ...   \n",
      "3                     0.0               5.148888  6.130697  ...   \n",
      "4                     0.0               5.324077  6.117506  ...   \n",
      "\n",
      "   cnt_sms_total_zal  cnt_sms_total_ze.kred1t  cnt_sms_total_ze.kredit  \\\n",
      "0                NaN                      NaN                      NaN   \n",
      "1                NaN                      NaN                      NaN   \n",
      "2                NaN                      NaN                      NaN   \n",
      "3                NaN                      NaN                      NaN   \n",
      "4                NaN                      NaN                      NaN   \n",
      "\n",
      "   cnt_sms_total_zecredi  cnt_sms_total_zecredit  cnt_sms_total_zekredi  \\\n",
      "0                    NaN                     NaN                    NaN   \n",
      "1                    NaN                     NaN                    NaN   \n",
      "2                    NaN                     NaN                    NaN   \n",
      "3                    NaN                     NaN                    NaN   \n",
      "4                    NaN                     NaN                    NaN   \n",
      "\n",
      "   cnt_sms_total_zen  cnt_sms_total_zip  cnt_sms_total_zolotakoro  \\\n",
      "0                NaN                NaN                       NaN   \n",
      "1                NaN                NaN                       NaN   \n",
      "2                NaN                NaN                       NaN   \n",
      "3                NaN                NaN                       NaN   \n",
      "4                NaN                NaN                       NaN   \n",
      "\n",
      "   cnt_sms_total_zoom  \n",
      "0                 NaN  \n",
      "1                 NaN  \n",
      "2                 NaN  \n",
      "3                 NaN  \n",
      "4                 NaN  \n",
      "\n",
      "[5 rows x 2757 columns]\n"
     ]
    }
   ],
   "source": [
    "# BNUM BNUM BNUM BNUM BNUM BNUM BNUM BNUM BNUM BNUM \n",
    "# + 2500 нових ознак\n",
    "values_to_remove = ['cyberpolice',\n",
    "'cyberpolic',\n",
    "'ukraine',\n",
    "'taxi-838',\n",
    "'icu',\n",
    "'dsns ukr',\n",
    "]\n",
    "\n",
    "df_train_bnum = df_train_bnum[~df_train_bnum['bnum'].isin(values_to_remove)]\n",
    "\n",
    "# Видалення спостережень з df_train_bnum, де для одного abon_id менше ніж 50 унікальних значень bnum\n",
    "abon_id_counts = df_train_bnum.groupby('abon_id')['bnum'].nunique()\n",
    "valid_abon_ids = abon_id_counts[abon_id_counts >= 50].index\n",
    "df_train_bnum_filtered = df_train_bnum[df_train_bnum['abon_id'].isin(valid_abon_ids)]\n",
    "\n",
    "def create_bnum_features(df_bnum, df_fe):\n",
    "\n",
    "    df_bnum['call_cnt_total'] = df_bnum['call_cnt_out'] + df_bnum['call_cnt_in']\n",
    "    df_bnum['call_dur_total'] = df_bnum['call_dur_out'] + df_bnum['call_dur_in']\n",
    "    df_bnum['cnt_sms_total'] = df_bnum['cnt_sms_out'] + df_bnum['cnt_sms_in']\n",
    "    \n",
    "    grouped = df_bnum.groupby(['abon_id', 'bnum']).agg({\n",
    "        'call_cnt_total': 'sum',\n",
    "        'call_dur_total': 'sum',\n",
    "        'cnt_sms_total': 'sum'\n",
    "    }).reset_index()\n",
    "    \n",
    "    pivot_df = grouped.pivot(index='abon_id', columns='bnum', values=['call_cnt_total', 'call_dur_total', 'cnt_sms_total'])\n",
    "    pivot_df.columns = [f'{metric}_{bnum}' for metric, bnum in pivot_df.columns]\n",
    "    \n",
    "    df_fe = df_fe.merge(pivot_df, on='abon_id', how='left')\n",
    "    \n",
    "    return df_fe\n",
    "\n",
    "df_train_fe = create_bnum_features(df_train_bnum_filtered, df_train_fe)\n",
    "print(df_train_fe.head())"
   ]
  },
  {
   "cell_type": "code",
   "execution_count": 189,
   "metadata": {
    "execution": {
     "iopub.execute_input": "2024-07-07T14:04:09.344390Z",
     "iopub.status.busy": "2024-07-07T14:04:09.343326Z",
     "iopub.status.idle": "2024-07-07T14:04:10.364699Z",
     "shell.execute_reply": "2024-07-07T14:04:10.363558Z",
     "shell.execute_reply.started": "2024-07-07T14:04:09.344348Z"
    }
   },
   "outputs": [],
   "source": [
    "# Видалення неінформативних ознак:\n",
    "\n",
    "df_train_fe.drop(\"abon_id\", axis=1, inplace=True)\n"
   ]
  },
  {
   "cell_type": "code",
   "execution_count": 190,
   "metadata": {
    "execution": {
     "iopub.execute_input": "2024-07-07T14:04:14.017315Z",
     "iopub.status.busy": "2024-07-07T14:04:14.016846Z",
     "iopub.status.idle": "2024-07-07T14:05:45.940920Z",
     "shell.execute_reply": "2024-07-07T14:05:45.939811Z",
     "shell.execute_reply.started": "2024-07-07T14:04:14.017280Z"
    }
   },
   "outputs": [
    {
     "name": "stdout",
     "output_type": "stream",
     "text": [
      "Results have been saved to model_results.csv\n"
     ]
    },
    {
     "data": {
      "text/html": [
       "<div>\n",
       "<style scoped>\n",
       "    .dataframe tbody tr th:only-of-type {\n",
       "        vertical-align: middle;\n",
       "    }\n",
       "\n",
       "    .dataframe tbody tr th {\n",
       "        vertical-align: top;\n",
       "    }\n",
       "\n",
       "    .dataframe thead th {\n",
       "        text-align: right;\n",
       "    }\n",
       "</style>\n",
       "<table border=\"1\" class=\"dataframe\">\n",
       "  <thead>\n",
       "    <tr style=\"text-align: right;\">\n",
       "      <th></th>\n",
       "      <th>train_auc</th>\n",
       "      <th>val_auc</th>\n",
       "      <th>auc_diff</th>\n",
       "      <th>recall</th>\n",
       "      <th>fp_tp_ratio</th>\n",
       "      <th>train_time</th>\n",
       "      <th>val_time</th>\n",
       "      <th>dataset</th>\n",
       "    </tr>\n",
       "  </thead>\n",
       "  <tbody>\n",
       "    <tr>\n",
       "      <th>0</th>\n",
       "      <td>0.955138</td>\n",
       "      <td>0.901641</td>\n",
       "      <td>0.053497</td>\n",
       "      <td>0.792248</td>\n",
       "      <td>2.452055</td>\n",
       "      <td>78.154</td>\n",
       "      <td>8.20814</td>\n",
       "      <td>454 +2500 BNUM</td>\n",
       "    </tr>\n",
       "  </tbody>\n",
       "</table>\n",
       "</div>"
      ],
      "text/plain": [
       "   train_auc   val_auc  auc_diff    recall  fp_tp_ratio  train_time  val_time  \\\n",
       "0   0.955138  0.901641  0.053497  0.792248     2.452055      78.154   8.20814   \n",
       "\n",
       "          dataset  \n",
       "0  454 +2500 BNUM  "
      ]
     },
     "execution_count": 190,
     "metadata": {},
     "output_type": "execute_result"
    }
   ],
   "source": [
    "model = lgb.LGBMClassifier(verbose=-1, random_state=42, is_unbalance=True)    \n",
    "\n",
    "X = df_train_fe.drop(columns=['target'])\n",
    "y = df_train_fe['target']\n",
    "\n",
    "X_train, X_val, y_train, y_val = train_test_split(X, y, test_size=0.2, random_state=42)\n",
    "\n",
    "results = []\n",
    "result = train_and_evaluate(model, X_train, X_val, y_train, y_val, model)\n",
    "result['dataset'] = '454 +2500 BNUM'  \n",
    "results.append(result)\n",
    "\n",
    "results_df = pd.DataFrame(results)\n",
    "results_df.to_csv('model_results.csv', mode='a', header=not os.path.exists('model_results.csv'), index=False)\n",
    "print(\"Results have been saved to model_results.csv\")\n",
    "\n",
    "results_df"
   ]
  },
  {
   "cell_type": "markdown",
   "metadata": {
    "jp-MarkdownHeadingCollapsed": true,
    "tags": []
   },
   "source": [
    "### 454 найважливіших ознак з оригінального датасету плюс 600 нових ознак з датасету DPI"
   ]
  },
  {
   "cell_type": "code",
   "execution_count": 191,
   "metadata": {
    "execution": {
     "iopub.execute_input": "2024-07-07T14:05:47.733875Z",
     "iopub.status.busy": "2024-07-07T14:05:47.733434Z",
     "iopub.status.idle": "2024-07-07T14:05:48.370645Z",
     "shell.execute_reply": "2024-07-07T14:05:48.369528Z",
     "shell.execute_reply.started": "2024-07-07T14:05:47.733842Z"
    }
   },
   "outputs": [],
   "source": [
    "df_train_fe = df_train_fe_0.copy()\n",
    "df_train_bnum = df_train_bnum_0.copy()\n",
    "df_train_dpi = df_train_dpi_0.copy()"
   ]
  },
  {
   "cell_type": "code",
   "execution_count": 192,
   "metadata": {
    "execution": {
     "iopub.execute_input": "2024-07-07T14:05:50.335015Z",
     "iopub.status.busy": "2024-07-07T14:05:50.334583Z",
     "iopub.status.idle": "2024-07-07T14:05:50.371392Z",
     "shell.execute_reply": "2024-07-07T14:05:50.370109Z",
     "shell.execute_reply.started": "2024-07-07T14:05:50.334983Z"
    }
   },
   "outputs": [],
   "source": [
    "features_2_use = ['abon_id','target', 'num_act_days_min_mnt3', 'device_days_usage', 'loc_market_share', 'num_act_days_mea_mnt1', 'voice_in_td_cnt_mea_mnt1', 'device_brand_prestigio', 'num_act_days_mea_mnt3', 'lt', 'loc_is_obl_center', 'day_end_gba', 'days_of_last_ppm', 'num_act_days_min_mnt1', 'sms_in_cnt_std_mnt3', 'device_type_modem', 'all_cnt_std_mnt3', 'days_of_end_last_ppm', 'voice_out_tar_dur_min_mnt3', 'Balance_uah', 'all_cnt_max_mnt1', 'imei_mean_long_days_usage', 'imei_mean_days_usage', 'bs_count_ppm_mn3', 'conn_out_uniq_cnt_mea_mnt1', 'all_cnt_std_mnt1', 'data_3g_tv_cnt_std_mnt1', 'data_3g_tv_cnt_max_mnt3', 'voice_in_td_cnt_td_mnt3', 'all_cnt_min_mnt3', 'voice_mts_in_dwork_part_mea_mnt3', 'voice_in_tar_dur_mea_wk1', 'count_day_for_last_paym', 'num_act_days_std_mnt3', 'content_cnt_mea_wk1', 'voice_in_tar_dur_min_mnt1', 'content_cnt_mea_mnt1', 'voice_mts_in_dwork_part_max_mnt3', 'imei_mean_day_announced', 'conn_in_uniq_cnt_td_mnt3', 'sum_paym_6_month', 'sms_in_cnt_mea_mnt1', 'sms_in_cnt_std_mnt1', 'voice_in_kievstar_part_mea_wk1', 'content_cnt_mea_mnt3', 'data_3g_tv_cnt_std_mnt3', 'myvf_day_usage', 'conn_out_uniq_cnt_mea_wk1', 'voice_mts_in_drest_part_mea_wk1', 'num_act_days_mea_wk1', 'voice_in_life_part_mea_mnt3', 'non_accum_internet_vol_mea_wk1', 'voice_out_td_cnt_td_mnt3', 'device_type_phone', 'voice_in_mts_avg_dur_min_mnt3', 'voice_in_mts_avg_dur_min_mnt1', 'voice_out_td_cnt_std_mnt1', 'voice_out_short_part_mea_mnt3', 'voice_in_cmpttrs_avg_durmin_mnt3', 'voice_mts_in_dwork_part_std_mnt3', 'voice_mts_out_dwork_partmea_mnt3', 'avg_paym_6_month', 'voice_mts_in_dwork_part_mea_mnt1', 'MV_Traf_Cont_inc_s_Cnt', 'MV_Traf_innet_inc_v_Min', 'voice_out_tar_dur_mea_wk1', 'voice_in_tar_dur_td_mnt3', 'gprs_tar_vol_min_mnt1', 'device_price', 'voice_mts_in_dwork_part_td_mnt3', 'conn_in_uniq_cnt_std_mnt3', 'voice_mts_out_drest_partmea_mnt3', 'num_act_days_td_mnt3', 'voice_mts_out_nwork_partmin_mnt1', 'std_paym_6_month', 'voice_in_td_cnt_std_mnt1', 'content_cnt_min_mnt3', 'bs_ovrl_OMO_CNT_M3', 'voice_in_mts_avg_dur_mea_wk1', 'non_accum_internet_vol_td_mnt3', 'voice_mts_out_dwork_partmin_mnt3', 'voice_in_kievstar_part_mea_mnt3', 'content_cnt_std_mnt1', 'MV_dou_4G_d', 'tsoa_call_cnt', 'non_accum_internet_vol_std_mnt3', 'voice_mts_out_dwork_partmea_wk1', 'conn_out_uniq_cnt_td_mnt3', 'device_has_lte', 'device_height_mm', 'conn_com_part_td_mnt3', 'voice_out_td_cnt_std_mnt3', 'voice_mts_out_drest_partmea_mnt1', 'voice_in_mts_avg_dur_td_mnt3', 'voice_mts_out_dwork_partmin_mnt1', 'imei_mean_price', 'min_paym_6_month', 'conn_out_uniq_cnt_min_mnt1', 'ks_num_part_mea_mnt3', 'voice_mts_in_drest_part_td_mnt3', 'voice_out_short_part_mea_mnt1', 'device_width_mm', 'com_num_part_max_mnt3', 'com_num_part_td_mnt3', 'voice_out_short_part_mea_wk1', 'device_brand_huawei', 'pay_max_td_mnt3', 'imei_max_price', 'device_brand_lenovo', 'voice_mts_out_nrest_parttd_mnt3', 'data_3g_dou_td_mnt3', 'content_cnt_td_mnt3', 'DNZ_MEAN_days_closed_loan_year2', 'voice_mts_in_dwork_part_min_mnt1', 'voice_in_cmpttrs_avg_durmax_mnt3', 'MV_Traf_pstn_out_v_Min', 'voice_out_tar_dur_std_mnt1', 'voice_out_cmpttrs_avg_dutd_mnt3', 'conn_out_uniq_cnt_max_mnt1', 'all_clc_mea_mnt3', 'voice_mts_in_dwork_part_min_mnt3', 'bs_delte_omo_change_tp', 'voice_out_cmpttrs_avg_dumea_wk1', 'voice_mts_out_dwork_partmea_mnt1', 'voice_in_td_cnt_std_mnt3', 'device_type_tablet', 'conn_com_part_mea_wk1', 'voice_in_cmpttrs_avg_durmea_wk1', 'MV_Traf_Cont_out_v_Min', 'MV_Traf_pstn_inc_v_Min', 'ks_num_part_mea_wk1', 'voice_mts_in_nwork_part_td_mnt3', 'last_paym', 'voice_mts_out_dwork_partstd_mnt3', 'voice_in_td_cnt_mea_mnt3', 'data_3g_dou_std_mnt3', 'voice_mts_out_nwork_parttd_mnt3', 'voice_in_mts_avg_dur_max_mnt1', 'voice_mts_out_nwork_partstd_mnt3', 'gprs_tar_vol_td_mnt3', 'voice_out_fix_tar_dur_std_mnt3', 'max_paym_6_month', 'all_cnt_min_mnt1', 'MV_Traf_innet_out_v_Min', 'voice_out_tar_dur_td_mnt3', 'voice_out_td_cnt_mea_wk1', 'voice_mts_out_drest_partmea_wk1', 'ks_num_part_mea_mnt1', 'voice_in_cmpttrs_avg_durtd_mnt3', 'com_num_part_min_mnt3', 'voice_in_fix_tar_dur_std_mnt3', 'voice_in_cmpttrs_avg_durmea_mnt3', 'voice_in_life_part_mea_wk1', 'content_cnt_std_mnt3', 'all_cnt_max_mnt3', 'pay_avg_td_mnt3', 'voice_in_cmpttrs_td_cnt_mea_mnt3', 'all_cnt_mea_mnt3', 'conn_com_part_mea_mnt3', 'voice_mts_in_drest_part_max_mnt3', 'voice_in_tar_dur_std_mnt1', 'data_3g_tv_cnt_td_mnt3', 'voice_mts_in_nrest_part_td_mnt3', 'voice_out_fix_tar_dur_td_mnt3', 'conn_in_uniq_cnt_mea_mnt1', 'MV_Traf_3G_d_Mb', 'voice_out_cmpttrs_td_cnttd_mnt3', 'voice_in_short_part_mea_mnt3', 'voice_in_kievstar_part_max_mnt1', 'voice_mts_in_drest_part_max_mnt1', 'voice_in_mts_avg_dur_max_mnt3', 'MV_DOU_PPM_VF', 'conn_out_uniq_cnt_max_mnt3', 'com_num_part_std_mnt1', 'data_3g_tar_vol_mea_wk1', 'voice_mts_out_dwork_partstd_mnt1', 'voice_mts_in_drest_part_min_mnt3', 'all_cnt_td_mnt3', 'voice_mts_out_nwork_partmax_mnt3', 'gprs_clc_mea_mnt3', 'all_cnt_mea_wk1', 'gprs_tar_vol_mea_wk1', 'conn_in_uniq_cnt_std_mnt1', 'pay_sum_max_mnt3', 'conn_com_part_std_mnt1', 'conn_in_uniq_cnt_mea_mnt3', 'accum_oth_dur_std_mnt1', 'voice_in_fix_tar_dur_td_mnt3', 'voice_in_life_part_std_mnt3', 'MV_dou_3G_d', 'MV_Traf_2G_d_Mb', 'voice_mts_in_nrest_part_mea_mnt1', 'voice_mts_in_nwork_part_max_mnt3', 'ama_volume_max_mnt1', 'voice_in_kievstar_part_mea_mnt1', 'non_accum_internet_vol_max_mnt1', 'conn_com_part_std_mnt3', 'voice_out_short_part_min_mnt1', 'voice_out_short_part_td_mnt3', 'MV_ot_total', 'voice_in_cmpttrs_avg_durstd_mnt3', 'device_android_version', 'Good_deed', 'non_accum_internet_vol_min_mnt1', 'content_cnt_min_mnt1', 'voice_out_cmpttrs_td_cntstd_mnt1', 'voice_in_cmpttrs_td_cnt_std_mnt3', 'voice_mts_out_drest_parttd_mnt3', 'data_3g_tv_cnt_mea_mnt3', 'voice_in_kievstar_part_min_mnt3', 'voice_mts_out_nwork_partmea_mnt3', 'voice_in_short_part_std_mnt1', 'voice_mts_out_nrest_partstd_mnt3', 'voice_mts_in_nwork_part_mea_mnt3', 'MV_Traf_Roam_d_Mb', 'accum_oth_dur_td_mnt3', 'gprs_tar_vol_mea_mnt3', 'ks_num_part_std_mnt3', 'conn_in_uniq_cnt_min_mnt1', 'voice_out_cmpttrs_avg_dustd_mnt1', 'voice_in_mts_avg_dur_mea_mnt1', 'com_num_part_mea_wk1', 'loc_cnt_events', 'voice_in_fix_tar_dur_mea_mnt1', 'sms_in_cnt_mea_wk1', 'voice_in_mts_avg_dur_std_mnt1', 'ks_num_part_max_mnt1', 'voice_mts_in_drest_part_mea_mnt1', 'voice_in_short_part_td_mnt3', 'voice_in_fix_tar_dur_mea_mnt3', 'voice_out_cmpttrs_avg_dumea_mnt1', 'voice_out_cmpttrs_avg_dumin_mnt1', 'bs_ovrl_OMO_SUM_M2', 'MV_Traf_omo_out_v_Min', 'MV_ot_Other', 'voice_out_short_part_max_mnt3', 'voice_in_tar_dur_mea_mnt1', 'non_accum_internet_vol_min_mnt3', 'cnt_paym_6_month', 'sms_in_cnt_td_mnt3', 'sms_clc_td_mnt3', 'clc_no_vas_roam_td_mnt3', 'voice_in_td_cnt_mea_wk1', 'voice_mts_out_dwork_parttd_mnt3', 'accum_mts_dur_mea_mnt3', 'ks_num_part_std_mnt1', 'pay_sum_td_mnt3', 'voice_mts_in_nwork_part_mea_wk1', 'device_sim_count', 'MV_ap_mn_out_v', 'voice_mts_in_drest_part_min_mnt1', 'MV_Traf_mn_out_v_Min', 'voice_mts_in_drest_part_std_mnt3', 'voice_out_fix_tar_dur_std_mnt1', 'data_3g_tar_vol_td_mnt3', 'bs_ovrl_OMO_CNT_M2', 'pay_max_mea_mnt3', 'voice_mts_in_nrest_part_min_mnt1', 'voice_in_fix_tar_dur_std_mnt1', 'voice_mts_out_nrest_partstd_mnt1', 'DNZ_STD_days_closed_loan_year5', 'gprs_tar_vol_max_mnt3', 'voice_mts_out_drest_partmax_mnt1', 'MV_net_total', 'voice_in_mts_avg_dur_mea_mnt3', 'voice_in_cmpttrs_td_cnt_mea_mnt1', 'voice_out_tar_dur_min_mnt1', 'sms_out_cnt_td_mnt3', 'vas_clc_mea_wk1', 'bs_ovrl_OMO_SUM_M3', 'tsoa_direct_cnt', 'sms_out_cnt_std_mnt3', 'non_accum_internet_vol_max_mnt3', 'device_ios_version', 'pay_max_std_mnt3', 'non_accum_internet_vol_mea_mnt3', 'conn_out_uniq_cnt_std_mnt1', 'voice_in_fix_tar_dur_mea_wk1', 'voice_mts_in_nwork_part_max_mnt1', 'MV_dou', 'com_num_part_mea_mnt1', 'vas_clc_std_mnt3', 'clc_no_vas_roam_max_mnt1', 'MV_ap_s', 'voice_out_fix_tar_dur_mea_mnt3', 'MV_Traf_ACCA_out_v_Min', 'DNZ_MEAN_days_closed_loan_year5', 'vas_clc_mea_mnt3', 'content_cnt_max_mnt1', 'all_clc_mea_mnt1', 'voice_in_td_cnt_max_mnt3', 'accum_oth_dur_mea_mnt1', 'voice_out_tar_dur_max_mnt3', 'sms_in_cnt_mea_mnt3', 'conn_com_part_min_mnt3', 'voice_in_cmpttrs_avg_durstd_mnt1', 'accum_oth_dur_std_mnt3', 'MV_ap_4G_d', 'ks_num_part_td_mnt3', 'accum_oth_dur_mea_wk1', 'all_home_clc_mea_mnt3', 'voice_mts_out_drest_partstd_mnt1', 'clc_no_vas_roam_mea_mnt1', 'conn_out_uniq_cnt_mea_mnt3', 'voice_in_cmpttrs_avg_durmax_mnt1', 'Internet', 'voice_in_cmpttrs_td_cnt_td_mnt3', 'voice_mts_out_drest_partstd_mnt3', 'num_act_days_std_mnt1', 'BS_OVERBUNDLE_MB_CNT_M2', 'MV_ARPU_4G_d_Traf', 'data_3g_tv_cnt_min_mnt3', 'voice_mts_out_drest_partmin_mnt1', 'accum_mts_dur_td_mnt3', 'MV_ap_omo_out_v', 'MV_DOU_OT', 'voice_mts_in_drest_part_std_mnt1', 'com_num_part_std_mnt3', 'voice_mts_out_nwork_partmea_wk1', 'voice_in_mts_avg_dur_std_mnt3', 'voice_in_kievstar_part_td_mnt3', 'MV_ARPU_omo_out_v_Traf', 'MV_dou_2G_d', 'voice_mts_out_dwork_partmax_mnt3', 'com_num_part_mea_mnt3', 'pay_p2p_out_sum_std_mnt3', 'all_clc_std_mnt3', 'voice_mts_out_nrest_partmea_mnt3', 'conn_out_uniq_cnt_std_mnt3', 'voice_in_life_part_mea_mnt1', 'ks_num_part_max_mnt3', 'all_clc_mea_wk1', 'voice_in_kievstar_part_std_mnt1', 'gprs_tar_vol_min_mnt3', 'voice_mts_in_dwork_part_max_mnt1', 'MV_ap_innet_out_v', 'all_cnt_mea_mnt1', 'accum_oth_dur_min_mnt1', 'data_3g_tar_vol_mea_mnt3', 'accum_mts_dur_min_mnt1', 'voice_out_cmpttrs_td_cntmax_mnt3', 'data_3g_tar_vol_max_mnt3', 'DNZ_MAX_days_closed_loan_year5', 'vas_clc_td_mnt3', 'voice_in_life_part_min_mnt1', 'bs_ovrl_OMO_CNT_M1', 'voice_out_fix_tar_dur_max_mnt3', 'voice_out_cmpttrs_avg_dumin_mnt3', 'device_type_nan', 'voice_out_cmpttrs_avg_dumea_mnt3', 'voice_out_cmpttrs_td_cntmea_mnt1', 'DNZ_DAYS_from_last_year2', 'accum_mts_dur_std_mnt3', 'voice_mts_out_drest_partmin_mnt3', 'voice_in_kievstar_part_std_mnt3', 'MV_Traf_innet_out_s_Cnt', 'accum_mts_dur_mea_wk1', 'voice_in_life_part_max_mnt3', 'abon_part_td_mnt3', 'voice_out_cmpttrs_avg_dustd_mnt3', 'voice_out_td_cnt_min_mnt3', 'accum_mts_dur_max_mnt3', 'voice_mts_out_nwork_partmea_mnt1', 'all_clc_td_mnt3', 'device_brand_nan', 'MV_ARPU_innet_out_v_Traf', 'pay_avg_mea_mnt1', 'device_brand_meizu', 'bs_delte_ppm_change_tp', 'voice_mts_out_drest_partmax_mnt3', 'voice_out_td_cnt_min_mnt1', 'pay_avg_std_mnt1', 'voice_mts_out_nrest_partmea_mnt1', 'accum_mts_dur_std_mnt1', 'ks_num_part_min_mnt1', 'data_3g_tv_cnt_mea_mnt1', 'MV_dou_data', 'BS_OVERBUNDLE_MB_SUM_M1', 'content_clc_mea_mnt1', 'voice_mts_out_nrest_partmea_wk1', 'MV_Traf_mn_inc_v_Min', 'MV_dou_innet_out_v', 'conn_in_uniq_cnt_max_mnt1', 'voice_mts_in_nwork_part_std_mnt3', 'content_clc_max_mnt1', 'MV_Traf_omo_inc_v_Min', 'conn_out_uniq_cnt_min_mnt3', 'voice_mts_out_nwork_partmax_mnt1', 'TM_ID', 'pay_sum_std_mnt3', 'data_3g_dou_std_mnt1', 'voice_mts_in_drest_part_mea_mnt3', 'pay_avg_max_mnt3', 'data_3g_tar_vol_std_mnt3', 'voice_mts_in_nwork_part_mea_mnt1', 'voice_in_tar_dur_min_mnt3', 'data_3g_tar_vol_min_mnt1', 'clc_no_vas_roam_max_mnt3', 'voice_mts_in_nwork_part_std_mnt1', 'ks_num_part_min_mnt3', 'voice_out_tar_dur_mea_mnt1', 'abon_part_std_mnt3', 'data_3g_dou_mea_mnt3', 'voice_out_td_cnt_max_mnt3', 'bs_ovrl_OMO_SUM_M1', 'MV_dou_out_s', 'MV_Traf_4G_d_Mb', 'data_3g_tar_vol_mea_mnt1', 'all_home_clc_std_mnt1', 'voice_in_cmpttrs_avg_durmin_mnt1', 'voice_mts_out_nwork_partstd_mnt1', 'pay_max_max_mnt3', 'sms_out_cnt_max_mnt3', 'voice_in_short_part_std_mnt3', 'non_accum_internet_vol_mea_mnt1', 'BS_OVERBUNDLE_MB_SUM_M3', 'MV_Traf_mn_out_s_Cnt', 'non_accum_internet_vol_std_mnt1', 'pay_avg_std_mnt3', 'pay_avg_mea_wk1', 'gprs_tar_vol_std_mnt1', 'voice_in_short_part_mea_mnt1', 'voice_mts_out_nwork_partmin_mnt3', 'MV_ARPU', 'all_home_clc_std_mnt3', 'voice_mts_out_dwork_partmax_mnt1', 'voice_mts_in_nrest_part_std_mnt3', 'voice_out_td_cnt_mea_mnt3', 'gprs_tar_vol_std_mnt3', 'voice_mts_in_dwork_part_std_mnt1', 'sms_out_cnt_mea_mnt3', 'all_clc_max_mnt1', 'voice_in_life_part_td_mnt3', 'BS_OVERBUNDLE_MB_CNT_M1', 'voice_in_td_cnt_min_mnt1', 'voice_in_short_part_max_mnt1', 'com_num_part_max_mnt1', 'DNZ_COUNT_closed_loan_year2', 'vas_clc_std_mnt1', 'conn_com_part_min_mnt1', 'ama_volume_td_mnt3', 'voice_out_cmpttrs_avg_dumax_mnt3', 'sms_clc_max_mnt3', 'voice_mts_in_nwork_part_min_mnt3', 'voice_mts_in_dwork_part_mea_wk1', 'voice_mts_out_nrest_partmax_mnt3', 'voice_in_fix_tar_dur_max_mnt3', 'voice_in_cmpttrs_td_cnt_max_mnt3', 'all_home_clc_max_mnt3', 'block_all_dur_std_mnt3', 'sms_in_cnt_max_mnt1', 'DNZ_MAX_days_closed_loan_year2', 'voice_mts_in_nrest_part_std_mnt1', 'com_num_part_min_mnt1', 'voice_out_short_part_std_mnt1', 'abon_part_mea_wk1']"
   ]
  },
  {
   "cell_type": "code",
   "execution_count": 193,
   "metadata": {
    "execution": {
     "iopub.execute_input": "2024-07-07T14:05:52.572242Z",
     "iopub.status.busy": "2024-07-07T14:05:52.571270Z",
     "iopub.status.idle": "2024-07-07T14:05:52.768789Z",
     "shell.execute_reply": "2024-07-07T14:05:52.767709Z",
     "shell.execute_reply.started": "2024-07-07T14:05:52.572198Z"
    }
   },
   "outputs": [],
   "source": [
    "df_train_fe = df_train_fe[features_2_use]"
   ]
  },
  {
   "cell_type": "code",
   "execution_count": 194,
   "metadata": {
    "execution": {
     "iopub.execute_input": "2024-07-07T14:05:55.226656Z",
     "iopub.status.busy": "2024-07-07T14:05:55.226233Z",
     "iopub.status.idle": "2024-07-07T14:06:08.444166Z",
     "shell.execute_reply": "2024-07-07T14:06:08.443021Z",
     "shell.execute_reply.started": "2024-07-07T14:05:55.226624Z"
    }
   },
   "outputs": [
    {
     "name": "stdout",
     "output_type": "stream",
     "text": [
      "   abon_id  target  num_act_days_min_mnt3  device_days_usage  \\\n",
      "0  1545052       0               1.480453          53.249600   \n",
      "1  1545235       0               5.324077          47.044200   \n",
      "2  1549358       0               5.324077          27.615852   \n",
      "3  1549591       0               4.786566          34.201236   \n",
      "4  1558772       0               5.324077          50.270526   \n",
      "\n",
      "   loc_market_share  num_act_days_mea_mnt1  voice_in_td_cnt_mea_mnt1  \\\n",
      "0          1.186492               4.646353                  2.569415   \n",
      "1          1.186492               5.324077                 15.945794   \n",
      "2          1.134741               5.324077                  5.193046   \n",
      "3          1.186492               5.059834                 11.862541   \n",
      "4          1.186492               5.324077                 11.739678   \n",
      "\n",
      "   device_brand_prestigio  num_act_days_mea_mnt3        lt  ...  \\\n",
      "0                     0.0               4.693364  6.135202  ...   \n",
      "1                     0.0               5.324077  6.135617  ...   \n",
      "2                     0.0               5.324077  6.125043  ...   \n",
      "3                     0.0               5.148888  6.130697  ...   \n",
      "4                     0.0               5.324077  6.117506  ...   \n",
      "\n",
      "   2563_duration  2564_duration  2568_duration  2569_duration  2571_duration  \\\n",
      "0            0.0            0.0            0.0       0.000000            0.0   \n",
      "1            0.0            0.0            0.0       4.786566            0.0   \n",
      "2            0.0            0.0            0.0       0.000000            0.0   \n",
      "3            0.0            0.0            0.0       0.000000            0.0   \n",
      "4            0.0            0.0            0.0       0.000000            0.0   \n",
      "\n",
      "   2573_duration  2574_duration  2575_duration  2577_duration  2578_duration  \n",
      "0            0.0            0.0            0.0            0.0            0.0  \n",
      "1            0.0            0.0            0.0            0.0            0.0  \n",
      "2            0.0            0.0            0.0            0.0            0.0  \n",
      "3            0.0            0.0            0.0            0.0            0.0  \n",
      "4            0.0            0.0            0.0            0.0            0.0  \n",
      "\n",
      "[5 rows x 1200 columns]\n"
     ]
    }
   ],
   "source": [
    "# # DPI DPI DPI DPI DPI DPI DPI DPI DPI DPI DPI DPI DPI DPI DPI DPI \n",
    "# # Нові фічі 2500+: кількість взаємодії з кожним застосунком усі метрики (600 ознак на кожну)\n",
    "\n",
    "def create_application_features(df_dpi, df_fe):\n",
    "    #pivot_count = df_dpi.pivot_table(index='abon_id', columns='Application', values='SUM_of_Count_events', aggfunc='sum', fill_value=0).reset_index()\n",
    "    pivot_duration = df_dpi.pivot_table(index='abon_id', columns='Application', values='SUM_of_Duration_sec', aggfunc='sum', fill_value=0).reset_index()\n",
    "    #pivot_volume = df_dpi.pivot_table(index='abon_id', columns='Application', values='SUM_of_Volume_kb', aggfunc='sum', fill_value=0).reset_index()\n",
    "    #pivot_day_cnt = df_dpi.pivot_table(index='abon_id', columns='Application', values='MAX_of_day_cnt', aggfunc='max', fill_value=0).reset_index()\n",
    "    \n",
    "    #pivot_count = pivot_count.add_suffix('_count')\n",
    "    pivot_duration = pivot_duration.add_suffix('_duration')\n",
    "    #pivot_volume = pivot_volume.add_suffix('_volume')\n",
    "    #pivot_day_cnt = pivot_day_cnt.add_suffix('_day_cnt')\n",
    "    \n",
    "    #pivot_count.rename(columns={'abon_id_count': 'abon_id'}, inplace=True)\n",
    "    pivot_duration.rename(columns={'abon_id_duration': 'abon_id'}, inplace=True)\n",
    "    #pivot_volume.rename(columns={'abon_id_volume': 'abon_id'}, inplace=True)\n",
    "    #pivot_day_cnt.rename(columns={'abon_id_day_cnt': 'abon_id'}, inplace=True)\n",
    "    \n",
    "    #df_fe = df_fe.merge(pivot_count, on='abon_id', how='left')\n",
    "    df_fe = df_fe.merge(pivot_duration, on='abon_id', how='left')\n",
    "    #df_fe = df_fe.merge(pivot_volume, on='abon_id', how='left')\n",
    "    #df_fe = df_fe.merge(pivot_day_cnt, on='abon_id', how='left')\n",
    "    \n",
    "    df_fe.fillna(0, inplace=True)\n",
    "    \n",
    "    return df_fe\n",
    "\n",
    "df_train_fe = create_application_features(df_train_dpi, df_train_fe)\n",
    "\n",
    "print(df_train_fe.head())\n"
   ]
  },
  {
   "cell_type": "code",
   "execution_count": 195,
   "metadata": {
    "execution": {
     "iopub.execute_input": "2024-07-07T14:06:10.155663Z",
     "iopub.status.busy": "2024-07-07T14:06:10.155224Z",
     "iopub.status.idle": "2024-07-07T14:06:10.629415Z",
     "shell.execute_reply": "2024-07-07T14:06:10.628090Z",
     "shell.execute_reply.started": "2024-07-07T14:06:10.155626Z"
    }
   },
   "outputs": [],
   "source": [
    "# Видалення неінформативних ознак:\n",
    "\n",
    "df_train_fe.drop(\"abon_id\", axis=1, inplace=True)\n",
    "\n"
   ]
  },
  {
   "cell_type": "code",
   "execution_count": 196,
   "metadata": {
    "execution": {
     "iopub.execute_input": "2024-07-07T14:06:14.014983Z",
     "iopub.status.busy": "2024-07-07T14:06:14.014441Z",
     "iopub.status.idle": "2024-07-07T14:07:30.685281Z",
     "shell.execute_reply": "2024-07-07T14:07:30.684102Z",
     "shell.execute_reply.started": "2024-07-07T14:06:14.014947Z"
    }
   },
   "outputs": [
    {
     "name": "stdout",
     "output_type": "stream",
     "text": [
      "Results have been saved to model_results.csv\n"
     ]
    },
    {
     "data": {
      "text/html": [
       "<div>\n",
       "<style scoped>\n",
       "    .dataframe tbody tr th:only-of-type {\n",
       "        vertical-align: middle;\n",
       "    }\n",
       "\n",
       "    .dataframe tbody tr th {\n",
       "        vertical-align: top;\n",
       "    }\n",
       "\n",
       "    .dataframe thead th {\n",
       "        text-align: right;\n",
       "    }\n",
       "</style>\n",
       "<table border=\"1\" class=\"dataframe\">\n",
       "  <thead>\n",
       "    <tr style=\"text-align: right;\">\n",
       "      <th></th>\n",
       "      <th>train_auc</th>\n",
       "      <th>val_auc</th>\n",
       "      <th>auc_diff</th>\n",
       "      <th>recall</th>\n",
       "      <th>fp_tp_ratio</th>\n",
       "      <th>train_time</th>\n",
       "      <th>val_time</th>\n",
       "      <th>dataset</th>\n",
       "    </tr>\n",
       "  </thead>\n",
       "  <tbody>\n",
       "    <tr>\n",
       "      <th>0</th>\n",
       "      <td>0.956091</td>\n",
       "      <td>0.903163</td>\n",
       "      <td>0.052927</td>\n",
       "      <td>0.791731</td>\n",
       "      <td>2.412533</td>\n",
       "      <td>70.333204</td>\n",
       "      <td>3.724003</td>\n",
       "      <td>454 +600 DPI</td>\n",
       "    </tr>\n",
       "  </tbody>\n",
       "</table>\n",
       "</div>"
      ],
      "text/plain": [
       "   train_auc   val_auc  auc_diff    recall  fp_tp_ratio  train_time  val_time  \\\n",
       "0   0.956091  0.903163  0.052927  0.791731     2.412533   70.333204  3.724003   \n",
       "\n",
       "        dataset  \n",
       "0  454 +600 DPI  "
      ]
     },
     "execution_count": 196,
     "metadata": {},
     "output_type": "execute_result"
    }
   ],
   "source": [
    "model = lgb.LGBMClassifier(verbose=-1, random_state=42, is_unbalance=True)    \n",
    "\n",
    "X = df_train_fe.drop(columns=['target'])\n",
    "y = df_train_fe['target']\n",
    "\n",
    "X_train, X_val, y_train, y_val = train_test_split(X, y, test_size=0.2, random_state=42)\n",
    "\n",
    "results = []\n",
    "result = train_and_evaluate(model, X_train, X_val, y_train, y_val, model)\n",
    "result['dataset'] = '454 +600 DPI'  \n",
    "results.append(result)\n",
    "\n",
    "results_df = pd.DataFrame(results)\n",
    "results_df.to_csv('model_results.csv', mode='a', header=not os.path.exists('model_results.csv'), index=False)\n",
    "print(\"Results have been saved to model_results.csv\")\n",
    "\n",
    "results_df"
   ]
  },
  {
   "cell_type": "markdown",
   "metadata": {
    "jp-MarkdownHeadingCollapsed": true,
    "tags": []
   },
   "source": [
    "### 454 найважливіших ознак з оригінального датасету плюс 600 нових ознак з датасету DPI та 2500 з датасету BNUM"
   ]
  },
  {
   "cell_type": "code",
   "execution_count": 197,
   "metadata": {
    "execution": {
     "iopub.execute_input": "2024-07-07T14:07:32.973788Z",
     "iopub.status.busy": "2024-07-07T14:07:32.973368Z",
     "iopub.status.idle": "2024-07-07T14:07:33.672338Z",
     "shell.execute_reply": "2024-07-07T14:07:33.670964Z",
     "shell.execute_reply.started": "2024-07-07T14:07:32.973758Z"
    }
   },
   "outputs": [],
   "source": [
    "df_train_fe = df_train_fe_0.copy()\n",
    "df_train_bnum = df_train_bnum_0.copy()\n",
    "df_train_dpi = df_train_dpi_0.copy()"
   ]
  },
  {
   "cell_type": "code",
   "execution_count": 198,
   "metadata": {
    "execution": {
     "iopub.execute_input": "2024-07-07T14:07:37.687056Z",
     "iopub.status.busy": "2024-07-07T14:07:37.686629Z",
     "iopub.status.idle": "2024-07-07T14:07:37.719366Z",
     "shell.execute_reply": "2024-07-07T14:07:37.717958Z",
     "shell.execute_reply.started": "2024-07-07T14:07:37.687026Z"
    }
   },
   "outputs": [],
   "source": [
    "features_2_use = ['abon_id','target', 'num_act_days_min_mnt3', 'device_days_usage', 'loc_market_share', 'num_act_days_mea_mnt1', 'voice_in_td_cnt_mea_mnt1', 'device_brand_prestigio', 'num_act_days_mea_mnt3', 'lt', 'loc_is_obl_center', 'day_end_gba', 'days_of_last_ppm', 'num_act_days_min_mnt1', 'sms_in_cnt_std_mnt3', 'device_type_modem', 'all_cnt_std_mnt3', 'days_of_end_last_ppm', 'voice_out_tar_dur_min_mnt3', 'Balance_uah', 'all_cnt_max_mnt1', 'imei_mean_long_days_usage', 'imei_mean_days_usage', 'bs_count_ppm_mn3', 'conn_out_uniq_cnt_mea_mnt1', 'all_cnt_std_mnt1', 'data_3g_tv_cnt_std_mnt1', 'data_3g_tv_cnt_max_mnt3', 'voice_in_td_cnt_td_mnt3', 'all_cnt_min_mnt3', 'voice_mts_in_dwork_part_mea_mnt3', 'voice_in_tar_dur_mea_wk1', 'count_day_for_last_paym', 'num_act_days_std_mnt3', 'content_cnt_mea_wk1', 'voice_in_tar_dur_min_mnt1', 'content_cnt_mea_mnt1', 'voice_mts_in_dwork_part_max_mnt3', 'imei_mean_day_announced', 'conn_in_uniq_cnt_td_mnt3', 'sum_paym_6_month', 'sms_in_cnt_mea_mnt1', 'sms_in_cnt_std_mnt1', 'voice_in_kievstar_part_mea_wk1', 'content_cnt_mea_mnt3', 'data_3g_tv_cnt_std_mnt3', 'myvf_day_usage', 'conn_out_uniq_cnt_mea_wk1', 'voice_mts_in_drest_part_mea_wk1', 'num_act_days_mea_wk1', 'voice_in_life_part_mea_mnt3', 'non_accum_internet_vol_mea_wk1', 'voice_out_td_cnt_td_mnt3', 'device_type_phone', 'voice_in_mts_avg_dur_min_mnt3', 'voice_in_mts_avg_dur_min_mnt1', 'voice_out_td_cnt_std_mnt1', 'voice_out_short_part_mea_mnt3', 'voice_in_cmpttrs_avg_durmin_mnt3', 'voice_mts_in_dwork_part_std_mnt3', 'voice_mts_out_dwork_partmea_mnt3', 'avg_paym_6_month', 'voice_mts_in_dwork_part_mea_mnt1', 'MV_Traf_Cont_inc_s_Cnt', 'MV_Traf_innet_inc_v_Min', 'voice_out_tar_dur_mea_wk1', 'voice_in_tar_dur_td_mnt3', 'gprs_tar_vol_min_mnt1', 'device_price', 'voice_mts_in_dwork_part_td_mnt3', 'conn_in_uniq_cnt_std_mnt3', 'voice_mts_out_drest_partmea_mnt3', 'num_act_days_td_mnt3', 'voice_mts_out_nwork_partmin_mnt1', 'std_paym_6_month', 'voice_in_td_cnt_std_mnt1', 'content_cnt_min_mnt3', 'bs_ovrl_OMO_CNT_M3', 'voice_in_mts_avg_dur_mea_wk1', 'non_accum_internet_vol_td_mnt3', 'voice_mts_out_dwork_partmin_mnt3', 'voice_in_kievstar_part_mea_mnt3', 'content_cnt_std_mnt1', 'MV_dou_4G_d', 'tsoa_call_cnt', 'non_accum_internet_vol_std_mnt3', 'voice_mts_out_dwork_partmea_wk1', 'conn_out_uniq_cnt_td_mnt3', 'device_has_lte', 'device_height_mm', 'conn_com_part_td_mnt3', 'voice_out_td_cnt_std_mnt3', 'voice_mts_out_drest_partmea_mnt1', 'voice_in_mts_avg_dur_td_mnt3', 'voice_mts_out_dwork_partmin_mnt1', 'imei_mean_price', 'min_paym_6_month', 'conn_out_uniq_cnt_min_mnt1', 'ks_num_part_mea_mnt3', 'voice_mts_in_drest_part_td_mnt3', 'voice_out_short_part_mea_mnt1', 'device_width_mm', 'com_num_part_max_mnt3', 'com_num_part_td_mnt3', 'voice_out_short_part_mea_wk1', 'device_brand_huawei', 'pay_max_td_mnt3', 'imei_max_price', 'device_brand_lenovo', 'voice_mts_out_nrest_parttd_mnt3', 'data_3g_dou_td_mnt3', 'content_cnt_td_mnt3', 'DNZ_MEAN_days_closed_loan_year2', 'voice_mts_in_dwork_part_min_mnt1', 'voice_in_cmpttrs_avg_durmax_mnt3', 'MV_Traf_pstn_out_v_Min', 'voice_out_tar_dur_std_mnt1', 'voice_out_cmpttrs_avg_dutd_mnt3', 'conn_out_uniq_cnt_max_mnt1', 'all_clc_mea_mnt3', 'voice_mts_in_dwork_part_min_mnt3', 'bs_delte_omo_change_tp', 'voice_out_cmpttrs_avg_dumea_wk1', 'voice_mts_out_dwork_partmea_mnt1', 'voice_in_td_cnt_std_mnt3', 'device_type_tablet', 'conn_com_part_mea_wk1', 'voice_in_cmpttrs_avg_durmea_wk1', 'MV_Traf_Cont_out_v_Min', 'MV_Traf_pstn_inc_v_Min', 'ks_num_part_mea_wk1', 'voice_mts_in_nwork_part_td_mnt3', 'last_paym', 'voice_mts_out_dwork_partstd_mnt3', 'voice_in_td_cnt_mea_mnt3', 'data_3g_dou_std_mnt3', 'voice_mts_out_nwork_parttd_mnt3', 'voice_in_mts_avg_dur_max_mnt1', 'voice_mts_out_nwork_partstd_mnt3', 'gprs_tar_vol_td_mnt3', 'voice_out_fix_tar_dur_std_mnt3', 'max_paym_6_month', 'all_cnt_min_mnt1', 'MV_Traf_innet_out_v_Min', 'voice_out_tar_dur_td_mnt3', 'voice_out_td_cnt_mea_wk1', 'voice_mts_out_drest_partmea_wk1', 'ks_num_part_mea_mnt1', 'voice_in_cmpttrs_avg_durtd_mnt3', 'com_num_part_min_mnt3', 'voice_in_fix_tar_dur_std_mnt3', 'voice_in_cmpttrs_avg_durmea_mnt3', 'voice_in_life_part_mea_wk1', 'content_cnt_std_mnt3', 'all_cnt_max_mnt3', 'pay_avg_td_mnt3', 'voice_in_cmpttrs_td_cnt_mea_mnt3', 'all_cnt_mea_mnt3', 'conn_com_part_mea_mnt3', 'voice_mts_in_drest_part_max_mnt3', 'voice_in_tar_dur_std_mnt1', 'data_3g_tv_cnt_td_mnt3', 'voice_mts_in_nrest_part_td_mnt3', 'voice_out_fix_tar_dur_td_mnt3', 'conn_in_uniq_cnt_mea_mnt1', 'MV_Traf_3G_d_Mb', 'voice_out_cmpttrs_td_cnttd_mnt3', 'voice_in_short_part_mea_mnt3', 'voice_in_kievstar_part_max_mnt1', 'voice_mts_in_drest_part_max_mnt1', 'voice_in_mts_avg_dur_max_mnt3', 'MV_DOU_PPM_VF', 'conn_out_uniq_cnt_max_mnt3', 'com_num_part_std_mnt1', 'data_3g_tar_vol_mea_wk1', 'voice_mts_out_dwork_partstd_mnt1', 'voice_mts_in_drest_part_min_mnt3', 'all_cnt_td_mnt3', 'voice_mts_out_nwork_partmax_mnt3', 'gprs_clc_mea_mnt3', 'all_cnt_mea_wk1', 'gprs_tar_vol_mea_wk1', 'conn_in_uniq_cnt_std_mnt1', 'pay_sum_max_mnt3', 'conn_com_part_std_mnt1', 'conn_in_uniq_cnt_mea_mnt3', 'accum_oth_dur_std_mnt1', 'voice_in_fix_tar_dur_td_mnt3', 'voice_in_life_part_std_mnt3', 'MV_dou_3G_d', 'MV_Traf_2G_d_Mb', 'voice_mts_in_nrest_part_mea_mnt1', 'voice_mts_in_nwork_part_max_mnt3', 'ama_volume_max_mnt1', 'voice_in_kievstar_part_mea_mnt1', 'non_accum_internet_vol_max_mnt1', 'conn_com_part_std_mnt3', 'voice_out_short_part_min_mnt1', 'voice_out_short_part_td_mnt3', 'MV_ot_total', 'voice_in_cmpttrs_avg_durstd_mnt3', 'device_android_version', 'Good_deed', 'non_accum_internet_vol_min_mnt1', 'content_cnt_min_mnt1', 'voice_out_cmpttrs_td_cntstd_mnt1', 'voice_in_cmpttrs_td_cnt_std_mnt3', 'voice_mts_out_drest_parttd_mnt3', 'data_3g_tv_cnt_mea_mnt3', 'voice_in_kievstar_part_min_mnt3', 'voice_mts_out_nwork_partmea_mnt3', 'voice_in_short_part_std_mnt1', 'voice_mts_out_nrest_partstd_mnt3', 'voice_mts_in_nwork_part_mea_mnt3', 'MV_Traf_Roam_d_Mb', 'accum_oth_dur_td_mnt3', 'gprs_tar_vol_mea_mnt3', 'ks_num_part_std_mnt3', 'conn_in_uniq_cnt_min_mnt1', 'voice_out_cmpttrs_avg_dustd_mnt1', 'voice_in_mts_avg_dur_mea_mnt1', 'com_num_part_mea_wk1', 'loc_cnt_events', 'voice_in_fix_tar_dur_mea_mnt1', 'sms_in_cnt_mea_wk1', 'voice_in_mts_avg_dur_std_mnt1', 'ks_num_part_max_mnt1', 'voice_mts_in_drest_part_mea_mnt1', 'voice_in_short_part_td_mnt3', 'voice_in_fix_tar_dur_mea_mnt3', 'voice_out_cmpttrs_avg_dumea_mnt1', 'voice_out_cmpttrs_avg_dumin_mnt1', 'bs_ovrl_OMO_SUM_M2', 'MV_Traf_omo_out_v_Min', 'MV_ot_Other', 'voice_out_short_part_max_mnt3', 'voice_in_tar_dur_mea_mnt1', 'non_accum_internet_vol_min_mnt3', 'cnt_paym_6_month', 'sms_in_cnt_td_mnt3', 'sms_clc_td_mnt3', 'clc_no_vas_roam_td_mnt3', 'voice_in_td_cnt_mea_wk1', 'voice_mts_out_dwork_parttd_mnt3', 'accum_mts_dur_mea_mnt3', 'ks_num_part_std_mnt1', 'pay_sum_td_mnt3', 'voice_mts_in_nwork_part_mea_wk1', 'device_sim_count', 'MV_ap_mn_out_v', 'voice_mts_in_drest_part_min_mnt1', 'MV_Traf_mn_out_v_Min', 'voice_mts_in_drest_part_std_mnt3', 'voice_out_fix_tar_dur_std_mnt1', 'data_3g_tar_vol_td_mnt3', 'bs_ovrl_OMO_CNT_M2', 'pay_max_mea_mnt3', 'voice_mts_in_nrest_part_min_mnt1', 'voice_in_fix_tar_dur_std_mnt1', 'voice_mts_out_nrest_partstd_mnt1', 'DNZ_STD_days_closed_loan_year5', 'gprs_tar_vol_max_mnt3', 'voice_mts_out_drest_partmax_mnt1', 'MV_net_total', 'voice_in_mts_avg_dur_mea_mnt3', 'voice_in_cmpttrs_td_cnt_mea_mnt1', 'voice_out_tar_dur_min_mnt1', 'sms_out_cnt_td_mnt3', 'vas_clc_mea_wk1', 'bs_ovrl_OMO_SUM_M3', 'tsoa_direct_cnt', 'sms_out_cnt_std_mnt3', 'non_accum_internet_vol_max_mnt3', 'device_ios_version', 'pay_max_std_mnt3', 'non_accum_internet_vol_mea_mnt3', 'conn_out_uniq_cnt_std_mnt1', 'voice_in_fix_tar_dur_mea_wk1', 'voice_mts_in_nwork_part_max_mnt1', 'MV_dou', 'com_num_part_mea_mnt1', 'vas_clc_std_mnt3', 'clc_no_vas_roam_max_mnt1', 'MV_ap_s', 'voice_out_fix_tar_dur_mea_mnt3', 'MV_Traf_ACCA_out_v_Min', 'DNZ_MEAN_days_closed_loan_year5', 'vas_clc_mea_mnt3', 'content_cnt_max_mnt1', 'all_clc_mea_mnt1', 'voice_in_td_cnt_max_mnt3', 'accum_oth_dur_mea_mnt1', 'voice_out_tar_dur_max_mnt3', 'sms_in_cnt_mea_mnt3', 'conn_com_part_min_mnt3', 'voice_in_cmpttrs_avg_durstd_mnt1', 'accum_oth_dur_std_mnt3', 'MV_ap_4G_d', 'ks_num_part_td_mnt3', 'accum_oth_dur_mea_wk1', 'all_home_clc_mea_mnt3', 'voice_mts_out_drest_partstd_mnt1', 'clc_no_vas_roam_mea_mnt1', 'conn_out_uniq_cnt_mea_mnt3', 'voice_in_cmpttrs_avg_durmax_mnt1', 'Internet', 'voice_in_cmpttrs_td_cnt_td_mnt3', 'voice_mts_out_drest_partstd_mnt3', 'num_act_days_std_mnt1', 'BS_OVERBUNDLE_MB_CNT_M2', 'MV_ARPU_4G_d_Traf', 'data_3g_tv_cnt_min_mnt3', 'voice_mts_out_drest_partmin_mnt1', 'accum_mts_dur_td_mnt3', 'MV_ap_omo_out_v', 'MV_DOU_OT', 'voice_mts_in_drest_part_std_mnt1', 'com_num_part_std_mnt3', 'voice_mts_out_nwork_partmea_wk1', 'voice_in_mts_avg_dur_std_mnt3', 'voice_in_kievstar_part_td_mnt3', 'MV_ARPU_omo_out_v_Traf', 'MV_dou_2G_d', 'voice_mts_out_dwork_partmax_mnt3', 'com_num_part_mea_mnt3', 'pay_p2p_out_sum_std_mnt3', 'all_clc_std_mnt3', 'voice_mts_out_nrest_partmea_mnt3', 'conn_out_uniq_cnt_std_mnt3', 'voice_in_life_part_mea_mnt1', 'ks_num_part_max_mnt3', 'all_clc_mea_wk1', 'voice_in_kievstar_part_std_mnt1', 'gprs_tar_vol_min_mnt3', 'voice_mts_in_dwork_part_max_mnt1', 'MV_ap_innet_out_v', 'all_cnt_mea_mnt1', 'accum_oth_dur_min_mnt1', 'data_3g_tar_vol_mea_mnt3', 'accum_mts_dur_min_mnt1', 'voice_out_cmpttrs_td_cntmax_mnt3', 'data_3g_tar_vol_max_mnt3', 'DNZ_MAX_days_closed_loan_year5', 'vas_clc_td_mnt3', 'voice_in_life_part_min_mnt1', 'bs_ovrl_OMO_CNT_M1', 'voice_out_fix_tar_dur_max_mnt3', 'voice_out_cmpttrs_avg_dumin_mnt3', 'device_type_nan', 'voice_out_cmpttrs_avg_dumea_mnt3', 'voice_out_cmpttrs_td_cntmea_mnt1', 'DNZ_DAYS_from_last_year2', 'accum_mts_dur_std_mnt3', 'voice_mts_out_drest_partmin_mnt3', 'voice_in_kievstar_part_std_mnt3', 'MV_Traf_innet_out_s_Cnt', 'accum_mts_dur_mea_wk1', 'voice_in_life_part_max_mnt3', 'abon_part_td_mnt3', 'voice_out_cmpttrs_avg_dustd_mnt3', 'voice_out_td_cnt_min_mnt3', 'accum_mts_dur_max_mnt3', 'voice_mts_out_nwork_partmea_mnt1', 'all_clc_td_mnt3', 'device_brand_nan', 'MV_ARPU_innet_out_v_Traf', 'pay_avg_mea_mnt1', 'device_brand_meizu', 'bs_delte_ppm_change_tp', 'voice_mts_out_drest_partmax_mnt3', 'voice_out_td_cnt_min_mnt1', 'pay_avg_std_mnt1', 'voice_mts_out_nrest_partmea_mnt1', 'accum_mts_dur_std_mnt1', 'ks_num_part_min_mnt1', 'data_3g_tv_cnt_mea_mnt1', 'MV_dou_data', 'BS_OVERBUNDLE_MB_SUM_M1', 'content_clc_mea_mnt1', 'voice_mts_out_nrest_partmea_wk1', 'MV_Traf_mn_inc_v_Min', 'MV_dou_innet_out_v', 'conn_in_uniq_cnt_max_mnt1', 'voice_mts_in_nwork_part_std_mnt3', 'content_clc_max_mnt1', 'MV_Traf_omo_inc_v_Min', 'conn_out_uniq_cnt_min_mnt3', 'voice_mts_out_nwork_partmax_mnt1', 'TM_ID', 'pay_sum_std_mnt3', 'data_3g_dou_std_mnt1', 'voice_mts_in_drest_part_mea_mnt3', 'pay_avg_max_mnt3', 'data_3g_tar_vol_std_mnt3', 'voice_mts_in_nwork_part_mea_mnt1', 'voice_in_tar_dur_min_mnt3', 'data_3g_tar_vol_min_mnt1', 'clc_no_vas_roam_max_mnt3', 'voice_mts_in_nwork_part_std_mnt1', 'ks_num_part_min_mnt3', 'voice_out_tar_dur_mea_mnt1', 'abon_part_std_mnt3', 'data_3g_dou_mea_mnt3', 'voice_out_td_cnt_max_mnt3', 'bs_ovrl_OMO_SUM_M1', 'MV_dou_out_s', 'MV_Traf_4G_d_Mb', 'data_3g_tar_vol_mea_mnt1', 'all_home_clc_std_mnt1', 'voice_in_cmpttrs_avg_durmin_mnt1', 'voice_mts_out_nwork_partstd_mnt1', 'pay_max_max_mnt3', 'sms_out_cnt_max_mnt3', 'voice_in_short_part_std_mnt3', 'non_accum_internet_vol_mea_mnt1', 'BS_OVERBUNDLE_MB_SUM_M3', 'MV_Traf_mn_out_s_Cnt', 'non_accum_internet_vol_std_mnt1', 'pay_avg_std_mnt3', 'pay_avg_mea_wk1', 'gprs_tar_vol_std_mnt1', 'voice_in_short_part_mea_mnt1', 'voice_mts_out_nwork_partmin_mnt3', 'MV_ARPU', 'all_home_clc_std_mnt3', 'voice_mts_out_dwork_partmax_mnt1', 'voice_mts_in_nrest_part_std_mnt3', 'voice_out_td_cnt_mea_mnt3', 'gprs_tar_vol_std_mnt3', 'voice_mts_in_dwork_part_std_mnt1', 'sms_out_cnt_mea_mnt3', 'all_clc_max_mnt1', 'voice_in_life_part_td_mnt3', 'BS_OVERBUNDLE_MB_CNT_M1', 'voice_in_td_cnt_min_mnt1', 'voice_in_short_part_max_mnt1', 'com_num_part_max_mnt1', 'DNZ_COUNT_closed_loan_year2', 'vas_clc_std_mnt1', 'conn_com_part_min_mnt1', 'ama_volume_td_mnt3', 'voice_out_cmpttrs_avg_dumax_mnt3', 'sms_clc_max_mnt3', 'voice_mts_in_nwork_part_min_mnt3', 'voice_mts_in_dwork_part_mea_wk1', 'voice_mts_out_nrest_partmax_mnt3', 'voice_in_fix_tar_dur_max_mnt3', 'voice_in_cmpttrs_td_cnt_max_mnt3', 'all_home_clc_max_mnt3', 'block_all_dur_std_mnt3', 'sms_in_cnt_max_mnt1', 'DNZ_MAX_days_closed_loan_year2', 'voice_mts_in_nrest_part_std_mnt1', 'com_num_part_min_mnt1', 'voice_out_short_part_std_mnt1', 'abon_part_mea_wk1']"
   ]
  },
  {
   "cell_type": "code",
   "execution_count": 199,
   "metadata": {
    "execution": {
     "iopub.execute_input": "2024-07-07T14:07:39.399663Z",
     "iopub.status.busy": "2024-07-07T14:07:39.399210Z",
     "iopub.status.idle": "2024-07-07T14:07:39.599857Z",
     "shell.execute_reply": "2024-07-07T14:07:39.598611Z",
     "shell.execute_reply.started": "2024-07-07T14:07:39.399628Z"
    }
   },
   "outputs": [],
   "source": [
    "df_train_fe = df_train_fe[features_2_use]"
   ]
  },
  {
   "cell_type": "code",
   "execution_count": 200,
   "metadata": {
    "execution": {
     "iopub.execute_input": "2024-07-07T14:07:41.102260Z",
     "iopub.status.busy": "2024-07-07T14:07:41.101061Z",
     "iopub.status.idle": "2024-07-07T14:07:46.915391Z",
     "shell.execute_reply": "2024-07-07T14:07:46.914042Z",
     "shell.execute_reply.started": "2024-07-07T14:07:41.102216Z"
    }
   },
   "outputs": [
    {
     "name": "stderr",
     "output_type": "stream",
     "text": [
      "/tmp/ipykernel_33/1906798896.py:20: SettingWithCopyWarning: \n",
      "A value is trying to be set on a copy of a slice from a DataFrame.\n",
      "Try using .loc[row_indexer,col_indexer] = value instead\n",
      "\n",
      "See the caveats in the documentation: https://pandas.pydata.org/pandas-docs/stable/user_guide/indexing.html#returning-a-view-versus-a-copy\n",
      "  df_bnum['call_cnt_total'] = df_bnum['call_cnt_out'] + df_bnum['call_cnt_in']\n",
      "/tmp/ipykernel_33/1906798896.py:21: SettingWithCopyWarning: \n",
      "A value is trying to be set on a copy of a slice from a DataFrame.\n",
      "Try using .loc[row_indexer,col_indexer] = value instead\n",
      "\n",
      "See the caveats in the documentation: https://pandas.pydata.org/pandas-docs/stable/user_guide/indexing.html#returning-a-view-versus-a-copy\n",
      "  df_bnum['call_dur_total'] = df_bnum['call_dur_out'] + df_bnum['call_dur_in']\n",
      "/tmp/ipykernel_33/1906798896.py:22: SettingWithCopyWarning: \n",
      "A value is trying to be set on a copy of a slice from a DataFrame.\n",
      "Try using .loc[row_indexer,col_indexer] = value instead\n",
      "\n",
      "See the caveats in the documentation: https://pandas.pydata.org/pandas-docs/stable/user_guide/indexing.html#returning-a-view-versus-a-copy\n",
      "  df_bnum['cnt_sms_total'] = df_bnum['cnt_sms_out'] + df_bnum['cnt_sms_in']\n"
     ]
    },
    {
     "name": "stdout",
     "output_type": "stream",
     "text": [
      "   abon_id  target  num_act_days_min_mnt3  device_days_usage  \\\n",
      "0  1545052       0               1.480453          53.249600   \n",
      "1  1545235       0               5.324077          47.044200   \n",
      "2  1549358       0               5.324077          27.615852   \n",
      "3  1549591       0               4.786566          34.201236   \n",
      "4  1558772       0               5.324077          50.270526   \n",
      "\n",
      "   loc_market_share  num_act_days_mea_mnt1  voice_in_td_cnt_mea_mnt1  \\\n",
      "0          1.186492               4.646353                  2.569415   \n",
      "1          1.186492               5.324077                 15.945794   \n",
      "2          1.134741               5.324077                  5.193046   \n",
      "3          1.186492               5.059834                 11.862541   \n",
      "4          1.186492               5.324077                 11.739678   \n",
      "\n",
      "   device_brand_prestigio  num_act_days_mea_mnt3        lt  ...  \\\n",
      "0                     0.0               4.693364  6.135202  ...   \n",
      "1                     0.0               5.324077  6.135617  ...   \n",
      "2                     0.0               5.324077  6.125043  ...   \n",
      "3                     0.0               5.148888  6.130697  ...   \n",
      "4                     0.0               5.324077  6.117506  ...   \n",
      "\n",
      "   cnt_sms_total_zal  cnt_sms_total_ze.kred1t  cnt_sms_total_ze.kredit  \\\n",
      "0                NaN                      NaN                      NaN   \n",
      "1                NaN                      NaN                      NaN   \n",
      "2                NaN                      NaN                      NaN   \n",
      "3                NaN                      NaN                      NaN   \n",
      "4                NaN                      NaN                      NaN   \n",
      "\n",
      "   cnt_sms_total_zecredi  cnt_sms_total_zecredit  cnt_sms_total_zekredi  \\\n",
      "0                    NaN                     NaN                    NaN   \n",
      "1                    NaN                     NaN                    NaN   \n",
      "2                    NaN                     NaN                    NaN   \n",
      "3                    NaN                     NaN                    NaN   \n",
      "4                    NaN                     NaN                    NaN   \n",
      "\n",
      "   cnt_sms_total_zen  cnt_sms_total_zip  cnt_sms_total_zolotakoro  \\\n",
      "0                NaN                NaN                       NaN   \n",
      "1                NaN                NaN                       NaN   \n",
      "2                NaN                NaN                       NaN   \n",
      "3                NaN                NaN                       NaN   \n",
      "4                NaN                NaN                       NaN   \n",
      "\n",
      "   cnt_sms_total_zoom  \n",
      "0                 NaN  \n",
      "1                 NaN  \n",
      "2                 NaN  \n",
      "3                 NaN  \n",
      "4                 NaN  \n",
      "\n",
      "[5 rows x 2757 columns]\n"
     ]
    }
   ],
   "source": [
    "# BNUM BNUM BNUM BNUM BNUM BNUM BNUM BNUM BNUM BNUM \n",
    "# + 2500 нових ознак\n",
    "values_to_remove = ['cyberpolice',\n",
    "'cyberpolic',\n",
    "'ukraine',\n",
    "'taxi-838',\n",
    "'icu',\n",
    "'dsns ukr',\n",
    "]\n",
    "\n",
    "df_train_bnum = df_train_bnum[~df_train_bnum['bnum'].isin(values_to_remove)]\n",
    "\n",
    "# Видалення спостережень з df_train_bnum, де для одного abon_id менше ніж 50 унікальних значень bnum\n",
    "abon_id_counts = df_train_bnum.groupby('abon_id')['bnum'].nunique()\n",
    "valid_abon_ids = abon_id_counts[abon_id_counts >= 50].index\n",
    "df_train_bnum_filtered = df_train_bnum[df_train_bnum['abon_id'].isin(valid_abon_ids)]\n",
    "\n",
    "def create_bnum_features(df_bnum, df_fe):\n",
    "\n",
    "    df_bnum['call_cnt_total'] = df_bnum['call_cnt_out'] + df_bnum['call_cnt_in']\n",
    "    df_bnum['call_dur_total'] = df_bnum['call_dur_out'] + df_bnum['call_dur_in']\n",
    "    df_bnum['cnt_sms_total'] = df_bnum['cnt_sms_out'] + df_bnum['cnt_sms_in']\n",
    "    \n",
    "    grouped = df_bnum.groupby(['abon_id', 'bnum']).agg({\n",
    "        'call_cnt_total': 'sum',\n",
    "        'call_dur_total': 'sum',\n",
    "        'cnt_sms_total': 'sum'\n",
    "    }).reset_index()\n",
    "    \n",
    "    pivot_df = grouped.pivot(index='abon_id', columns='bnum', values=['call_cnt_total', 'call_dur_total', 'cnt_sms_total'])\n",
    "    pivot_df.columns = [f'{metric}_{bnum}' for metric, bnum in pivot_df.columns]\n",
    "    \n",
    "    df_fe = df_fe.merge(pivot_df, on='abon_id', how='left')\n",
    "    \n",
    "    return df_fe\n",
    "\n",
    "df_train_fe = create_bnum_features(df_train_bnum_filtered, df_train_fe)\n",
    "print(df_train_fe.head())"
   ]
  },
  {
   "cell_type": "code",
   "execution_count": 201,
   "metadata": {
    "execution": {
     "iopub.execute_input": "2024-07-07T14:07:50.498393Z",
     "iopub.status.busy": "2024-07-07T14:07:50.497939Z",
     "iopub.status.idle": "2024-07-07T14:08:15.393952Z",
     "shell.execute_reply": "2024-07-07T14:08:15.392881Z",
     "shell.execute_reply.started": "2024-07-07T14:07:50.498361Z"
    }
   },
   "outputs": [
    {
     "name": "stdout",
     "output_type": "stream",
     "text": [
      "   abon_id  target  num_act_days_min_mnt3  device_days_usage  \\\n",
      "0  1545052       0               1.480453          53.249600   \n",
      "1  1545235       0               5.324077          47.044200   \n",
      "2  1549358       0               5.324077          27.615852   \n",
      "3  1549591       0               4.786566          34.201236   \n",
      "4  1558772       0               5.324077          50.270526   \n",
      "\n",
      "   loc_market_share  num_act_days_mea_mnt1  voice_in_td_cnt_mea_mnt1  \\\n",
      "0          1.186492               4.646353                  2.569415   \n",
      "1          1.186492               5.324077                 15.945794   \n",
      "2          1.134741               5.324077                  5.193046   \n",
      "3          1.186492               5.059834                 11.862541   \n",
      "4          1.186492               5.324077                 11.739678   \n",
      "\n",
      "   device_brand_prestigio  num_act_days_mea_mnt3        lt  ...  \\\n",
      "0                     0.0               4.693364  6.135202  ...   \n",
      "1                     0.0               5.324077  6.135617  ...   \n",
      "2                     0.0               5.324077  6.125043  ...   \n",
      "3                     0.0               5.148888  6.130697  ...   \n",
      "4                     0.0               5.324077  6.117506  ...   \n",
      "\n",
      "   2563_duration  2564_duration  2568_duration  2569_duration  2571_duration  \\\n",
      "0            0.0            0.0            0.0       0.000000            0.0   \n",
      "1            0.0            0.0            0.0       4.786566            0.0   \n",
      "2            0.0            0.0            0.0       0.000000            0.0   \n",
      "3            0.0            0.0            0.0       0.000000            0.0   \n",
      "4            0.0            0.0            0.0       0.000000            0.0   \n",
      "\n",
      "   2573_duration  2574_duration  2575_duration  2577_duration  2578_duration  \n",
      "0            0.0            0.0            0.0            0.0            0.0  \n",
      "1            0.0            0.0            0.0            0.0            0.0  \n",
      "2            0.0            0.0            0.0            0.0            0.0  \n",
      "3            0.0            0.0            0.0            0.0            0.0  \n",
      "4            0.0            0.0            0.0            0.0            0.0  \n",
      "\n",
      "[5 rows x 3501 columns]\n"
     ]
    }
   ],
   "source": [
    "# # DPI DPI DPI DPI DPI DPI DPI DPI DPI DPI DPI DPI DPI DPI DPI DPI \n",
    "# # Нові фічі 2500+: кількість взаємодії з кожним застосунком усі метрики (600 ознак на кожну)\n",
    "\n",
    "def create_application_features(df_dpi, df_fe):\n",
    "    #pivot_count = df_dpi.pivot_table(index='abon_id', columns='Application', values='SUM_of_Count_events', aggfunc='sum', fill_value=0).reset_index()\n",
    "    pivot_duration = df_dpi.pivot_table(index='abon_id', columns='Application', values='SUM_of_Duration_sec', aggfunc='sum', fill_value=0).reset_index()\n",
    "    #pivot_volume = df_dpi.pivot_table(index='abon_id', columns='Application', values='SUM_of_Volume_kb', aggfunc='sum', fill_value=0).reset_index()\n",
    "    #pivot_day_cnt = df_dpi.pivot_table(index='abon_id', columns='Application', values='MAX_of_day_cnt', aggfunc='max', fill_value=0).reset_index()\n",
    "    \n",
    "    #pivot_count = pivot_count.add_suffix('_count')\n",
    "    pivot_duration = pivot_duration.add_suffix('_duration')\n",
    "    #pivot_volume = pivot_volume.add_suffix('_volume')\n",
    "    #pivot_day_cnt = pivot_day_cnt.add_suffix('_day_cnt')\n",
    "    \n",
    "    #pivot_count.rename(columns={'abon_id_count': 'abon_id'}, inplace=True)\n",
    "    pivot_duration.rename(columns={'abon_id_duration': 'abon_id'}, inplace=True)\n",
    "    #pivot_volume.rename(columns={'abon_id_volume': 'abon_id'}, inplace=True)\n",
    "    #pivot_day_cnt.rename(columns={'abon_id_day_cnt': 'abon_id'}, inplace=True)\n",
    "    \n",
    "    #df_fe = df_fe.merge(pivot_count, on='abon_id', how='left')\n",
    "    df_fe = df_fe.merge(pivot_duration, on='abon_id', how='left')\n",
    "    #df_fe = df_fe.merge(pivot_volume, on='abon_id', how='left')\n",
    "    #df_fe = df_fe.merge(pivot_day_cnt, on='abon_id', how='left')\n",
    "    \n",
    "    df_fe.fillna(0, inplace=True)\n",
    "    \n",
    "    return df_fe\n",
    "\n",
    "df_train_fe = create_application_features(df_train_dpi, df_train_fe)\n",
    "\n",
    "print(df_train_fe.head())\n"
   ]
  },
  {
   "cell_type": "code",
   "execution_count": 202,
   "metadata": {
    "execution": {
     "iopub.execute_input": "2024-07-07T14:08:17.146095Z",
     "iopub.status.busy": "2024-07-07T14:08:17.145658Z",
     "iopub.status.idle": "2024-07-07T14:08:18.459063Z",
     "shell.execute_reply": "2024-07-07T14:08:18.457756Z",
     "shell.execute_reply.started": "2024-07-07T14:08:17.146061Z"
    }
   },
   "outputs": [],
   "source": [
    "# Видалення неінформативних ознак:\n",
    "\n",
    "df_train_fe.drop(\"abon_id\", axis=1, inplace=True)\n"
   ]
  },
  {
   "cell_type": "code",
   "execution_count": 203,
   "metadata": {
    "execution": {
     "iopub.execute_input": "2024-07-07T14:08:23.693881Z",
     "iopub.status.busy": "2024-07-07T14:08:23.693433Z",
     "iopub.status.idle": "2024-07-07T14:09:55.310797Z",
     "shell.execute_reply": "2024-07-07T14:09:55.309616Z",
     "shell.execute_reply.started": "2024-07-07T14:08:23.693847Z"
    }
   },
   "outputs": [
    {
     "name": "stdout",
     "output_type": "stream",
     "text": [
      "Results have been saved to model_results.csv\n"
     ]
    },
    {
     "data": {
      "text/html": [
       "<div>\n",
       "<style scoped>\n",
       "    .dataframe tbody tr th:only-of-type {\n",
       "        vertical-align: middle;\n",
       "    }\n",
       "\n",
       "    .dataframe tbody tr th {\n",
       "        vertical-align: top;\n",
       "    }\n",
       "\n",
       "    .dataframe thead th {\n",
       "        text-align: right;\n",
       "    }\n",
       "</style>\n",
       "<table border=\"1\" class=\"dataframe\">\n",
       "  <thead>\n",
       "    <tr style=\"text-align: right;\">\n",
       "      <th></th>\n",
       "      <th>train_auc</th>\n",
       "      <th>val_auc</th>\n",
       "      <th>auc_diff</th>\n",
       "      <th>recall</th>\n",
       "      <th>fp_tp_ratio</th>\n",
       "      <th>train_time</th>\n",
       "      <th>val_time</th>\n",
       "      <th>dataset</th>\n",
       "    </tr>\n",
       "  </thead>\n",
       "  <tbody>\n",
       "    <tr>\n",
       "      <th>0</th>\n",
       "      <td>0.956091</td>\n",
       "      <td>0.903163</td>\n",
       "      <td>0.052927</td>\n",
       "      <td>0.791731</td>\n",
       "      <td>2.412533</td>\n",
       "      <td>75.594911</td>\n",
       "      <td>9.375147</td>\n",
       "      <td>454 +3000 DPI BNUM</td>\n",
       "    </tr>\n",
       "  </tbody>\n",
       "</table>\n",
       "</div>"
      ],
      "text/plain": [
       "   train_auc   val_auc  auc_diff    recall  fp_tp_ratio  train_time  val_time  \\\n",
       "0   0.956091  0.903163  0.052927  0.791731     2.412533   75.594911  9.375147   \n",
       "\n",
       "              dataset  \n",
       "0  454 +3000 DPI BNUM  "
      ]
     },
     "execution_count": 203,
     "metadata": {},
     "output_type": "execute_result"
    }
   ],
   "source": [
    "model = lgb.LGBMClassifier(verbose=-1, random_state=42, is_unbalance=True)    \n",
    "\n",
    "X = df_train_fe.drop(columns=['target'])\n",
    "y = df_train_fe['target']\n",
    "\n",
    "X_train, X_val, y_train, y_val = train_test_split(X, y, test_size=0.2, random_state=42)\n",
    "\n",
    "results = []\n",
    "result = train_and_evaluate(model, X_train, X_val, y_train, y_val, model)\n",
    "result['dataset'] = '454 +3000 DPI BNUM'  \n",
    "results.append(result)\n",
    "\n",
    "results_df = pd.DataFrame(results)\n",
    "results_df.to_csv('model_results.csv', mode='a', header=not os.path.exists('model_results.csv'), index=False)\n",
    "print(\"Results have been saved to model_results.csv\")\n",
    "\n",
    "results_df"
   ]
  },
  {
   "cell_type": "markdown",
   "metadata": {
    "tags": []
   },
   "source": [
    "### Результати на всіх датасетах та вибір найкращого набору ознак"
   ]
  },
  {
   "cell_type": "code",
   "execution_count": 205,
   "metadata": {
    "execution": {
     "iopub.execute_input": "2024-07-07T14:11:05.335692Z",
     "iopub.status.busy": "2024-07-07T14:11:05.335200Z",
     "iopub.status.idle": "2024-07-07T14:11:05.365566Z",
     "shell.execute_reply": "2024-07-07T14:11:05.364240Z",
     "shell.execute_reply.started": "2024-07-07T14:11:05.335656Z"
    }
   },
   "outputs": [
    {
     "data": {
      "text/html": [
       "<div>\n",
       "<style scoped>\n",
       "    .dataframe tbody tr th:only-of-type {\n",
       "        vertical-align: middle;\n",
       "    }\n",
       "\n",
       "    .dataframe tbody tr th {\n",
       "        vertical-align: top;\n",
       "    }\n",
       "\n",
       "    .dataframe thead th {\n",
       "        text-align: right;\n",
       "    }\n",
       "</style>\n",
       "<table border=\"1\" class=\"dataframe\">\n",
       "  <thead>\n",
       "    <tr style=\"text-align: right;\">\n",
       "      <th></th>\n",
       "      <th>train_auc</th>\n",
       "      <th>val_auc</th>\n",
       "      <th>auc_diff</th>\n",
       "      <th>recall</th>\n",
       "      <th>fp_tp_ratio</th>\n",
       "      <th>train_time</th>\n",
       "      <th>val_time</th>\n",
       "      <th>dataset</th>\n",
       "    </tr>\n",
       "  </thead>\n",
       "  <tbody>\n",
       "    <tr>\n",
       "      <th>0</th>\n",
       "      <td>0.955721</td>\n",
       "      <td>0.901549</td>\n",
       "      <td>0.054172</td>\n",
       "      <td>0.782946</td>\n",
       "      <td>2.492409</td>\n",
       "      <td>75.862342</td>\n",
       "      <td>2.902722</td>\n",
       "      <td>Original</td>\n",
       "    </tr>\n",
       "    <tr>\n",
       "      <th>1</th>\n",
       "      <td>0.955914</td>\n",
       "      <td>0.901064</td>\n",
       "      <td>0.054850</td>\n",
       "      <td>0.786047</td>\n",
       "      <td>2.464168</td>\n",
       "      <td>76.430420</td>\n",
       "      <td>3.306850</td>\n",
       "      <td>+5 DPI</td>\n",
       "    </tr>\n",
       "    <tr>\n",
       "      <th>2</th>\n",
       "      <td>0.955721</td>\n",
       "      <td>0.901549</td>\n",
       "      <td>0.054172</td>\n",
       "      <td>0.782946</td>\n",
       "      <td>2.492409</td>\n",
       "      <td>95.687021</td>\n",
       "      <td>8.968817</td>\n",
       "      <td>+2500 BNUM</td>\n",
       "    </tr>\n",
       "    <tr>\n",
       "      <th>3</th>\n",
       "      <td>0.956500</td>\n",
       "      <td>0.902120</td>\n",
       "      <td>0.054380</td>\n",
       "      <td>0.786563</td>\n",
       "      <td>2.446124</td>\n",
       "      <td>89.313191</td>\n",
       "      <td>4.420897</td>\n",
       "      <td>+600 DPI</td>\n",
       "    </tr>\n",
       "    <tr>\n",
       "      <th>4</th>\n",
       "      <td>0.956500</td>\n",
       "      <td>0.902120</td>\n",
       "      <td>0.054380</td>\n",
       "      <td>0.786563</td>\n",
       "      <td>2.446124</td>\n",
       "      <td>90.923916</td>\n",
       "      <td>6.187740</td>\n",
       "      <td>+3000 DPI BNUM</td>\n",
       "    </tr>\n",
       "    <tr>\n",
       "      <th>5</th>\n",
       "      <td>0.936504</td>\n",
       "      <td>0.896217</td>\n",
       "      <td>0.040287</td>\n",
       "      <td>0.793798</td>\n",
       "      <td>2.768229</td>\n",
       "      <td>4.431842</td>\n",
       "      <td>1.155320</td>\n",
       "      <td>Original 25</td>\n",
       "    </tr>\n",
       "    <tr>\n",
       "      <th>6</th>\n",
       "      <td>0.938785</td>\n",
       "      <td>0.895880</td>\n",
       "      <td>0.042905</td>\n",
       "      <td>0.795866</td>\n",
       "      <td>2.717532</td>\n",
       "      <td>5.408524</td>\n",
       "      <td>1.209163</td>\n",
       "      <td>25 +5 DPI</td>\n",
       "    </tr>\n",
       "    <tr>\n",
       "      <th>7</th>\n",
       "      <td>0.936504</td>\n",
       "      <td>0.896217</td>\n",
       "      <td>0.040287</td>\n",
       "      <td>0.793798</td>\n",
       "      <td>2.768229</td>\n",
       "      <td>21.842430</td>\n",
       "      <td>6.384422</td>\n",
       "      <td>25 +2500 BNUM</td>\n",
       "    </tr>\n",
       "    <tr>\n",
       "      <th>8</th>\n",
       "      <td>0.945211</td>\n",
       "      <td>0.900066</td>\n",
       "      <td>0.045145</td>\n",
       "      <td>0.798966</td>\n",
       "      <td>2.610608</td>\n",
       "      <td>17.151605</td>\n",
       "      <td>2.465616</td>\n",
       "      <td>25 +600 DPI</td>\n",
       "    </tr>\n",
       "    <tr>\n",
       "      <th>9</th>\n",
       "      <td>0.945211</td>\n",
       "      <td>0.900066</td>\n",
       "      <td>0.045145</td>\n",
       "      <td>0.798966</td>\n",
       "      <td>2.610608</td>\n",
       "      <td>22.843817</td>\n",
       "      <td>6.826701</td>\n",
       "      <td>25 +3000 DPI BNUM</td>\n",
       "    </tr>\n",
       "    <tr>\n",
       "      <th>10</th>\n",
       "      <td>0.954119</td>\n",
       "      <td>0.900820</td>\n",
       "      <td>0.053299</td>\n",
       "      <td>0.783463</td>\n",
       "      <td>2.503298</td>\n",
       "      <td>31.556519</td>\n",
       "      <td>1.926146</td>\n",
       "      <td>Original 241</td>\n",
       "    </tr>\n",
       "    <tr>\n",
       "      <th>11</th>\n",
       "      <td>0.954268</td>\n",
       "      <td>0.901068</td>\n",
       "      <td>0.053200</td>\n",
       "      <td>0.792248</td>\n",
       "      <td>2.476843</td>\n",
       "      <td>32.437613</td>\n",
       "      <td>2.897193</td>\n",
       "      <td>241 +5 DPI</td>\n",
       "    </tr>\n",
       "    <tr>\n",
       "      <th>12</th>\n",
       "      <td>0.954119</td>\n",
       "      <td>0.900820</td>\n",
       "      <td>0.053299</td>\n",
       "      <td>0.783463</td>\n",
       "      <td>2.503298</td>\n",
       "      <td>50.533566</td>\n",
       "      <td>7.326710</td>\n",
       "      <td>241 +2500 BNUM</td>\n",
       "    </tr>\n",
       "    <tr>\n",
       "      <th>13</th>\n",
       "      <td>0.955000</td>\n",
       "      <td>0.902470</td>\n",
       "      <td>0.052531</td>\n",
       "      <td>0.787597</td>\n",
       "      <td>2.465223</td>\n",
       "      <td>46.863833</td>\n",
       "      <td>3.147358</td>\n",
       "      <td>241 +600 DPI</td>\n",
       "    </tr>\n",
       "    <tr>\n",
       "      <th>14</th>\n",
       "      <td>0.955000</td>\n",
       "      <td>0.902470</td>\n",
       "      <td>0.052531</td>\n",
       "      <td>0.787597</td>\n",
       "      <td>2.465223</td>\n",
       "      <td>51.343541</td>\n",
       "      <td>8.126710</td>\n",
       "      <td>241 +3000 DPI BNUM</td>\n",
       "    </tr>\n",
       "    <tr>\n",
       "      <th>15</th>\n",
       "      <td>0.955138</td>\n",
       "      <td>0.901641</td>\n",
       "      <td>0.053497</td>\n",
       "      <td>0.792248</td>\n",
       "      <td>2.452055</td>\n",
       "      <td>55.220755</td>\n",
       "      <td>2.303413</td>\n",
       "      <td>Original 454</td>\n",
       "    </tr>\n",
       "    <tr>\n",
       "      <th>16</th>\n",
       "      <td>0.955739</td>\n",
       "      <td>0.901039</td>\n",
       "      <td>0.054700</td>\n",
       "      <td>0.789147</td>\n",
       "      <td>2.446627</td>\n",
       "      <td>56.346735</td>\n",
       "      <td>2.523268</td>\n",
       "      <td>454 +5 DPI</td>\n",
       "    </tr>\n",
       "    <tr>\n",
       "      <th>17</th>\n",
       "      <td>0.955138</td>\n",
       "      <td>0.901641</td>\n",
       "      <td>0.053497</td>\n",
       "      <td>0.792248</td>\n",
       "      <td>2.452055</td>\n",
       "      <td>78.154000</td>\n",
       "      <td>8.208140</td>\n",
       "      <td>454 +2500 BNUM</td>\n",
       "    </tr>\n",
       "    <tr>\n",
       "      <th>18</th>\n",
       "      <td>0.956091</td>\n",
       "      <td>0.903163</td>\n",
       "      <td>0.052927</td>\n",
       "      <td>0.791731</td>\n",
       "      <td>2.412533</td>\n",
       "      <td>70.333204</td>\n",
       "      <td>3.724003</td>\n",
       "      <td>454 +600 DPI</td>\n",
       "    </tr>\n",
       "    <tr>\n",
       "      <th>19</th>\n",
       "      <td>0.956091</td>\n",
       "      <td>0.903163</td>\n",
       "      <td>0.052927</td>\n",
       "      <td>0.791731</td>\n",
       "      <td>2.412533</td>\n",
       "      <td>75.594911</td>\n",
       "      <td>9.375147</td>\n",
       "      <td>454 +3000 DPI BNUM</td>\n",
       "    </tr>\n",
       "  </tbody>\n",
       "</table>\n",
       "</div>"
      ],
      "text/plain": [
       "    train_auc   val_auc  auc_diff    recall  fp_tp_ratio  train_time  \\\n",
       "0    0.955721  0.901549  0.054172  0.782946     2.492409   75.862342   \n",
       "1    0.955914  0.901064  0.054850  0.786047     2.464168   76.430420   \n",
       "2    0.955721  0.901549  0.054172  0.782946     2.492409   95.687021   \n",
       "3    0.956500  0.902120  0.054380  0.786563     2.446124   89.313191   \n",
       "4    0.956500  0.902120  0.054380  0.786563     2.446124   90.923916   \n",
       "5    0.936504  0.896217  0.040287  0.793798     2.768229    4.431842   \n",
       "6    0.938785  0.895880  0.042905  0.795866     2.717532    5.408524   \n",
       "7    0.936504  0.896217  0.040287  0.793798     2.768229   21.842430   \n",
       "8    0.945211  0.900066  0.045145  0.798966     2.610608   17.151605   \n",
       "9    0.945211  0.900066  0.045145  0.798966     2.610608   22.843817   \n",
       "10   0.954119  0.900820  0.053299  0.783463     2.503298   31.556519   \n",
       "11   0.954268  0.901068  0.053200  0.792248     2.476843   32.437613   \n",
       "12   0.954119  0.900820  0.053299  0.783463     2.503298   50.533566   \n",
       "13   0.955000  0.902470  0.052531  0.787597     2.465223   46.863833   \n",
       "14   0.955000  0.902470  0.052531  0.787597     2.465223   51.343541   \n",
       "15   0.955138  0.901641  0.053497  0.792248     2.452055   55.220755   \n",
       "16   0.955739  0.901039  0.054700  0.789147     2.446627   56.346735   \n",
       "17   0.955138  0.901641  0.053497  0.792248     2.452055   78.154000   \n",
       "18   0.956091  0.903163  0.052927  0.791731     2.412533   70.333204   \n",
       "19   0.956091  0.903163  0.052927  0.791731     2.412533   75.594911   \n",
       "\n",
       "    val_time             dataset  \n",
       "0   2.902722            Original  \n",
       "1   3.306850              +5 DPI  \n",
       "2   8.968817          +2500 BNUM  \n",
       "3   4.420897            +600 DPI  \n",
       "4   6.187740      +3000 DPI BNUM  \n",
       "5   1.155320         Original 25  \n",
       "6   1.209163           25 +5 DPI  \n",
       "7   6.384422       25 +2500 BNUM  \n",
       "8   2.465616         25 +600 DPI  \n",
       "9   6.826701   25 +3000 DPI BNUM  \n",
       "10  1.926146        Original 241  \n",
       "11  2.897193          241 +5 DPI  \n",
       "12  7.326710      241 +2500 BNUM  \n",
       "13  3.147358        241 +600 DPI  \n",
       "14  8.126710  241 +3000 DPI BNUM  \n",
       "15  2.303413        Original 454  \n",
       "16  2.523268          454 +5 DPI  \n",
       "17  8.208140      454 +2500 BNUM  \n",
       "18  3.724003        454 +600 DPI  \n",
       "19  9.375147  454 +3000 DPI BNUM  "
      ]
     },
     "execution_count": 205,
     "metadata": {},
     "output_type": "execute_result"
    }
   ],
   "source": [
    "all_results = pd.read_csv('model_results.csv')\n",
    "all_results"
   ]
  },
  {
   "cell_type": "raw",
   "metadata": {},
   "source": [
    "З таблиці з результатами видно, що додавання ознак з датасету BNUM не покращує показники моделі. Найкращий результат модель демонструє на датасеті з 25 найкращих ознак для оригінального датасету та 600 ознак з датасету DPI. Щоб краще оцінити той вплив, що дають ознаки з додаткового датасету, порівняємо важливості ознак для випадків, коли ознаки з додаткового датасету додаються до 25 та 241 найкращих ознак оригінального датасету."
   ]
  },
  {
   "cell_type": "code",
   "execution_count": 71,
   "metadata": {
    "execution": {
     "iopub.execute_input": "2024-07-07T17:08:58.269859Z",
     "iopub.status.busy": "2024-07-07T17:08:58.268568Z",
     "iopub.status.idle": "2024-07-07T17:08:59.238615Z",
     "shell.execute_reply": "2024-07-07T17:08:59.237282Z",
     "shell.execute_reply.started": "2024-07-07T17:08:58.269818Z"
    }
   },
   "outputs": [],
   "source": [
    "df_train_fe = df_train_fe_0.copy()\n",
    "df_train_bnum = df_train_bnum_0.copy()\n",
    "df_train_dpi = df_train_dpi_0.copy()"
   ]
  },
  {
   "cell_type": "code",
   "execution_count": 3,
   "metadata": {
    "tags": []
   },
   "outputs": [],
   "source": [
    "df_train_fe = pd.read_parquet('df_train_fe', engine='pyarrow')\n",
    "df_train_dpi = pd.read_parquet('df_train_dpi', engine='pyarrow')"
   ]
  },
  {
   "cell_type": "code",
   "execution_count": 4,
   "metadata": {
    "tags": []
   },
   "outputs": [],
   "source": [
    "#25\n",
    "features_2_use_25 = ['abon_id','target', 'num_act_days_min_mnt3', 'device_days_usage', 'loc_market_share', 'num_act_days_mea_mnt1', 'voice_in_td_cnt_mea_mnt1', 'device_brand_prestigio', 'num_act_days_mea_mnt3', 'lt', 'loc_is_obl_center', 'day_end_gba', 'days_of_last_ppm', 'num_act_days_min_mnt1', 'sms_in_cnt_std_mnt3', 'device_type_modem', 'all_cnt_std_mnt3', 'days_of_end_last_ppm', 'voice_out_tar_dur_min_mnt3', 'Balance_uah', 'all_cnt_max_mnt1', 'imei_mean_long_days_usage', 'imei_mean_days_usage', 'bs_count_ppm_mn3', 'conn_out_uniq_cnt_mea_mnt1', 'all_cnt_std_mnt1', 'data_3g_tv_cnt_std_mnt1']"
   ]
  },
  {
   "cell_type": "code",
   "execution_count": 5,
   "metadata": {
    "tags": []
   },
   "outputs": [],
   "source": [
    "#241\n",
    "features_2_use_241 = ['abon_id','target', 'num_act_days_min_mnt3', 'device_days_usage', 'loc_market_share', 'num_act_days_mea_mnt1', 'voice_in_td_cnt_mea_mnt1', 'device_brand_prestigio', 'num_act_days_mea_mnt3', 'lt', 'loc_is_obl_center', 'day_end_gba', 'days_of_last_ppm', 'num_act_days_min_mnt1', 'sms_in_cnt_std_mnt3', 'device_type_modem', 'all_cnt_std_mnt3', 'days_of_end_last_ppm', 'voice_out_tar_dur_min_mnt3', 'Balance_uah', 'all_cnt_max_mnt1', 'imei_mean_long_days_usage', 'imei_mean_days_usage', 'bs_count_ppm_mn3', 'conn_out_uniq_cnt_mea_mnt1', 'all_cnt_std_mnt1', 'data_3g_tv_cnt_std_mnt1', 'data_3g_tv_cnt_max_mnt3', 'voice_in_td_cnt_td_mnt3', 'all_cnt_min_mnt3', 'voice_mts_in_dwork_part_mea_mnt3', 'voice_in_tar_dur_mea_wk1', 'count_day_for_last_paym', 'num_act_days_std_mnt3', 'content_cnt_mea_wk1', 'voice_in_tar_dur_min_mnt1', 'content_cnt_mea_mnt1', 'voice_mts_in_dwork_part_max_mnt3', 'imei_mean_day_announced', 'conn_in_uniq_cnt_td_mnt3', 'sum_paym_6_month', 'sms_in_cnt_mea_mnt1', 'sms_in_cnt_std_mnt1', 'voice_in_kievstar_part_mea_wk1', 'content_cnt_mea_mnt3', 'data_3g_tv_cnt_std_mnt3', 'myvf_day_usage', 'conn_out_uniq_cnt_mea_wk1', 'voice_mts_in_drest_part_mea_wk1', 'num_act_days_mea_wk1', 'voice_in_life_part_mea_mnt3', 'non_accum_internet_vol_mea_wk1', 'voice_out_td_cnt_td_mnt3', 'device_type_phone', 'voice_in_mts_avg_dur_min_mnt3', 'voice_in_mts_avg_dur_min_mnt1', 'voice_out_td_cnt_std_mnt1', 'voice_out_short_part_mea_mnt3', 'voice_in_cmpttrs_avg_durmin_mnt3', 'voice_mts_in_dwork_part_std_mnt3', 'voice_mts_out_dwork_partmea_mnt3', 'avg_paym_6_month', 'voice_mts_in_dwork_part_mea_mnt1', 'MV_Traf_Cont_inc_s_Cnt', 'MV_Traf_innet_inc_v_Min', 'voice_out_tar_dur_mea_wk1', 'voice_in_tar_dur_td_mnt3', 'gprs_tar_vol_min_mnt1', 'device_price', 'voice_mts_in_dwork_part_td_mnt3', 'conn_in_uniq_cnt_std_mnt3', 'voice_mts_out_drest_partmea_mnt3', 'num_act_days_td_mnt3', 'voice_mts_out_nwork_partmin_mnt1', 'std_paym_6_month', 'voice_in_td_cnt_std_mnt1', 'content_cnt_min_mnt3', 'bs_ovrl_OMO_CNT_M3', 'voice_in_mts_avg_dur_mea_wk1', 'non_accum_internet_vol_td_mnt3', 'voice_mts_out_dwork_partmin_mnt3', 'voice_in_kievstar_part_mea_mnt3', 'content_cnt_std_mnt1', 'MV_dou_4G_d', 'tsoa_call_cnt', 'non_accum_internet_vol_std_mnt3', 'voice_mts_out_dwork_partmea_wk1', 'conn_out_uniq_cnt_td_mnt3', 'device_has_lte', 'device_height_mm', 'conn_com_part_td_mnt3', 'voice_out_td_cnt_std_mnt3', 'voice_mts_out_drest_partmea_mnt1', 'voice_in_mts_avg_dur_td_mnt3', 'voice_mts_out_dwork_partmin_mnt1', 'imei_mean_price', 'min_paym_6_month', 'conn_out_uniq_cnt_min_mnt1', 'ks_num_part_mea_mnt3', 'voice_mts_in_drest_part_td_mnt3', 'voice_out_short_part_mea_mnt1', 'device_width_mm', 'com_num_part_max_mnt3', 'com_num_part_td_mnt3', 'voice_out_short_part_mea_wk1', 'device_brand_huawei', 'pay_max_td_mnt3', 'imei_max_price', 'device_brand_lenovo', 'voice_mts_out_nrest_parttd_mnt3', 'data_3g_dou_td_mnt3', 'content_cnt_td_mnt3', 'DNZ_MEAN_days_closed_loan_year2', 'voice_mts_in_dwork_part_min_mnt1', 'voice_in_cmpttrs_avg_durmax_mnt3', 'MV_Traf_pstn_out_v_Min', 'voice_out_tar_dur_std_mnt1', 'voice_out_cmpttrs_avg_dutd_mnt3', 'conn_out_uniq_cnt_max_mnt1', 'all_clc_mea_mnt3', 'voice_mts_in_dwork_part_min_mnt3', 'bs_delte_omo_change_tp', 'voice_out_cmpttrs_avg_dumea_wk1', 'voice_mts_out_dwork_partmea_mnt1', 'voice_in_td_cnt_std_mnt3', 'device_type_tablet', 'conn_com_part_mea_wk1', 'voice_in_cmpttrs_avg_durmea_wk1', 'MV_Traf_Cont_out_v_Min', 'MV_Traf_pstn_inc_v_Min', 'ks_num_part_mea_wk1', 'voice_mts_in_nwork_part_td_mnt3', 'last_paym', 'voice_mts_out_dwork_partstd_mnt3', 'voice_in_td_cnt_mea_mnt3', 'data_3g_dou_std_mnt3', 'voice_mts_out_nwork_parttd_mnt3', 'voice_in_mts_avg_dur_max_mnt1', 'voice_mts_out_nwork_partstd_mnt3', 'gprs_tar_vol_td_mnt3', 'voice_out_fix_tar_dur_std_mnt3', 'max_paym_6_month', 'all_cnt_min_mnt1', 'MV_Traf_innet_out_v_Min', 'voice_out_tar_dur_td_mnt3', 'voice_out_td_cnt_mea_wk1', 'voice_mts_out_drest_partmea_wk1', 'ks_num_part_mea_mnt1', 'voice_in_cmpttrs_avg_durtd_mnt3', 'com_num_part_min_mnt3', 'voice_in_fix_tar_dur_std_mnt3', 'voice_in_cmpttrs_avg_durmea_mnt3', 'voice_in_life_part_mea_wk1', 'content_cnt_std_mnt3', 'all_cnt_max_mnt3', 'pay_avg_td_mnt3', 'voice_in_cmpttrs_td_cnt_mea_mnt3', 'all_cnt_mea_mnt3', 'conn_com_part_mea_mnt3', 'voice_mts_in_drest_part_max_mnt3', 'voice_in_tar_dur_std_mnt1', 'data_3g_tv_cnt_td_mnt3', 'voice_mts_in_nrest_part_td_mnt3', 'voice_out_fix_tar_dur_td_mnt3', 'conn_in_uniq_cnt_mea_mnt1', 'MV_Traf_3G_d_Mb', 'voice_out_cmpttrs_td_cnttd_mnt3', 'voice_in_short_part_mea_mnt3', 'voice_in_kievstar_part_max_mnt1', 'voice_mts_in_drest_part_max_mnt1', 'voice_in_mts_avg_dur_max_mnt3', 'MV_DOU_PPM_VF', 'conn_out_uniq_cnt_max_mnt3', 'com_num_part_std_mnt1', 'data_3g_tar_vol_mea_wk1', 'voice_mts_out_dwork_partstd_mnt1', 'voice_mts_in_drest_part_min_mnt3', 'all_cnt_td_mnt3', 'voice_mts_out_nwork_partmax_mnt3', 'gprs_clc_mea_mnt3', 'all_cnt_mea_wk1', 'gprs_tar_vol_mea_wk1', 'conn_in_uniq_cnt_std_mnt1', 'pay_sum_max_mnt3', 'conn_com_part_std_mnt1', 'conn_in_uniq_cnt_mea_mnt3', 'accum_oth_dur_std_mnt1', 'voice_in_fix_tar_dur_td_mnt3', 'voice_in_life_part_std_mnt3', 'MV_dou_3G_d', 'MV_Traf_2G_d_Mb', 'voice_mts_in_nrest_part_mea_mnt1', 'voice_mts_in_nwork_part_max_mnt3', 'ama_volume_max_mnt1', 'voice_in_kievstar_part_mea_mnt1', 'non_accum_internet_vol_max_mnt1', 'conn_com_part_std_mnt3', 'voice_out_short_part_min_mnt1', 'voice_out_short_part_td_mnt3', 'MV_ot_total', 'voice_in_cmpttrs_avg_durstd_mnt3', 'device_android_version', 'Good_deed', 'non_accum_internet_vol_min_mnt1', 'content_cnt_min_mnt1', 'voice_out_cmpttrs_td_cntstd_mnt1', 'voice_in_cmpttrs_td_cnt_std_mnt3', 'voice_mts_out_drest_parttd_mnt3', 'data_3g_tv_cnt_mea_mnt3', 'voice_in_kievstar_part_min_mnt3', 'voice_mts_out_nwork_partmea_mnt3', 'voice_in_short_part_std_mnt1', 'voice_mts_out_nrest_partstd_mnt3', 'voice_mts_in_nwork_part_mea_mnt3', 'MV_Traf_Roam_d_Mb', 'accum_oth_dur_td_mnt3', 'gprs_tar_vol_mea_mnt3', 'ks_num_part_std_mnt3', 'conn_in_uniq_cnt_min_mnt1', 'voice_out_cmpttrs_avg_dustd_mnt1', 'voice_in_mts_avg_dur_mea_mnt1', 'com_num_part_mea_wk1', 'loc_cnt_events', 'voice_in_fix_tar_dur_mea_mnt1', 'sms_in_cnt_mea_wk1', 'voice_in_mts_avg_dur_std_mnt1', 'ks_num_part_max_mnt1', 'voice_mts_in_drest_part_mea_mnt1', 'voice_in_short_part_td_mnt3', 'voice_in_fix_tar_dur_mea_mnt3', 'voice_out_cmpttrs_avg_dumea_mnt1', 'voice_out_cmpttrs_avg_dumin_mnt1', 'bs_ovrl_OMO_SUM_M2', 'MV_Traf_omo_out_v_Min', 'MV_ot_Other', 'voice_out_short_part_max_mnt3', 'voice_in_tar_dur_mea_mnt1', 'non_accum_internet_vol_min_mnt3', 'cnt_paym_6_month', 'sms_in_cnt_td_mnt3', 'sms_clc_td_mnt3', 'clc_no_vas_roam_td_mnt3', 'voice_in_td_cnt_mea_wk1']"
   ]
  },
  {
   "cell_type": "code",
   "execution_count": 6,
   "metadata": {
    "tags": []
   },
   "outputs": [],
   "source": [
    "df_train_fe_25 = df_train_fe[features_2_use_25].copy()\n",
    "df_train_fe_241 = df_train_fe[features_2_use_241].copy()"
   ]
  },
  {
   "cell_type": "code",
   "execution_count": 7,
   "metadata": {
    "tags": []
   },
   "outputs": [],
   "source": [
    "# # DPI DPI DPI DPI DPI DPI DPI DPI DPI DPI DPI DPI DPI DPI DPI DPI \n",
    "# # Нові фічі 2500+: кількість взаємодії з кожним застосунком усі метрики (600 ознак на кожну)\n",
    "\n",
    "def create_application_features(df_dpi, df_fe):\n",
    "    #pivot_count = df_dpi.pivot_table(index='abon_id', columns='Application', values='SUM_of_Count_events', aggfunc='sum', fill_value=0).reset_index()\n",
    "    pivot_duration = df_dpi.pivot_table(index='abon_id', columns='Application', values='SUM_of_Duration_sec', aggfunc='sum', fill_value=0).reset_index()\n",
    "    #pivot_volume = df_dpi.pivot_table(index='abon_id', columns='Application', values='SUM_of_Volume_kb', aggfunc='sum', fill_value=0).reset_index()\n",
    "    #pivot_day_cnt = df_dpi.pivot_table(index='abon_id', columns='Application', values='MAX_of_day_cnt', aggfunc='max', fill_value=0).reset_index()\n",
    "    \n",
    "    #pivot_count = pivot_count.add_suffix('_count')\n",
    "    pivot_duration = pivot_duration.add_suffix('_duration')\n",
    "    #pivot_volume = pivot_volume.add_suffix('_volume')\n",
    "    #pivot_day_cnt = pivot_day_cnt.add_suffix('_day_cnt')\n",
    "    \n",
    "    #pivot_count.rename(columns={'abon_id_count': 'abon_id'}, inplace=True)\n",
    "    pivot_duration.rename(columns={'abon_id_duration': 'abon_id'}, inplace=True)\n",
    "    #pivot_volume.rename(columns={'abon_id_volume': 'abon_id'}, inplace=True)\n",
    "    #pivot_day_cnt.rename(columns={'abon_id_day_cnt': 'abon_id'}, inplace=True)\n",
    "    \n",
    "    #df_fe = df_fe.merge(pivot_count, on='abon_id', how='left')\n",
    "    df_fe = df_fe.merge(pivot_duration, on='abon_id', how='left')\n",
    "    #df_fe = df_fe.merge(pivot_volume, on='abon_id', how='left')\n",
    "    #df_fe = df_fe.merge(pivot_day_cnt, on='abon_id', how='left')\n",
    "    \n",
    "    df_fe.fillna(0, inplace=True)\n",
    "    \n",
    "    return df_fe\n",
    "\n",
    "df_train_fe_25 = create_application_features(df_train_dpi, df_train_fe_25)\n",
    "df_train_fe_241 = create_application_features(df_train_dpi, df_train_fe_241)"
   ]
  },
  {
   "cell_type": "code",
   "execution_count": 10,
   "metadata": {
    "tags": []
   },
   "outputs": [],
   "source": [
    "df_train_fe_25.drop(\"abon_id\", axis=1, inplace=True)\n",
    "df_train_fe_241.drop(\"abon_id\", axis=1, inplace=True)"
   ]
  },
  {
   "cell_type": "code",
   "execution_count": 11,
   "metadata": {
    "tags": []
   },
   "outputs": [
    {
     "name": "stdout",
     "output_type": "stream",
     "text": [
      "                        Feature  Importance\n",
      "2              loc_market_share         155\n",
      "4      voice_in_td_cnt_mea_mnt1         114\n",
      "7                            lt         103\n",
      "1             device_days_usage         102\n",
      "12          sms_in_cnt_std_mnt3          91\n",
      "17                  Balance_uah          82\n",
      "14             all_cnt_std_mnt3          62\n",
      "15         days_of_end_last_ppm          56\n",
      "22   conn_out_uniq_cnt_mea_mnt1          52\n",
      "6         num_act_days_mea_mnt3          51\n",
      "19    imei_mean_long_days_usage          49\n",
      "23             all_cnt_std_mnt1          48\n",
      "18             all_cnt_max_mnt1          47\n",
      "9                   day_end_gba          46\n",
      "20         imei_mean_days_usage          43\n",
      "24      data_3g_tv_cnt_std_mnt1          41\n",
      "16   voice_out_tar_dur_min_mnt3          37\n",
      "219                690_duration          34\n",
      "78                 246_duration          34\n",
      "10             days_of_last_ppm          32\n",
      "212                678_duration          32\n",
      "3         num_act_days_mea_mnt1          32\n",
      "305                850_duration          31\n",
      "61                 175_duration          29\n",
      "0         num_act_days_min_mnt3          29\n",
      "344                933_duration          26\n",
      "83                 257_duration          25\n",
      "8             loc_is_obl_center          25\n",
      "76                 240_duration          24\n",
      "362                964_duration          24\n",
      "320                882_duration          23\n",
      "94                 272_duration          23\n",
      "80                 254_duration          20\n",
      "317                877_duration          20\n",
      "329                897_duration          20\n",
      "138                381_duration          20\n",
      "712               2018_duration          19\n",
      "211                677_duration          18\n",
      "598               1414_duration          18\n",
      "375                992_duration          17\n",
      "756               2558_duration          17\n",
      "735               2046_duration          17\n",
      "627               1472_duration          17\n",
      "620               1465_duration          17\n",
      "169                579_duration          16\n",
      "402               1031_duration          16\n",
      "569               1373_duration          16\n",
      "176                589_duration          16\n",
      "286                819_duration          16\n",
      "181                598_duration          15\n",
      "295                829_duration          15\n",
      "436               1119_duration          15\n",
      "95                 274_duration          15\n",
      "175                588_duration          14\n",
      "549               1339_duration          14\n",
      "514               1288_duration          14\n",
      "684               1871_duration          14\n",
      "21             bs_count_ppm_mn3          14\n",
      "283                814_duration          13\n",
      "55                 156_duration          13\n",
      "653               1503_duration          13\n",
      "232                716_duration          13\n",
      "158                553_duration          12\n",
      "265                777_duration          12\n",
      "560               1353_duration          12\n",
      "700               1998_duration          12\n",
      "302                847_duration          12\n",
      "90                 267_duration          12\n",
      "223                697_duration          12\n",
      "443               1127_duration          11\n",
      "153                546_duration          11\n",
      "184                604_duration          11\n",
      "298                833_duration          11\n",
      "287                820_duration          11\n",
      "515               1295_duration          11\n",
      "517               1298_duration          11\n",
      "224                699_duration          10\n",
      "84                 258_duration          10\n",
      "734               2045_duration          10\n",
      "242                737_duration          10\n",
      "743               2536_duration          10\n",
      "11        num_act_days_min_mnt1          10\n",
      "299                834_duration          10\n",
      "454               1143_duration          10\n",
      "394               1020_duration          10\n",
      "262                773_duration          10\n",
      "314                871_duration          10\n",
      "690               1901_duration           9\n",
      "693               1914_duration           9\n",
      "277                807_duration           9\n",
      "313                868_duration           9\n",
      "255                756_duration           9\n",
      "86                 262_duration           9\n",
      "634               1479_duration           8\n",
      "244                739_duration           8\n",
      "540               1328_duration           8\n",
      "755               2555_duration           8\n",
      "587               1399_duration           8\n",
      "167                575_duration           8\n",
      "319                880_duration           7\n"
     ]
    },
    {
     "data": {
      "image/png": "[encoded data removed]",
      "text/plain": [
       "<Figure size 1200x800 with 1 Axes>"
      ]
     },
     "metadata": {},
     "output_type": "display_data"
    }
   ],
   "source": [
    "X = df_train_fe_25.drop(columns=['target'])\n",
    "y = df_train_fe_25['target']\n",
    "\n",
    "X_train, X_val, y_train, y_val = train_test_split(X, y, test_size=0.2, random_state=42)\n",
    "\n",
    "\n",
    "model = lgb.LGBMClassifier(objective='binary', is_unbalance=True, boosting_type='gbdt', verbosity=-1)\n",
    "model.fit(X_train, y_train, eval_set=[(X_val, y_val)])\n",
    "\n",
    "y_val_pred_prob = model.predict_proba(X_val)[:, 1]\n",
    "y_val_pred = (y_val_pred_prob >= 0.5).astype(int)\n",
    "\n",
    "importance = model.feature_importances_\n",
    "feature_names = X_train.columns\n",
    "feature_importance_df = pd.DataFrame({\n",
    "    'Feature': feature_names,\n",
    "    'Importance': importance\n",
    "})\n",
    "\n",
    "feature_importance_df_25 = feature_importance_df.sort_values(by='Importance', ascending=False)\n",
    "top_50_features = feature_importance_df_25.head(100)\n",
    "\n",
    "with pd.option_context('display.max_rows', None, 'display.max_columns', None):\n",
    "    print(top_50_features)\n",
    "\n",
    "plt.figure(figsize=(12, 8))\n",
    "plt.barh(top_50_features['Feature'], top_50_features['Importance'])\n",
    "plt.xlabel('Importance')\n",
    "plt.ylabel('Feature')\n",
    "plt.title('Top 50 Feature Importances')\n",
    "plt.gca().invert_yaxis()\n",
    "plt.show()\n"
   ]
  },
  {
   "cell_type": "code",
   "execution_count": 12,
   "metadata": {
    "tags": []
   },
   "outputs": [],
   "source": [
    "top_40_features_25 = feature_importance_df.head(40)['Feature'].values\n",
    "df_train_fe_25_40 = df_train_fe_25[top_40_features_25]"
   ]
  },
  {
   "cell_type": "code",
   "execution_count": 16,
   "metadata": {
    "tags": []
   },
   "outputs": [
    {
     "data": {
      "text/html": [
       "<div>\n",
       "<style scoped>\n",
       "    .dataframe tbody tr th:only-of-type {\n",
       "        vertical-align: middle;\n",
       "    }\n",
       "\n",
       "    .dataframe tbody tr th {\n",
       "        vertical-align: top;\n",
       "    }\n",
       "\n",
       "    .dataframe thead th {\n",
       "        text-align: right;\n",
       "    }\n",
       "</style>\n",
       "<table border=\"1\" class=\"dataframe\">\n",
       "  <thead>\n",
       "    <tr style=\"text-align: right;\">\n",
       "      <th></th>\n",
       "      <th>train_auc</th>\n",
       "      <th>val_auc</th>\n",
       "      <th>auc_diff</th>\n",
       "      <th>recall</th>\n",
       "      <th>fp_tp_ratio</th>\n",
       "      <th>train_time</th>\n",
       "      <th>val_time</th>\n",
       "      <th>dataset</th>\n",
       "    </tr>\n",
       "  </thead>\n",
       "  <tbody>\n",
       "    <tr>\n",
       "      <th>0</th>\n",
       "      <td>0.945211</td>\n",
       "      <td>0.900066</td>\n",
       "      <td>0.045145</td>\n",
       "      <td>0.798966</td>\n",
       "      <td>2.610608</td>\n",
       "      <td>5.26237</td>\n",
       "      <td>0.993379</td>\n",
       "      <td>454 +3000 DPI BNUM</td>\n",
       "    </tr>\n",
       "  </tbody>\n",
       "</table>\n",
       "</div>"
      ],
      "text/plain": [
       "   train_auc   val_auc  auc_diff    recall  fp_tp_ratio  train_time  val_time  \\\n",
       "0   0.945211  0.900066  0.045145  0.798966     2.610608     5.26237  0.993379   \n",
       "\n",
       "              dataset  \n",
       "0  454 +3000 DPI BNUM  "
      ]
     },
     "execution_count": 16,
     "metadata": {},
     "output_type": "execute_result"
    }
   ],
   "source": [
    "model = lgb.LGBMClassifier(verbose=-1, random_state=42, is_unbalance=True)    \n",
    "\n",
    "results = []\n",
    "result = train_and_evaluate(model, X_train, X_val, y_train, y_val, model)\n",
    "result['dataset'] = '454 +3000 DPI BNUM'  \n",
    "results.append(result)\n",
    "\n",
    "results_df = pd.DataFrame(results)\n",
    "results_df"
   ]
  },
  {
   "cell_type": "code",
   "execution_count": 17,
   "metadata": {
    "tags": []
   },
   "outputs": [
    {
     "name": "stdout",
     "output_type": "stream",
     "text": [
      "                        Feature  Importance\n",
      "2              loc_market_share         155\n",
      "4      voice_in_td_cnt_mea_mnt1         114\n",
      "7                            lt         103\n",
      "1             device_days_usage         102\n",
      "12          sms_in_cnt_std_mnt3          91\n",
      "17                  Balance_uah          82\n",
      "14             all_cnt_std_mnt3          62\n",
      "15         days_of_end_last_ppm          56\n",
      "22   conn_out_uniq_cnt_mea_mnt1          52\n",
      "6         num_act_days_mea_mnt3          51\n",
      "19    imei_mean_long_days_usage          49\n",
      "23             all_cnt_std_mnt1          48\n",
      "18             all_cnt_max_mnt1          47\n",
      "9                   day_end_gba          46\n",
      "20         imei_mean_days_usage          43\n",
      "24      data_3g_tv_cnt_std_mnt1          41\n",
      "16   voice_out_tar_dur_min_mnt3          37\n",
      "219                690_duration          34\n",
      "78                 246_duration          34\n",
      "10             days_of_last_ppm          32\n",
      "212                678_duration          32\n",
      "3         num_act_days_mea_mnt1          32\n",
      "305                850_duration          31\n",
      "61                 175_duration          29\n",
      "0         num_act_days_min_mnt3          29\n",
      "344                933_duration          26\n",
      "83                 257_duration          25\n",
      "8             loc_is_obl_center          25\n",
      "76                 240_duration          24\n",
      "362                964_duration          24\n",
      "320                882_duration          23\n",
      "94                 272_duration          23\n",
      "80                 254_duration          20\n",
      "317                877_duration          20\n",
      "329                897_duration          20\n",
      "138                381_duration          20\n",
      "712               2018_duration          19\n",
      "211                677_duration          18\n",
      "598               1414_duration          18\n",
      "375                992_duration          17\n",
      "756               2558_duration          17\n",
      "735               2046_duration          17\n",
      "627               1472_duration          17\n",
      "620               1465_duration          17\n",
      "169                579_duration          16\n",
      "402               1031_duration          16\n",
      "569               1373_duration          16\n",
      "176                589_duration          16\n",
      "286                819_duration          16\n",
      "181                598_duration          15\n",
      "295                829_duration          15\n",
      "436               1119_duration          15\n",
      "95                 274_duration          15\n",
      "175                588_duration          14\n",
      "549               1339_duration          14\n",
      "514               1288_duration          14\n",
      "684               1871_duration          14\n",
      "21             bs_count_ppm_mn3          14\n",
      "283                814_duration          13\n",
      "55                 156_duration          13\n",
      "653               1503_duration          13\n",
      "232                716_duration          13\n",
      "158                553_duration          12\n",
      "265                777_duration          12\n",
      "560               1353_duration          12\n",
      "700               1998_duration          12\n",
      "302                847_duration          12\n",
      "90                 267_duration          12\n",
      "223                697_duration          12\n",
      "443               1127_duration          11\n",
      "153                546_duration          11\n",
      "184                604_duration          11\n",
      "298                833_duration          11\n",
      "287                820_duration          11\n",
      "515               1295_duration          11\n",
      "517               1298_duration          11\n",
      "224                699_duration          10\n",
      "84                 258_duration          10\n",
      "734               2045_duration          10\n",
      "242                737_duration          10\n",
      "743               2536_duration          10\n",
      "11        num_act_days_min_mnt1          10\n",
      "299                834_duration          10\n",
      "454               1143_duration          10\n",
      "394               1020_duration          10\n",
      "262                773_duration          10\n",
      "314                871_duration          10\n",
      "690               1901_duration           9\n",
      "693               1914_duration           9\n",
      "277                807_duration           9\n",
      "313                868_duration           9\n",
      "255                756_duration           9\n",
      "86                 262_duration           9\n",
      "634               1479_duration           8\n",
      "244                739_duration           8\n",
      "540               1328_duration           8\n",
      "755               2555_duration           8\n",
      "587               1399_duration           8\n",
      "167                575_duration           8\n",
      "319                880_duration           7\n"
     ]
    },
    {
     "data": {
      "image/png": "[encoded data removed]",
      "text/plain": [
       "<Figure size 1200x800 with 1 Axes>"
      ]
     },
     "metadata": {},
     "output_type": "display_data"
    }
   ],
   "source": [
    "X = df_train_fe_241.drop(columns=['target'])\n",
    "y = df_train_fe_241['target']\n",
    "\n",
    "X_train, X_val, y_train, y_val = train_test_split(X, y, test_size=0.2, random_state=42)\n",
    "\n",
    "\n",
    "model = lgb.LGBMClassifier(objective='binary', is_unbalance=True, boosting_type='gbdt', verbosity=-1)\n",
    "model.fit(X_train, y_train, eval_set=[(X_val, y_val)])\n",
    "\n",
    "y_val_pred_prob = model.predict_proba(X_val)[:, 1]\n",
    "y_val_pred = (y_val_pred_prob >= 0.5).astype(int)\n",
    "\n",
    "importance = model.feature_importances_\n",
    "feature_names = X_train.columns\n",
    "feature_importance_df = pd.DataFrame({\n",
    "    'Feature': feature_names,\n",
    "    'Importance': importance\n",
    "})\n",
    "\n",
    "feature_importance_df_241 = feature_importance_df.sort_values(by='Importance', ascending=False)\n",
    "top_50_features_241 = feature_importance_df_241.head(50)\n",
    "\n",
    "with pd.option_context('display.max_rows', None, 'display.max_columns', None):\n",
    "    print(top_50_features)\n",
    "\n",
    "plt.figure(figsize=(12, 8))\n",
    "plt.barh(top_50_features['Feature'], top_50_features['Importance'])\n",
    "plt.xlabel('Importance')\n",
    "plt.ylabel('Feature')\n",
    "plt.title('Top 50 Feature Importances')\n",
    "plt.gca().invert_yaxis()\n",
    "plt.show()"
   ]
  },
  {
   "cell_type": "code",
   "execution_count": 18,
   "metadata": {
    "tags": []
   },
   "outputs": [],
   "source": [
    "top_40_features_241 = feature_importance_df_241.head(40)['Feature'].values\n",
    "\n",
    "df_train_fe_241_40 = df_train_fe_241[top_40_features_241]"
   ]
  },
  {
   "cell_type": "code",
   "execution_count": 19,
   "metadata": {
    "tags": []
   },
   "outputs": [
    {
     "name": "stdout",
     "output_type": "stream",
     "text": [
      "Results have been saved to model_results.csv\n"
     ]
    },
    {
     "data": {
      "text/html": [
       "<div>\n",
       "<style scoped>\n",
       "    .dataframe tbody tr th:only-of-type {\n",
       "        vertical-align: middle;\n",
       "    }\n",
       "\n",
       "    .dataframe tbody tr th {\n",
       "        vertical-align: top;\n",
       "    }\n",
       "\n",
       "    .dataframe thead th {\n",
       "        text-align: right;\n",
       "    }\n",
       "</style>\n",
       "<table border=\"1\" class=\"dataframe\">\n",
       "  <thead>\n",
       "    <tr style=\"text-align: right;\">\n",
       "      <th></th>\n",
       "      <th>train_auc</th>\n",
       "      <th>val_auc</th>\n",
       "      <th>auc_diff</th>\n",
       "      <th>recall</th>\n",
       "      <th>fp_tp_ratio</th>\n",
       "      <th>train_time</th>\n",
       "      <th>val_time</th>\n",
       "      <th>dataset</th>\n",
       "    </tr>\n",
       "  </thead>\n",
       "  <tbody>\n",
       "    <tr>\n",
       "      <th>0</th>\n",
       "      <td>0.955</td>\n",
       "      <td>0.90247</td>\n",
       "      <td>0.052531</td>\n",
       "      <td>0.787597</td>\n",
       "      <td>2.465223</td>\n",
       "      <td>11.268185</td>\n",
       "      <td>1.347088</td>\n",
       "      <td>454 +3000 DPI BNUM</td>\n",
       "    </tr>\n",
       "  </tbody>\n",
       "</table>\n",
       "</div>"
      ],
      "text/plain": [
       "   train_auc  val_auc  auc_diff    recall  fp_tp_ratio  train_time  val_time  \\\n",
       "0      0.955  0.90247  0.052531  0.787597     2.465223   11.268185  1.347088   \n",
       "\n",
       "              dataset  \n",
       "0  454 +3000 DPI BNUM  "
      ]
     },
     "execution_count": 19,
     "metadata": {},
     "output_type": "execute_result"
    }
   ],
   "source": [
    "model = lgb.LGBMClassifier(verbose=-1, random_state=42, is_unbalance=True)    \n",
    "\n",
    "results = []\n",
    "result = train_and_evaluate(model, X_train, X_val, y_train, y_val, model)\n",
    "result['dataset'] = '454 +3000 DPI BNUM'  \n",
    "results.append(result)\n",
    "\n",
    "results_df = pd.DataFrame(results)\n",
    "results_df.to_csv('model_results.csv', mode='a', header=not os.path.exists('model_results.csv'), index=False)\n",
    "print(\"Results have been saved to model_results.csv\")\n",
    "\n",
    "results_df"
   ]
  },
  {
   "cell_type": "code",
   "execution_count": 20,
   "metadata": {
    "tags": []
   },
   "outputs": [
    {
     "name": "stdout",
     "output_type": "stream",
     "text": [
      "Top 40 features have been saved to top_40_features.csv\n"
     ]
    }
   ],
   "source": [
    "top_40_features_df = feature_importance_df_25.head(40)\n",
    "top_40_features_df.to_csv('top_40_features.csv', index=False)\n",
    "print(\"Top 40 features have been saved to top_40_features.csv\")"
   ]
  },
  {
   "cell_type": "code",
   "execution_count": 22,
   "metadata": {
    "tags": []
   },
   "outputs": [
    {
     "data": {
      "text/html": [
       "<div>\n",
       "<style scoped>\n",
       "    .dataframe tbody tr th:only-of-type {\n",
       "        vertical-align: middle;\n",
       "    }\n",
       "\n",
       "    .dataframe tbody tr th {\n",
       "        vertical-align: top;\n",
       "    }\n",
       "\n",
       "    .dataframe thead th {\n",
       "        text-align: right;\n",
       "    }\n",
       "</style>\n",
       "<table border=\"1\" class=\"dataframe\">\n",
       "  <thead>\n",
       "    <tr style=\"text-align: right;\">\n",
       "      <th></th>\n",
       "      <th>Feature</th>\n",
       "      <th>Importance</th>\n",
       "    </tr>\n",
       "  </thead>\n",
       "  <tbody>\n",
       "    <tr>\n",
       "      <th>0</th>\n",
       "      <td>loc_market_share</td>\n",
       "      <td>155</td>\n",
       "    </tr>\n",
       "    <tr>\n",
       "      <th>1</th>\n",
       "      <td>voice_in_td_cnt_mea_mnt1</td>\n",
       "      <td>114</td>\n",
       "    </tr>\n",
       "    <tr>\n",
       "      <th>2</th>\n",
       "      <td>lt</td>\n",
       "      <td>103</td>\n",
       "    </tr>\n",
       "    <tr>\n",
       "      <th>3</th>\n",
       "      <td>device_days_usage</td>\n",
       "      <td>102</td>\n",
       "    </tr>\n",
       "    <tr>\n",
       "      <th>4</th>\n",
       "      <td>sms_in_cnt_std_mnt3</td>\n",
       "      <td>91</td>\n",
       "    </tr>\n",
       "    <tr>\n",
       "      <th>5</th>\n",
       "      <td>Balance_uah</td>\n",
       "      <td>82</td>\n",
       "    </tr>\n",
       "    <tr>\n",
       "      <th>6</th>\n",
       "      <td>all_cnt_std_mnt3</td>\n",
       "      <td>62</td>\n",
       "    </tr>\n",
       "    <tr>\n",
       "      <th>7</th>\n",
       "      <td>days_of_end_last_ppm</td>\n",
       "      <td>56</td>\n",
       "    </tr>\n",
       "    <tr>\n",
       "      <th>8</th>\n",
       "      <td>conn_out_uniq_cnt_mea_mnt1</td>\n",
       "      <td>52</td>\n",
       "    </tr>\n",
       "    <tr>\n",
       "      <th>9</th>\n",
       "      <td>num_act_days_mea_mnt3</td>\n",
       "      <td>51</td>\n",
       "    </tr>\n",
       "    <tr>\n",
       "      <th>10</th>\n",
       "      <td>imei_mean_long_days_usage</td>\n",
       "      <td>49</td>\n",
       "    </tr>\n",
       "    <tr>\n",
       "      <th>11</th>\n",
       "      <td>all_cnt_std_mnt1</td>\n",
       "      <td>48</td>\n",
       "    </tr>\n",
       "    <tr>\n",
       "      <th>12</th>\n",
       "      <td>all_cnt_max_mnt1</td>\n",
       "      <td>47</td>\n",
       "    </tr>\n",
       "    <tr>\n",
       "      <th>13</th>\n",
       "      <td>day_end_gba</td>\n",
       "      <td>46</td>\n",
       "    </tr>\n",
       "    <tr>\n",
       "      <th>14</th>\n",
       "      <td>imei_mean_days_usage</td>\n",
       "      <td>43</td>\n",
       "    </tr>\n",
       "    <tr>\n",
       "      <th>15</th>\n",
       "      <td>data_3g_tv_cnt_std_mnt1</td>\n",
       "      <td>41</td>\n",
       "    </tr>\n",
       "    <tr>\n",
       "      <th>16</th>\n",
       "      <td>voice_out_tar_dur_min_mnt3</td>\n",
       "      <td>37</td>\n",
       "    </tr>\n",
       "    <tr>\n",
       "      <th>17</th>\n",
       "      <td>690_duration</td>\n",
       "      <td>34</td>\n",
       "    </tr>\n",
       "    <tr>\n",
       "      <th>18</th>\n",
       "      <td>246_duration</td>\n",
       "      <td>34</td>\n",
       "    </tr>\n",
       "    <tr>\n",
       "      <th>19</th>\n",
       "      <td>days_of_last_ppm</td>\n",
       "      <td>32</td>\n",
       "    </tr>\n",
       "    <tr>\n",
       "      <th>20</th>\n",
       "      <td>678_duration</td>\n",
       "      <td>32</td>\n",
       "    </tr>\n",
       "    <tr>\n",
       "      <th>21</th>\n",
       "      <td>num_act_days_mea_mnt1</td>\n",
       "      <td>32</td>\n",
       "    </tr>\n",
       "    <tr>\n",
       "      <th>22</th>\n",
       "      <td>850_duration</td>\n",
       "      <td>31</td>\n",
       "    </tr>\n",
       "    <tr>\n",
       "      <th>23</th>\n",
       "      <td>175_duration</td>\n",
       "      <td>29</td>\n",
       "    </tr>\n",
       "    <tr>\n",
       "      <th>24</th>\n",
       "      <td>num_act_days_min_mnt3</td>\n",
       "      <td>29</td>\n",
       "    </tr>\n",
       "    <tr>\n",
       "      <th>25</th>\n",
       "      <td>933_duration</td>\n",
       "      <td>26</td>\n",
       "    </tr>\n",
       "    <tr>\n",
       "      <th>26</th>\n",
       "      <td>257_duration</td>\n",
       "      <td>25</td>\n",
       "    </tr>\n",
       "    <tr>\n",
       "      <th>27</th>\n",
       "      <td>loc_is_obl_center</td>\n",
       "      <td>25</td>\n",
       "    </tr>\n",
       "    <tr>\n",
       "      <th>28</th>\n",
       "      <td>240_duration</td>\n",
       "      <td>24</td>\n",
       "    </tr>\n",
       "    <tr>\n",
       "      <th>29</th>\n",
       "      <td>964_duration</td>\n",
       "      <td>24</td>\n",
       "    </tr>\n",
       "    <tr>\n",
       "      <th>30</th>\n",
       "      <td>882_duration</td>\n",
       "      <td>23</td>\n",
       "    </tr>\n",
       "    <tr>\n",
       "      <th>31</th>\n",
       "      <td>272_duration</td>\n",
       "      <td>23</td>\n",
       "    </tr>\n",
       "    <tr>\n",
       "      <th>32</th>\n",
       "      <td>254_duration</td>\n",
       "      <td>20</td>\n",
       "    </tr>\n",
       "    <tr>\n",
       "      <th>33</th>\n",
       "      <td>877_duration</td>\n",
       "      <td>20</td>\n",
       "    </tr>\n",
       "    <tr>\n",
       "      <th>34</th>\n",
       "      <td>897_duration</td>\n",
       "      <td>20</td>\n",
       "    </tr>\n",
       "    <tr>\n",
       "      <th>35</th>\n",
       "      <td>381_duration</td>\n",
       "      <td>20</td>\n",
       "    </tr>\n",
       "    <tr>\n",
       "      <th>36</th>\n",
       "      <td>2018_duration</td>\n",
       "      <td>19</td>\n",
       "    </tr>\n",
       "    <tr>\n",
       "      <th>37</th>\n",
       "      <td>677_duration</td>\n",
       "      <td>18</td>\n",
       "    </tr>\n",
       "    <tr>\n",
       "      <th>38</th>\n",
       "      <td>1414_duration</td>\n",
       "      <td>18</td>\n",
       "    </tr>\n",
       "    <tr>\n",
       "      <th>39</th>\n",
       "      <td>992_duration</td>\n",
       "      <td>17</td>\n",
       "    </tr>\n",
       "  </tbody>\n",
       "</table>\n",
       "</div>"
      ],
      "text/plain": [
       "                       Feature  Importance\n",
       "0             loc_market_share         155\n",
       "1     voice_in_td_cnt_mea_mnt1         114\n",
       "2                           lt         103\n",
       "3            device_days_usage         102\n",
       "4          sms_in_cnt_std_mnt3          91\n",
       "5                  Balance_uah          82\n",
       "6             all_cnt_std_mnt3          62\n",
       "7         days_of_end_last_ppm          56\n",
       "8   conn_out_uniq_cnt_mea_mnt1          52\n",
       "9        num_act_days_mea_mnt3          51\n",
       "10   imei_mean_long_days_usage          49\n",
       "11            all_cnt_std_mnt1          48\n",
       "12            all_cnt_max_mnt1          47\n",
       "13                 day_end_gba          46\n",
       "14        imei_mean_days_usage          43\n",
       "15     data_3g_tv_cnt_std_mnt1          41\n",
       "16  voice_out_tar_dur_min_mnt3          37\n",
       "17                690_duration          34\n",
       "18                246_duration          34\n",
       "19            days_of_last_ppm          32\n",
       "20                678_duration          32\n",
       "21       num_act_days_mea_mnt1          32\n",
       "22                850_duration          31\n",
       "23                175_duration          29\n",
       "24       num_act_days_min_mnt3          29\n",
       "25                933_duration          26\n",
       "26                257_duration          25\n",
       "27           loc_is_obl_center          25\n",
       "28                240_duration          24\n",
       "29                964_duration          24\n",
       "30                882_duration          23\n",
       "31                272_duration          23\n",
       "32                254_duration          20\n",
       "33                877_duration          20\n",
       "34                897_duration          20\n",
       "35                381_duration          20\n",
       "36               2018_duration          19\n",
       "37                677_duration          18\n",
       "38               1414_duration          18\n",
       "39                992_duration          17"
      ]
     },
     "execution_count": 22,
     "metadata": {},
     "output_type": "execute_result"
    }
   ],
   "source": [
    "top_40_features_df = pd.read_csv('top_40_features.csv')\n",
    "top_40_features_df"
   ]
  },
  {
   "cell_type": "code",
   "execution_count": null,
   "metadata": {},
   "outputs": [],
   "source": []
  }
 ],
 "metadata": {
  "kaggle": {
   "accelerator": "none",
   "dataSources": [
    {
     "datasetId": 5274768,
     "sourceId": 8776205,
     "sourceType": "datasetVersion"
    }
   ],
   "dockerImageVersionId": 30732,
   "isGpuEnabled": false,
   "isInternetEnabled": true,
   "language": "python",
   "sourceType": "notebook"
  },
  "kernelspec": {
   "display_name": "Python 3 (ipykernel)",
   "language": "python",
   "name": "python3"
  },
  "language_info": {
   "codemirror_mode": {
    "name": "ipython",
    "version": 3
   },
   "file_extension": ".py",
   "mimetype": "text/x-python",
   "name": "python",
   "nbconvert_exporter": "python",
   "pygments_lexer": "ipython3",
   "version": "3.11.5"
  }
 },
 "nbformat": 4,
 "nbformat_minor": 4
}
